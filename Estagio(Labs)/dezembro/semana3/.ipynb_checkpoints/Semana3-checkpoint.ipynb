{
 "cells": [
  {
   "cell_type": "markdown",
   "id": "b4f94711",
   "metadata": {},
   "source": [
    "# Task\n",
    "### 1- Qual dos o top-5 dos filme costuma ter a maior duração ? E o  top-5 dos tipos de filmes com menor duração ?\n",
    "### 2-Existe alguma tendencia sobte a quantidade de filmes por tipo ao passar do tempo do tempo ?\n",
    "### 3-Há algum dado muito discrepante dos demais ? Qual ? quais as possiveis hipoteses?\n",
    "### 4- Quais os tipos de filmes /series são mais comuns em determinados paises?\n",
    "### 5-Existe relação entre os diretores , o cast , o tipo de filme/serie e a pontuação ? Por exemplo , filmes de um determinado genero costumam ser mais bem pontuados? Filmes de um determinado diretor cosumam ter pontuação menor ?\n",
    "### 6-E sobre os dados faltantes? O que podemos concluir ?"
   ]
  },
  {
   "cell_type": "code",
   "execution_count": 1,
   "id": "2bf4b494",
   "metadata": {},
   "outputs": [],
   "source": [
    "import pandas as pd"
   ]
  },
  {
   "cell_type": "markdown",
   "id": "cabffe75",
   "metadata": {},
   "source": [
    "### Tratamento dos dados "
   ]
  },
  {
   "cell_type": "code",
   "execution_count": 2,
   "id": "aefab436",
   "metadata": {},
   "outputs": [],
   "source": [
    "df1 = pd.read_csv(\"netflix_titles.csv\")"
   ]
  },
  {
   "cell_type": "code",
   "execution_count": 3,
   "id": "9685ea5d",
   "metadata": {},
   "outputs": [
    {
     "data": {
      "text/html": [
       "<div>\n",
       "<style scoped>\n",
       "    .dataframe tbody tr th:only-of-type {\n",
       "        vertical-align: middle;\n",
       "    }\n",
       "\n",
       "    .dataframe tbody tr th {\n",
       "        vertical-align: top;\n",
       "    }\n",
       "\n",
       "    .dataframe thead th {\n",
       "        text-align: right;\n",
       "    }\n",
       "</style>\n",
       "<table border=\"1\" class=\"dataframe\">\n",
       "  <thead>\n",
       "    <tr style=\"text-align: right;\">\n",
       "      <th></th>\n",
       "      <th>show_id</th>\n",
       "      <th>type</th>\n",
       "      <th>title</th>\n",
       "      <th>director</th>\n",
       "      <th>cast</th>\n",
       "      <th>country</th>\n",
       "      <th>date_added</th>\n",
       "      <th>release_year</th>\n",
       "      <th>rating</th>\n",
       "      <th>duration</th>\n",
       "      <th>listed_in</th>\n",
       "      <th>description</th>\n",
       "    </tr>\n",
       "  </thead>\n",
       "  <tbody>\n",
       "    <tr>\n",
       "      <th>0</th>\n",
       "      <td>s1</td>\n",
       "      <td>Movie</td>\n",
       "      <td>Dick Johnson Is Dead</td>\n",
       "      <td>Kirsten Johnson</td>\n",
       "      <td>NaN</td>\n",
       "      <td>United States</td>\n",
       "      <td>September 25, 2021</td>\n",
       "      <td>2020</td>\n",
       "      <td>PG-13</td>\n",
       "      <td>90 min</td>\n",
       "      <td>Documentaries</td>\n",
       "      <td>As her father nears the end of his life, filmm...</td>\n",
       "    </tr>\n",
       "    <tr>\n",
       "      <th>1</th>\n",
       "      <td>s2</td>\n",
       "      <td>TV Show</td>\n",
       "      <td>Blood &amp; Water</td>\n",
       "      <td>NaN</td>\n",
       "      <td>Ama Qamata, Khosi Ngema, Gail Mabalane, Thaban...</td>\n",
       "      <td>South Africa</td>\n",
       "      <td>September 24, 2021</td>\n",
       "      <td>2021</td>\n",
       "      <td>TV-MA</td>\n",
       "      <td>2 Seasons</td>\n",
       "      <td>International TV Shows, TV Dramas, TV Mysteries</td>\n",
       "      <td>After crossing paths at a party, a Cape Town t...</td>\n",
       "    </tr>\n",
       "    <tr>\n",
       "      <th>2</th>\n",
       "      <td>s3</td>\n",
       "      <td>TV Show</td>\n",
       "      <td>Ganglands</td>\n",
       "      <td>Julien Leclercq</td>\n",
       "      <td>Sami Bouajila, Tracy Gotoas, Samuel Jouy, Nabi...</td>\n",
       "      <td>NaN</td>\n",
       "      <td>September 24, 2021</td>\n",
       "      <td>2021</td>\n",
       "      <td>TV-MA</td>\n",
       "      <td>1 Season</td>\n",
       "      <td>Crime TV Shows, International TV Shows, TV Act...</td>\n",
       "      <td>To protect his family from a powerful drug lor...</td>\n",
       "    </tr>\n",
       "    <tr>\n",
       "      <th>3</th>\n",
       "      <td>s4</td>\n",
       "      <td>TV Show</td>\n",
       "      <td>Jailbirds New Orleans</td>\n",
       "      <td>NaN</td>\n",
       "      <td>NaN</td>\n",
       "      <td>NaN</td>\n",
       "      <td>September 24, 2021</td>\n",
       "      <td>2021</td>\n",
       "      <td>TV-MA</td>\n",
       "      <td>1 Season</td>\n",
       "      <td>Docuseries, Reality TV</td>\n",
       "      <td>Feuds, flirtations and toilet talk go down amo...</td>\n",
       "    </tr>\n",
       "    <tr>\n",
       "      <th>4</th>\n",
       "      <td>s5</td>\n",
       "      <td>TV Show</td>\n",
       "      <td>Kota Factory</td>\n",
       "      <td>NaN</td>\n",
       "      <td>Mayur More, Jitendra Kumar, Ranjan Raj, Alam K...</td>\n",
       "      <td>India</td>\n",
       "      <td>September 24, 2021</td>\n",
       "      <td>2021</td>\n",
       "      <td>TV-MA</td>\n",
       "      <td>2 Seasons</td>\n",
       "      <td>International TV Shows, Romantic TV Shows, TV ...</td>\n",
       "      <td>In a city of coaching centers known to train I...</td>\n",
       "    </tr>\n",
       "    <tr>\n",
       "      <th>...</th>\n",
       "      <td>...</td>\n",
       "      <td>...</td>\n",
       "      <td>...</td>\n",
       "      <td>...</td>\n",
       "      <td>...</td>\n",
       "      <td>...</td>\n",
       "      <td>...</td>\n",
       "      <td>...</td>\n",
       "      <td>...</td>\n",
       "      <td>...</td>\n",
       "      <td>...</td>\n",
       "      <td>...</td>\n",
       "    </tr>\n",
       "    <tr>\n",
       "      <th>8802</th>\n",
       "      <td>s8803</td>\n",
       "      <td>Movie</td>\n",
       "      <td>Zodiac</td>\n",
       "      <td>David Fincher</td>\n",
       "      <td>Mark Ruffalo, Jake Gyllenhaal, Robert Downey J...</td>\n",
       "      <td>United States</td>\n",
       "      <td>November 20, 2019</td>\n",
       "      <td>2007</td>\n",
       "      <td>R</td>\n",
       "      <td>158 min</td>\n",
       "      <td>Cult Movies, Dramas, Thrillers</td>\n",
       "      <td>A political cartoonist, a crime reporter and a...</td>\n",
       "    </tr>\n",
       "    <tr>\n",
       "      <th>8803</th>\n",
       "      <td>s8804</td>\n",
       "      <td>TV Show</td>\n",
       "      <td>Zombie Dumb</td>\n",
       "      <td>NaN</td>\n",
       "      <td>NaN</td>\n",
       "      <td>NaN</td>\n",
       "      <td>July 1, 2019</td>\n",
       "      <td>2018</td>\n",
       "      <td>TV-Y7</td>\n",
       "      <td>2 Seasons</td>\n",
       "      <td>Kids' TV, Korean TV Shows, TV Comedies</td>\n",
       "      <td>While living alone in a spooky town, a young g...</td>\n",
       "    </tr>\n",
       "    <tr>\n",
       "      <th>8804</th>\n",
       "      <td>s8805</td>\n",
       "      <td>Movie</td>\n",
       "      <td>Zombieland</td>\n",
       "      <td>Ruben Fleischer</td>\n",
       "      <td>Jesse Eisenberg, Woody Harrelson, Emma Stone, ...</td>\n",
       "      <td>United States</td>\n",
       "      <td>November 1, 2019</td>\n",
       "      <td>2009</td>\n",
       "      <td>R</td>\n",
       "      <td>88 min</td>\n",
       "      <td>Comedies, Horror Movies</td>\n",
       "      <td>Looking to survive in a world taken over by zo...</td>\n",
       "    </tr>\n",
       "    <tr>\n",
       "      <th>8805</th>\n",
       "      <td>s8806</td>\n",
       "      <td>Movie</td>\n",
       "      <td>Zoom</td>\n",
       "      <td>Peter Hewitt</td>\n",
       "      <td>Tim Allen, Courteney Cox, Chevy Chase, Kate Ma...</td>\n",
       "      <td>United States</td>\n",
       "      <td>January 11, 2020</td>\n",
       "      <td>2006</td>\n",
       "      <td>PG</td>\n",
       "      <td>88 min</td>\n",
       "      <td>Children &amp; Family Movies, Comedies</td>\n",
       "      <td>Dragged from civilian life, a former superhero...</td>\n",
       "    </tr>\n",
       "    <tr>\n",
       "      <th>8806</th>\n",
       "      <td>s8807</td>\n",
       "      <td>Movie</td>\n",
       "      <td>Zubaan</td>\n",
       "      <td>Mozez Singh</td>\n",
       "      <td>Vicky Kaushal, Sarah-Jane Dias, Raaghav Chanan...</td>\n",
       "      <td>India</td>\n",
       "      <td>March 2, 2019</td>\n",
       "      <td>2015</td>\n",
       "      <td>TV-14</td>\n",
       "      <td>111 min</td>\n",
       "      <td>Dramas, International Movies, Music &amp; Musicals</td>\n",
       "      <td>A scrappy but poor boy worms his way into a ty...</td>\n",
       "    </tr>\n",
       "  </tbody>\n",
       "</table>\n",
       "<p>8807 rows × 12 columns</p>\n",
       "</div>"
      ],
      "text/plain": [
       "     show_id     type                  title         director  \\\n",
       "0         s1    Movie   Dick Johnson Is Dead  Kirsten Johnson   \n",
       "1         s2  TV Show          Blood & Water              NaN   \n",
       "2         s3  TV Show              Ganglands  Julien Leclercq   \n",
       "3         s4  TV Show  Jailbirds New Orleans              NaN   \n",
       "4         s5  TV Show           Kota Factory              NaN   \n",
       "...      ...      ...                    ...              ...   \n",
       "8802   s8803    Movie                 Zodiac    David Fincher   \n",
       "8803   s8804  TV Show            Zombie Dumb              NaN   \n",
       "8804   s8805    Movie             Zombieland  Ruben Fleischer   \n",
       "8805   s8806    Movie                   Zoom     Peter Hewitt   \n",
       "8806   s8807    Movie                 Zubaan      Mozez Singh   \n",
       "\n",
       "                                                   cast        country  \\\n",
       "0                                                   NaN  United States   \n",
       "1     Ama Qamata, Khosi Ngema, Gail Mabalane, Thaban...   South Africa   \n",
       "2     Sami Bouajila, Tracy Gotoas, Samuel Jouy, Nabi...            NaN   \n",
       "3                                                   NaN            NaN   \n",
       "4     Mayur More, Jitendra Kumar, Ranjan Raj, Alam K...          India   \n",
       "...                                                 ...            ...   \n",
       "8802  Mark Ruffalo, Jake Gyllenhaal, Robert Downey J...  United States   \n",
       "8803                                                NaN            NaN   \n",
       "8804  Jesse Eisenberg, Woody Harrelson, Emma Stone, ...  United States   \n",
       "8805  Tim Allen, Courteney Cox, Chevy Chase, Kate Ma...  United States   \n",
       "8806  Vicky Kaushal, Sarah-Jane Dias, Raaghav Chanan...          India   \n",
       "\n",
       "              date_added  release_year rating   duration  \\\n",
       "0     September 25, 2021          2020  PG-13     90 min   \n",
       "1     September 24, 2021          2021  TV-MA  2 Seasons   \n",
       "2     September 24, 2021          2021  TV-MA   1 Season   \n",
       "3     September 24, 2021          2021  TV-MA   1 Season   \n",
       "4     September 24, 2021          2021  TV-MA  2 Seasons   \n",
       "...                  ...           ...    ...        ...   \n",
       "8802   November 20, 2019          2007      R    158 min   \n",
       "8803        July 1, 2019          2018  TV-Y7  2 Seasons   \n",
       "8804    November 1, 2019          2009      R     88 min   \n",
       "8805    January 11, 2020          2006     PG     88 min   \n",
       "8806       March 2, 2019          2015  TV-14    111 min   \n",
       "\n",
       "                                              listed_in  \\\n",
       "0                                         Documentaries   \n",
       "1       International TV Shows, TV Dramas, TV Mysteries   \n",
       "2     Crime TV Shows, International TV Shows, TV Act...   \n",
       "3                                Docuseries, Reality TV   \n",
       "4     International TV Shows, Romantic TV Shows, TV ...   \n",
       "...                                                 ...   \n",
       "8802                     Cult Movies, Dramas, Thrillers   \n",
       "8803             Kids' TV, Korean TV Shows, TV Comedies   \n",
       "8804                            Comedies, Horror Movies   \n",
       "8805                 Children & Family Movies, Comedies   \n",
       "8806     Dramas, International Movies, Music & Musicals   \n",
       "\n",
       "                                            description  \n",
       "0     As her father nears the end of his life, filmm...  \n",
       "1     After crossing paths at a party, a Cape Town t...  \n",
       "2     To protect his family from a powerful drug lor...  \n",
       "3     Feuds, flirtations and toilet talk go down amo...  \n",
       "4     In a city of coaching centers known to train I...  \n",
       "...                                                 ...  \n",
       "8802  A political cartoonist, a crime reporter and a...  \n",
       "8803  While living alone in a spooky town, a young g...  \n",
       "8804  Looking to survive in a world taken over by zo...  \n",
       "8805  Dragged from civilian life, a former superhero...  \n",
       "8806  A scrappy but poor boy worms his way into a ty...  \n",
       "\n",
       "[8807 rows x 12 columns]"
      ]
     },
     "execution_count": 3,
     "metadata": {},
     "output_type": "execute_result"
    }
   ],
   "source": [
    "df1"
   ]
  },
  {
   "cell_type": "markdown",
   "id": "b776f3db",
   "metadata": {},
   "source": [
    "## Tratamento de dados"
   ]
  },
  {
   "cell_type": "code",
   "execution_count": 4,
   "id": "8f48e09b",
   "metadata": {},
   "outputs": [
    {
     "data": {
      "text/html": [
       "<div>\n",
       "<style scoped>\n",
       "    .dataframe tbody tr th:only-of-type {\n",
       "        vertical-align: middle;\n",
       "    }\n",
       "\n",
       "    .dataframe tbody tr th {\n",
       "        vertical-align: top;\n",
       "    }\n",
       "\n",
       "    .dataframe thead th {\n",
       "        text-align: right;\n",
       "    }\n",
       "</style>\n",
       "<table border=\"1\" class=\"dataframe\">\n",
       "  <thead>\n",
       "    <tr style=\"text-align: right;\">\n",
       "      <th></th>\n",
       "      <th>title</th>\n",
       "      <th>director</th>\n",
       "      <th>cast</th>\n",
       "      <th>country</th>\n",
       "      <th>date_added</th>\n",
       "      <th>release_year</th>\n",
       "      <th>rating</th>\n",
       "      <th>duration</th>\n",
       "      <th>listed_in</th>\n",
       "      <th>description</th>\n",
       "    </tr>\n",
       "  </thead>\n",
       "  <tbody>\n",
       "    <tr>\n",
       "      <th>0</th>\n",
       "      <td>Dick Johnson Is Dead</td>\n",
       "      <td>Kirsten Johnson</td>\n",
       "      <td>NaN</td>\n",
       "      <td>United States</td>\n",
       "      <td>September 25, 2021</td>\n",
       "      <td>2020</td>\n",
       "      <td>PG-13</td>\n",
       "      <td>90 min</td>\n",
       "      <td>Documentaries</td>\n",
       "      <td>As her father nears the end of his life, filmm...</td>\n",
       "    </tr>\n",
       "    <tr>\n",
       "      <th>1</th>\n",
       "      <td>My Little Pony: A New Generation</td>\n",
       "      <td>Robert Cullen, José Luis Ucha</td>\n",
       "      <td>Vanessa Hudgens, Kimiko Glenn, James Marsden, ...</td>\n",
       "      <td>NaN</td>\n",
       "      <td>September 24, 2021</td>\n",
       "      <td>2021</td>\n",
       "      <td>PG</td>\n",
       "      <td>91 min</td>\n",
       "      <td>Children &amp; Family Movies</td>\n",
       "      <td>Equestria's divided. But a bright-eyed hero be...</td>\n",
       "    </tr>\n",
       "    <tr>\n",
       "      <th>2</th>\n",
       "      <td>Sankofa</td>\n",
       "      <td>Haile Gerima</td>\n",
       "      <td>Kofi Ghanaba, Oyafunmike Ogunlano, Alexandra D...</td>\n",
       "      <td>United States, Ghana, Burkina Faso, United Kin...</td>\n",
       "      <td>September 24, 2021</td>\n",
       "      <td>1993</td>\n",
       "      <td>TV-MA</td>\n",
       "      <td>125 min</td>\n",
       "      <td>Dramas, Independent Movies, International Movies</td>\n",
       "      <td>On a photo shoot in Ghana, an American model s...</td>\n",
       "    </tr>\n",
       "    <tr>\n",
       "      <th>3</th>\n",
       "      <td>The Starling</td>\n",
       "      <td>Theodore Melfi</td>\n",
       "      <td>Melissa McCarthy, Chris O'Dowd, Kevin Kline, T...</td>\n",
       "      <td>United States</td>\n",
       "      <td>September 24, 2021</td>\n",
       "      <td>2021</td>\n",
       "      <td>PG-13</td>\n",
       "      <td>104 min</td>\n",
       "      <td>Comedies, Dramas</td>\n",
       "      <td>A woman adjusting to life after a loss contend...</td>\n",
       "    </tr>\n",
       "    <tr>\n",
       "      <th>4</th>\n",
       "      <td>Je Suis Karl</td>\n",
       "      <td>Christian Schwochow</td>\n",
       "      <td>Luna Wedler, Jannis Niewöhner, Milan Peschel, ...</td>\n",
       "      <td>Germany, Czech Republic</td>\n",
       "      <td>September 23, 2021</td>\n",
       "      <td>2021</td>\n",
       "      <td>TV-MA</td>\n",
       "      <td>127 min</td>\n",
       "      <td>Dramas, International Movies</td>\n",
       "      <td>After most of her family is murdered in a terr...</td>\n",
       "    </tr>\n",
       "    <tr>\n",
       "      <th>...</th>\n",
       "      <td>...</td>\n",
       "      <td>...</td>\n",
       "      <td>...</td>\n",
       "      <td>...</td>\n",
       "      <td>...</td>\n",
       "      <td>...</td>\n",
       "      <td>...</td>\n",
       "      <td>...</td>\n",
       "      <td>...</td>\n",
       "      <td>...</td>\n",
       "    </tr>\n",
       "    <tr>\n",
       "      <th>6126</th>\n",
       "      <td>Zinzana</td>\n",
       "      <td>Majid Al Ansari</td>\n",
       "      <td>Ali Suliman, Saleh Bakri, Yasa, Ali Al-Jabri, ...</td>\n",
       "      <td>United Arab Emirates, Jordan</td>\n",
       "      <td>March 9, 2016</td>\n",
       "      <td>2015</td>\n",
       "      <td>TV-MA</td>\n",
       "      <td>96 min</td>\n",
       "      <td>Dramas, International Movies, Thrillers</td>\n",
       "      <td>Recovering alcoholic Talal wakes up inside a s...</td>\n",
       "    </tr>\n",
       "    <tr>\n",
       "      <th>6127</th>\n",
       "      <td>Zodiac</td>\n",
       "      <td>David Fincher</td>\n",
       "      <td>Mark Ruffalo, Jake Gyllenhaal, Robert Downey J...</td>\n",
       "      <td>United States</td>\n",
       "      <td>November 20, 2019</td>\n",
       "      <td>2007</td>\n",
       "      <td>R</td>\n",
       "      <td>158 min</td>\n",
       "      <td>Cult Movies, Dramas, Thrillers</td>\n",
       "      <td>A political cartoonist, a crime reporter and a...</td>\n",
       "    </tr>\n",
       "    <tr>\n",
       "      <th>6128</th>\n",
       "      <td>Zombieland</td>\n",
       "      <td>Ruben Fleischer</td>\n",
       "      <td>Jesse Eisenberg, Woody Harrelson, Emma Stone, ...</td>\n",
       "      <td>United States</td>\n",
       "      <td>November 1, 2019</td>\n",
       "      <td>2009</td>\n",
       "      <td>R</td>\n",
       "      <td>88 min</td>\n",
       "      <td>Comedies, Horror Movies</td>\n",
       "      <td>Looking to survive in a world taken over by zo...</td>\n",
       "    </tr>\n",
       "    <tr>\n",
       "      <th>6129</th>\n",
       "      <td>Zoom</td>\n",
       "      <td>Peter Hewitt</td>\n",
       "      <td>Tim Allen, Courteney Cox, Chevy Chase, Kate Ma...</td>\n",
       "      <td>United States</td>\n",
       "      <td>January 11, 2020</td>\n",
       "      <td>2006</td>\n",
       "      <td>PG</td>\n",
       "      <td>88 min</td>\n",
       "      <td>Children &amp; Family Movies, Comedies</td>\n",
       "      <td>Dragged from civilian life, a former superhero...</td>\n",
       "    </tr>\n",
       "    <tr>\n",
       "      <th>6130</th>\n",
       "      <td>Zubaan</td>\n",
       "      <td>Mozez Singh</td>\n",
       "      <td>Vicky Kaushal, Sarah-Jane Dias, Raaghav Chanan...</td>\n",
       "      <td>India</td>\n",
       "      <td>March 2, 2019</td>\n",
       "      <td>2015</td>\n",
       "      <td>TV-14</td>\n",
       "      <td>111 min</td>\n",
       "      <td>Dramas, International Movies, Music &amp; Musicals</td>\n",
       "      <td>A scrappy but poor boy worms his way into a ty...</td>\n",
       "    </tr>\n",
       "  </tbody>\n",
       "</table>\n",
       "<p>6131 rows × 10 columns</p>\n",
       "</div>"
      ],
      "text/plain": [
       "                                 title                       director  \\\n",
       "0                 Dick Johnson Is Dead                Kirsten Johnson   \n",
       "1     My Little Pony: A New Generation  Robert Cullen, José Luis Ucha   \n",
       "2                              Sankofa                   Haile Gerima   \n",
       "3                         The Starling                 Theodore Melfi   \n",
       "4                         Je Suis Karl            Christian Schwochow   \n",
       "...                                ...                            ...   \n",
       "6126                           Zinzana                Majid Al Ansari   \n",
       "6127                            Zodiac                  David Fincher   \n",
       "6128                        Zombieland                Ruben Fleischer   \n",
       "6129                              Zoom                   Peter Hewitt   \n",
       "6130                            Zubaan                    Mozez Singh   \n",
       "\n",
       "                                                   cast  \\\n",
       "0                                                   NaN   \n",
       "1     Vanessa Hudgens, Kimiko Glenn, James Marsden, ...   \n",
       "2     Kofi Ghanaba, Oyafunmike Ogunlano, Alexandra D...   \n",
       "3     Melissa McCarthy, Chris O'Dowd, Kevin Kline, T...   \n",
       "4     Luna Wedler, Jannis Niewöhner, Milan Peschel, ...   \n",
       "...                                                 ...   \n",
       "6126  Ali Suliman, Saleh Bakri, Yasa, Ali Al-Jabri, ...   \n",
       "6127  Mark Ruffalo, Jake Gyllenhaal, Robert Downey J...   \n",
       "6128  Jesse Eisenberg, Woody Harrelson, Emma Stone, ...   \n",
       "6129  Tim Allen, Courteney Cox, Chevy Chase, Kate Ma...   \n",
       "6130  Vicky Kaushal, Sarah-Jane Dias, Raaghav Chanan...   \n",
       "\n",
       "                                                country          date_added  \\\n",
       "0                                         United States  September 25, 2021   \n",
       "1                                                   NaN  September 24, 2021   \n",
       "2     United States, Ghana, Burkina Faso, United Kin...  September 24, 2021   \n",
       "3                                         United States  September 24, 2021   \n",
       "4                               Germany, Czech Republic  September 23, 2021   \n",
       "...                                                 ...                 ...   \n",
       "6126                       United Arab Emirates, Jordan       March 9, 2016   \n",
       "6127                                      United States   November 20, 2019   \n",
       "6128                                      United States    November 1, 2019   \n",
       "6129                                      United States    January 11, 2020   \n",
       "6130                                              India       March 2, 2019   \n",
       "\n",
       "      release_year rating duration  \\\n",
       "0             2020  PG-13   90 min   \n",
       "1             2021     PG   91 min   \n",
       "2             1993  TV-MA  125 min   \n",
       "3             2021  PG-13  104 min   \n",
       "4             2021  TV-MA  127 min   \n",
       "...            ...    ...      ...   \n",
       "6126          2015  TV-MA   96 min   \n",
       "6127          2007      R  158 min   \n",
       "6128          2009      R   88 min   \n",
       "6129          2006     PG   88 min   \n",
       "6130          2015  TV-14  111 min   \n",
       "\n",
       "                                             listed_in  \\\n",
       "0                                        Documentaries   \n",
       "1                             Children & Family Movies   \n",
       "2     Dramas, Independent Movies, International Movies   \n",
       "3                                     Comedies, Dramas   \n",
       "4                         Dramas, International Movies   \n",
       "...                                                ...   \n",
       "6126           Dramas, International Movies, Thrillers   \n",
       "6127                    Cult Movies, Dramas, Thrillers   \n",
       "6128                           Comedies, Horror Movies   \n",
       "6129                Children & Family Movies, Comedies   \n",
       "6130    Dramas, International Movies, Music & Musicals   \n",
       "\n",
       "                                            description  \n",
       "0     As her father nears the end of his life, filmm...  \n",
       "1     Equestria's divided. But a bright-eyed hero be...  \n",
       "2     On a photo shoot in Ghana, an American model s...  \n",
       "3     A woman adjusting to life after a loss contend...  \n",
       "4     After most of her family is murdered in a terr...  \n",
       "...                                                 ...  \n",
       "6126  Recovering alcoholic Talal wakes up inside a s...  \n",
       "6127  A political cartoonist, a crime reporter and a...  \n",
       "6128  Looking to survive in a world taken over by zo...  \n",
       "6129  Dragged from civilian life, a former superhero...  \n",
       "6130  A scrappy but poor boy worms his way into a ty...  \n",
       "\n",
       "[6131 rows x 10 columns]"
      ]
     },
     "execution_count": 4,
     "metadata": {},
     "output_type": "execute_result"
    }
   ],
   "source": [
    "dados_filmes = df1[df1['type'].str.contains('Movie')].reset_index()\n",
    "dados_filmes.drop_duplicates()\n",
    "dados_filmes.drop(['index','show_id','type'],axis=1,inplace=True)\n",
    "dados_filmes"
   ]
  },
  {
   "cell_type": "code",
   "execution_count": 5,
   "id": "eeaaafd8",
   "metadata": {},
   "outputs": [
    {
     "name": "stdout",
     "output_type": "stream",
     "text": [
      "<class 'pandas.core.frame.DataFrame'>\n",
      "RangeIndex: 6131 entries, 0 to 6130\n",
      "Data columns (total 10 columns):\n",
      " #   Column        Non-Null Count  Dtype \n",
      "---  ------        --------------  ----- \n",
      " 0   title         6131 non-null   object\n",
      " 1   director      5943 non-null   object\n",
      " 2   cast          5656 non-null   object\n",
      " 3   country       5691 non-null   object\n",
      " 4   date_added    6131 non-null   object\n",
      " 5   release_year  6131 non-null   int64 \n",
      " 6   rating        6129 non-null   object\n",
      " 7   duration      6128 non-null   object\n",
      " 8   listed_in     6131 non-null   object\n",
      " 9   description   6131 non-null   object\n",
      "dtypes: int64(1), object(9)\n",
      "memory usage: 479.1+ KB\n"
     ]
    }
   ],
   "source": [
    "series = dados_filmes['duration'].unique()\n",
    "dados_filmes.info()"
   ]
  },
  {
   "cell_type": "code",
   "execution_count": 6,
   "id": "0fab83b2",
   "metadata": {},
   "outputs": [
    {
     "data": {
      "text/html": [
       "<div>\n",
       "<style scoped>\n",
       "    .dataframe tbody tr th:only-of-type {\n",
       "        vertical-align: middle;\n",
       "    }\n",
       "\n",
       "    .dataframe tbody tr th {\n",
       "        vertical-align: top;\n",
       "    }\n",
       "\n",
       "    .dataframe thead th {\n",
       "        text-align: right;\n",
       "    }\n",
       "</style>\n",
       "<table border=\"1\" class=\"dataframe\">\n",
       "  <thead>\n",
       "    <tr style=\"text-align: right;\">\n",
       "      <th></th>\n",
       "      <th>title</th>\n",
       "      <th>director</th>\n",
       "      <th>cast</th>\n",
       "      <th>country</th>\n",
       "      <th>date_added</th>\n",
       "      <th>release_year</th>\n",
       "      <th>rating</th>\n",
       "      <th>duration</th>\n",
       "      <th>listed_in</th>\n",
       "      <th>description</th>\n",
       "    </tr>\n",
       "  </thead>\n",
       "  <tbody>\n",
       "    <tr>\n",
       "      <th>3562</th>\n",
       "      <td>Louis C.K. 2017</td>\n",
       "      <td>Louis C.K.</td>\n",
       "      <td>Louis C.K.</td>\n",
       "      <td>United States</td>\n",
       "      <td>April 4, 2017</td>\n",
       "      <td>2017</td>\n",
       "      <td>74 min</td>\n",
       "      <td>NaN</td>\n",
       "      <td>Movies</td>\n",
       "      <td>Louis C.K. muses on religion, eternal love, gi...</td>\n",
       "    </tr>\n",
       "    <tr>\n",
       "      <th>3738</th>\n",
       "      <td>Louis C.K.: Hilarious</td>\n",
       "      <td>Louis C.K.</td>\n",
       "      <td>Louis C.K.</td>\n",
       "      <td>United States</td>\n",
       "      <td>September 16, 2016</td>\n",
       "      <td>2010</td>\n",
       "      <td>84 min</td>\n",
       "      <td>NaN</td>\n",
       "      <td>Movies</td>\n",
       "      <td>Emmy-winning comedy writer Louis C.K. brings h...</td>\n",
       "    </tr>\n",
       "    <tr>\n",
       "      <th>3747</th>\n",
       "      <td>Louis C.K.: Live at the Comedy Store</td>\n",
       "      <td>Louis C.K.</td>\n",
       "      <td>Louis C.K.</td>\n",
       "      <td>United States</td>\n",
       "      <td>August 15, 2016</td>\n",
       "      <td>2015</td>\n",
       "      <td>66 min</td>\n",
       "      <td>NaN</td>\n",
       "      <td>Movies</td>\n",
       "      <td>The comic puts his trademark hilarious/thought...</td>\n",
       "    </tr>\n",
       "  </tbody>\n",
       "</table>\n",
       "</div>"
      ],
      "text/plain": [
       "                                     title    director        cast  \\\n",
       "3562                       Louis C.K. 2017  Louis C.K.  Louis C.K.   \n",
       "3738                 Louis C.K.: Hilarious  Louis C.K.  Louis C.K.   \n",
       "3747  Louis C.K.: Live at the Comedy Store  Louis C.K.  Louis C.K.   \n",
       "\n",
       "            country          date_added  release_year  rating duration  \\\n",
       "3562  United States       April 4, 2017          2017  74 min      NaN   \n",
       "3738  United States  September 16, 2016          2010  84 min      NaN   \n",
       "3747  United States     August 15, 2016          2015  66 min      NaN   \n",
       "\n",
       "     listed_in                                        description  \n",
       "3562    Movies  Louis C.K. muses on religion, eternal love, gi...  \n",
       "3738    Movies  Emmy-winning comedy writer Louis C.K. brings h...  \n",
       "3747    Movies  The comic puts his trademark hilarious/thought...  "
      ]
     },
     "execution_count": 6,
     "metadata": {},
     "output_type": "execute_result"
    }
   ],
   "source": [
    "dados_filmes[dados_filmes['duration'].isna()] #df[True] => mostra "
   ]
  },
  {
   "cell_type": "code",
   "execution_count": 7,
   "id": "668d7250",
   "metadata": {},
   "outputs": [
    {
     "data": {
      "text/plain": [
       "array(['PG-13', 'TV-MA', 'PG', 'TV-14', 'TV-PG', 'TV-Y', 'TV-Y7', 'R',\n",
       "       'TV-G', 'G', 'NC-17', '74 min', '84 min', '66 min', 'NR', nan,\n",
       "       'TV-Y7-FV', 'UR'], dtype=object)"
      ]
     },
     "execution_count": 7,
     "metadata": {},
     "output_type": "execute_result"
    }
   ],
   "source": [
    "df1.rating.unique()"
   ]
  },
  {
   "cell_type": "code",
   "execution_count": 8,
   "id": "99555a8e",
   "metadata": {},
   "outputs": [
    {
     "name": "stdout",
     "output_type": "stream",
     "text": [
      "<class 'pandas.core.frame.DataFrame'>\n",
      "Int64Index: 6131 entries, 0 to 6130\n",
      "Data columns (total 10 columns):\n",
      " #   Column        Non-Null Count  Dtype  \n",
      "---  ------        --------------  -----  \n",
      " 0   title         6131 non-null   object \n",
      " 1   director      5943 non-null   object \n",
      " 2   cast          5656 non-null   object \n",
      " 3   country       5691 non-null   object \n",
      " 4   date_added    6131 non-null   object \n",
      " 5   release_year  6131 non-null   int64  \n",
      " 6   rating        6129 non-null   object \n",
      " 7   duration      6128 non-null   float64\n",
      " 8   listed_in     6131 non-null   object \n",
      " 9   description   6131 non-null   object \n",
      "dtypes: float64(1), int64(1), object(8)\n",
      "memory usage: 526.9+ KB\n"
     ]
    }
   ],
   "source": [
    "dados_filmes['duration'] = dados_filmes['duration'].apply(lambda x: str(x).replace('min','')) # '90 '\n",
    "dados_filmes['duration'] = dados_filmes['duration'].apply(lambda x: str(x).replace(' ','')) # ' ', ''\n",
    "dados_filmes.dropna(subset=['duration'],inplace=True)\n",
    "dados_filmes.duration = dados_filmes.duration.astype(\"float64\")\n",
    "dados_filmes.info()"
   ]
  },
  {
   "cell_type": "code",
   "execution_count": 9,
   "id": "c89099c1",
   "metadata": {},
   "outputs": [],
   "source": [
    "dados_filmes_decrecente = dados_filmes.sort_values(['duration'],ascending=False).head()\n",
    "\n",
    "dados_filmes_crecente = dados_filmes.sort_values(['duration']).head()\n",
    "# 1"
   ]
  },
  {
   "cell_type": "code",
   "execution_count": 10,
   "id": "408ae32a",
   "metadata": {},
   "outputs": [
    {
     "data": {
      "text/plain": [
       "United States     2058\n",
       "India              893\n",
       "United Kingdom     206\n",
       "Canada             122\n",
       "Spain               97\n",
       "Egypt               92\n",
       "Nigeria             86\n",
       "Indonesia           77\n",
       "Turkey              76\n",
       "Japan               76\n",
       "Name: country, dtype: int64"
      ]
     },
     "execution_count": 10,
     "metadata": {},
     "output_type": "execute_result"
    }
   ],
   "source": [
    "dados_filmes.country.value_counts().head(10) #57%"
   ]
  },
  {
   "cell_type": "code",
   "execution_count": 11,
   "id": "97b5199e",
   "metadata": {},
   "outputs": [],
   "source": [
    "#4- Quais os tipos de filmes /series são mais comuns em determinados paises? (listed_in por country)\n",
    "\n",
    "dados_filmes.dropna(subset = ['country'], inplace = True) #gerei um novo dataframe\n",
    "\n",
    "dados_EUA = dados_filmes[dados_filmes['country'].str.contains('United States')] # ==\n",
    "serie1 = dados_EUA.listed_in.value_counts().head(1) #series so com o primeiro elemento \n",
    "\n",
    "#contador = conta+1 \n",
    "\n",
    "dados_India  = dados_filmes[dados_filmes['country'].str.contains('India')]\n",
    "serie2 = dados_India.listed_in.value_counts().head(1)\n",
    "\n",
    "dados_United_Kingdom  = dados_filmes[dados_filmes['country'].str.contains('United Kingdom')]\n",
    "serie3 = dados_United_Kingdom.listed_in.value_counts().head(1)\n",
    "\n",
    "dados_Canada  = dados_filmes[dados_filmes['country'].str.contains('Canada')]\n",
    "serie4 = dados_Canada.listed_in.value_counts().head(1)\n",
    "\n",
    "dados_Spain  = dados_filmes[dados_filmes['country'].str.contains('Spain')]\n",
    "serie5 = dados_Spain.listed_in.value_counts().head(1)\n"
   ]
  },
  {
   "cell_type": "code",
   "execution_count": 12,
   "id": "b9ffa044",
   "metadata": {},
   "outputs": [],
   "source": [
    "#data_filmes_Q4 = {'col_1': [3, 2, 1, 0], 'col_2': ['a', 'b', 'c', 'd']}"
   ]
  },
  {
   "cell_type": "code",
   "execution_count": 13,
   "id": "56a6db06",
   "metadata": {},
   "outputs": [
    {
     "data": {
      "text/html": [
       "<div>\n",
       "<style scoped>\n",
       "    .dataframe tbody tr th:only-of-type {\n",
       "        vertical-align: middle;\n",
       "    }\n",
       "\n",
       "    .dataframe tbody tr th {\n",
       "        vertical-align: top;\n",
       "    }\n",
       "\n",
       "    .dataframe thead th {\n",
       "        text-align: right;\n",
       "    }\n",
       "</style>\n",
       "<table border=\"1\" class=\"dataframe\">\n",
       "  <thead>\n",
       "    <tr style=\"text-align: right;\">\n",
       "      <th></th>\n",
       "      <th>paises</th>\n",
       "      <th>tipos</th>\n",
       "      <th>quantidade</th>\n",
       "    </tr>\n",
       "  </thead>\n",
       "  <tbody>\n",
       "    <tr>\n",
       "      <th>0</th>\n",
       "      <td>EUA</td>\n",
       "      <td>Documentaries</td>\n",
       "      <td>289</td>\n",
       "    </tr>\n",
       "    <tr>\n",
       "      <th>1</th>\n",
       "      <td>IN</td>\n",
       "      <td>Comedies, Dramas, International Movies</td>\n",
       "      <td>124</td>\n",
       "    </tr>\n",
       "    <tr>\n",
       "      <th>2</th>\n",
       "      <td>GB</td>\n",
       "      <td>Documentaries</td>\n",
       "      <td>53</td>\n",
       "    </tr>\n",
       "    <tr>\n",
       "      <th>3</th>\n",
       "      <td>CA</td>\n",
       "      <td>Children &amp; Family Movies, Comedies</td>\n",
       "      <td>36</td>\n",
       "    </tr>\n",
       "    <tr>\n",
       "      <th>4</th>\n",
       "      <td>ES</td>\n",
       "      <td>Dramas, International Movies</td>\n",
       "      <td>16</td>\n",
       "    </tr>\n",
       "  </tbody>\n",
       "</table>\n",
       "</div>"
      ],
      "text/plain": [
       "  paises                                   tipos  quantidade\n",
       "0    EUA                           Documentaries         289\n",
       "1     IN  Comedies, Dramas, International Movies         124\n",
       "2     GB                           Documentaries          53\n",
       "3     CA      Children & Family Movies, Comedies          36\n",
       "4     ES            Dramas, International Movies          16"
      ]
     },
     "execution_count": 13,
     "metadata": {},
     "output_type": "execute_result"
    }
   ],
   "source": [
    "data_filmes_Q4 = pd.concat([serie1,serie2,serie3,serie4,serie5])\n",
    "data_filmes_Q4 = pd.DataFrame(data_filmes_Q4).reset_index()\n",
    "data_filmes_Q4.rename(columns={'index': 'tipos','listed_in':'quantidade'},inplace = True)\n",
    "data_filmes_Q4.rename(index = {0: 'EUA', 1: 'IN',2:'GB',3:\"CA\",4:'ES'},inplace = True)\n",
    "data_filmes_Q4.reset_index(inplace=True)\n",
    "data_filmes_Q4.rename(columns={'index': 'paises'},inplace = True)\n",
    "data_filmes_Q4"
   ]
  },
  {
   "cell_type": "code",
   "execution_count": 14,
   "id": "aebc01ba",
   "metadata": {
    "scrolled": true
   },
   "outputs": [
    {
     "data": {
      "text/plain": [
       "18    134\n",
       "16     93\n",
       "7      84\n",
       "0      18\n",
       "13     14\n",
       "Name: rating, dtype: int64"
      ]
     },
     "execution_count": 14,
     "metadata": {},
     "output_type": "execute_result"
    }
   ],
   "source": [
    "#5-Existe relação entre os diretores , o cast , o tipo de filme/serie e a classificação ? DxCxCLxtipo = relação?\n",
    "#1-Por exemplo , filmes de um determinado genero costumam com as classificação? (Ação > 18) \n",
    "dados_aux1 = dados_filmes.copy()\n",
    "dados_aux1.drop(columns=['title','country','date_added','release_year','duration','description'],axis=1,inplace=True)\n",
    "dados_aux1.reset_index(inplace=True)\n",
    "dados_aux1.drop(columns='index',axis = 1,inplace=True)\n",
    "dados_aux1.drop(3377,inplace=True)\n",
    "dados_aux1.drop(3200,inplace=True)\n",
    "dados_aux1.drop(3368,inplace=True)\n",
    "dados_aux1.dropna(subset= ['rating'],inplace=True) \n",
    "dados_aux1.rating = dados_aux1.rating.replace({'PG-13':'13', 'TV-MA':'18', 'TV-14':'16', 'PG':'7', 'R':'18',\n",
    "                                               'TV-PG':'7', 'G':'0','TV-Y7':'7','TV-G':'0', 'TV-Y':'0',\n",
    "                                               'NC-17':'18','NR':'18','TV-Y7-FV':'7', 'UR':'18'})\n",
    "#documentaries \n",
    "dados_documentario  = dados_aux1[dados_aux1['listed_in'] == 'Documentaries']\n",
    "dados_documentario.rating.value_counts()\n",
    "\n",
    "#1-grafico (comedia(classicação) , )\n",
    "#1-grafico (comedia(clasimais), dramas (classimais))\n",
    "\n",
    "#Dramas, International Movies ;;;;  Stand-Up Comedy ;;; Comedies, Dramas, International Movies  \n",
    "#Dramas, Independent Movies, International Movies -\n",
    "#len(dados_aux1.listed_in)])"
   ]
  },
  {
   "cell_type": "code",
   "execution_count": 15,
   "id": "f0292c9b",
   "metadata": {},
   "outputs": [],
   "source": [
    "#2Filmes de um determinado diretor costuma determinado  tipo ?\n",
    "dados_aux2 = dados_filmes.copy()\n",
    "dados_aux2.director.value_counts().head()\n",
    "\n",
    "df_Campos = dados_aux2[dados_aux2['director'] == \"Raúl Campos, Jan Suter\"]\n",
    "df_Campos = pd.DataFrame(df_Campos)\n",
    "\n",
    "\n",
    "df_JK = dados_aux2[dados_aux2['director'] == \"Jay Karas\"]\n",
    "df_JK = pd.DataFrame(df_JK)\n",
    "\n",
    "df_MR = dados_aux2[dados_aux2['director'] == \"Marcus Raboy\"]\n",
    "df_MR = pd.DataFrame(df_MR)\n",
    "\n",
    "lista = df_Campos.listed_in.value_counts()\n",
    "lista = pd.DataFrame(lista).reset_index()\n",
    "lista.rename(columns={'index':'nome'},inplace=True)\n",
    "\n",
    "\n",
    "lista_JK = df_JK.listed_in.value_counts()\n",
    "lista_JK = pd.DataFrame(lista_JK).reset_index()\n",
    "lista_JK.rename(columns={'index':'nome'},inplace=True)\n",
    "\n",
    "\n",
    "#Jay Karas,Marcus Raboy,Cathy , Garcia-Molina, \n"
   ]
  },
  {
   "cell_type": "code",
   "execution_count": 16,
   "id": "eebd9ba2",
   "metadata": {},
   "outputs": [
    {
     "data": {
      "text/html": [
       "<div>\n",
       "<style scoped>\n",
       "    .dataframe tbody tr th:only-of-type {\n",
       "        vertical-align: middle;\n",
       "    }\n",
       "\n",
       "    .dataframe tbody tr th {\n",
       "        vertical-align: top;\n",
       "    }\n",
       "\n",
       "    .dataframe thead th {\n",
       "        text-align: right;\n",
       "    }\n",
       "</style>\n",
       "<table border=\"1\" class=\"dataframe\">\n",
       "  <thead>\n",
       "    <tr style=\"text-align: right;\">\n",
       "      <th></th>\n",
       "      <th>title</th>\n",
       "      <th>director</th>\n",
       "      <th>cast</th>\n",
       "      <th>country</th>\n",
       "      <th>date_added</th>\n",
       "      <th>release_year</th>\n",
       "      <th>rating</th>\n",
       "      <th>duration</th>\n",
       "      <th>listed_in</th>\n",
       "      <th>description</th>\n",
       "    </tr>\n",
       "  </thead>\n",
       "  <tbody>\n",
       "    <tr>\n",
       "      <th>5446</th>\n",
       "      <td>Secrets of Althorp - The Spencers</td>\n",
       "      <td>Kasia Uscinska</td>\n",
       "      <td>Samuel West</td>\n",
       "      <td>United States</td>\n",
       "      <td>April 22, 2017</td>\n",
       "      <td>2013</td>\n",
       "      <td>TV-PG</td>\n",
       "      <td>54.0</td>\n",
       "      <td>Documentaries, International Movies</td>\n",
       "      <td>Princess Diana's brother, Charles, the ninth E...</td>\n",
       "    </tr>\n",
       "    <tr>\n",
       "      <th>5447</th>\n",
       "      <td>Secrets of Chatsworth</td>\n",
       "      <td>Susannah Ward</td>\n",
       "      <td>Samuel West</td>\n",
       "      <td>United States</td>\n",
       "      <td>February 22, 2017</td>\n",
       "      <td>2013</td>\n",
       "      <td>TV-PG</td>\n",
       "      <td>54.0</td>\n",
       "      <td>Documentaries, International Movies</td>\n",
       "      <td>Tales of tragedy and scandal unfold through th...</td>\n",
       "    </tr>\n",
       "    <tr>\n",
       "      <th>5448</th>\n",
       "      <td>Secrets of Henry VIII's Palace: Hampton Court</td>\n",
       "      <td>Sam Taplin</td>\n",
       "      <td>Samuel West</td>\n",
       "      <td>United States</td>\n",
       "      <td>February 22, 2017</td>\n",
       "      <td>2013</td>\n",
       "      <td>TV-PG</td>\n",
       "      <td>54.0</td>\n",
       "      <td>Documentaries, International Movies</td>\n",
       "      <td>The history of this grand 500-year-old palace ...</td>\n",
       "    </tr>\n",
       "    <tr>\n",
       "      <th>5449</th>\n",
       "      <td>Secrets of Her Majesty's Secret Service</td>\n",
       "      <td>Kasia Uscinska</td>\n",
       "      <td>Samuel West</td>\n",
       "      <td>United Kingdom</td>\n",
       "      <td>February 22, 2017</td>\n",
       "      <td>2014</td>\n",
       "      <td>TV-PG</td>\n",
       "      <td>55.0</td>\n",
       "      <td>Documentaries, International Movies</td>\n",
       "      <td>This documentary spotlights more than 100 year...</td>\n",
       "    </tr>\n",
       "    <tr>\n",
       "      <th>5450</th>\n",
       "      <td>Secrets of Highclere Castle</td>\n",
       "      <td>Vicky Matthews</td>\n",
       "      <td>Samuel West</td>\n",
       "      <td>United States</td>\n",
       "      <td>February 22, 2017</td>\n",
       "      <td>2013</td>\n",
       "      <td>TV-PG</td>\n",
       "      <td>54.0</td>\n",
       "      <td>Documentaries, International Movies</td>\n",
       "      <td>Known as the setting of \"Downton Abbey,\" Highc...</td>\n",
       "    </tr>\n",
       "    <tr>\n",
       "      <th>5451</th>\n",
       "      <td>Secrets of Scotland Yard</td>\n",
       "      <td>Susannah Ward</td>\n",
       "      <td>Samuel West</td>\n",
       "      <td>United Kingdom</td>\n",
       "      <td>April 22, 2017</td>\n",
       "      <td>2013</td>\n",
       "      <td>TV-14</td>\n",
       "      <td>55.0</td>\n",
       "      <td>Documentaries</td>\n",
       "      <td>Revisit famous cases and explore the history o...</td>\n",
       "    </tr>\n",
       "    <tr>\n",
       "      <th>5452</th>\n",
       "      <td>Secrets of Selfridges</td>\n",
       "      <td>Sam Taplin</td>\n",
       "      <td>Samuel West</td>\n",
       "      <td>United States</td>\n",
       "      <td>April 22, 2017</td>\n",
       "      <td>2014</td>\n",
       "      <td>TV-PG</td>\n",
       "      <td>55.0</td>\n",
       "      <td>Documentaries</td>\n",
       "      <td>American Harry Gordon Selfridge introduced Lon...</td>\n",
       "    </tr>\n",
       "    <tr>\n",
       "      <th>5453</th>\n",
       "      <td>Secrets of the Tower of London</td>\n",
       "      <td>Vicky Matthews</td>\n",
       "      <td>Samuel West</td>\n",
       "      <td>United Kingdom</td>\n",
       "      <td>February 22, 2017</td>\n",
       "      <td>2013</td>\n",
       "      <td>TV-PG</td>\n",
       "      <td>55.0</td>\n",
       "      <td>Documentaries</td>\n",
       "      <td>Explore the storied history of the iconic Towe...</td>\n",
       "    </tr>\n",
       "    <tr>\n",
       "      <th>5454</th>\n",
       "      <td>Secrets of Underground London</td>\n",
       "      <td>Vicky Matthews, Gareth Sacala</td>\n",
       "      <td>Samuel West</td>\n",
       "      <td>United Kingdom</td>\n",
       "      <td>April 22, 2017</td>\n",
       "      <td>2014</td>\n",
       "      <td>TV-PG</td>\n",
       "      <td>55.0</td>\n",
       "      <td>Documentaries, International Movies</td>\n",
       "      <td>Experts examine the ruins and relics hidden be...</td>\n",
       "    </tr>\n",
       "    <tr>\n",
       "      <th>5455</th>\n",
       "      <td>Secrets of Westminster</td>\n",
       "      <td>Louise Wardle</td>\n",
       "      <td>Samuel West</td>\n",
       "      <td>United States, United Kingdom</td>\n",
       "      <td>April 22, 2017</td>\n",
       "      <td>2014</td>\n",
       "      <td>TV-PG</td>\n",
       "      <td>55.0</td>\n",
       "      <td>Documentaries, International Movies</td>\n",
       "      <td>Take an insider's tour of Parliament, Big Ben ...</td>\n",
       "    </tr>\n",
       "  </tbody>\n",
       "</table>\n",
       "</div>"
      ],
      "text/plain": [
       "                                              title  \\\n",
       "5446              Secrets of Althorp - The Spencers   \n",
       "5447                          Secrets of Chatsworth   \n",
       "5448  Secrets of Henry VIII's Palace: Hampton Court   \n",
       "5449        Secrets of Her Majesty's Secret Service   \n",
       "5450                    Secrets of Highclere Castle   \n",
       "5451                       Secrets of Scotland Yard   \n",
       "5452                          Secrets of Selfridges   \n",
       "5453                 Secrets of the Tower of London   \n",
       "5454                  Secrets of Underground London   \n",
       "5455                         Secrets of Westminster   \n",
       "\n",
       "                           director         cast  \\\n",
       "5446                 Kasia Uscinska  Samuel West   \n",
       "5447                  Susannah Ward  Samuel West   \n",
       "5448                     Sam Taplin  Samuel West   \n",
       "5449                 Kasia Uscinska  Samuel West   \n",
       "5450                 Vicky Matthews  Samuel West   \n",
       "5451                  Susannah Ward  Samuel West   \n",
       "5452                     Sam Taplin  Samuel West   \n",
       "5453                 Vicky Matthews  Samuel West   \n",
       "5454  Vicky Matthews, Gareth Sacala  Samuel West   \n",
       "5455                  Louise Wardle  Samuel West   \n",
       "\n",
       "                            country         date_added  release_year rating  \\\n",
       "5446                  United States     April 22, 2017          2013  TV-PG   \n",
       "5447                  United States  February 22, 2017          2013  TV-PG   \n",
       "5448                  United States  February 22, 2017          2013  TV-PG   \n",
       "5449                 United Kingdom  February 22, 2017          2014  TV-PG   \n",
       "5450                  United States  February 22, 2017          2013  TV-PG   \n",
       "5451                 United Kingdom     April 22, 2017          2013  TV-14   \n",
       "5452                  United States     April 22, 2017          2014  TV-PG   \n",
       "5453                 United Kingdom  February 22, 2017          2013  TV-PG   \n",
       "5454                 United Kingdom     April 22, 2017          2014  TV-PG   \n",
       "5455  United States, United Kingdom     April 22, 2017          2014  TV-PG   \n",
       "\n",
       "      duration                            listed_in  \\\n",
       "5446      54.0  Documentaries, International Movies   \n",
       "5447      54.0  Documentaries, International Movies   \n",
       "5448      54.0  Documentaries, International Movies   \n",
       "5449      55.0  Documentaries, International Movies   \n",
       "5450      54.0  Documentaries, International Movies   \n",
       "5451      55.0                        Documentaries   \n",
       "5452      55.0                        Documentaries   \n",
       "5453      55.0                        Documentaries   \n",
       "5454      55.0  Documentaries, International Movies   \n",
       "5455      55.0  Documentaries, International Movies   \n",
       "\n",
       "                                            description  \n",
       "5446  Princess Diana's brother, Charles, the ninth E...  \n",
       "5447  Tales of tragedy and scandal unfold through th...  \n",
       "5448  The history of this grand 500-year-old palace ...  \n",
       "5449  This documentary spotlights more than 100 year...  \n",
       "5450  Known as the setting of \"Downton Abbey,\" Highc...  \n",
       "5451  Revisit famous cases and explore the history o...  \n",
       "5452  American Harry Gordon Selfridge introduced Lon...  \n",
       "5453  Explore the storied history of the iconic Towe...  \n",
       "5454  Experts examine the ruins and relics hidden be...  \n",
       "5455  Take an insider's tour of Parliament, Big Ben ...  "
      ]
     },
     "execution_count": 16,
     "metadata": {},
     "output_type": "execute_result"
    }
   ],
   "source": [
    "#3cast x tipo de filme ?\n",
    "dados_aux3 = dados_filmes.copy()\n",
    "dados_aux3.cast.value_counts().head(4)\n",
    "'''\n",
    "Samuel West      10\n",
    "Jeff Dunham       7\n",
    "Craig Sechler     6\n",
    "Kevin Hart        6\n",
    "'''\n",
    "df_SW = dados_aux3[dados_aux3.cast == 'Samuel West']\n",
    "df_SW = pd.DataFrame(df_SW)\n",
    "\n",
    "df_JD=dados_aux3[dados_aux3.cast == 'Jeff Dunham']\n",
    "df_JD=pd.DataFrame(df_JD)\n",
    "\n",
    "#dados_aux3[dados_aux3.cast == 'Craig Sechler']\n",
    "\n",
    "lista_apoio=df_SW.listed_in.value_counts()\n",
    "lista_apoio = pd.DataFrame(lista_apoio).reset_index()\n",
    "lista_apoio.rename(columns={'index':'nome'},inplace=True)\n",
    "\n",
    "\n",
    "lista_apoio_JD=df_JD.listed_in.value_counts()\n",
    "lista_apoio_JD = pd.DataFrame(lista_apoio_JD).reset_index()\n",
    "lista_apoio_JD.rename(columns={'index':'nome'},inplace=True)\n",
    "\n",
    "\n",
    "df_SW"
   ]
  },
  {
   "cell_type": "code",
   "execution_count": 17,
   "id": "3f73a534",
   "metadata": {},
   "outputs": [
    {
     "ename": "NameError",
     "evalue": "name 'plt' is not defined",
     "output_type": "error",
     "traceback": [
      "\u001b[1;31m---------------------------------------------------------------------------\u001b[0m",
      "\u001b[1;31mNameError\u001b[0m                                 Traceback (most recent call last)",
      "\u001b[1;32mC:\\Users\\LUCASN~1\\AppData\\Local\\Temp/ipykernel_12712/4173712741.py\u001b[0m in \u001b[0;36m<module>\u001b[1;34m\u001b[0m\n\u001b[1;32m----> 1\u001b[1;33m \u001b[0mplt\u001b[0m\u001b[1;33m.\u001b[0m\u001b[0mfigure\u001b[0m\u001b[1;33m(\u001b[0m\u001b[0mfigsize\u001b[0m\u001b[1;33m=\u001b[0m\u001b[1;33m(\u001b[0m\u001b[1;36m10\u001b[0m\u001b[1;33m,\u001b[0m\u001b[1;36m10\u001b[0m\u001b[1;33m)\u001b[0m\u001b[1;33m)\u001b[0m\u001b[1;33m\u001b[0m\u001b[1;33m\u001b[0m\u001b[0m\n\u001b[0m\u001b[0;32m      2\u001b[0m \u001b[0mresult\u001b[0m \u001b[1;33m=\u001b[0m \u001b[0mplt\u001b[0m\u001b[1;33m.\u001b[0m\u001b[0mhist\u001b[0m\u001b[1;33m(\u001b[0m\u001b[0mdados_filmes\u001b[0m\u001b[1;33m.\u001b[0m\u001b[0mduration\u001b[0m\u001b[1;33m,\u001b[0m \u001b[0mbins\u001b[0m\u001b[1;33m=\u001b[0m\u001b[1;36m20\u001b[0m\u001b[1;33m,\u001b[0m \u001b[0mcolor\u001b[0m\u001b[1;33m=\u001b[0m\u001b[1;34m'c'\u001b[0m\u001b[1;33m,\u001b[0m \u001b[0medgecolor\u001b[0m\u001b[1;33m=\u001b[0m\u001b[1;34m'k'\u001b[0m\u001b[1;33m,\u001b[0m \u001b[0malpha\u001b[0m\u001b[1;33m=\u001b[0m\u001b[1;36m0.65\u001b[0m\u001b[1;33m)\u001b[0m\u001b[1;33m\u001b[0m\u001b[1;33m\u001b[0m\u001b[0m\n\u001b[0;32m      3\u001b[0m \u001b[0mplt\u001b[0m\u001b[1;33m.\u001b[0m\u001b[0maxvline\u001b[0m\u001b[1;33m(\u001b[0m\u001b[0mdados_filmes\u001b[0m\u001b[1;33m.\u001b[0m\u001b[0mduration\u001b[0m\u001b[1;33m.\u001b[0m\u001b[0mmean\u001b[0m\u001b[1;33m(\u001b[0m\u001b[1;33m)\u001b[0m\u001b[1;33m,\u001b[0m \u001b[0mcolor\u001b[0m\u001b[1;33m=\u001b[0m\u001b[1;34m'k'\u001b[0m\u001b[1;33m,\u001b[0m \u001b[0mlinestyle\u001b[0m\u001b[1;33m=\u001b[0m\u001b[1;34m'dashed'\u001b[0m\u001b[1;33m,\u001b[0m \u001b[0mlinewidth\u001b[0m\u001b[1;33m=\u001b[0m\u001b[1;36m1\u001b[0m\u001b[1;33m)\u001b[0m\u001b[1;33m\u001b[0m\u001b[1;33m\u001b[0m\u001b[0m\n\u001b[0;32m      4\u001b[0m \u001b[0mplt\u001b[0m\u001b[1;33m.\u001b[0m\u001b[0maxvline\u001b[0m\u001b[1;33m(\u001b[0m\u001b[0mdados_filmes\u001b[0m\u001b[1;33m.\u001b[0m\u001b[0mduration\u001b[0m\u001b[1;33m.\u001b[0m\u001b[0mmedian\u001b[0m\u001b[1;33m(\u001b[0m\u001b[1;33m)\u001b[0m\u001b[1;33m,\u001b[0m \u001b[0mcolor\u001b[0m\u001b[1;33m=\u001b[0m\u001b[1;34m'r'\u001b[0m\u001b[1;33m,\u001b[0m \u001b[0mlinestyle\u001b[0m\u001b[1;33m=\u001b[0m\u001b[1;34m'dashed'\u001b[0m\u001b[1;33m,\u001b[0m \u001b[0mlinewidth\u001b[0m\u001b[1;33m=\u001b[0m\u001b[1;36m1\u001b[0m\u001b[1;33m)\u001b[0m\u001b[1;33m\u001b[0m\u001b[1;33m\u001b[0m\u001b[0m\n",
      "\u001b[1;31mNameError\u001b[0m: name 'plt' is not defined"
     ]
    }
   ],
   "source": [
    "plt.figure(figsize=(10,10))\n",
    "result = plt.hist(dados_filmes.duration, bins=20, color='c', edgecolor='k', alpha=0.65)\n",
    "plt.axvline(dados_filmes.duration.mean(), color='k', linestyle='dashed', linewidth=1)\n",
    "plt.axvline(dados_filmes.duration.median(), color='r', linestyle='dashed', linewidth=1)"
   ]
  },
  {
   "cell_type": "markdown",
   "id": "a026c87b",
   "metadata": {},
   "source": [
    "## Seaborn Plots"
   ]
  },
  {
   "cell_type": "code",
   "execution_count": 18,
   "id": "5ccc84a8",
   "metadata": {},
   "outputs": [],
   "source": [
    "%matplotlib inline\n",
    "import matplotlib.pyplot as plt\n",
    "import pandas as pd\n",
    "import seaborn as sns\n",
    "\n"
   ]
  },
  {
   "cell_type": "markdown",
   "id": "a6b0de2f",
   "metadata": {},
   "source": [
    "# 1"
   ]
  },
  {
   "cell_type": "markdown",
   "id": "30b96a65",
   "metadata": {},
   "source": [
    "podemos notar que nesses dois graficos do primeiro quesito , o grafico 1 , pega os 5 menores tempo de filmes que tem no dataset , e no grafico 2 pega o 5 maiores tempo de filme no dataset.Podemos ter como conclusão que o grafico 1 o menores tempo varia de 3 minutos a 10 minutos de filme , no grafico 2 os maiores tempo varia de 300 minutos a 250 minutos o tamanho dos filmes, mas não podemos dizer que a media de cada tipo de filme é proporcional ao  filme dentro da aquela media , exemplo , a maior media em referente pelo tipo , não significa que o filme com maior tempo esteja nesse grupo de filme com a maior media de filmes ."
   ]
  },
  {
   "cell_type": "code",
   "execution_count": 19,
   "id": "278606ca",
   "metadata": {},
   "outputs": [
    {
     "data": {
      "image/png": "[encoded data removed]",
      "text/plain": [
       "<Figure size 1440x720 with 1 Axes>"
      ]
     },
     "metadata": {
      "needs_background": "light"
     },
     "output_type": "display_data"
    }
   ],
   "source": [
    "#1- Qual dos o top-5 dos filme costuma ter a maior duração ? E o  top-5 dos tipos de filmes com menor duração ?\n",
    "plt.figure(figsize=(20,10))\n",
    "sns.barplot(x=\"title\", y=\"duration\", hue=\"listed_in\", data=dados_filmes_crecente)\n",
    "plt.title(\"Os 5 menores filmes\")\n",
    "plt.ylabel(\"Duração\")\n",
    "plt.xlabel(\"Filmes\")\n",
    "plt.show()"
   ]
  },
  {
   "cell_type": "code",
   "execution_count": 20,
   "id": "d9b87c96",
   "metadata": {},
   "outputs": [
    {
     "data": {
      "text/html": [
       "<div>\n",
       "<style scoped>\n",
       "    .dataframe tbody tr th:only-of-type {\n",
       "        vertical-align: middle;\n",
       "    }\n",
       "\n",
       "    .dataframe tbody tr th {\n",
       "        vertical-align: top;\n",
       "    }\n",
       "\n",
       "    .dataframe thead th {\n",
       "        text-align: right;\n",
       "    }\n",
       "</style>\n",
       "<table border=\"1\" class=\"dataframe\">\n",
       "  <thead>\n",
       "    <tr style=\"text-align: right;\">\n",
       "      <th></th>\n",
       "      <th>duration</th>\n",
       "    </tr>\n",
       "    <tr>\n",
       "      <th>listed_in</th>\n",
       "      <th></th>\n",
       "    </tr>\n",
       "  </thead>\n",
       "  <tbody>\n",
       "    <tr>\n",
       "      <th>Classic Movies, Music &amp; Musicals</th>\n",
       "      <td>173.000000</td>\n",
       "    </tr>\n",
       "    <tr>\n",
       "      <th>Action &amp; Adventure, Cult Movies, Dramas</th>\n",
       "      <td>172.000000</td>\n",
       "    </tr>\n",
       "    <tr>\n",
       "      <th>Action &amp; Adventure, Classic Movies, International Movies</th>\n",
       "      <td>166.000000</td>\n",
       "    </tr>\n",
       "    <tr>\n",
       "      <th>Cult Movies, Dramas, Thrillers</th>\n",
       "      <td>158.000000</td>\n",
       "    </tr>\n",
       "    <tr>\n",
       "      <th>Classic Movies, Dramas, Romantic Movies</th>\n",
       "      <td>153.666667</td>\n",
       "    </tr>\n",
       "    <tr>\n",
       "      <th>...</th>\n",
       "      <td>...</td>\n",
       "    </tr>\n",
       "    <tr>\n",
       "      <th>International Movies, Sports Movies</th>\n",
       "      <td>53.000000</td>\n",
       "    </tr>\n",
       "    <tr>\n",
       "      <th>Movies</th>\n",
       "      <td>50.000000</td>\n",
       "    </tr>\n",
       "    <tr>\n",
       "      <th>Classic Movies, Documentaries</th>\n",
       "      <td>49.181818</td>\n",
       "    </tr>\n",
       "    <tr>\n",
       "      <th>Children &amp; Family Movies, Comedies, LGBTQ Movies</th>\n",
       "      <td>46.000000</td>\n",
       "    </tr>\n",
       "    <tr>\n",
       "      <th>Action &amp; Adventure, Documentaries, Sports Movies</th>\n",
       "      <td>40.000000</td>\n",
       "    </tr>\n",
       "  </tbody>\n",
       "</table>\n",
       "<p>272 rows × 1 columns</p>\n",
       "</div>"
      ],
      "text/plain": [
       "                                                      duration\n",
       "listed_in                                                     \n",
       "Classic Movies, Music & Musicals                    173.000000\n",
       "Action & Adventure, Cult Movies, Dramas             172.000000\n",
       "Action & Adventure, Classic Movies, Internation...  166.000000\n",
       "Cult Movies, Dramas, Thrillers                      158.000000\n",
       "Classic Movies, Dramas, Romantic Movies             153.666667\n",
       "...                                                        ...\n",
       "International Movies, Sports Movies                  53.000000\n",
       "Movies                                               50.000000\n",
       "Classic Movies, Documentaries                        49.181818\n",
       "Children & Family Movies, Comedies, LGBTQ Movies     46.000000\n",
       "Action & Adventure, Documentaries, Sports Movies     40.000000\n",
       "\n",
       "[272 rows x 1 columns]"
      ]
     },
     "execution_count": 20,
     "metadata": {},
     "output_type": "execute_result"
    }
   ],
   "source": [
    "dados_1 = dados_filmes.groupby(['listed_in'])[['duration']].mean()\n",
    "dados_1.sort_values(by='duration',ascending=False,inplace=True)\n",
    "dados_1"
   ]
  },
  {
   "cell_type": "code",
   "execution_count": 21,
   "id": "b746f281",
   "metadata": {},
   "outputs": [
    {
     "data": {
      "image/png": "[encoded data removed]",
      "text/plain": [
       "<Figure size 2160x720 with 1 Axes>"
      ]
     },
     "metadata": {
      "needs_background": "light"
     },
     "output_type": "display_data"
    }
   ],
   "source": [
    "#1- Qual dos o top-5 dos filme costuma ter a maior duração ? E o  top-5 dos tipos de filmes com menor duração ?\n",
    "plt.figure(figsize=(30,10))\n",
    "sns.barplot(data=dados_filmes_decrecente,x='title',y='duration',palette=\"viridis\",hue=\"listed_in\")\n",
    "plt.title(\"Os 5 maiores filmes\")\n",
    "plt.ylabel(\"Duração\")\n",
    "plt.xlabel(\"Filmes\")\n",
    "plt.show()"
   ]
  },
  {
   "cell_type": "markdown",
   "id": "4322fde9",
   "metadata": {},
   "source": [
    "# 2"
   ]
  },
  {
   "cell_type": "markdown",
   "id": "47491433",
   "metadata": {},
   "source": [
    "o grafico se comporta quase em linha reta , e de pois tem uma curvatura logaritma (lembrando a curvatura da velocidade de processamento dos chips eletronicos) , e depois decai drasticamente , vistando que aconteceu algum evento nesse tempo que caio drasticamente,um evento que aconteceu para cair tão rapido foi o Virus da covid-19 , que foi uma pademia , e forçou varias empresas a da lockdown em varios lugares do mundo , fazendo que a industria de filme recua-se no mesmo periodo  como foi visto no mapa  "
   ]
  },
  {
   "cell_type": "code",
   "execution_count": null,
   "id": "0245fce3-890b-4ee2-9e32-21f06a003f68",
   "metadata": {},
   "outputs": [],
   "source": []
  },
  {
   "cell_type": "code",
   "execution_count": 36,
   "id": "86675ccc",
   "metadata": {
    "scrolled": true
   },
   "outputs": [
    {
     "data": {
      "image/png": "[encoded data removed]",
      "text/plain": [
       "<Figure size 432x216 with 1 Axes>"
      ]
     },
     "metadata": {
      "needs_background": "light"
     },
     "output_type": "display_data"
    }
   ],
   "source": [
    "#2-Existe alguma tendencia sobte a quantidade de filmes por tipo ao passar do tempo do tempo ?\n",
    "\n",
    "contador = dados_filmes.release_year.value_counts()\n",
    "contador = pd.DataFrame(contador).reset_index()\n",
    "contador.rename(columns={\"index\": \"Ano\", \"release_year\": \"Quantidade\"},inplace=True)\n",
    "\n",
    "#plt.figure(figsize=(10,5))\n",
    "#pyplot.scatter(contador['Ano'], contador['Quantidade'])\n",
    "sns.relplot(data=contador,x='Ano',y='Quantidade',kind='line',height=3.0,aspect=2);\n",
    "plt.title('Gráfico de Dispersão entre data1 e data2')\n",
    "plt.show()"
   ]
  },
  {
   "cell_type": "markdown",
   "id": "644124a4",
   "metadata": {},
   "source": [
    "# 3"
   ]
  },
  {
   "cell_type": "markdown",
   "id": "bc033dbb",
   "metadata": {},
   "source": [
    "Aqui o grafico mostra que a medicana fica 1985 (ou proximo), a maior concentração dos filmes feito no anos de 1970 a 2000,\n",
    "os pontos antes de 1950 que dizer que tinha pouca tecnologia , visto que os processadores tinha baixo poderes transmissão de dados , e os pontos que acontece depois de 2019 ( ou proximo) , aconteceu essa queda pois o mundo estava enfrentando a pandemia da covid-19 , que fez da um \"freio\" nas produção dos filmes , procando uma queda drastica "
   ]
  },
  {
   "cell_type": "code",
   "execution_count": 23,
   "id": "7cf586e5",
   "metadata": {
    "scrolled": true
   },
   "outputs": [
    {
     "data": {
      "image/png": "[encoded data removed]",
      "text/plain": [
       "<Figure size 2160x720 with 1 Axes>"
      ]
     },
     "metadata": {
      "needs_background": "light"
     },
     "output_type": "display_data"
    }
   ],
   "source": [
    "#3-Há algum dado muito discrepante dos demais ? Qual ? quais as possiveis hipoteses?\n",
    "plt.figure(figsize=(30,10))\n",
    "sns.boxenplot(data=contador, x = \"Ano\")\n",
    "plt.show()"
   ]
  },
  {
   "cell_type": "markdown",
   "id": "fb6f9876",
   "metadata": {},
   "source": [
    "# 4 "
   ]
  },
  {
   "cell_type": "markdown",
   "id": "570941d2",
   "metadata": {},
   "source": [
    "Nesse grafico mostramos , os 5 maiores paises que ficou na frente na produção de filme no pelo dataset , podemos nota que os EUA, ficaram em primeiro lugar visto que ele tem expressivamente quase 1/3 de filmes todos, do total dos filmes que foram analizados, segindo por India , Reino Unido , Canada e a Espanha"
   ]
  },
  {
   "cell_type": "code",
   "execution_count": 24,
   "id": "929734b5",
   "metadata": {},
   "outputs": [
    {
     "data": {
      "image/png": "[encoded data removed]",
      "text/plain": [
       "<Figure size 1368x576 with 1 Axes>"
      ]
     },
     "metadata": {
      "needs_background": "light"
     },
     "output_type": "display_data"
    }
   ],
   "source": [
    "#4- Quais os tipos de filmes /series são mais comuns em determinados paises? (listed_in por country)\n",
    "plt.figure(figsize=(19,8))\n",
    "sns.barplot(data=data_filmes_Q4,y='quantidade',x='paises', hue='tipos')\n",
    "plt.show()"
   ]
  },
  {
   "cell_type": "code",
   "execution_count": 25,
   "id": "c8e41689",
   "metadata": {},
   "outputs": [
    {
     "data": {
      "image/png": "[encoded data removed]",
      "text/plain": [
       "<Figure size 360x360 with 1 Axes>"
      ]
     },
     "metadata": {
      "needs_background": "light"
     },
     "output_type": "display_data"
    }
   ],
   "source": [
    "#coloca  a faixa de idade pelo index para fazer o barplot , e gerar outra coluna com os tipos  para ser a legenda\n",
    "dados_documentario  = dados_aux1[dados_aux1['listed_in'] == 'Documentaries']\n",
    "dados_documentario  = pd.DataFrame(dados_documentario)\n",
    "#dados_documentario.rating.value_counts()\n",
    "sns.displot(dados_documentario['rating'])\n",
    "plt.title(\"Grafico Da comedia\")\n",
    "plt.xlabel(\"Classificação\")\n",
    "plt.ylabel(\"Quantidade\")\n",
    "#plt.legend(([13,16,18,7,0],['A','B','C','D','E']))\n",
    "plt.show()"
   ]
  },
  {
   "cell_type": "markdown",
   "id": "0fd34f0f",
   "metadata": {},
   "source": [
    "podemos nota qe  no grafico mostra que a maior faixa de idade dos filme é os de 18 anos , presentado expressivamente \n",
    "com 140 filmes , mas do mesmo genero que seria de comedia"
   ]
  },
  {
   "cell_type": "markdown",
   "id": "552dd3df",
   "metadata": {},
   "source": [
    "#  _5_"
   ]
  },
  {
   "cell_type": "code",
   "execution_count": 26,
   "id": "e7bd47c7",
   "metadata": {},
   "outputs": [],
   "source": [
    "# 5-Existe relação entre os diretores , o cast ,\n",
    "#o tipo de filme/serie e a pontuação ? Por exemplo , filmes de um \n",
    "#determinado genero costumam ser mais bem pontuados? Filmes de um detedarminado diretor cosumam ter pontuação menor ?"
   ]
  },
  {
   "cell_type": "code",
   "execution_count": 27,
   "id": "4d6f10dc",
   "metadata": {
    "scrolled": true
   },
   "outputs": [
    {
     "data": {
      "image/png": "[encoded data removed]",
      "text/plain": [
       "<Figure size 360x360 with 1 Axes>"
      ]
     },
     "metadata": {
      "needs_background": "light"
     },
     "output_type": "display_data"
    }
   ],
   "source": [
    "\n",
    "plt.figure(figsize=(5,5))\n",
    "lista_MR = df_MR.listed_in.value_counts()\n",
    "sns.barplot(data=lista,y=lista.listed_in,x=lista.nome)\n",
    "plt.title(\"Grafico do Diretor Raúl Campos, Jan Suter \")\n",
    "plt.xlabel(\"Tipo do filme\")\n",
    "plt.ylabel(\"Quantidade de filmes\")\n",
    "plt.show()\n",
    "\n",
    "#Um diretor como Raúl Campos faz seus melhores filmes do gênero Comédia.\n",
    "#Estes temas são os mais utilizados por este realizador para se recriar nas suas obras artísticas."
   ]
  },
  {
   "cell_type": "code",
   "execution_count": 28,
   "id": "bf5ed2cb",
   "metadata": {},
   "outputs": [
    {
     "data": {
      "image/png": "[encoded data removed]",
      "text/plain": [
       "<Figure size 720x360 with 1 Axes>"
      ]
     },
     "metadata": {
      "needs_background": "light"
     },
     "output_type": "display_data"
    }
   ],
   "source": [
    "#JK\n",
    "plt.figure(figsize=(10,5))\n",
    "sns.barplot(data=lista_JK,y=lista_JK.listed_in,x=lista_JK.nome,hue=lista_JK.nome)\n",
    "\n",
    "plt.title(\"Grafico do Diretor Jay Karas\")\n",
    "plt.xlabel(\"Tipo do filme\")\n",
    "plt.ylabel(\"Quantidade de filmes\")\n",
    "plt.show()"
   ]
  },
  {
   "cell_type": "markdown",
   "id": "f67aa32e",
   "metadata": {},
   "source": [
    "Podemos notar que nesses dois graficos ficou visivel que geralmente um diretor gosta so fazer um tipo de filme , que pode ser\n",
    "seu principal atividade , de formação ."
   ]
  },
  {
   "cell_type": "code",
   "execution_count": 29,
   "id": "9b653ee3",
   "metadata": {},
   "outputs": [
    {
     "data": {
      "image/png": "[encoded data removed]",
      "text/plain": [
       "<Figure size 432x288 with 1 Axes>"
      ]
     },
     "metadata": {
      "needs_background": "light"
     },
     "output_type": "display_data"
    }
   ],
   "source": [
    "#Atores x TIpo de Filmes\n",
    "sns.barplot(data=lista_apoio,x=lista_apoio.nome,y = lista_apoio.listed_in)\n",
    "plt.title(\"Grafico de Samuel West\")\n",
    "plt.xlabel(\"NOMES DOS FILMES\")\n",
    "plt.ylabel(\"Quantidade dos filmes \")\n",
    "plt.show()\n"
   ]
  },
  {
   "cell_type": "code",
   "execution_count": 30,
   "id": "c0d0dc98",
   "metadata": {},
   "outputs": [
    {
     "data": {
      "image/png": "[encoded data removed]",
      "text/plain": [
       "<Figure size 432x288 with 1 Axes>"
      ]
     },
     "metadata": {
      "needs_background": "light"
     },
     "output_type": "display_data"
    }
   ],
   "source": [
    "#Atores x Tipos de filmes \n",
    "sns.barplot(data=lista_apoio_JD,x = lista_apoio_JD.nome,y=lista_apoio_JD.listed_in)\n",
    "plt.title(\"Grafico de Jeff Dunham\")\n",
    "plt.xlabel(\"NOMES DOS FILMES\")\n",
    "plt.ylabel(\"Quantidade dos filmes \")\n",
    "plt.show()"
   ]
  },
  {
   "cell_type": "markdown",
   "id": "3f19d16c",
   "metadata": {},
   "source": [
    "geralmente um ator gosta de atuar em um tipo de filme , geralmente gosta de fazer filme de ação a maioria dos filme é de ação e ai por diante "
   ]
  },
  {
   "cell_type": "markdown",
   "id": "79759813",
   "metadata": {},
   "source": [
    "## 6-E sobre os dados faltantes? O que podemos concluir ?"
   ]
  },
  {
   "cell_type": "markdown",
   "id": "b3fdd91a",
   "metadata": {},
   "source": [
    "Nos dados faltantes em alguns casos eu dropei , pois os dados faltante não iria alterar tanto o resultado final ."
   ]
  },
  {
   "cell_type": "code",
   "execution_count": null,
   "id": "8f2a7625-0ffe-4a7a-b1a1-cc37862f84a7",
   "metadata": {},
   "outputs": [],
   "source": []
  },
  {
   "cell_type": "code",
   "execution_count": null,
   "id": "6f6f5d3f-4e7f-4121-9eec-397581080630",
   "metadata": {},
   "outputs": [],
   "source": []
  }
 ],
 "metadata": {
  "kernelspec": {
   "display_name": "Python 3 (ipykernel)",
   "language": "python",
   "name": "python3"
  },
  "language_info": {
   "codemirror_mode": {
    "name": "ipython",
    "version": 3
   },
   "file_extension": ".py",
   "mimetype": "text/x-python",
   "name": "python",
   "nbconvert_exporter": "python",
   "pygments_lexer": "ipython3",
   "version": "3.9.7"
  }
 },
 "nbformat": 4,
 "nbformat_minor": 5
}
