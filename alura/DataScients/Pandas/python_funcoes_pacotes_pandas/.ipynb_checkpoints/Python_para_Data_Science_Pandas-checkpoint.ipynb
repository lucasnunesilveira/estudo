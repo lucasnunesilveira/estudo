{
 "cells": [
  {
   "cell_type": "markdown",
   "metadata": {
    "colab_type": "text",
    "id": "W4bTJkJED0-t"
   },
   "source": [
    "# <font color=green> PYTHON PARA DATA SCIENCE - PANDAS\n",
    "---"
   ]
  },
  {
   "cell_type": "markdown",
   "metadata": {
    "colab_type": "text",
    "id": "GOEcCc62D0-x"
   },
   "source": [
    "# <font color=green> 1. INTRODUÇÃO AO PYTHON\n",
    "---"
   ]
  },
  {
   "cell_type": "markdown",
   "metadata": {
    "colab_type": "text",
    "id": "oGvoOJ-XD0-y"
   },
   "source": [
    "# 1.1 Introdução"
   ]
  },
  {
   "cell_type": "markdown",
   "metadata": {
    "colab_type": "text",
    "id": "fam3BM0aD0-z"
   },
   "source": [
    "> Python é uma linguagem de programação de alto nível com suporte a múltiplos paradigmas de programação. É um projeto *open source* e desde seu surgimento, em 1991, vem se tornando uma das linguagens de programação interpretadas mais populares. \n",
    ">\n",
    "> Nos últimos anos Python desenvolveu uma comunidade ativa de processamento científico e análise de dados e vem se destacando como uma das linguagens mais relevantes quando o assundo é ciência de dados e machine learning, tanto no ambiente acadêmico como também no mercado."
   ]
  },
  {
   "cell_type": "markdown",
   "metadata": {
    "colab_type": "text",
    "id": "6kH5DY-vD0-1"
   },
   "source": [
    "# 1.2 Instalação e ambiente de desenvolvimento"
   ]
  },
  {
   "cell_type": "markdown",
   "metadata": {
    "colab_type": "text",
    "id": "BTpm79I2D0-2"
   },
   "source": [
    "### Instalação Local\n",
    "\n",
    "### https://www.python.org/downloads/\n",
    "### ou\n",
    "### https://www.anaconda.com/distribution/"
   ]
  },
  {
   "cell_type": "markdown",
   "metadata": {
    "colab_type": "text",
    "id": "AuPS_XwRD0-3"
   },
   "source": [
    "### Google Colaboratory\n",
    "\n",
    "### https://colab.research.google.com"
   ]
  },
  {
   "cell_type": "markdown",
   "metadata": {
    "colab_type": "text",
    "id": "4rUYsPrXD0-4"
   },
   "source": [
    "### Verificando versão"
   ]
  },
  {
   "cell_type": "code",
   "execution_count": 1,
   "metadata": {
    "colab": {},
    "colab_type": "code",
    "id": "PgTCVRB2D0-5"
   },
   "outputs": [
    {
     "name": "stdout",
     "output_type": "stream",
     "text": [
      "Python 3.7.3\r\n"
     ]
    }
   ],
   "source": [
    "!python --version\n"
   ]
  },
  {
   "cell_type": "markdown",
   "metadata": {
    "colab_type": "text",
    "id": "lTtI6so4D0-9"
   },
   "source": [
    "# 1.3 Trabalhando com dados"
   ]
  },
  {
   "cell_type": "code",
   "execution_count": 2,
   "metadata": {
    "colab": {},
    "colab_type": "code",
    "id": "E_n4FUUWD0-9"
   },
   "outputs": [],
   "source": [
    "import pandas as pd \n",
    "pd.set_option('display.max_rows', 10)\n",
    "#pd.set_option('display.max_columns', 1000)"
   ]
  },
  {
   "cell_type": "code",
   "execution_count": 3,
   "metadata": {},
   "outputs": [],
   "source": [
    "dataset = pd.read_csv('/home/lns/Downloads/Alura/DataScients/dataScience/Pandas/python-funcoes-pacotes-pandas/data/db.csv' , sep = ';')\n"
   ]
  },
  {
   "cell_type": "code",
   "execution_count": 4,
   "metadata": {
    "colab": {},
    "colab_type": "code",
    "id": "Kq-JdRHFD0-_"
   },
   "outputs": [
    {
     "data": {
      "text/html": [
       "<div>\n",
       "<style scoped>\n",
       "    .dataframe tbody tr th:only-of-type {\n",
       "        vertical-align: middle;\n",
       "    }\n",
       "\n",
       "    .dataframe tbody tr th {\n",
       "        vertical-align: top;\n",
       "    }\n",
       "\n",
       "    .dataframe thead th {\n",
       "        text-align: right;\n",
       "    }\n",
       "</style>\n",
       "<table border=\"1\" class=\"dataframe\">\n",
       "  <thead>\n",
       "    <tr style=\"text-align: right;\">\n",
       "      <th></th>\n",
       "      <th>Nome</th>\n",
       "      <th>Motor</th>\n",
       "      <th>Ano</th>\n",
       "      <th>Quilometragem</th>\n",
       "      <th>Zero_km</th>\n",
       "      <th>Acessórios</th>\n",
       "      <th>Valor</th>\n",
       "    </tr>\n",
       "  </thead>\n",
       "  <tbody>\n",
       "    <tr>\n",
       "      <th>0</th>\n",
       "      <td>Jetta Variant</td>\n",
       "      <td>Motor 4.0 Turbo</td>\n",
       "      <td>2003</td>\n",
       "      <td>44410.0</td>\n",
       "      <td>False</td>\n",
       "      <td>['Rodas de liga', 'Travas elétricas', 'Piloto ...</td>\n",
       "      <td>88078.64</td>\n",
       "    </tr>\n",
       "    <tr>\n",
       "      <th>1</th>\n",
       "      <td>Passat</td>\n",
       "      <td>Motor Diesel</td>\n",
       "      <td>1991</td>\n",
       "      <td>5712.0</td>\n",
       "      <td>False</td>\n",
       "      <td>['Central multimídia', 'Teto panorâmico', 'Fre...</td>\n",
       "      <td>106161.94</td>\n",
       "    </tr>\n",
       "    <tr>\n",
       "      <th>2</th>\n",
       "      <td>Crossfox</td>\n",
       "      <td>Motor Diesel V8</td>\n",
       "      <td>1990</td>\n",
       "      <td>37123.0</td>\n",
       "      <td>False</td>\n",
       "      <td>['Piloto automático', 'Controle de estabilidad...</td>\n",
       "      <td>72832.16</td>\n",
       "    </tr>\n",
       "    <tr>\n",
       "      <th>3</th>\n",
       "      <td>DS5</td>\n",
       "      <td>Motor 2.4 Turbo</td>\n",
       "      <td>2019</td>\n",
       "      <td>NaN</td>\n",
       "      <td>True</td>\n",
       "      <td>['Travas elétricas', '4 X 4', 'Vidros elétrico...</td>\n",
       "      <td>124549.07</td>\n",
       "    </tr>\n",
       "    <tr>\n",
       "      <th>4</th>\n",
       "      <td>Aston Martin DB4</td>\n",
       "      <td>Motor 2.4 Turbo</td>\n",
       "      <td>2006</td>\n",
       "      <td>25757.0</td>\n",
       "      <td>False</td>\n",
       "      <td>['Rodas de liga', '4 X 4', 'Central multimídia...</td>\n",
       "      <td>92612.10</td>\n",
       "    </tr>\n",
       "    <tr>\n",
       "      <th>...</th>\n",
       "      <td>...</td>\n",
       "      <td>...</td>\n",
       "      <td>...</td>\n",
       "      <td>...</td>\n",
       "      <td>...</td>\n",
       "      <td>...</td>\n",
       "      <td>...</td>\n",
       "    </tr>\n",
       "    <tr>\n",
       "      <th>253</th>\n",
       "      <td>Phantom 2013</td>\n",
       "      <td>Motor V8</td>\n",
       "      <td>2014</td>\n",
       "      <td>27505.0</td>\n",
       "      <td>False</td>\n",
       "      <td>['Controle de estabilidade', 'Piloto automátic...</td>\n",
       "      <td>51759.58</td>\n",
       "    </tr>\n",
       "    <tr>\n",
       "      <th>254</th>\n",
       "      <td>Cadillac Ciel concept</td>\n",
       "      <td>Motor V8</td>\n",
       "      <td>1991</td>\n",
       "      <td>29981.0</td>\n",
       "      <td>False</td>\n",
       "      <td>['Bancos de couro', 'Painel digital', 'Sensor ...</td>\n",
       "      <td>51667.06</td>\n",
       "    </tr>\n",
       "    <tr>\n",
       "      <th>255</th>\n",
       "      <td>Classe GLK</td>\n",
       "      <td>Motor 5.0 V8 Bi-Turbo</td>\n",
       "      <td>2002</td>\n",
       "      <td>52637.0</td>\n",
       "      <td>False</td>\n",
       "      <td>['Rodas de liga', 'Controle de tração', 'Câmbi...</td>\n",
       "      <td>68934.03</td>\n",
       "    </tr>\n",
       "    <tr>\n",
       "      <th>256</th>\n",
       "      <td>Aston Martin DB5</td>\n",
       "      <td>Motor Diesel</td>\n",
       "      <td>1996</td>\n",
       "      <td>7685.0</td>\n",
       "      <td>False</td>\n",
       "      <td>['Ar condicionado', '4 X 4', 'Câmbio automátic...</td>\n",
       "      <td>122110.90</td>\n",
       "    </tr>\n",
       "    <tr>\n",
       "      <th>257</th>\n",
       "      <td>Macan</td>\n",
       "      <td>Motor Diesel V6</td>\n",
       "      <td>1992</td>\n",
       "      <td>50188.0</td>\n",
       "      <td>False</td>\n",
       "      <td>['Central multimídia', 'Teto panorâmico', 'Vid...</td>\n",
       "      <td>90381.47</td>\n",
       "    </tr>\n",
       "  </tbody>\n",
       "</table>\n",
       "<p>258 rows × 7 columns</p>\n",
       "</div>"
      ],
      "text/plain": [
       "                      Nome                  Motor   Ano  Quilometragem  \\\n",
       "0            Jetta Variant        Motor 4.0 Turbo  2003        44410.0   \n",
       "1                   Passat           Motor Diesel  1991         5712.0   \n",
       "2                 Crossfox        Motor Diesel V8  1990        37123.0   \n",
       "3                      DS5        Motor 2.4 Turbo  2019            NaN   \n",
       "4         Aston Martin DB4        Motor 2.4 Turbo  2006        25757.0   \n",
       "..                     ...                    ...   ...            ...   \n",
       "253           Phantom 2013               Motor V8  2014        27505.0   \n",
       "254  Cadillac Ciel concept               Motor V8  1991        29981.0   \n",
       "255             Classe GLK  Motor 5.0 V8 Bi-Turbo  2002        52637.0   \n",
       "256       Aston Martin DB5           Motor Diesel  1996         7685.0   \n",
       "257                  Macan        Motor Diesel V6  1992        50188.0   \n",
       "\n",
       "     Zero_km                                         Acessórios      Valor  \n",
       "0      False  ['Rodas de liga', 'Travas elétricas', 'Piloto ...   88078.64  \n",
       "1      False  ['Central multimídia', 'Teto panorâmico', 'Fre...  106161.94  \n",
       "2      False  ['Piloto automático', 'Controle de estabilidad...   72832.16  \n",
       "3       True  ['Travas elétricas', '4 X 4', 'Vidros elétrico...  124549.07  \n",
       "4      False  ['Rodas de liga', '4 X 4', 'Central multimídia...   92612.10  \n",
       "..       ...                                                ...        ...  \n",
       "253    False  ['Controle de estabilidade', 'Piloto automátic...   51759.58  \n",
       "254    False  ['Bancos de couro', 'Painel digital', 'Sensor ...   51667.06  \n",
       "255    False  ['Rodas de liga', 'Controle de tração', 'Câmbi...   68934.03  \n",
       "256    False  ['Ar condicionado', '4 X 4', 'Câmbio automátic...  122110.90  \n",
       "257    False  ['Central multimídia', 'Teto panorâmico', 'Vid...   90381.47  \n",
       "\n",
       "[258 rows x 7 columns]"
      ]
     },
     "execution_count": 4,
     "metadata": {},
     "output_type": "execute_result"
    }
   ],
   "source": [
    "dataset"
   ]
  },
  {
   "cell_type": "code",
   "execution_count": 5,
   "metadata": {
    "colab": {},
    "colab_type": "code",
    "id": "mOV1rCA6D0_A",
    "scrolled": true
   },
   "outputs": [
    {
     "data": {
      "text/plain": [
       "Nome              object\n",
       "Motor             object\n",
       "Ano                int64\n",
       "Quilometragem    float64\n",
       "Zero_km             bool\n",
       "Acessórios        object\n",
       "Valor            float64\n",
       "dtype: object"
      ]
     },
     "execution_count": 5,
     "metadata": {},
     "output_type": "execute_result"
    }
   ],
   "source": [
    "dataset.dtypes"
   ]
  },
  {
   "cell_type": "code",
   "execution_count": 6,
   "metadata": {
    "colab": {},
    "colab_type": "code",
    "id": "r_qUf16LD0_D"
   },
   "outputs": [
    {
     "data": {
      "text/html": [
       "<div>\n",
       "<style scoped>\n",
       "    .dataframe tbody tr th:only-of-type {\n",
       "        vertical-align: middle;\n",
       "    }\n",
       "\n",
       "    .dataframe tbody tr th {\n",
       "        vertical-align: top;\n",
       "    }\n",
       "\n",
       "    .dataframe thead th {\n",
       "        text-align: right;\n",
       "    }\n",
       "</style>\n",
       "<table border=\"1\" class=\"dataframe\">\n",
       "  <thead>\n",
       "    <tr style=\"text-align: right;\">\n",
       "      <th></th>\n",
       "      <th>Quilometragem</th>\n",
       "      <th>Valor</th>\n",
       "    </tr>\n",
       "  </thead>\n",
       "  <tbody>\n",
       "    <tr>\n",
       "      <th>count</th>\n",
       "      <td>197.000000</td>\n",
       "      <td>258.000000</td>\n",
       "    </tr>\n",
       "    <tr>\n",
       "      <th>mean</th>\n",
       "      <td>58278.421320</td>\n",
       "      <td>98960.513101</td>\n",
       "    </tr>\n",
       "    <tr>\n",
       "      <th>std</th>\n",
       "      <td>35836.733259</td>\n",
       "      <td>29811.932305</td>\n",
       "    </tr>\n",
       "    <tr>\n",
       "      <th>min</th>\n",
       "      <td>107.000000</td>\n",
       "      <td>50742.100000</td>\n",
       "    </tr>\n",
       "    <tr>\n",
       "      <th>25%</th>\n",
       "      <td>27505.000000</td>\n",
       "      <td>70743.512500</td>\n",
       "    </tr>\n",
       "    <tr>\n",
       "      <th>50%</th>\n",
       "      <td>55083.000000</td>\n",
       "      <td>97724.380000</td>\n",
       "    </tr>\n",
       "    <tr>\n",
       "      <th>75%</th>\n",
       "      <td>90495.000000</td>\n",
       "      <td>124633.302500</td>\n",
       "    </tr>\n",
       "    <tr>\n",
       "      <th>max</th>\n",
       "      <td>119945.000000</td>\n",
       "      <td>149489.920000</td>\n",
       "    </tr>\n",
       "  </tbody>\n",
       "</table>\n",
       "</div>"
      ],
      "text/plain": [
       "       Quilometragem          Valor\n",
       "count     197.000000     258.000000\n",
       "mean    58278.421320   98960.513101\n",
       "std     35836.733259   29811.932305\n",
       "min       107.000000   50742.100000\n",
       "25%     27505.000000   70743.512500\n",
       "50%     55083.000000   97724.380000\n",
       "75%     90495.000000  124633.302500\n",
       "max    119945.000000  149489.920000"
      ]
     },
     "execution_count": 6,
     "metadata": {},
     "output_type": "execute_result"
    }
   ],
   "source": [
    "dataset[['Quilometragem' , 'Valor']].describe()"
   ]
  },
  {
   "cell_type": "code",
   "execution_count": 7,
   "metadata": {
    "colab": {},
    "colab_type": "code",
    "id": "0R-_7PH5D0_E"
   },
   "outputs": [
    {
     "name": "stdout",
     "output_type": "stream",
     "text": [
      "<class 'pandas.core.frame.DataFrame'>\n",
      "RangeIndex: 258 entries, 0 to 257\n",
      "Data columns (total 7 columns):\n",
      " #   Column         Non-Null Count  Dtype  \n",
      "---  ------         --------------  -----  \n",
      " 0   Nome           258 non-null    object \n",
      " 1   Motor          258 non-null    object \n",
      " 2   Ano            258 non-null    int64  \n",
      " 3   Quilometragem  197 non-null    float64\n",
      " 4   Zero_km        258 non-null    bool   \n",
      " 5   Acessórios     258 non-null    object \n",
      " 6   Valor          258 non-null    float64\n",
      "dtypes: bool(1), float64(2), int64(1), object(3)\n",
      "memory usage: 12.5+ KB\n"
     ]
    }
   ],
   "source": [
    "dataset.info()"
   ]
  },
  {
   "cell_type": "markdown",
   "metadata": {
    "colab_type": "text",
    "id": "htjoBLwiD0_F"
   },
   "source": [
    "# <font color=green> 2. TRABALHANDO COM TUPLAS\n",
    "---"
   ]
  },
  {
   "cell_type": "markdown",
   "metadata": {
    "colab_type": "text",
    "id": "MZH5_QnYD0_G"
   },
   "source": [
    "# 2.1 Criando tuplas\n",
    "\n",
    "Tuplas são sequências imutáveis que são utilizadas para armazenar coleções de itens, geralmente heterogêneos. Podem ser construídas de várias formas:\n",
    "```\n",
    "- Utilizando um par de parênteses: ( )\n",
    "- Utilizando uma vírgula à direita: x,\n",
    "- Utilizando um par de parênteses com itens separados por vírgulas: ( x, y, z )\n",
    "- Utilizando: tuple() ou tuple(iterador)\n",
    "```"
   ]
  },
  {
   "cell_type": "code",
   "execution_count": 8,
   "metadata": {
    "colab": {},
    "colab_type": "code",
    "id": "xzcs9fzeD0_G"
   },
   "outputs": [
    {
     "data": {
      "text/plain": [
       "()"
      ]
     },
     "execution_count": 8,
     "metadata": {},
     "output_type": "execute_result"
    }
   ],
   "source": [
    "()"
   ]
  },
  {
   "cell_type": "code",
   "execution_count": 9,
   "metadata": {
    "colab": {},
    "colab_type": "code",
    "id": "qJq7a2qTD0_I"
   },
   "outputs": [
    {
     "data": {
      "text/plain": [
       "(1, 2, 3)"
      ]
     },
     "execution_count": 9,
     "metadata": {},
     "output_type": "execute_result"
    }
   ],
   "source": [
    "1,2,3"
   ]
  },
  {
   "cell_type": "code",
   "execution_count": 10,
   "metadata": {
    "colab": {},
    "colab_type": "code",
    "id": "sg7LdvptD0_J"
   },
   "outputs": [
    {
     "data": {
      "text/plain": [
       "('passat', 15300)"
      ]
     },
     "execution_count": 10,
     "metadata": {},
     "output_type": "execute_result"
    }
   ],
   "source": [
    "nome = 'passat'\n",
    "valor = 15300\n",
    "(nome,valor)"
   ]
  },
  {
   "cell_type": "code",
   "execution_count": 11,
   "metadata": {
    "colab": {},
    "colab_type": "code",
    "id": "XSSMebXjD0_K"
   },
   "outputs": [
    {
     "data": {
      "text/plain": [
       "('Jetta Variant', 'Passat', 'Crossfox', 'DS5')"
      ]
     },
     "execution_count": 11,
     "metadata": {},
     "output_type": "execute_result"
    }
   ],
   "source": [
    "nomes_carros = tuple(['Jetta Variant', 'Passat', 'Crossfox', 'DS5'])\n",
    "nomes_carros"
   ]
  },
  {
   "cell_type": "code",
   "execution_count": 12,
   "metadata": {
    "colab": {},
    "colab_type": "code",
    "id": "dpkdzrzRD0_M"
   },
   "outputs": [
    {
     "data": {
      "text/plain": [
       "tuple"
      ]
     },
     "execution_count": 12,
     "metadata": {},
     "output_type": "execute_result"
    }
   ],
   "source": [
    "type(nomes_carros)"
   ]
  },
  {
   "cell_type": "markdown",
   "metadata": {
    "colab_type": "text",
    "id": "iKUY2DOUD0_N"
   },
   "source": [
    "# 2.2 Seleções em tuplas"
   ]
  },
  {
   "cell_type": "code",
   "execution_count": 13,
   "metadata": {
    "colab": {},
    "colab_type": "code",
    "id": "hBEeAM7_D0_N"
   },
   "outputs": [
    {
     "data": {
      "text/plain": [
       "('Jetta Variant', 'Passat', 'Crossfox', 'DS5')"
      ]
     },
     "execution_count": 13,
     "metadata": {},
     "output_type": "execute_result"
    }
   ],
   "source": [
    "nomes_carros = tuple(['Jetta Variant', 'Passat', 'Crossfox', 'DS5'])\n",
    "nomes_carros"
   ]
  },
  {
   "cell_type": "code",
   "execution_count": 14,
   "metadata": {
    "colab": {},
    "colab_type": "code",
    "id": "-mx_1E_tD0_P"
   },
   "outputs": [
    {
     "data": {
      "text/plain": [
       "'Jetta Variant'"
      ]
     },
     "execution_count": 14,
     "metadata": {},
     "output_type": "execute_result"
    }
   ],
   "source": [
    "nomes_carros[0]"
   ]
  },
  {
   "cell_type": "code",
   "execution_count": 15,
   "metadata": {
    "colab": {},
    "colab_type": "code",
    "id": "LMhyqnFID0_Q"
   },
   "outputs": [
    {
     "data": {
      "text/plain": [
       "'Passat'"
      ]
     },
     "execution_count": 15,
     "metadata": {},
     "output_type": "execute_result"
    }
   ],
   "source": [
    "nomes_carros[1]"
   ]
  },
  {
   "cell_type": "code",
   "execution_count": 16,
   "metadata": {
    "colab": {},
    "colab_type": "code",
    "id": "6btHff4BD0_T"
   },
   "outputs": [
    {
     "data": {
      "text/plain": [
       "'DS5'"
      ]
     },
     "execution_count": 16,
     "metadata": {},
     "output_type": "execute_result"
    }
   ],
   "source": [
    "nomes_carros[-1]"
   ]
  },
  {
   "cell_type": "code",
   "execution_count": 17,
   "metadata": {
    "colab": {},
    "colab_type": "code",
    "id": "K_Dc12xBD0_U"
   },
   "outputs": [
    {
     "data": {
      "text/plain": [
       "('Passat', 'Crossfox')"
      ]
     },
     "execution_count": 17,
     "metadata": {},
     "output_type": "execute_result"
    }
   ],
   "source": [
    "nomes_carros[1:3]"
   ]
  },
  {
   "cell_type": "code",
   "execution_count": 18,
   "metadata": {
    "colab": {},
    "colab_type": "code",
    "id": "zvrWYkkeD0_W"
   },
   "outputs": [
    {
     "data": {
      "text/plain": [
       "('Jetta Variant', 'Passat', 'Crossfox', 'DS5', ('Fusca', 'Gol', 'C4'))"
      ]
     },
     "execution_count": 18,
     "metadata": {},
     "output_type": "execute_result"
    }
   ],
   "source": [
    "nomes_carros = ('Jetta Variant', 'Passat', 'Crossfox', 'DS5', ('Fusca', 'Gol', 'C4'))\n",
    "nomes_carros"
   ]
  },
  {
   "cell_type": "code",
   "execution_count": 19,
   "metadata": {
    "colab": {},
    "colab_type": "code",
    "id": "Dw7tbM2ED0_Z"
   },
   "outputs": [
    {
     "data": {
      "text/plain": [
       "('Fusca', 'Gol', 'C4')"
      ]
     },
     "execution_count": 19,
     "metadata": {},
     "output_type": "execute_result"
    }
   ],
   "source": [
    "nomes_carros[-1]"
   ]
  },
  {
   "cell_type": "code",
   "execution_count": 20,
   "metadata": {
    "colab": {},
    "colab_type": "code",
    "id": "SAMD3BtXD0_b"
   },
   "outputs": [
    {
     "data": {
      "text/plain": [
       "'Gol'"
      ]
     },
     "execution_count": 20,
     "metadata": {},
     "output_type": "execute_result"
    }
   ],
   "source": [
    "nomes_carros[-1][1]"
   ]
  },
  {
   "cell_type": "markdown",
   "metadata": {
    "colab_type": "text",
    "id": "KLMxh4-0D0_c"
   },
   "source": [
    "# 2.3 Iterando em tuplas"
   ]
  },
  {
   "cell_type": "code",
   "execution_count": 21,
   "metadata": {
    "colab": {},
    "colab_type": "code",
    "id": "K53elKsYD0_c"
   },
   "outputs": [
    {
     "data": {
      "text/plain": [
       "('Jetta Variant', 'Passat', 'Crossfox', 'DS5')"
      ]
     },
     "execution_count": 21,
     "metadata": {},
     "output_type": "execute_result"
    }
   ],
   "source": [
    "nomes_carros = ('Jetta Variant', 'Passat', 'Crossfox', 'DS5')\n",
    "nomes_carros"
   ]
  },
  {
   "cell_type": "code",
   "execution_count": 22,
   "metadata": {
    "colab": {},
    "colab_type": "code",
    "id": "igZhZ5zdD0_d"
   },
   "outputs": [
    {
     "name": "stdout",
     "output_type": "stream",
     "text": [
      "Jetta Variant\n",
      "Passat\n",
      "Crossfox\n",
      "DS5\n"
     ]
    }
   ],
   "source": [
    "for item in nomes_carros:\n",
    "    print(item)"
   ]
  },
  {
   "cell_type": "markdown",
   "metadata": {
    "colab_type": "text",
    "id": "AOBjxBk8D0_f"
   },
   "source": [
    "### Desempacotamento de tuplas"
   ]
  },
  {
   "cell_type": "code",
   "execution_count": 23,
   "metadata": {
    "colab": {},
    "colab_type": "code",
    "id": "UoEFnumhD0_f"
   },
   "outputs": [
    {
     "data": {
      "text/plain": [
       "('Jetta Variant', 'Passat', 'Crossfox', 'DS5')"
      ]
     },
     "execution_count": 23,
     "metadata": {},
     "output_type": "execute_result"
    }
   ],
   "source": [
    "nomes_carros = ('Jetta Variant', 'Passat', 'Crossfox', 'DS5')\n",
    "nomes_carros"
   ]
  },
  {
   "cell_type": "code",
   "execution_count": 24,
   "metadata": {
    "colab": {},
    "colab_type": "code",
    "id": "AaCLcNYTD0_g"
   },
   "outputs": [],
   "source": [
    "carro_1,carro_2,carro_3,carro_4 = nomes_carros"
   ]
  },
  {
   "cell_type": "code",
   "execution_count": 25,
   "metadata": {
    "colab": {},
    "colab_type": "code",
    "id": "TA71S9egD0_h"
   },
   "outputs": [
    {
     "data": {
      "text/plain": [
       "'Jetta Variant'"
      ]
     },
     "execution_count": 25,
     "metadata": {},
     "output_type": "execute_result"
    }
   ],
   "source": [
    "carro_1"
   ]
  },
  {
   "cell_type": "code",
   "execution_count": 26,
   "metadata": {
    "colab": {},
    "colab_type": "code",
    "id": "CHoJ034MD0_i"
   },
   "outputs": [
    {
     "data": {
      "text/plain": [
       "'Passat'"
      ]
     },
     "execution_count": 26,
     "metadata": {},
     "output_type": "execute_result"
    }
   ],
   "source": [
    "carro_2"
   ]
  },
  {
   "cell_type": "code",
   "execution_count": 27,
   "metadata": {
    "colab": {},
    "colab_type": "code",
    "id": "oxJrOuCSD0_j"
   },
   "outputs": [
    {
     "data": {
      "text/plain": [
       "'Crossfox'"
      ]
     },
     "execution_count": 27,
     "metadata": {},
     "output_type": "execute_result"
    }
   ],
   "source": [
    "carro_3"
   ]
  },
  {
   "cell_type": "code",
   "execution_count": 28,
   "metadata": {
    "colab": {},
    "colab_type": "code",
    "id": "BbR9sB4BD0_k"
   },
   "outputs": [
    {
     "data": {
      "text/plain": [
       "'DS5'"
      ]
     },
     "execution_count": 28,
     "metadata": {},
     "output_type": "execute_result"
    }
   ],
   "source": [
    "carro_4"
   ]
  },
  {
   "cell_type": "code",
   "execution_count": 29,
   "metadata": {
    "colab": {},
    "colab_type": "code",
    "id": "aZvokrjPD0_m"
   },
   "outputs": [],
   "source": [
    "_,A,_,B = nomes_carros"
   ]
  },
  {
   "cell_type": "code",
   "execution_count": 30,
   "metadata": {
    "colab": {},
    "colab_type": "code",
    "id": "wZXDbVg0D0_o"
   },
   "outputs": [
    {
     "data": {
      "text/plain": [
       "'Passat'"
      ]
     },
     "execution_count": 30,
     "metadata": {},
     "output_type": "execute_result"
    }
   ],
   "source": [
    "A"
   ]
  },
  {
   "cell_type": "code",
   "execution_count": 31,
   "metadata": {
    "colab": {},
    "colab_type": "code",
    "id": "aWgDMBXiD0_p"
   },
   "outputs": [
    {
     "data": {
      "text/plain": [
       "'DS5'"
      ]
     },
     "execution_count": 31,
     "metadata": {},
     "output_type": "execute_result"
    }
   ],
   "source": [
    "B"
   ]
  },
  {
   "cell_type": "code",
   "execution_count": 32,
   "metadata": {
    "colab": {},
    "colab_type": "code",
    "id": "OdpgNh-ND0_q"
   },
   "outputs": [],
   "source": [
    "_,C,*_ = nomes_carros"
   ]
  },
  {
   "cell_type": "code",
   "execution_count": 33,
   "metadata": {
    "colab": {},
    "colab_type": "code",
    "id": "upVYFnMdD0_r"
   },
   "outputs": [
    {
     "data": {
      "text/plain": [
       "'Passat'"
      ]
     },
     "execution_count": 33,
     "metadata": {},
     "output_type": "execute_result"
    }
   ],
   "source": [
    "C"
   ]
  },
  {
   "cell_type": "markdown",
   "metadata": {
    "colab_type": "text",
    "id": "u85Aou8WD0_s"
   },
   "source": [
    "## *zip()*\n",
    "\n",
    "https://docs.python.org/3.6/library/functions.html#zip"
   ]
  },
  {
   "cell_type": "code",
   "execution_count": 34,
   "metadata": {
    "colab": {},
    "colab_type": "code",
    "id": "PaC2oXGED0_t"
   },
   "outputs": [
    {
     "data": {
      "text/plain": [
       "['Jetta Variant', 'Passat', 'Crossfox', 'DS5']"
      ]
     },
     "execution_count": 34,
     "metadata": {},
     "output_type": "execute_result"
    }
   ],
   "source": [
    "carros = ['Jetta Variant', 'Passat', 'Crossfox', 'DS5']\n",
    "carros"
   ]
  },
  {
   "cell_type": "code",
   "execution_count": 35,
   "metadata": {
    "colab": {},
    "colab_type": "code",
    "id": "_02O1VnHD0_u"
   },
   "outputs": [
    {
     "data": {
      "text/plain": [
       "[88078.64, 106161.94, 72832.16, 124549.07]"
      ]
     },
     "execution_count": 35,
     "metadata": {},
     "output_type": "execute_result"
    }
   ],
   "source": [
    "valores = [88078.64, 106161.94, 72832.16, 124549.07]\n",
    "valores"
   ]
  },
  {
   "cell_type": "code",
   "execution_count": 36,
   "metadata": {
    "colab": {},
    "colab_type": "code",
    "id": "roQK5nYRD0_v"
   },
   "outputs": [
    {
     "data": {
      "text/plain": [
       "[('Jetta Variant', 88078.64),\n",
       " ('Passat', 106161.94),\n",
       " ('Crossfox', 72832.16),\n",
       " ('DS5', 124549.07)]"
      ]
     },
     "execution_count": 36,
     "metadata": {},
     "output_type": "execute_result"
    }
   ],
   "source": [
    "list(zip(carros,valores))"
   ]
  },
  {
   "cell_type": "code",
   "execution_count": 37,
   "metadata": {
    "colab": {},
    "colab_type": "code",
    "id": "_WRxIRHrD0_w"
   },
   "outputs": [
    {
     "name": "stdout",
     "output_type": "stream",
     "text": [
      "('Jetta Variant', 88078.64)\n",
      "('Passat', 106161.94)\n",
      "('Crossfox', 72832.16)\n",
      "('DS5', 124549.07)\n"
     ]
    }
   ],
   "source": [
    "for item in zip(carros,valores):\n",
    "    print(item)"
   ]
  },
  {
   "cell_type": "code",
   "execution_count": 38,
   "metadata": {
    "colab": {},
    "colab_type": "code",
    "id": "2zIuhIILD0_x"
   },
   "outputs": [
    {
     "name": "stdout",
     "output_type": "stream",
     "text": [
      "Jetta Variant 88078.64\n",
      "Passat 106161.94\n",
      "Crossfox 72832.16\n",
      "DS5 124549.07\n"
     ]
    }
   ],
   "source": [
    "for carro , valor in zip(carros,valores):\n",
    "    print(carro , valor )"
   ]
  },
  {
   "cell_type": "code",
   "execution_count": 39,
   "metadata": {
    "colab": {},
    "colab_type": "code",
    "id": "ZJaL62IpD0_y"
   },
   "outputs": [
    {
     "name": "stdout",
     "output_type": "stream",
     "text": [
      "Passat\n",
      "DS5\n"
     ]
    }
   ],
   "source": [
    "for carro , valor in zip(carros,valores):\n",
    "    if valor > 100000:\n",
    "        print(carro)"
   ]
  },
  {
   "cell_type": "markdown",
   "metadata": {
    "colab_type": "text",
    "id": "xo76nR8rD0_0"
   },
   "source": [
    "# <font color=green> 3. TRABALHANDO COM DICIONÁRIOS\n",
    "---"
   ]
  },
  {
   "cell_type": "markdown",
   "metadata": {
    "colab_type": "text",
    "id": "wfWzOuztD0_0"
   },
   "source": [
    "# 3.1 Criando dicionários\n",
    "\n",
    "Listas são coleções sequenciais, isto é, os itens destas sequências estão ordenados e utilizam índices (números inteiros) para acessar os valores.\n",
    "\n",
    "Os dicionários são coleções um pouco diferentes. São estruturas de dados que representam um tipo de mapeamento. Mapeamentos são coleções de associações entre pares de valores onde o primeiro elemento do par é conhecido como chave (*key*) e o segundo como valor (*value*).\n",
    "\n",
    "```\n",
    "dicionario = {key_1: value_1, key_2: value_2, ..., key_n: value_n}\n",
    "```\n",
    "\n",
    "https://docs.python.org/3.6/library/stdtypes.html#typesmapping"
   ]
  },
  {
   "cell_type": "code",
   "execution_count": null,
   "metadata": {
    "colab": {},
    "colab_type": "code",
    "id": "SuPcV9v6D0_0"
   },
   "outputs": [],
   "source": []
  },
  {
   "cell_type": "code",
   "execution_count": 40,
   "metadata": {
    "colab": {},
    "colab_type": "code",
    "id": "YIFVkWT6D0_1"
   },
   "outputs": [
    {
     "data": {
      "text/plain": [
       "['Jetta Variant', 'Passat', 'Crossfox']"
      ]
     },
     "execution_count": 40,
     "metadata": {},
     "output_type": "execute_result"
    }
   ],
   "source": [
    "carros = ['Jetta Variant', 'Passat', 'Crossfox']\n",
    "carros"
   ]
  },
  {
   "cell_type": "code",
   "execution_count": 41,
   "metadata": {
    "colab": {},
    "colab_type": "code",
    "id": "2LHiBn3-D0_2"
   },
   "outputs": [
    {
     "data": {
      "text/plain": [
       "[88078.64, 106161.94, 72832.16]"
      ]
     },
     "execution_count": 41,
     "metadata": {},
     "output_type": "execute_result"
    }
   ],
   "source": [
    "valores = [88078.64, 106161.94, 72832.16]\n",
    "valores"
   ]
  },
  {
   "cell_type": "code",
   "execution_count": 42,
   "metadata": {
    "colab": {},
    "colab_type": "code",
    "id": "YxLAx_sqD0_4"
   },
   "outputs": [
    {
     "data": {
      "text/plain": [
       "1"
      ]
     },
     "execution_count": 42,
     "metadata": {},
     "output_type": "execute_result"
    }
   ],
   "source": [
    "carros.index('Passat')"
   ]
  },
  {
   "cell_type": "code",
   "execution_count": 43,
   "metadata": {
    "colab": {},
    "colab_type": "code",
    "id": "WITNWExID0_7"
   },
   "outputs": [
    {
     "data": {
      "text/plain": [
       "106161.94"
      ]
     },
     "execution_count": 43,
     "metadata": {},
     "output_type": "execute_result"
    }
   ],
   "source": [
    "valores[carros.index('Passat')]"
   ]
  },
  {
   "cell_type": "code",
   "execution_count": 44,
   "metadata": {
    "colab": {},
    "colab_type": "code",
    "id": "bHNqoDbTD0_8"
   },
   "outputs": [
    {
     "data": {
      "text/plain": [
       "{'Jetta Variant': 88078.64, 'Passat': 106161.94, 'Crossfox': 72832.16}"
      ]
     },
     "execution_count": 44,
     "metadata": {},
     "output_type": "execute_result"
    }
   ],
   "source": [
    "dados = {'Jetta Variant':88078.64, 'Passat':106161.94, 'Crossfox':72832.16}\n",
    "dados"
   ]
  },
  {
   "cell_type": "code",
   "execution_count": 45,
   "metadata": {
    "colab": {},
    "colab_type": "code",
    "id": "4FyQgmcAD0_9"
   },
   "outputs": [
    {
     "data": {
      "text/plain": [
       "dict"
      ]
     },
     "execution_count": 45,
     "metadata": {},
     "output_type": "execute_result"
    }
   ],
   "source": [
    "type(dados)"
   ]
  },
  {
   "cell_type": "markdown",
   "metadata": {
    "colab_type": "text",
    "id": "PQg-MLkGD0_-"
   },
   "source": [
    "### Criando dicionários com *zip()*"
   ]
  },
  {
   "cell_type": "code",
   "execution_count": 46,
   "metadata": {
    "colab": {},
    "colab_type": "code",
    "id": "iB4Q_gbND0__"
   },
   "outputs": [
    {
     "data": {
      "text/plain": [
       "[('Jetta Variant', 88078.64), ('Passat', 106161.94), ('Crossfox', 72832.16)]"
      ]
     },
     "execution_count": 46,
     "metadata": {},
     "output_type": "execute_result"
    }
   ],
   "source": [
    "list(zip(carros,valores))"
   ]
  },
  {
   "cell_type": "code",
   "execution_count": 47,
   "metadata": {
    "colab": {},
    "colab_type": "code",
    "id": "mIgZqdKKD1AA"
   },
   "outputs": [
    {
     "data": {
      "text/plain": [
       "{'Jetta Variant': 88078.64, 'Passat': 106161.94, 'Crossfox': 72832.16}"
      ]
     },
     "execution_count": 47,
     "metadata": {},
     "output_type": "execute_result"
    }
   ],
   "source": [
    "dados = dict(zip(carros,valores))\n",
    "dados"
   ]
  },
  {
   "cell_type": "markdown",
   "metadata": {
    "colab_type": "text",
    "id": "KYeRqavFD1AD"
   },
   "source": [
    "# 3.2 Operações com dicionários"
   ]
  },
  {
   "cell_type": "markdown",
   "metadata": {
    "colab_type": "text",
    "id": "KzmWbEltD1AD"
   },
   "source": [
    "## *dict[ key ]*\n",
    "\n",
    "Retorna o valor correspondente à chave (*key*) no dicionário."
   ]
  },
  {
   "cell_type": "code",
   "execution_count": 48,
   "metadata": {
    "colab": {},
    "colab_type": "code",
    "id": "hFFDz6wKD1AD"
   },
   "outputs": [
    {
     "data": {
      "text/plain": [
       "106161.94"
      ]
     },
     "execution_count": 48,
     "metadata": {},
     "output_type": "execute_result"
    }
   ],
   "source": [
    "dados['Passat'] # passa a chave ele retorna o valor"
   ]
  },
  {
   "cell_type": "markdown",
   "metadata": {
    "colab_type": "text",
    "id": "SWlE6VTBD1AE"
   },
   "source": [
    "## *key in dict*\n",
    "\n",
    "Retorna **True** se a chave (*key*) for encontrada no dicionário."
   ]
  },
  {
   "cell_type": "code",
   "execution_count": 49,
   "metadata": {
    "colab": {},
    "colab_type": "code",
    "id": "Iy88SxBtD1AE"
   },
   "outputs": [
    {
     "data": {
      "text/plain": [
       "True"
      ]
     },
     "execution_count": 49,
     "metadata": {},
     "output_type": "execute_result"
    }
   ],
   "source": [
    "'Passat' in dados"
   ]
  },
  {
   "cell_type": "code",
   "execution_count": 50,
   "metadata": {
    "colab": {},
    "colab_type": "code",
    "id": "Oma56NkAD1AF"
   },
   "outputs": [
    {
     "data": {
      "text/plain": [
       "False"
      ]
     },
     "execution_count": 50,
     "metadata": {},
     "output_type": "execute_result"
    }
   ],
   "source": [
    "'Fusca' in dados"
   ]
  },
  {
   "cell_type": "code",
   "execution_count": 51,
   "metadata": {
    "colab": {},
    "colab_type": "code",
    "id": "yS2U-_8gD1AG"
   },
   "outputs": [
    {
     "data": {
      "text/plain": [
       "True"
      ]
     },
     "execution_count": 51,
     "metadata": {},
     "output_type": "execute_result"
    }
   ],
   "source": [
    "'Fusca' not in dados"
   ]
  },
  {
   "cell_type": "markdown",
   "metadata": {
    "colab_type": "text",
    "id": "oWbWyDd0D1AI"
   },
   "source": [
    "## *len(dict)*\n",
    "\n",
    "Retorna o número de itens do dicionário."
   ]
  },
  {
   "cell_type": "code",
   "execution_count": 52,
   "metadata": {
    "colab": {},
    "colab_type": "code",
    "id": "k08YkCc1D1AJ"
   },
   "outputs": [
    {
     "data": {
      "text/plain": [
       "3"
      ]
     },
     "execution_count": 52,
     "metadata": {},
     "output_type": "execute_result"
    }
   ],
   "source": [
    "len(dados)"
   ]
  },
  {
   "cell_type": "markdown",
   "metadata": {
    "colab_type": "text",
    "id": "yYNqIHJBD1AK"
   },
   "source": [
    "## *dict[ key ] = value*\n",
    "\n",
    "Inclui um item ao dicionário."
   ]
  },
  {
   "cell_type": "code",
   "execution_count": 53,
   "metadata": {
    "colab": {},
    "colab_type": "code",
    "id": "5jj3i52bD1AK"
   },
   "outputs": [],
   "source": [
    "dados['DS5'] = 12444.3"
   ]
  },
  {
   "cell_type": "code",
   "execution_count": 54,
   "metadata": {
    "colab": {},
    "colab_type": "code",
    "id": "y6rso5hLD1AL"
   },
   "outputs": [
    {
     "data": {
      "text/plain": [
       "{'Jetta Variant': 88078.64,\n",
       " 'Passat': 106161.94,\n",
       " 'Crossfox': 72832.16,\n",
       " 'DS5': 12444.3}"
      ]
     },
     "execution_count": 54,
     "metadata": {},
     "output_type": "execute_result"
    }
   ],
   "source": [
    "dados"
   ]
  },
  {
   "cell_type": "markdown",
   "metadata": {
    "colab_type": "text",
    "id": "_z0JySuqD1AL"
   },
   "source": [
    "## *del dict[ key ]*\n",
    "\n",
    "Remove o item de chave (*key*) do dicionário."
   ]
  },
  {
   "cell_type": "code",
   "execution_count": 55,
   "metadata": {
    "colab": {},
    "colab_type": "code",
    "id": "PPfh6sfID1AM"
   },
   "outputs": [
    {
     "data": {
      "text/plain": [
       "{'Jetta Variant': 88078.64,\n",
       " 'Passat': 106161.94,\n",
       " 'Crossfox': 72832.16,\n",
       " 'DS5': 12444.3}"
      ]
     },
     "execution_count": 55,
     "metadata": {},
     "output_type": "execute_result"
    }
   ],
   "source": [
    "dados"
   ]
  },
  {
   "cell_type": "code",
   "execution_count": 56,
   "metadata": {
    "colab": {},
    "colab_type": "code",
    "id": "BtjGpXtGD1AN"
   },
   "outputs": [
    {
     "data": {
      "text/plain": [
       "{'Jetta Variant': 88078.64, 'Crossfox': 72832.16, 'DS5': 12444.3}"
      ]
     },
     "execution_count": 56,
     "metadata": {},
     "output_type": "execute_result"
    }
   ],
   "source": [
    "del dados['Passat']\n",
    "dados"
   ]
  },
  {
   "cell_type": "markdown",
   "metadata": {
    "colab_type": "text",
    "id": "FodJVx5sD1AP"
   },
   "source": [
    "# 3.3 Métodos de dicionários"
   ]
  },
  {
   "cell_type": "markdown",
   "metadata": {
    "colab_type": "text",
    "id": "7pqdPOkYD1AP"
   },
   "source": [
    "## *dict.update()*\n",
    "\n",
    "Atualiza o dicionário."
   ]
  },
  {
   "cell_type": "code",
   "execution_count": 60,
   "metadata": {
    "colab": {},
    "colab_type": "code",
    "id": "DUySYxKQD1AQ"
   },
   "outputs": [
    {
     "data": {
      "text/plain": [
       "{'Nome': ['Jetta Variant', 'Passat', 'Crossfox'],\n",
       " 'Motor': ['Motor 4.0 Turbo', 'Motor Diesel', 'Motor Diesel V8'],\n",
       " 'Ano': [2003, 1991, 1990],\n",
       " 'Quilometragem': [44410.0, 5712.0, 37123.0],\n",
       " 'Zero_km': [False, False, False],\n",
       " 'Valor': [88078.64, 106161.94, 72832.16]}"
      ]
     },
     "execution_count": 60,
     "metadata": {},
     "output_type": "execute_result"
    }
   ],
   "source": [
    "dados"
   ]
  },
  {
   "cell_type": "code",
   "execution_count": 62,
   "metadata": {
    "colab": {},
    "colab_type": "code",
    "id": "DLsqp71cD1AR"
   },
   "outputs": [],
   "source": [
    "dados.update({'Passat':106161.95})"
   ]
  },
  {
   "cell_type": "code",
   "execution_count": 63,
   "metadata": {},
   "outputs": [
    {
     "data": {
      "text/plain": [
       "{'Nome': ['Jetta Variant', 'Passat', 'Crossfox'],\n",
       " 'Motor': ['Motor 4.0 Turbo', 'Motor Diesel', 'Motor Diesel V8'],\n",
       " 'Ano': [2003, 1991, 1990],\n",
       " 'Quilometragem': [44410.0, 5712.0, 37123.0],\n",
       " 'Zero_km': [False, False, False],\n",
       " 'Valor': [88078.64, 106161.94, 72832.16],\n",
       " 'Passat': 106161.98,\n",
       " 'Fusca': 150000}"
      ]
     },
     "execution_count": 63,
     "metadata": {},
     "output_type": "execute_result"
    }
   ],
   "source": [
    "dados.update({'Passat':106161.98,'Fusca': 150000})\n",
    "dados"
   ]
  },
  {
   "cell_type": "markdown",
   "metadata": {
    "colab_type": "text",
    "id": "JLs5c0DeD1AR"
   },
   "source": [
    "## *dict.copy()*\n",
    "\n",
    "Cria uma cópia do dicionário."
   ]
  },
  {
   "cell_type": "code",
   "execution_count": 64,
   "metadata": {
    "colab": {},
    "colab_type": "code",
    "id": "X9F7OB3eD1AS"
   },
   "outputs": [],
   "source": [
    "dadosCopy = dados.copy()"
   ]
  },
  {
   "cell_type": "code",
   "execution_count": 65,
   "metadata": {
    "colab": {},
    "colab_type": "code",
    "id": "v0rL0bveD1AS"
   },
   "outputs": [
    {
     "data": {
      "text/plain": [
       "{'Nome': ['Jetta Variant', 'Passat', 'Crossfox'],\n",
       " 'Motor': ['Motor 4.0 Turbo', 'Motor Diesel', 'Motor Diesel V8'],\n",
       " 'Ano': [2003, 1991, 1990],\n",
       " 'Quilometragem': [44410.0, 5712.0, 37123.0],\n",
       " 'Zero_km': [False, False, False],\n",
       " 'Valor': [88078.64, 106161.94, 72832.16],\n",
       " 'Passat': 106161.98,\n",
       " 'Fusca': 150000}"
      ]
     },
     "execution_count": 65,
     "metadata": {},
     "output_type": "execute_result"
    }
   ],
   "source": [
    "dadosCopy"
   ]
  },
  {
   "cell_type": "code",
   "execution_count": 66,
   "metadata": {
    "colab": {},
    "colab_type": "code",
    "id": "M-abRGGrD1AT"
   },
   "outputs": [],
   "source": [
    "del dadosCopy['Fusca']\n"
   ]
  },
  {
   "cell_type": "code",
   "execution_count": 67,
   "metadata": {
    "colab": {},
    "colab_type": "code",
    "id": "ETBD0TkND1AU"
   },
   "outputs": [
    {
     "data": {
      "text/plain": [
       "{'Nome': ['Jetta Variant', 'Passat', 'Crossfox'],\n",
       " 'Motor': ['Motor 4.0 Turbo', 'Motor Diesel', 'Motor Diesel V8'],\n",
       " 'Ano': [2003, 1991, 1990],\n",
       " 'Quilometragem': [44410.0, 5712.0, 37123.0],\n",
       " 'Zero_km': [False, False, False],\n",
       " 'Valor': [88078.64, 106161.94, 72832.16],\n",
       " 'Passat': 106161.98}"
      ]
     },
     "execution_count": 67,
     "metadata": {},
     "output_type": "execute_result"
    }
   ],
   "source": [
    "dadosCopy"
   ]
  },
  {
   "cell_type": "markdown",
   "metadata": {
    "colab_type": "text",
    "id": "mNODkmHCD1AV"
   },
   "source": [
    "## *dict.pop(key[, default ])*\n",
    "\n",
    "Se a chave for encontrada no dicionário, o item é removido e seu valor é retornado. Caso contrário, o valor especificado como *default* é retornado. Se o valor *default* não for fornecido e a chave não for encontrada no dicionário um erro será gerado."
   ]
  },
  {
   "cell_type": "code",
   "execution_count": 69,
   "metadata": {
    "colab": {},
    "colab_type": "code",
    "id": "_4QEPwScD1AW"
   },
   "outputs": [
    {
     "data": {
      "text/plain": [
       "{'Nome': ['Jetta Variant', 'Passat', 'Crossfox'],\n",
       " 'Motor': ['Motor 4.0 Turbo', 'Motor Diesel', 'Motor Diesel V8'],\n",
       " 'Ano': [2003, 1991, 1990],\n",
       " 'Quilometragem': [44410.0, 5712.0, 37123.0],\n",
       " 'Zero_km': [False, False, False],\n",
       " 'Valor': [88078.64, 106161.94, 72832.16],\n",
       " 'Passat': 106161.98}"
      ]
     },
     "execution_count": 69,
     "metadata": {},
     "output_type": "execute_result"
    }
   ],
   "source": [
    "dadosCopy"
   ]
  },
  {
   "cell_type": "code",
   "execution_count": 70,
   "metadata": {
    "colab": {},
    "colab_type": "code",
    "id": "Hjh0MuymD1AX"
   },
   "outputs": [
    {
     "data": {
      "text/plain": [
       "106161.98"
      ]
     },
     "execution_count": 70,
     "metadata": {},
     "output_type": "execute_result"
    }
   ],
   "source": [
    "dadosCopy.pop('Passat')"
   ]
  },
  {
   "cell_type": "code",
   "execution_count": 71,
   "metadata": {
    "colab": {},
    "colab_type": "code",
    "id": "f51rKjkuD1AX"
   },
   "outputs": [
    {
     "data": {
      "text/plain": [
       "{'Nome': ['Jetta Variant', 'Passat', 'Crossfox'],\n",
       " 'Motor': ['Motor 4.0 Turbo', 'Motor Diesel', 'Motor Diesel V8'],\n",
       " 'Ano': [2003, 1991, 1990],\n",
       " 'Quilometragem': [44410.0, 5712.0, 37123.0],\n",
       " 'Zero_km': [False, False, False],\n",
       " 'Valor': [88078.64, 106161.94, 72832.16]}"
      ]
     },
     "execution_count": 71,
     "metadata": {},
     "output_type": "execute_result"
    }
   ],
   "source": [
    "dadosCopy"
   ]
  },
  {
   "cell_type": "code",
   "execution_count": 72,
   "metadata": {
    "colab": {},
    "colab_type": "code",
    "id": "Ah4sZ7axD1AZ"
   },
   "outputs": [
    {
     "data": {
      "text/plain": [
       "'Chave não encontrada'"
      ]
     },
     "execution_count": 72,
     "metadata": {},
     "output_type": "execute_result"
    }
   ],
   "source": [
    "dadosCopy.pop('Passat','Chave não encontrada')"
   ]
  },
  {
   "cell_type": "code",
   "execution_count": 74,
   "metadata": {
    "colab": {},
    "colab_type": "code",
    "id": "SJATRY8RD1Aa"
   },
   "outputs": [
    {
     "data": {
      "text/plain": [
       "[88078.64, 106161.94, 72832.16]"
      ]
     },
     "execution_count": 74,
     "metadata": {},
     "output_type": "execute_result"
    }
   ],
   "source": [
    "dadosCopy.pop('Valor','Chave não encontrada')"
   ]
  },
  {
   "cell_type": "code",
   "execution_count": 75,
   "metadata": {
    "colab": {},
    "colab_type": "code",
    "id": "V36wHdzmD1Ab"
   },
   "outputs": [
    {
     "data": {
      "text/plain": [
       "{'Nome': ['Jetta Variant', 'Passat', 'Crossfox'],\n",
       " 'Motor': ['Motor 4.0 Turbo', 'Motor Diesel', 'Motor Diesel V8'],\n",
       " 'Ano': [2003, 1991, 1990],\n",
       " 'Quilometragem': [44410.0, 5712.0, 37123.0],\n",
       " 'Zero_km': [False, False, False]}"
      ]
     },
     "execution_count": 75,
     "metadata": {},
     "output_type": "execute_result"
    }
   ],
   "source": [
    "dadosCopy"
   ]
  },
  {
   "cell_type": "code",
   "execution_count": null,
   "metadata": {
    "colab": {},
    "colab_type": "code",
    "id": "LJ0lQIrdD1Ac"
   },
   "outputs": [],
   "source": []
  },
  {
   "cell_type": "code",
   "execution_count": null,
   "metadata": {
    "colab": {},
    "colab_type": "code",
    "id": "yKGu-fYkD1Ad"
   },
   "outputs": [],
   "source": []
  },
  {
   "cell_type": "code",
   "execution_count": null,
   "metadata": {
    "colab": {},
    "colab_type": "code",
    "id": "x-h8nVyhD1Af"
   },
   "outputs": [],
   "source": []
  },
  {
   "cell_type": "markdown",
   "metadata": {
    "colab_type": "text",
    "id": "Q5J0R7d3D1Ag"
   },
   "source": [
    "## *dict.clear()*\n",
    "\n",
    "Remove todos os itens do dicionário."
   ]
  },
  {
   "cell_type": "code",
   "execution_count": 76,
   "metadata": {
    "colab": {},
    "colab_type": "code",
    "id": "AvkP_8mND1Ag"
   },
   "outputs": [],
   "source": [
    "dadosCopy.clear()"
   ]
  },
  {
   "cell_type": "code",
   "execution_count": 77,
   "metadata": {
    "colab": {},
    "colab_type": "code",
    "id": "S69pMYboD1Ah"
   },
   "outputs": [
    {
     "data": {
      "text/plain": [
       "{}"
      ]
     },
     "execution_count": 77,
     "metadata": {},
     "output_type": "execute_result"
    }
   ],
   "source": [
    "dadosCopy"
   ]
  },
  {
   "cell_type": "markdown",
   "metadata": {
    "colab_type": "text",
    "id": "QhoSRfPsD1Ai"
   },
   "source": [
    "# 3.4 Iterando em dicionários"
   ]
  },
  {
   "cell_type": "markdown",
   "metadata": {
    "colab_type": "text",
    "id": "E-agaqakD1Ai"
   },
   "source": [
    "## *dict.keys()*\n",
    "\n",
    "Retorna uma lista contendo as chaves (*keys*) do dicionário."
   ]
  },
  {
   "cell_type": "code",
   "execution_count": 78,
   "metadata": {
    "colab": {},
    "colab_type": "code",
    "id": "niwh9AgDD1Aj"
   },
   "outputs": [
    {
     "data": {
      "text/plain": [
       "dict_keys(['Nome', 'Motor', 'Ano', 'Quilometragem', 'Zero_km', 'Valor', 'Passat', 'Fusca'])"
      ]
     },
     "execution_count": 78,
     "metadata": {},
     "output_type": "execute_result"
    }
   ],
   "source": [
    "dados.keys()"
   ]
  },
  {
   "cell_type": "code",
   "execution_count": 79,
   "metadata": {
    "colab": {},
    "colab_type": "code",
    "id": "qFADEYmBD1Aj"
   },
   "outputs": [
    {
     "data": {
      "text/plain": [
       "['Nome',\n",
       " 'Motor',\n",
       " 'Ano',\n",
       " 'Quilometragem',\n",
       " 'Zero_km',\n",
       " 'Valor',\n",
       " 'Passat',\n",
       " 'Fusca']"
      ]
     },
     "execution_count": 79,
     "metadata": {},
     "output_type": "execute_result"
    }
   ],
   "source": [
    "[x for x in  dados.keys()]"
   ]
  },
  {
   "cell_type": "markdown",
   "metadata": {
    "colab_type": "text",
    "id": "qFj6Cc7dD1Ak"
   },
   "source": [
    "## *dict.values()*\n",
    "\n",
    "Retorna uma lista com todos os valores (*values*) do dicionário."
   ]
  },
  {
   "cell_type": "code",
   "execution_count": 80,
   "metadata": {
    "colab": {},
    "colab_type": "code",
    "id": "nfpLxrQVD1Al"
   },
   "outputs": [
    {
     "data": {
      "text/plain": [
       "dict_values([['Jetta Variant', 'Passat', 'Crossfox'], ['Motor 4.0 Turbo', 'Motor Diesel', 'Motor Diesel V8'], [2003, 1991, 1990], [44410.0, 5712.0, 37123.0], [False, False, False], [88078.64, 106161.94, 72832.16], 106161.98, 150000])"
      ]
     },
     "execution_count": 80,
     "metadata": {},
     "output_type": "execute_result"
    }
   ],
   "source": [
    "dados.values()"
   ]
  },
  {
   "cell_type": "markdown",
   "metadata": {
    "colab_type": "text",
    "id": "-NGRwX0AD1Al"
   },
   "source": [
    "## *dict.items()*\n",
    "\n",
    "Retorna uma lista contendo uma tupla para cada par chave-valor (*key-value*) do dicionário."
   ]
  },
  {
   "cell_type": "code",
   "execution_count": 81,
   "metadata": {
    "colab": {},
    "colab_type": "code",
    "id": "Q2I9_6YvD1Am"
   },
   "outputs": [
    {
     "data": {
      "text/plain": [
       "dict_items([('Nome', ['Jetta Variant', 'Passat', 'Crossfox']), ('Motor', ['Motor 4.0 Turbo', 'Motor Diesel', 'Motor Diesel V8']), ('Ano', [2003, 1991, 1990]), ('Quilometragem', [44410.0, 5712.0, 37123.0]), ('Zero_km', [False, False, False]), ('Valor', [88078.64, 106161.94, 72832.16]), ('Passat', 106161.98), ('Fusca', 150000)])"
      ]
     },
     "execution_count": 81,
     "metadata": {},
     "output_type": "execute_result"
    }
   ],
   "source": [
    "dados.items()"
   ]
  },
  {
   "cell_type": "code",
   "execution_count": 83,
   "metadata": {
    "colab": {},
    "colab_type": "code",
    "id": "0j41ZqgQD1Am"
   },
   "outputs": [
    {
     "data": {
      "text/plain": [
       "[('Nome', ['Jetta Variant', 'Passat', 'Crossfox']),\n",
       " ('Motor', ['Motor 4.0 Turbo', 'Motor Diesel', 'Motor Diesel V8']),\n",
       " ('Ano', [2003, 1991, 1990]),\n",
       " ('Quilometragem', [44410.0, 5712.0, 37123.0]),\n",
       " ('Zero_km', [False, False, False]),\n",
       " ('Valor', [88078.64, 106161.94, 72832.16]),\n",
       " ('Passat', 106161.98),\n",
       " ('Fusca', 150000)]"
      ]
     },
     "execution_count": 83,
     "metadata": {},
     "output_type": "execute_result"
    }
   ],
   "source": [
    "[x for x in dados.items()]"
   ]
  },
  {
   "cell_type": "code",
   "execution_count": 86,
   "metadata": {
    "colab": {},
    "colab_type": "code",
    "id": "OVY9rIwFD1An"
   },
   "outputs": [
    {
     "name": "stdout",
     "output_type": "stream",
     "text": [
      "Nome ['Jetta Variant', 'Passat', 'Crossfox']\n",
      "Motor ['Motor 4.0 Turbo', 'Motor Diesel', 'Motor Diesel V8']\n",
      "Ano [2003, 1991, 1990]\n",
      "Quilometragem [44410.0, 5712.0, 37123.0]\n",
      "Zero_km [False, False, False]\n",
      "Valor [88078.64, 106161.94, 72832.16]\n",
      "Passat 106161.98\n",
      "Fusca 150000\n"
     ]
    }
   ],
   "source": [
    "for key,values in dados.items():\n",
    "    print(key, values)"
   ]
  },
  {
   "cell_type": "code",
   "execution_count": 93,
   "metadata": {
    "colab": {},
    "colab_type": "code",
    "id": "ma2Ol8vcD1Ap"
   },
   "outputs": [],
   "source": [
    "#for key,v in dados.items():\n",
    "#    if v >= 100000 :\n",
    "#        print(key, v)"
   ]
  },
  {
   "cell_type": "markdown",
   "metadata": {
    "colab_type": "text",
    "id": "-q3AlSg3D1Aq"
   },
   "source": [
    "# <font color=green> 4. FUNÇÕES E PACOTES\n",
    "---\n",
    "    \n",
    "Funções são unidades de código reutilizáveis que realizam uma tarefa específica, podem receber alguma entrada e também podem retornar alguma resultado."
   ]
  },
  {
   "cell_type": "markdown",
   "metadata": {
    "colab_type": "text",
    "id": "5CfEcU58D1Aq"
   },
   "source": [
    "# 4.1 Built-in function\n",
    "\n",
    "A linguagem Python possui várias funções integradas que estão sempre acessíveis. Algumas já utilizamos em nosso treinamento: type(), print(), zip(), len(), set() etc.\n",
    "\n",
    "https://docs.python.org/3.6/library/functions.html"
   ]
  },
  {
   "cell_type": "code",
   "execution_count": 94,
   "metadata": {
    "colab": {},
    "colab_type": "code",
    "id": "DP7cmY7xD1Aq"
   },
   "outputs": [
    {
     "data": {
      "text/plain": [
       "{'Jetta Variant': 88078.64, 'Passat': 106161.94, 'Crossfox': 72832.16}"
      ]
     },
     "execution_count": 94,
     "metadata": {},
     "output_type": "execute_result"
    }
   ],
   "source": [
    "dados = {'Jetta Variant': 88078.64, 'Passat': 106161.94, 'Crossfox': 72832.16}\n",
    "dados"
   ]
  },
  {
   "cell_type": "code",
   "execution_count": 98,
   "metadata": {
    "colab": {},
    "colab_type": "code",
    "id": "5zAcGSCbD1Ar"
   },
   "outputs": [
    {
     "data": {
      "text/plain": [
       "[88078.64, 106161.94, 72832.16]"
      ]
     },
     "execution_count": 98,
     "metadata": {},
     "output_type": "execute_result"
    }
   ],
   "source": [
    "valores = []\n",
    "for x in dados.values():\n",
    "    valores.append(x)\n",
    "valores"
   ]
  },
  {
   "cell_type": "code",
   "execution_count": 99,
   "metadata": {
    "colab": {},
    "colab_type": "code",
    "id": "zG9_jU_1D1At"
   },
   "outputs": [
    {
     "data": {
      "text/plain": [
       "267072.74"
      ]
     },
     "execution_count": 99,
     "metadata": {},
     "output_type": "execute_result"
    }
   ],
   "source": [
    "soma = 0 \n",
    "for valor in dados.values():\n",
    "    soma +=valor\n",
    "soma"
   ]
  },
  {
   "cell_type": "code",
   "execution_count": 100,
   "metadata": {
    "colab": {},
    "colab_type": "code",
    "id": "jn0O3uXZD1Au"
   },
   "outputs": [
    {
     "data": {
      "text/plain": [
       "[88078.64, 106161.94, 72832.16]"
      ]
     },
     "execution_count": 100,
     "metadata": {},
     "output_type": "execute_result"
    }
   ],
   "source": [
    "list(dados.values())"
   ]
  },
  {
   "cell_type": "code",
   "execution_count": 101,
   "metadata": {
    "colab": {},
    "colab_type": "code",
    "id": "lnUjKVnoD1Aw"
   },
   "outputs": [
    {
     "data": {
      "text/plain": [
       "267072.74"
      ]
     },
     "execution_count": 101,
     "metadata": {},
     "output_type": "execute_result"
    }
   ],
   "source": [
    "sum(dados.values())"
   ]
  },
  {
   "cell_type": "code",
   "execution_count": 102,
   "metadata": {
    "colab": {},
    "colab_type": "code",
    "id": "WdEuYXe2D1Ay",
    "scrolled": false
   },
   "outputs": [
    {
     "data": {
      "text/plain": [
       "1000267072.74"
      ]
     },
     "execution_count": 102,
     "metadata": {},
     "output_type": "execute_result"
    }
   ],
   "source": [
    "sum(dados.values(),1000000000)"
   ]
  },
  {
   "cell_type": "code",
   "execution_count": 103,
   "metadata": {
    "colab": {},
    "colab_type": "code",
    "id": "hIA29O3tD1Az"
   },
   "outputs": [
    {
     "name": "stdout",
     "output_type": "stream",
     "text": [
      "\n",
      "Welcome to Python 3.7's help utility!\n",
      "\n",
      "If this is your first time using Python, you should definitely check out\n",
      "the tutorial on the Internet at https://docs.python.org/3.7/tutorial/.\n",
      "\n",
      "Enter the name of any module, keyword, or topic to get help on writing\n",
      "Python programs and using Python modules.  To quit this help utility and\n",
      "return to the interpreter, just type \"quit\".\n",
      "\n",
      "To get a list of available modules, keywords, symbols, or topics, type\n",
      "\"modules\", \"keywords\", \"symbols\", or \"topics\".  Each module also comes\n",
      "with a one-line summary of what it does; to list the modules whose name\n",
      "or summary contain a given string such as \"spam\", type \"modules spam\".\n",
      "\n",
      "help> sum()\n",
      "No Python documentation found for 'sum()'.\n",
      "Use help() to get the interactive help utility.\n",
      "Use help(str) for help on the str class.\n",
      "\n",
      "help> print\n",
      "Help on built-in function print in module builtins:\n",
      "\n",
      "print(...)\n",
      "    print(value, ..., sep=' ', end='\\n', file=sys.stdout, flush=False)\n",
      "    \n",
      "    Prints the values to a stream, or to sys.stdout by default.\n",
      "    Optional keyword arguments:\n",
      "    file:  a file-like object (stream); defaults to the current sys.stdout.\n",
      "    sep:   string inserted between values, default a space.\n",
      "    end:   string appended after the last value, default a newline.\n",
      "    flush: whether to forcibly flush the stream.\n",
      "\n",
      "help> sum\n",
      "Help on built-in function sum in module builtins:\n",
      "\n",
      "sum(iterable, start=0, /)\n",
      "    Return the sum of a 'start' value (default: 0) plus an iterable of numbers\n",
      "    \n",
      "    When the iterable is empty, return the start value.\n",
      "    This function is intended specifically for use with numeric values and may\n",
      "    reject non-numeric types.\n",
      "\n",
      "\n",
      "You are now leaving help and returning to the Python interpreter.\n",
      "If you want to ask for help on a particular object directly from the\n",
      "interpreter, you can type \"help(object)\".  Executing \"help('string')\"\n",
      "has the same effect as typing a particular string at the help> prompt.\n"
     ]
    }
   ],
   "source": [
    "help()"
   ]
  },
  {
   "cell_type": "code",
   "execution_count": 105,
   "metadata": {},
   "outputs": [],
   "source": [
    "print?"
   ]
  },
  {
   "cell_type": "markdown",
   "metadata": {
    "colab_type": "text",
    "id": "6w62Sl5ZD1A0"
   },
   "source": [
    "# 4.2 Definindo funções sem e com parâmetros"
   ]
  },
  {
   "cell_type": "markdown",
   "metadata": {
    "colab_type": "text",
    "id": "OADZiBP2D1A0"
   },
   "source": [
    "### Funções sem parâmetros\n",
    "\n",
    "#### Formato padrão\n",
    "\n",
    "```\n",
    "def <nome>():\n",
    "    <instruções>\n",
    "```"
   ]
  },
  {
   "cell_type": "code",
   "execution_count": 106,
   "metadata": {
    "colab": {},
    "colab_type": "code",
    "id": "uCkplEpQD1A0"
   },
   "outputs": [],
   "source": [
    "def media ():\n",
    "    valor = (1 + 2 +3)/3\n",
    "    print(valor)\n",
    "    "
   ]
  },
  {
   "cell_type": "code",
   "execution_count": 107,
   "metadata": {
    "colab": {},
    "colab_type": "code",
    "id": "fOCEGq5VD1A1"
   },
   "outputs": [
    {
     "name": "stdout",
     "output_type": "stream",
     "text": [
      "2.0\n"
     ]
    }
   ],
   "source": [
    "media()"
   ]
  },
  {
   "cell_type": "markdown",
   "metadata": {
    "colab_type": "text",
    "id": "PwSlYSVAD1A2"
   },
   "source": [
    "### Funções com parâmetros\n",
    "\n",
    "#### Formato padrão\n",
    "\n",
    "```\n",
    "def <nome>(<param_1>, <param_2>, ..., <param_n>):\n",
    "    <instruções>\n",
    "```"
   ]
  },
  {
   "cell_type": "code",
   "execution_count": 108,
   "metadata": {
    "colab": {},
    "colab_type": "code",
    "id": "A3YnBUduD1A3"
   },
   "outputs": [],
   "source": [
    "def media(numero1,numero2,numero3):\n",
    "    valor = (numero1+ numero2+numero3)/3\n",
    "    print(valor)"
   ]
  },
  {
   "cell_type": "code",
   "execution_count": 109,
   "metadata": {
    "colab": {},
    "colab_type": "code",
    "id": "rGUZbRERD1A3"
   },
   "outputs": [
    {
     "name": "stdout",
     "output_type": "stream",
     "text": [
      "2.0\n"
     ]
    }
   ],
   "source": [
    "media(1,2,3)"
   ]
  },
  {
   "cell_type": "code",
   "execution_count": 110,
   "metadata": {
    "colab": {},
    "colab_type": "code",
    "id": "B9WDlRE7D1A5"
   },
   "outputs": [
    {
     "name": "stdout",
     "output_type": "stream",
     "text": [
      "20.0\n"
     ]
    }
   ],
   "source": [
    "media(10 , 30 , 20)"
   ]
  },
  {
   "cell_type": "code",
   "execution_count": 111,
   "metadata": {
    "colab": {},
    "colab_type": "code",
    "id": "1HAy8OK_D1A6"
   },
   "outputs": [],
   "source": [
    "def media(lista):\n",
    "    valor = sum(lista) /len(lista)\n",
    "    print(valor)"
   ]
  },
  {
   "cell_type": "code",
   "execution_count": 113,
   "metadata": {
    "colab": {},
    "colab_type": "code",
    "id": "_CDa4oOfD1A6"
   },
   "outputs": [
    {
     "name": "stdout",
     "output_type": "stream",
     "text": [
      "6.764705882352941\n"
     ]
    }
   ],
   "source": [
    "resultado = media([1,2,3,4,5,2,23,4,1,1,2,33,4,1,23,4,2])"
   ]
  },
  {
   "cell_type": "code",
   "execution_count": 116,
   "metadata": {
    "colab": {},
    "colab_type": "code",
    "id": "WXXC_UidD1A8"
   },
   "outputs": [],
   "source": [
    "resultado"
   ]
  },
  {
   "cell_type": "code",
   "execution_count": 115,
   "metadata": {
    "colab": {},
    "colab_type": "code",
    "id": "xH-mxqYAD1A8"
   },
   "outputs": [
    {
     "data": {
      "text/plain": [
       "NoneType"
      ]
     },
     "execution_count": 115,
     "metadata": {},
     "output_type": "execute_result"
    }
   ],
   "source": [
    "type(resultado)"
   ]
  },
  {
   "cell_type": "markdown",
   "metadata": {
    "colab_type": "text",
    "id": "8zNYrmFbD1A9"
   },
   "source": [
    "# 4.3 Definindo funções que retornam valores"
   ]
  },
  {
   "cell_type": "markdown",
   "metadata": {
    "colab_type": "text",
    "id": "J44K-dMOD1A9"
   },
   "source": [
    "### Funções que retornam um valor\n",
    "\n",
    "#### Formato padrão\n",
    "\n",
    "```\n",
    "def <nome>(<param_1>, <param_2>, ..., <param_n>):\n",
    "    <instruções>\n",
    "    return <resultado>\n",
    "```"
   ]
  },
  {
   "cell_type": "code",
   "execution_count": 122,
   "metadata": {
    "colab": {},
    "colab_type": "code",
    "id": "-UG42RQJD1A9"
   },
   "outputs": [],
   "source": [
    "def media(lista):\n",
    "    valor = sum(lista)/ len(lista)\n",
    "    return valor"
   ]
  },
  {
   "cell_type": "code",
   "execution_count": 119,
   "metadata": {
    "colab": {},
    "colab_type": "code",
    "id": "VJwdvoT5D1A-"
   },
   "outputs": [
    {
     "name": "stdout",
     "output_type": "stream",
     "text": [
      "4.0\n"
     ]
    }
   ],
   "source": [
    "media([1,2,3,4,5,6,7])"
   ]
  },
  {
   "cell_type": "code",
   "execution_count": 125,
   "metadata": {
    "colab": {},
    "colab_type": "code",
    "id": "AgAeJkpND1A-"
   },
   "outputs": [],
   "source": [
    "resultado = media([1,2,3,4,5,6,7])"
   ]
  },
  {
   "cell_type": "code",
   "execution_count": 126,
   "metadata": {
    "colab": {},
    "colab_type": "code",
    "id": "_r616TevD1A_"
   },
   "outputs": [
    {
     "data": {
      "text/plain": [
       "4.0"
      ]
     },
     "execution_count": 126,
     "metadata": {},
     "output_type": "execute_result"
    }
   ],
   "source": [
    "resultado"
   ]
  },
  {
   "cell_type": "markdown",
   "metadata": {
    "colab_type": "text",
    "id": "MQaK8GV5D1BA"
   },
   "source": [
    "### Funções que retornam mais de um valor\n",
    "\n",
    "#### Formato padrão\n",
    "\n",
    "```\n",
    "def <nome>(<param_1>, <param_2>, ..., <param_n>):\n",
    "    <instruções>\n",
    "    return (<resultado_1>, <resultado_2>, ..., <resultado_n>)\n",
    "```"
   ]
  },
  {
   "cell_type": "code",
   "execution_count": 128,
   "metadata": {
    "colab": {},
    "colab_type": "code",
    "id": "v0PUMegVD1BA"
   },
   "outputs": [],
   "source": [
    "def media(lista):\n",
    "    valor = sum(lista)/ len(lista)\n",
    "    return (valor,len(lista))"
   ]
  },
  {
   "cell_type": "code",
   "execution_count": 129,
   "metadata": {
    "colab": {},
    "colab_type": "code",
    "id": "Ys-etom8D1BA"
   },
   "outputs": [
    {
     "data": {
      "text/plain": [
       "(4.0, 7)"
      ]
     },
     "execution_count": 129,
     "metadata": {},
     "output_type": "execute_result"
    }
   ],
   "source": [
    "media([1,2,3,4,5,6,7])"
   ]
  },
  {
   "cell_type": "code",
   "execution_count": 130,
   "metadata": {
    "colab": {},
    "colab_type": "code",
    "id": "LERrvkMHD1BC"
   },
   "outputs": [],
   "source": [
    "resultado , tamanho_da_lista = media([1,2,3,4,5,6,7])"
   ]
  },
  {
   "cell_type": "code",
   "execution_count": 131,
   "metadata": {
    "colab": {},
    "colab_type": "code",
    "id": "sqoFOWSsD1BC"
   },
   "outputs": [
    {
     "data": {
      "text/plain": [
       "4.0"
      ]
     },
     "execution_count": 131,
     "metadata": {},
     "output_type": "execute_result"
    }
   ],
   "source": [
    "resultado"
   ]
  },
  {
   "cell_type": "code",
   "execution_count": 132,
   "metadata": {
    "colab": {},
    "colab_type": "code",
    "id": "NdB_Jyw_D1BD"
   },
   "outputs": [
    {
     "data": {
      "text/plain": [
       "7"
      ]
     },
     "execution_count": 132,
     "metadata": {},
     "output_type": "execute_result"
    }
   ],
   "source": [
    "tamanho_da_lista"
   ]
  },
  {
   "cell_type": "markdown",
   "metadata": {
    "colab_type": "text",
    "id": "uQ5lNnKrD1BD"
   },
   "source": [
    "# <font color=green> 5. PANDAS BÁSICO\n",
    "---\n",
    "\n",
    "**versão: 0.25.2**\n",
    "  \n",
    "Pandas é uma ferramenta de manipulação de dados de alto nível, construída com base no pacote Numpy. O pacote pandas possui estruturas de dados bastante interessantes para manipulação de dados e por isso é muito utilizado por cientistas de dados.\n",
    "\n",
    "\n",
    "## Estruturas de Dados\n",
    "\n",
    "### Series\n",
    "\n",
    "Series são arrays unidimensionais rotulados capazes de armazenar qualquer tipo de dado. Os rótulos das linhas são chamados de **index**. A forma básica de criação de uma Series é a seguinte:\n",
    "\n",
    "\n",
    "```\n",
    "    s = pd.Series(dados, index = index)\n",
    "```\n",
    "\n",
    "O argumento *dados* pode ser um dicionário, uma lista, um array Numpy ou uma constante.\n",
    "\n",
    "### DataFrames\n",
    "\n",
    "DataFrame é uma estrutura de dados tabular bidimensional com rótulos nas linha e colunas. Como a Series, os DataFrames são capazes de armazenar qualquer tipo de dados.\n",
    "\n",
    "\n",
    "```\n",
    "    df = pd.DataFrame(dados, index = index, columns = columns)\n",
    "```\n",
    "\n",
    "O argumento *dados* pode ser um dicionário, uma lista, um array Numpy, uma Series e outro DataFrame.\n",
    "\n",
    "**Documentação:** https://pandas.pydata.org/pandas-docs/version/0.25/"
   ]
  },
  {
   "cell_type": "markdown",
   "metadata": {
    "colab_type": "text",
    "id": "2qa7RC03D1BD"
   },
   "source": [
    "# 5.1 Estruturas de dados"
   ]
  },
  {
   "cell_type": "code",
   "execution_count": 133,
   "metadata": {
    "colab": {},
    "colab_type": "code",
    "id": "4QyFDeS4D1BD"
   },
   "outputs": [],
   "source": [
    "import pandas as pd "
   ]
  },
  {
   "cell_type": "markdown",
   "metadata": {
    "colab_type": "text",
    "id": "kIey8_OcD1BF"
   },
   "source": [
    "### Criando uma Series a partir de uma lista"
   ]
  },
  {
   "cell_type": "code",
   "execution_count": 134,
   "metadata": {
    "colab": {},
    "colab_type": "code",
    "id": "yEZR6DWiD1BF"
   },
   "outputs": [
    {
     "data": {
      "text/plain": [
       "['Jetta Variant', 'Passat', 'Crossfox']"
      ]
     },
     "execution_count": 134,
     "metadata": {},
     "output_type": "execute_result"
    }
   ],
   "source": [
    "carros = ['Jetta Variant','Passat','Crossfox']\n",
    "carros"
   ]
  },
  {
   "cell_type": "code",
   "execution_count": 135,
   "metadata": {
    "colab": {},
    "colab_type": "code",
    "id": "rLudWKZ_D1BF"
   },
   "outputs": [
    {
     "data": {
      "text/plain": [
       "0    Jetta Variant\n",
       "1           Passat\n",
       "2         Crossfox\n",
       "dtype: object"
      ]
     },
     "execution_count": 135,
     "metadata": {},
     "output_type": "execute_result"
    }
   ],
   "source": [
    "pd.Series(carros)"
   ]
  },
  {
   "cell_type": "markdown",
   "metadata": {
    "colab_type": "text",
    "id": "VYVIKd1-D1BG"
   },
   "source": [
    "### Criando um DataFrame a partir de uma lista de dicionários"
   ]
  },
  {
   "cell_type": "code",
   "execution_count": 136,
   "metadata": {
    "colab": {},
    "colab_type": "code",
    "id": "QFNS9PckD1BG"
   },
   "outputs": [],
   "source": [
    "dados = [\n",
    "    {'Nome': 'Jetta Variant', 'Motor': 'Motor 4.0 Turbo', 'Ano': 2003, 'Quilometragem': 44410.0, 'Zero_km': False, 'Valor': 88078.64},\n",
    "    {'Nome': 'Passat', 'Motor': 'Motor Diesel', 'Ano': 1991, 'Quilometragem': 5712.0, 'Zero_km': False, 'Valor': 106161.94},\n",
    "    {'Nome': 'Crossfox', 'Motor': 'Motor Diesel V8', 'Ano': 1990, 'Quilometragem': 37123.0, 'Zero_km': False, 'Valor': 72832.16}\n",
    "]"
   ]
  },
  {
   "cell_type": "code",
   "execution_count": 141,
   "metadata": {
    "colab": {},
    "colab_type": "code",
    "id": "WDQb9AnKD1BH"
   },
   "outputs": [],
   "source": [
    "dataset = pd.DataFrame(dados)\n"
   ]
  },
  {
   "cell_type": "code",
   "execution_count": 140,
   "metadata": {
    "colab": {},
    "colab_type": "code",
    "id": "-2-jGvmGD1BI"
   },
   "outputs": [
    {
     "data": {
      "text/html": [
       "<div>\n",
       "<style scoped>\n",
       "    .dataframe tbody tr th:only-of-type {\n",
       "        vertical-align: middle;\n",
       "    }\n",
       "\n",
       "    .dataframe tbody tr th {\n",
       "        vertical-align: top;\n",
       "    }\n",
       "\n",
       "    .dataframe thead th {\n",
       "        text-align: right;\n",
       "    }\n",
       "</style>\n",
       "<table border=\"1\" class=\"dataframe\">\n",
       "  <thead>\n",
       "    <tr style=\"text-align: right;\">\n",
       "      <th></th>\n",
       "      <th>Nome</th>\n",
       "      <th>Motor</th>\n",
       "      <th>Ano</th>\n",
       "      <th>Quilometragem</th>\n",
       "      <th>Zero_km</th>\n",
       "      <th>Valor</th>\n",
       "    </tr>\n",
       "  </thead>\n",
       "  <tbody>\n",
       "    <tr>\n",
       "      <th>0</th>\n",
       "      <td>Jetta Variant</td>\n",
       "      <td>Motor 4.0 Turbo</td>\n",
       "      <td>2003</td>\n",
       "      <td>44410.0</td>\n",
       "      <td>False</td>\n",
       "      <td>88078.64</td>\n",
       "    </tr>\n",
       "    <tr>\n",
       "      <th>1</th>\n",
       "      <td>Passat</td>\n",
       "      <td>Motor Diesel</td>\n",
       "      <td>1991</td>\n",
       "      <td>5712.0</td>\n",
       "      <td>False</td>\n",
       "      <td>106161.94</td>\n",
       "    </tr>\n",
       "    <tr>\n",
       "      <th>2</th>\n",
       "      <td>Crossfox</td>\n",
       "      <td>Motor Diesel V8</td>\n",
       "      <td>1990</td>\n",
       "      <td>37123.0</td>\n",
       "      <td>False</td>\n",
       "      <td>72832.16</td>\n",
       "    </tr>\n",
       "  </tbody>\n",
       "</table>\n",
       "</div>"
      ],
      "text/plain": [
       "            Nome            Motor   Ano  Quilometragem  Zero_km      Valor\n",
       "0  Jetta Variant  Motor 4.0 Turbo  2003        44410.0    False   88078.64\n",
       "1         Passat     Motor Diesel  1991         5712.0    False  106161.94\n",
       "2       Crossfox  Motor Diesel V8  1990        37123.0    False   72832.16"
      ]
     },
     "execution_count": 140,
     "metadata": {},
     "output_type": "execute_result"
    }
   ],
   "source": [
    "dataset"
   ]
  },
  {
   "cell_type": "code",
   "execution_count": 144,
   "metadata": {
    "colab": {},
    "colab_type": "code",
    "id": "2kbyOThiD1BJ"
   },
   "outputs": [
    {
     "data": {
      "text/html": [
       "<div>\n",
       "<style scoped>\n",
       "    .dataframe tbody tr th:only-of-type {\n",
       "        vertical-align: middle;\n",
       "    }\n",
       "\n",
       "    .dataframe tbody tr th {\n",
       "        vertical-align: top;\n",
       "    }\n",
       "\n",
       "    .dataframe thead th {\n",
       "        text-align: right;\n",
       "    }\n",
       "</style>\n",
       "<table border=\"1\" class=\"dataframe\">\n",
       "  <thead>\n",
       "    <tr style=\"text-align: right;\">\n",
       "      <th></th>\n",
       "      <th>Nome</th>\n",
       "      <th>Motor</th>\n",
       "      <th>Ano</th>\n",
       "      <th>Zero_km</th>\n",
       "      <th>Quilometragem</th>\n",
       "      <th>Valor</th>\n",
       "    </tr>\n",
       "  </thead>\n",
       "  <tbody>\n",
       "    <tr>\n",
       "      <th>0</th>\n",
       "      <td>Jetta Variant</td>\n",
       "      <td>Motor 4.0 Turbo</td>\n",
       "      <td>2003</td>\n",
       "      <td>False</td>\n",
       "      <td>44410.0</td>\n",
       "      <td>88078.64</td>\n",
       "    </tr>\n",
       "    <tr>\n",
       "      <th>1</th>\n",
       "      <td>Passat</td>\n",
       "      <td>Motor Diesel</td>\n",
       "      <td>1991</td>\n",
       "      <td>False</td>\n",
       "      <td>5712.0</td>\n",
       "      <td>106161.94</td>\n",
       "    </tr>\n",
       "    <tr>\n",
       "      <th>2</th>\n",
       "      <td>Crossfox</td>\n",
       "      <td>Motor Diesel V8</td>\n",
       "      <td>1990</td>\n",
       "      <td>False</td>\n",
       "      <td>37123.0</td>\n",
       "      <td>72832.16</td>\n",
       "    </tr>\n",
       "  </tbody>\n",
       "</table>\n",
       "</div>"
      ],
      "text/plain": [
       "            Nome            Motor   Ano  Zero_km  Quilometragem      Valor\n",
       "0  Jetta Variant  Motor 4.0 Turbo  2003    False        44410.0   88078.64\n",
       "1         Passat     Motor Diesel  1991    False         5712.0  106161.94\n",
       "2       Crossfox  Motor Diesel V8  1990    False        37123.0   72832.16"
      ]
     },
     "execution_count": 144,
     "metadata": {},
     "output_type": "execute_result"
    }
   ],
   "source": [
    "dataset[['Nome', 'Motor','Ano','Zero_km','Quilometragem', 'Valor']]"
   ]
  },
  {
   "cell_type": "markdown",
   "metadata": {
    "colab_type": "text",
    "id": "pJK2tQgYD1BK"
   },
   "source": [
    "### Criando um DataFrame a partir de um dicionário"
   ]
  },
  {
   "cell_type": "code",
   "execution_count": 145,
   "metadata": {
    "colab": {},
    "colab_type": "code",
    "id": "WKNQwKucD1BK"
   },
   "outputs": [],
   "source": [
    "dados = {\n",
    "    'Nome': ['Jetta Variant', 'Passat', 'Crossfox'], \n",
    "    'Motor': ['Motor 4.0 Turbo', 'Motor Diesel', 'Motor Diesel V8'],\n",
    "    'Ano': [2003, 1991, 1990],\n",
    "    'Quilometragem': [44410.0, 5712.0, 37123.0],\n",
    "    'Zero_km': [False, False, False],\n",
    "    'Valor': [88078.64, 106161.94, 72832.16]\n",
    "}"
   ]
  },
  {
   "cell_type": "code",
   "execution_count": 146,
   "metadata": {
    "colab": {},
    "colab_type": "code",
    "id": "lKnuZfzcD1BK"
   },
   "outputs": [],
   "source": [
    "dataset = pd.DataFrame(dados)"
   ]
  },
  {
   "cell_type": "code",
   "execution_count": 147,
   "metadata": {
    "colab": {},
    "colab_type": "code",
    "id": "PNqTytC-D1BL"
   },
   "outputs": [
    {
     "data": {
      "text/plain": [
       "{'Nome': ['Jetta Variant', 'Passat', 'Crossfox'],\n",
       " 'Motor': ['Motor 4.0 Turbo', 'Motor Diesel', 'Motor Diesel V8'],\n",
       " 'Ano': [2003, 1991, 1990],\n",
       " 'Quilometragem': [44410.0, 5712.0, 37123.0],\n",
       " 'Zero_km': [False, False, False],\n",
       " 'Valor': [88078.64, 106161.94, 72832.16]}"
      ]
     },
     "execution_count": 147,
     "metadata": {},
     "output_type": "execute_result"
    }
   ],
   "source": [
    "dados"
   ]
  },
  {
   "cell_type": "markdown",
   "metadata": {
    "colab_type": "text",
    "id": "fCCXs0reD1BL"
   },
   "source": [
    "### Criando um DataFrame a partir de uma arquivo externo"
   ]
  },
  {
   "cell_type": "code",
   "execution_count": 148,
   "metadata": {
    "colab": {},
    "colab_type": "code",
    "id": "78PRHGeZD1BL"
   },
   "outputs": [],
   "source": [
    "dataset = pd.read_csv('/home/lns/Downloads/Alura/DataScients/dataScience/Pandas/python-funcoes-pacotes-pandas/data/db.csv' , sep = ';')\n"
   ]
  },
  {
   "cell_type": "code",
   "execution_count": 150,
   "metadata": {
    "colab": {},
    "colab_type": "code",
    "id": "1o1YlnVPD1BM",
    "scrolled": true
   },
   "outputs": [
    {
     "data": {
      "text/html": [
       "<div>\n",
       "<style scoped>\n",
       "    .dataframe tbody tr th:only-of-type {\n",
       "        vertical-align: middle;\n",
       "    }\n",
       "\n",
       "    .dataframe tbody tr th {\n",
       "        vertical-align: top;\n",
       "    }\n",
       "\n",
       "    .dataframe thead th {\n",
       "        text-align: right;\n",
       "    }\n",
       "</style>\n",
       "<table border=\"1\" class=\"dataframe\">\n",
       "  <thead>\n",
       "    <tr style=\"text-align: right;\">\n",
       "      <th></th>\n",
       "      <th>Nome</th>\n",
       "      <th>Motor</th>\n",
       "      <th>Ano</th>\n",
       "      <th>Quilometragem</th>\n",
       "      <th>Zero_km</th>\n",
       "      <th>Acessórios</th>\n",
       "      <th>Valor</th>\n",
       "    </tr>\n",
       "  </thead>\n",
       "  <tbody>\n",
       "    <tr>\n",
       "      <th>0</th>\n",
       "      <td>Jetta Variant</td>\n",
       "      <td>Motor 4.0 Turbo</td>\n",
       "      <td>2003</td>\n",
       "      <td>44410.0</td>\n",
       "      <td>False</td>\n",
       "      <td>['Rodas de liga', 'Travas elétricas', 'Piloto ...</td>\n",
       "      <td>88078.64</td>\n",
       "    </tr>\n",
       "    <tr>\n",
       "      <th>1</th>\n",
       "      <td>Passat</td>\n",
       "      <td>Motor Diesel</td>\n",
       "      <td>1991</td>\n",
       "      <td>5712.0</td>\n",
       "      <td>False</td>\n",
       "      <td>['Central multimídia', 'Teto panorâmico', 'Fre...</td>\n",
       "      <td>106161.94</td>\n",
       "    </tr>\n",
       "    <tr>\n",
       "      <th>2</th>\n",
       "      <td>Crossfox</td>\n",
       "      <td>Motor Diesel V8</td>\n",
       "      <td>1990</td>\n",
       "      <td>37123.0</td>\n",
       "      <td>False</td>\n",
       "      <td>['Piloto automático', 'Controle de estabilidad...</td>\n",
       "      <td>72832.16</td>\n",
       "    </tr>\n",
       "    <tr>\n",
       "      <th>3</th>\n",
       "      <td>DS5</td>\n",
       "      <td>Motor 2.4 Turbo</td>\n",
       "      <td>2019</td>\n",
       "      <td>NaN</td>\n",
       "      <td>True</td>\n",
       "      <td>['Travas elétricas', '4 X 4', 'Vidros elétrico...</td>\n",
       "      <td>124549.07</td>\n",
       "    </tr>\n",
       "    <tr>\n",
       "      <th>4</th>\n",
       "      <td>Aston Martin DB4</td>\n",
       "      <td>Motor 2.4 Turbo</td>\n",
       "      <td>2006</td>\n",
       "      <td>25757.0</td>\n",
       "      <td>False</td>\n",
       "      <td>['Rodas de liga', '4 X 4', 'Central multimídia...</td>\n",
       "      <td>92612.10</td>\n",
       "    </tr>\n",
       "    <tr>\n",
       "      <th>5</th>\n",
       "      <td>Palio Weekend</td>\n",
       "      <td>Motor 1.8 16v</td>\n",
       "      <td>2012</td>\n",
       "      <td>10728.0</td>\n",
       "      <td>False</td>\n",
       "      <td>['Sensor de estacionamento', 'Teto panorâmico'...</td>\n",
       "      <td>97497.73</td>\n",
       "    </tr>\n",
       "    <tr>\n",
       "      <th>6</th>\n",
       "      <td>A5</td>\n",
       "      <td>Motor 4.0 Turbo</td>\n",
       "      <td>2019</td>\n",
       "      <td>NaN</td>\n",
       "      <td>True</td>\n",
       "      <td>['Câmbio automático', 'Câmera de estacionament...</td>\n",
       "      <td>56445.20</td>\n",
       "    </tr>\n",
       "    <tr>\n",
       "      <th>7</th>\n",
       "      <td>Série 3 Cabrio</td>\n",
       "      <td>Motor 1.0 8v</td>\n",
       "      <td>2009</td>\n",
       "      <td>77599.0</td>\n",
       "      <td>False</td>\n",
       "      <td>['Controle de estabilidade', 'Sensor crepuscul...</td>\n",
       "      <td>112310.44</td>\n",
       "    </tr>\n",
       "    <tr>\n",
       "      <th>8</th>\n",
       "      <td>Dodge Jorney</td>\n",
       "      <td>Motor 3.0 32v</td>\n",
       "      <td>2010</td>\n",
       "      <td>99197.0</td>\n",
       "      <td>False</td>\n",
       "      <td>['Vidros elétricos', 'Piloto automático', 'Tet...</td>\n",
       "      <td>120716.27</td>\n",
       "    </tr>\n",
       "    <tr>\n",
       "      <th>9</th>\n",
       "      <td>Carens</td>\n",
       "      <td>Motor 5.0 V8 Bi-Turbo</td>\n",
       "      <td>2011</td>\n",
       "      <td>37978.0</td>\n",
       "      <td>False</td>\n",
       "      <td>['Ar condicionado', 'Painel digital', 'Central...</td>\n",
       "      <td>76566.49</td>\n",
       "    </tr>\n",
       "  </tbody>\n",
       "</table>\n",
       "</div>"
      ],
      "text/plain": [
       "               Nome                  Motor   Ano  Quilometragem  Zero_km  \\\n",
       "0     Jetta Variant        Motor 4.0 Turbo  2003        44410.0    False   \n",
       "1            Passat           Motor Diesel  1991         5712.0    False   \n",
       "2          Crossfox        Motor Diesel V8  1990        37123.0    False   \n",
       "3               DS5        Motor 2.4 Turbo  2019            NaN     True   \n",
       "4  Aston Martin DB4        Motor 2.4 Turbo  2006        25757.0    False   \n",
       "5     Palio Weekend          Motor 1.8 16v  2012        10728.0    False   \n",
       "6                A5        Motor 4.0 Turbo  2019            NaN     True   \n",
       "7    Série 3 Cabrio           Motor 1.0 8v  2009        77599.0    False   \n",
       "8      Dodge Jorney          Motor 3.0 32v  2010        99197.0    False   \n",
       "9            Carens  Motor 5.0 V8 Bi-Turbo  2011        37978.0    False   \n",
       "\n",
       "                                          Acessórios      Valor  \n",
       "0  ['Rodas de liga', 'Travas elétricas', 'Piloto ...   88078.64  \n",
       "1  ['Central multimídia', 'Teto panorâmico', 'Fre...  106161.94  \n",
       "2  ['Piloto automático', 'Controle de estabilidad...   72832.16  \n",
       "3  ['Travas elétricas', '4 X 4', 'Vidros elétrico...  124549.07  \n",
       "4  ['Rodas de liga', '4 X 4', 'Central multimídia...   92612.10  \n",
       "5  ['Sensor de estacionamento', 'Teto panorâmico'...   97497.73  \n",
       "6  ['Câmbio automático', 'Câmera de estacionament...   56445.20  \n",
       "7  ['Controle de estabilidade', 'Sensor crepuscul...  112310.44  \n",
       "8  ['Vidros elétricos', 'Piloto automático', 'Tet...  120716.27  \n",
       "9  ['Ar condicionado', 'Painel digital', 'Central...   76566.49  "
      ]
     },
     "execution_count": 150,
     "metadata": {},
     "output_type": "execute_result"
    }
   ],
   "source": [
    "dataset.head(10)"
   ]
  },
  {
   "cell_type": "markdown",
   "metadata": {
    "colab_type": "text",
    "id": "y5V-1AK-D1BN"
   },
   "source": [
    "# 5.2 Seleções com DataFrames"
   ]
  },
  {
   "cell_type": "markdown",
   "metadata": {
    "colab_type": "text",
    "id": "wZjqlHe9D1BN"
   },
   "source": [
    "### Selecionando colunas"
   ]
  },
  {
   "cell_type": "code",
   "execution_count": 151,
   "metadata": {
    "colab": {},
    "colab_type": "code",
    "id": "gM3LbtzlD1BN",
    "scrolled": true
   },
   "outputs": [
    {
     "data": {
      "text/plain": [
       "0       88078.64\n",
       "1      106161.94\n",
       "2       72832.16\n",
       "3      124549.07\n",
       "4       92612.10\n",
       "         ...    \n",
       "253     51759.58\n",
       "254     51667.06\n",
       "255     68934.03\n",
       "256    122110.90\n",
       "257     90381.47\n",
       "Name: Valor, Length: 258, dtype: float64"
      ]
     },
     "execution_count": 151,
     "metadata": {},
     "output_type": "execute_result"
    }
   ],
   "source": [
    "dataset['Valor']"
   ]
  },
  {
   "cell_type": "code",
   "execution_count": 152,
   "metadata": {
    "colab": {},
    "colab_type": "code",
    "id": "R2FWgCM_D1BO"
   },
   "outputs": [
    {
     "data": {
      "text/plain": [
       "pandas.core.series.Series"
      ]
     },
     "execution_count": 152,
     "metadata": {},
     "output_type": "execute_result"
    }
   ],
   "source": [
    "type(dataset['Valor'])"
   ]
  },
  {
   "cell_type": "code",
   "execution_count": 153,
   "metadata": {
    "colab": {},
    "colab_type": "code",
    "id": "lCCumsxsD1BP",
    "scrolled": true
   },
   "outputs": [
    {
     "data": {
      "text/html": [
       "<div>\n",
       "<style scoped>\n",
       "    .dataframe tbody tr th:only-of-type {\n",
       "        vertical-align: middle;\n",
       "    }\n",
       "\n",
       "    .dataframe tbody tr th {\n",
       "        vertical-align: top;\n",
       "    }\n",
       "\n",
       "    .dataframe thead th {\n",
       "        text-align: right;\n",
       "    }\n",
       "</style>\n",
       "<table border=\"1\" class=\"dataframe\">\n",
       "  <thead>\n",
       "    <tr style=\"text-align: right;\">\n",
       "      <th></th>\n",
       "      <th>Valor</th>\n",
       "    </tr>\n",
       "  </thead>\n",
       "  <tbody>\n",
       "    <tr>\n",
       "      <th>0</th>\n",
       "      <td>88078.64</td>\n",
       "    </tr>\n",
       "    <tr>\n",
       "      <th>1</th>\n",
       "      <td>106161.94</td>\n",
       "    </tr>\n",
       "    <tr>\n",
       "      <th>2</th>\n",
       "      <td>72832.16</td>\n",
       "    </tr>\n",
       "    <tr>\n",
       "      <th>3</th>\n",
       "      <td>124549.07</td>\n",
       "    </tr>\n",
       "    <tr>\n",
       "      <th>4</th>\n",
       "      <td>92612.10</td>\n",
       "    </tr>\n",
       "    <tr>\n",
       "      <th>...</th>\n",
       "      <td>...</td>\n",
       "    </tr>\n",
       "    <tr>\n",
       "      <th>253</th>\n",
       "      <td>51759.58</td>\n",
       "    </tr>\n",
       "    <tr>\n",
       "      <th>254</th>\n",
       "      <td>51667.06</td>\n",
       "    </tr>\n",
       "    <tr>\n",
       "      <th>255</th>\n",
       "      <td>68934.03</td>\n",
       "    </tr>\n",
       "    <tr>\n",
       "      <th>256</th>\n",
       "      <td>122110.90</td>\n",
       "    </tr>\n",
       "    <tr>\n",
       "      <th>257</th>\n",
       "      <td>90381.47</td>\n",
       "    </tr>\n",
       "  </tbody>\n",
       "</table>\n",
       "<p>258 rows × 1 columns</p>\n",
       "</div>"
      ],
      "text/plain": [
       "         Valor\n",
       "0     88078.64\n",
       "1    106161.94\n",
       "2     72832.16\n",
       "3    124549.07\n",
       "4     92612.10\n",
       "..         ...\n",
       "253   51759.58\n",
       "254   51667.06\n",
       "255   68934.03\n",
       "256  122110.90\n",
       "257   90381.47\n",
       "\n",
       "[258 rows x 1 columns]"
      ]
     },
     "execution_count": 153,
     "metadata": {},
     "output_type": "execute_result"
    }
   ],
   "source": [
    "dataset[['Valor']]"
   ]
  },
  {
   "cell_type": "code",
   "execution_count": 154,
   "metadata": {
    "colab": {},
    "colab_type": "code",
    "id": "zxlyC3B8D1BP"
   },
   "outputs": [
    {
     "data": {
      "text/plain": [
       "pandas.core.frame.DataFrame"
      ]
     },
     "execution_count": 154,
     "metadata": {},
     "output_type": "execute_result"
    }
   ],
   "source": [
    "type(dataset[['Valor']])"
   ]
  },
  {
   "cell_type": "markdown",
   "metadata": {
    "colab_type": "text",
    "id": "7RPXPm1XD1BQ"
   },
   "source": [
    "### Selecionando linhas - [ i : j ] \n",
    "\n",
    "<font color=red>**Observação:**</font> A indexação tem origem no zero e nos fatiamentos (*slices*) a linha com índice i é **incluída** e a linha com índice j **não é incluída** no resultado."
   ]
  },
  {
   "cell_type": "code",
   "execution_count": 155,
   "metadata": {
    "colab": {},
    "colab_type": "code",
    "id": "PdDUwPw3D1BQ"
   },
   "outputs": [
    {
     "data": {
      "text/html": [
       "<div>\n",
       "<style scoped>\n",
       "    .dataframe tbody tr th:only-of-type {\n",
       "        vertical-align: middle;\n",
       "    }\n",
       "\n",
       "    .dataframe tbody tr th {\n",
       "        vertical-align: top;\n",
       "    }\n",
       "\n",
       "    .dataframe thead th {\n",
       "        text-align: right;\n",
       "    }\n",
       "</style>\n",
       "<table border=\"1\" class=\"dataframe\">\n",
       "  <thead>\n",
       "    <tr style=\"text-align: right;\">\n",
       "      <th></th>\n",
       "      <th>Nome</th>\n",
       "      <th>Motor</th>\n",
       "      <th>Ano</th>\n",
       "      <th>Quilometragem</th>\n",
       "      <th>Zero_km</th>\n",
       "      <th>Acessórios</th>\n",
       "      <th>Valor</th>\n",
       "    </tr>\n",
       "  </thead>\n",
       "  <tbody>\n",
       "    <tr>\n",
       "      <th>0</th>\n",
       "      <td>Jetta Variant</td>\n",
       "      <td>Motor 4.0 Turbo</td>\n",
       "      <td>2003</td>\n",
       "      <td>44410.0</td>\n",
       "      <td>False</td>\n",
       "      <td>['Rodas de liga', 'Travas elétricas', 'Piloto ...</td>\n",
       "      <td>88078.64</td>\n",
       "    </tr>\n",
       "    <tr>\n",
       "      <th>1</th>\n",
       "      <td>Passat</td>\n",
       "      <td>Motor Diesel</td>\n",
       "      <td>1991</td>\n",
       "      <td>5712.0</td>\n",
       "      <td>False</td>\n",
       "      <td>['Central multimídia', 'Teto panorâmico', 'Fre...</td>\n",
       "      <td>106161.94</td>\n",
       "    </tr>\n",
       "    <tr>\n",
       "      <th>2</th>\n",
       "      <td>Crossfox</td>\n",
       "      <td>Motor Diesel V8</td>\n",
       "      <td>1990</td>\n",
       "      <td>37123.0</td>\n",
       "      <td>False</td>\n",
       "      <td>['Piloto automático', 'Controle de estabilidad...</td>\n",
       "      <td>72832.16</td>\n",
       "    </tr>\n",
       "  </tbody>\n",
       "</table>\n",
       "</div>"
      ],
      "text/plain": [
       "            Nome            Motor   Ano  Quilometragem  Zero_km  \\\n",
       "0  Jetta Variant  Motor 4.0 Turbo  2003        44410.0    False   \n",
       "1         Passat     Motor Diesel  1991         5712.0    False   \n",
       "2       Crossfox  Motor Diesel V8  1990        37123.0    False   \n",
       "\n",
       "                                          Acessórios      Valor  \n",
       "0  ['Rodas de liga', 'Travas elétricas', 'Piloto ...   88078.64  \n",
       "1  ['Central multimídia', 'Teto panorâmico', 'Fre...  106161.94  \n",
       "2  ['Piloto automático', 'Controle de estabilidad...   72832.16  "
      ]
     },
     "execution_count": 155,
     "metadata": {},
     "output_type": "execute_result"
    }
   ],
   "source": [
    "dataset[0:3]"
   ]
  },
  {
   "cell_type": "markdown",
   "metadata": {
    "colab_type": "text",
    "id": "G3DMSk97D1BR"
   },
   "source": [
    "### Utilizando .loc para seleções\n",
    "\n",
    "<font color=red>**Observação:**</font> Seleciona um grupo de linhas e colunas segundo os rótulos ou uma matriz booleana."
   ]
  },
  {
   "cell_type": "code",
   "execution_count": 161,
   "metadata": {
    "colab": {},
    "colab_type": "code",
    "id": "Ftg-hNOoD1BR"
   },
   "outputs": [
    {
     "data": {
      "text/plain": [
       "Nome                                                 Jetta Variant\n",
       "Motor                                              Motor 4.0 Turbo\n",
       "Ano                                                           2003\n",
       "Quilometragem                                              44410.0\n",
       "Zero_km                                                      False\n",
       "Acessórios       ['Rodas de liga', 'Travas elétricas', 'Piloto ...\n",
       "Valor                                                     88078.64\n",
       "Name: 0, dtype: object"
      ]
     },
     "execution_count": 161,
     "metadata": {},
     "output_type": "execute_result"
    }
   ],
   "source": [
    "dataset.loc[0]"
   ]
  },
  {
   "cell_type": "code",
   "execution_count": 163,
   "metadata": {
    "colab": {},
    "colab_type": "code",
    "id": "xdxkDrHvD1BS"
   },
   "outputs": [
    {
     "data": {
      "text/html": [
       "<div>\n",
       "<style scoped>\n",
       "    .dataframe tbody tr th:only-of-type {\n",
       "        vertical-align: middle;\n",
       "    }\n",
       "\n",
       "    .dataframe tbody tr th {\n",
       "        vertical-align: top;\n",
       "    }\n",
       "\n",
       "    .dataframe thead th {\n",
       "        text-align: right;\n",
       "    }\n",
       "</style>\n",
       "<table border=\"1\" class=\"dataframe\">\n",
       "  <thead>\n",
       "    <tr style=\"text-align: right;\">\n",
       "      <th></th>\n",
       "      <th>Nome</th>\n",
       "      <th>Motor</th>\n",
       "      <th>Ano</th>\n",
       "      <th>Quilometragem</th>\n",
       "      <th>Zero_km</th>\n",
       "      <th>Acessórios</th>\n",
       "      <th>Valor</th>\n",
       "    </tr>\n",
       "  </thead>\n",
       "  <tbody>\n",
       "    <tr>\n",
       "      <th>1</th>\n",
       "      <td>Passat</td>\n",
       "      <td>Motor Diesel</td>\n",
       "      <td>1991</td>\n",
       "      <td>5712.0</td>\n",
       "      <td>False</td>\n",
       "      <td>['Central multimídia', 'Teto panorâmico', 'Fre...</td>\n",
       "      <td>106161.94</td>\n",
       "    </tr>\n",
       "    <tr>\n",
       "      <th>2</th>\n",
       "      <td>Crossfox</td>\n",
       "      <td>Motor Diesel V8</td>\n",
       "      <td>1990</td>\n",
       "      <td>37123.0</td>\n",
       "      <td>False</td>\n",
       "      <td>['Piloto automático', 'Controle de estabilidad...</td>\n",
       "      <td>72832.16</td>\n",
       "    </tr>\n",
       "    <tr>\n",
       "      <th>3</th>\n",
       "      <td>DS5</td>\n",
       "      <td>Motor 2.4 Turbo</td>\n",
       "      <td>2019</td>\n",
       "      <td>NaN</td>\n",
       "      <td>True</td>\n",
       "      <td>['Travas elétricas', '4 X 4', 'Vidros elétrico...</td>\n",
       "      <td>124549.07</td>\n",
       "    </tr>\n",
       "    <tr>\n",
       "      <th>4</th>\n",
       "      <td>Aston Martin DB4</td>\n",
       "      <td>Motor 2.4 Turbo</td>\n",
       "      <td>2006</td>\n",
       "      <td>25757.0</td>\n",
       "      <td>False</td>\n",
       "      <td>['Rodas de liga', '4 X 4', 'Central multimídia...</td>\n",
       "      <td>92612.10</td>\n",
       "    </tr>\n",
       "  </tbody>\n",
       "</table>\n",
       "</div>"
      ],
      "text/plain": [
       "               Nome            Motor   Ano  Quilometragem  Zero_km  \\\n",
       "1            Passat     Motor Diesel  1991         5712.0    False   \n",
       "2          Crossfox  Motor Diesel V8  1990        37123.0    False   \n",
       "3               DS5  Motor 2.4 Turbo  2019            NaN     True   \n",
       "4  Aston Martin DB4  Motor 2.4 Turbo  2006        25757.0    False   \n",
       "\n",
       "                                          Acessórios      Valor  \n",
       "1  ['Central multimídia', 'Teto panorâmico', 'Fre...  106161.94  \n",
       "2  ['Piloto automático', 'Controle de estabilidad...   72832.16  \n",
       "3  ['Travas elétricas', '4 X 4', 'Vidros elétrico...  124549.07  \n",
       "4  ['Rodas de liga', '4 X 4', 'Central multimídia...   92612.10  "
      ]
     },
     "execution_count": 163,
     "metadata": {},
     "output_type": "execute_result"
    }
   ],
   "source": [
    "dataset.loc[[1,2,3,4]]"
   ]
  },
  {
   "cell_type": "code",
   "execution_count": 165,
   "metadata": {
    "colab": {},
    "colab_type": "code",
    "id": "pMN3U1KjD1BS"
   },
   "outputs": [
    {
     "data": {
      "text/html": [
       "<div>\n",
       "<style scoped>\n",
       "    .dataframe tbody tr th:only-of-type {\n",
       "        vertical-align: middle;\n",
       "    }\n",
       "\n",
       "    .dataframe tbody tr th {\n",
       "        vertical-align: top;\n",
       "    }\n",
       "\n",
       "    .dataframe thead th {\n",
       "        text-align: right;\n",
       "    }\n",
       "</style>\n",
       "<table border=\"1\" class=\"dataframe\">\n",
       "  <thead>\n",
       "    <tr style=\"text-align: right;\">\n",
       "      <th></th>\n",
       "      <th>Nome</th>\n",
       "      <th>Valor</th>\n",
       "    </tr>\n",
       "  </thead>\n",
       "  <tbody>\n",
       "    <tr>\n",
       "      <th>1</th>\n",
       "      <td>Passat</td>\n",
       "      <td>106161.94</td>\n",
       "    </tr>\n",
       "    <tr>\n",
       "      <th>2</th>\n",
       "      <td>Crossfox</td>\n",
       "      <td>72832.16</td>\n",
       "    </tr>\n",
       "    <tr>\n",
       "      <th>3</th>\n",
       "      <td>DS5</td>\n",
       "      <td>124549.07</td>\n",
       "    </tr>\n",
       "    <tr>\n",
       "      <th>4</th>\n",
       "      <td>Aston Martin DB4</td>\n",
       "      <td>92612.10</td>\n",
       "    </tr>\n",
       "  </tbody>\n",
       "</table>\n",
       "</div>"
      ],
      "text/plain": [
       "               Nome      Valor\n",
       "1            Passat  106161.94\n",
       "2          Crossfox   72832.16\n",
       "3               DS5  124549.07\n",
       "4  Aston Martin DB4   92612.10"
      ]
     },
     "execution_count": 165,
     "metadata": {},
     "output_type": "execute_result"
    }
   ],
   "source": [
    "dataset.loc[[1,2,3,4],['Nome','Valor']] # informação das linhas e depois das colunas "
   ]
  },
  {
   "cell_type": "code",
   "execution_count": 166,
   "metadata": {
    "colab": {},
    "colab_type": "code",
    "id": "oOEO72uZD1BT",
    "scrolled": true
   },
   "outputs": [
    {
     "data": {
      "text/html": [
       "<div>\n",
       "<style scoped>\n",
       "    .dataframe tbody tr th:only-of-type {\n",
       "        vertical-align: middle;\n",
       "    }\n",
       "\n",
       "    .dataframe tbody tr th {\n",
       "        vertical-align: top;\n",
       "    }\n",
       "\n",
       "    .dataframe thead th {\n",
       "        text-align: right;\n",
       "    }\n",
       "</style>\n",
       "<table border=\"1\" class=\"dataframe\">\n",
       "  <thead>\n",
       "    <tr style=\"text-align: right;\">\n",
       "      <th></th>\n",
       "      <th>Nome</th>\n",
       "      <th>Valor</th>\n",
       "    </tr>\n",
       "  </thead>\n",
       "  <tbody>\n",
       "    <tr>\n",
       "      <th>0</th>\n",
       "      <td>Jetta Variant</td>\n",
       "      <td>88078.64</td>\n",
       "    </tr>\n",
       "    <tr>\n",
       "      <th>1</th>\n",
       "      <td>Passat</td>\n",
       "      <td>106161.94</td>\n",
       "    </tr>\n",
       "    <tr>\n",
       "      <th>2</th>\n",
       "      <td>Crossfox</td>\n",
       "      <td>72832.16</td>\n",
       "    </tr>\n",
       "    <tr>\n",
       "      <th>3</th>\n",
       "      <td>DS5</td>\n",
       "      <td>124549.07</td>\n",
       "    </tr>\n",
       "    <tr>\n",
       "      <th>4</th>\n",
       "      <td>Aston Martin DB4</td>\n",
       "      <td>92612.10</td>\n",
       "    </tr>\n",
       "    <tr>\n",
       "      <th>...</th>\n",
       "      <td>...</td>\n",
       "      <td>...</td>\n",
       "    </tr>\n",
       "    <tr>\n",
       "      <th>253</th>\n",
       "      <td>Phantom 2013</td>\n",
       "      <td>51759.58</td>\n",
       "    </tr>\n",
       "    <tr>\n",
       "      <th>254</th>\n",
       "      <td>Cadillac Ciel concept</td>\n",
       "      <td>51667.06</td>\n",
       "    </tr>\n",
       "    <tr>\n",
       "      <th>255</th>\n",
       "      <td>Classe GLK</td>\n",
       "      <td>68934.03</td>\n",
       "    </tr>\n",
       "    <tr>\n",
       "      <th>256</th>\n",
       "      <td>Aston Martin DB5</td>\n",
       "      <td>122110.90</td>\n",
       "    </tr>\n",
       "    <tr>\n",
       "      <th>257</th>\n",
       "      <td>Macan</td>\n",
       "      <td>90381.47</td>\n",
       "    </tr>\n",
       "  </tbody>\n",
       "</table>\n",
       "<p>258 rows × 2 columns</p>\n",
       "</div>"
      ],
      "text/plain": [
       "                      Nome      Valor\n",
       "0            Jetta Variant   88078.64\n",
       "1                   Passat  106161.94\n",
       "2                 Crossfox   72832.16\n",
       "3                      DS5  124549.07\n",
       "4         Aston Martin DB4   92612.10\n",
       "..                     ...        ...\n",
       "253           Phantom 2013   51759.58\n",
       "254  Cadillac Ciel concept   51667.06\n",
       "255             Classe GLK   68934.03\n",
       "256       Aston Martin DB5  122110.90\n",
       "257                  Macan   90381.47\n",
       "\n",
       "[258 rows x 2 columns]"
      ]
     },
     "execution_count": 166,
     "metadata": {},
     "output_type": "execute_result"
    }
   ],
   "source": [
    "dataset.loc[:,['Nome','Valor']]"
   ]
  },
  {
   "cell_type": "markdown",
   "metadata": {
    "colab_type": "text",
    "id": "SYKEe3vCD1BT"
   },
   "source": [
    "### Utilizando .iloc para seleções\n",
    "\n",
    "<font color=red>**Observação:**</font> Seleciona com base nos índices, ou seja, se baseia na posição das informações."
   ]
  },
  {
   "cell_type": "code",
   "execution_count": 167,
   "metadata": {
    "colab": {},
    "colab_type": "code",
    "id": "U4Bru90bD1BT"
   },
   "outputs": [
    {
     "data": {
      "text/plain": [
       "Nome                                                        Passat\n",
       "Motor                                                 Motor Diesel\n",
       "Ano                                                           1991\n",
       "Quilometragem                                               5712.0\n",
       "Zero_km                                                      False\n",
       "Acessórios       ['Central multimídia', 'Teto panorâmico', 'Fre...\n",
       "Valor                                                    106161.94\n",
       "Name: 1, dtype: object"
      ]
     },
     "execution_count": 167,
     "metadata": {},
     "output_type": "execute_result"
    }
   ],
   "source": [
    "dataset.iloc[1]"
   ]
  },
  {
   "cell_type": "code",
   "execution_count": 168,
   "metadata": {
    "colab": {},
    "colab_type": "code",
    "id": "iLKUyrzND1BU"
   },
   "outputs": [
    {
     "data": {
      "text/html": [
       "<div>\n",
       "<style scoped>\n",
       "    .dataframe tbody tr th:only-of-type {\n",
       "        vertical-align: middle;\n",
       "    }\n",
       "\n",
       "    .dataframe tbody tr th {\n",
       "        vertical-align: top;\n",
       "    }\n",
       "\n",
       "    .dataframe thead th {\n",
       "        text-align: right;\n",
       "    }\n",
       "</style>\n",
       "<table border=\"1\" class=\"dataframe\">\n",
       "  <thead>\n",
       "    <tr style=\"text-align: right;\">\n",
       "      <th></th>\n",
       "      <th>Nome</th>\n",
       "      <th>Motor</th>\n",
       "      <th>Ano</th>\n",
       "      <th>Quilometragem</th>\n",
       "      <th>Zero_km</th>\n",
       "      <th>Acessórios</th>\n",
       "      <th>Valor</th>\n",
       "    </tr>\n",
       "  </thead>\n",
       "  <tbody>\n",
       "    <tr>\n",
       "      <th>1</th>\n",
       "      <td>Passat</td>\n",
       "      <td>Motor Diesel</td>\n",
       "      <td>1991</td>\n",
       "      <td>5712.0</td>\n",
       "      <td>False</td>\n",
       "      <td>['Central multimídia', 'Teto panorâmico', 'Fre...</td>\n",
       "      <td>106161.94</td>\n",
       "    </tr>\n",
       "    <tr>\n",
       "      <th>2</th>\n",
       "      <td>Crossfox</td>\n",
       "      <td>Motor Diesel V8</td>\n",
       "      <td>1990</td>\n",
       "      <td>37123.0</td>\n",
       "      <td>False</td>\n",
       "      <td>['Piloto automático', 'Controle de estabilidad...</td>\n",
       "      <td>72832.16</td>\n",
       "    </tr>\n",
       "    <tr>\n",
       "      <th>3</th>\n",
       "      <td>DS5</td>\n",
       "      <td>Motor 2.4 Turbo</td>\n",
       "      <td>2019</td>\n",
       "      <td>NaN</td>\n",
       "      <td>True</td>\n",
       "      <td>['Travas elétricas', '4 X 4', 'Vidros elétrico...</td>\n",
       "      <td>124549.07</td>\n",
       "    </tr>\n",
       "  </tbody>\n",
       "</table>\n",
       "</div>"
      ],
      "text/plain": [
       "       Nome            Motor   Ano  Quilometragem  Zero_km  \\\n",
       "1    Passat     Motor Diesel  1991         5712.0    False   \n",
       "2  Crossfox  Motor Diesel V8  1990        37123.0    False   \n",
       "3       DS5  Motor 2.4 Turbo  2019            NaN     True   \n",
       "\n",
       "                                          Acessórios      Valor  \n",
       "1  ['Central multimídia', 'Teto panorâmico', 'Fre...  106161.94  \n",
       "2  ['Piloto automático', 'Controle de estabilidad...   72832.16  \n",
       "3  ['Travas elétricas', '4 X 4', 'Vidros elétrico...  124549.07  "
      ]
     },
     "execution_count": 168,
     "metadata": {},
     "output_type": "execute_result"
    }
   ],
   "source": [
    "dataset.iloc[1:4]"
   ]
  },
  {
   "cell_type": "code",
   "execution_count": 170,
   "metadata": {
    "colab": {},
    "colab_type": "code",
    "id": "KGZpixYUD1BU"
   },
   "outputs": [
    {
     "data": {
      "text/html": [
       "<div>\n",
       "<style scoped>\n",
       "    .dataframe tbody tr th:only-of-type {\n",
       "        vertical-align: middle;\n",
       "    }\n",
       "\n",
       "    .dataframe tbody tr th {\n",
       "        vertical-align: top;\n",
       "    }\n",
       "\n",
       "    .dataframe thead th {\n",
       "        text-align: right;\n",
       "    }\n",
       "</style>\n",
       "<table border=\"1\" class=\"dataframe\">\n",
       "  <thead>\n",
       "    <tr style=\"text-align: right;\">\n",
       "      <th></th>\n",
       "      <th>Nome</th>\n",
       "      <th>Zero_km</th>\n",
       "      <th>Ano</th>\n",
       "    </tr>\n",
       "  </thead>\n",
       "  <tbody>\n",
       "    <tr>\n",
       "      <th>1</th>\n",
       "      <td>Passat</td>\n",
       "      <td>False</td>\n",
       "      <td>1991</td>\n",
       "    </tr>\n",
       "    <tr>\n",
       "      <th>2</th>\n",
       "      <td>Crossfox</td>\n",
       "      <td>False</td>\n",
       "      <td>1990</td>\n",
       "    </tr>\n",
       "    <tr>\n",
       "      <th>3</th>\n",
       "      <td>DS5</td>\n",
       "      <td>True</td>\n",
       "      <td>2019</td>\n",
       "    </tr>\n",
       "  </tbody>\n",
       "</table>\n",
       "</div>"
      ],
      "text/plain": [
       "       Nome  Zero_km   Ano\n",
       "1    Passat    False  1991\n",
       "2  Crossfox    False  1990\n",
       "3       DS5     True  2019"
      ]
     },
     "execution_count": 170,
     "metadata": {},
     "output_type": "execute_result"
    }
   ],
   "source": [
    "dataset.iloc[1:4,[0,4,2]]"
   ]
  },
  {
   "cell_type": "code",
   "execution_count": 171,
   "metadata": {
    "colab": {},
    "colab_type": "code",
    "id": "GxdqIz4LD1BV"
   },
   "outputs": [
    {
     "data": {
      "text/html": [
       "<div>\n",
       "<style scoped>\n",
       "    .dataframe tbody tr th:only-of-type {\n",
       "        vertical-align: middle;\n",
       "    }\n",
       "\n",
       "    .dataframe tbody tr th {\n",
       "        vertical-align: top;\n",
       "    }\n",
       "\n",
       "    .dataframe thead th {\n",
       "        text-align: right;\n",
       "    }\n",
       "</style>\n",
       "<table border=\"1\" class=\"dataframe\">\n",
       "  <thead>\n",
       "    <tr style=\"text-align: right;\">\n",
       "      <th></th>\n",
       "      <th>Nome</th>\n",
       "      <th>Zero_km</th>\n",
       "      <th>Ano</th>\n",
       "    </tr>\n",
       "  </thead>\n",
       "  <tbody>\n",
       "    <tr>\n",
       "      <th>14</th>\n",
       "      <td>F-Type Coupé</td>\n",
       "      <td>False</td>\n",
       "      <td>2009</td>\n",
       "    </tr>\n",
       "    <tr>\n",
       "      <th>4</th>\n",
       "      <td>Aston Martin DB4</td>\n",
       "      <td>False</td>\n",
       "      <td>2006</td>\n",
       "    </tr>\n",
       "    <tr>\n",
       "      <th>233</th>\n",
       "      <td>i30 CW</td>\n",
       "      <td>False</td>\n",
       "      <td>2015</td>\n",
       "    </tr>\n",
       "  </tbody>\n",
       "</table>\n",
       "</div>"
      ],
      "text/plain": [
       "                 Nome  Zero_km   Ano\n",
       "14       F-Type Coupé    False  2009\n",
       "4    Aston Martin DB4    False  2006\n",
       "233            i30 CW    False  2015"
      ]
     },
     "execution_count": 171,
     "metadata": {},
     "output_type": "execute_result"
    }
   ],
   "source": [
    "dataset.iloc[[14,4 ,233],[0,4,2]]"
   ]
  },
  {
   "cell_type": "code",
   "execution_count": 172,
   "metadata": {
    "colab": {},
    "colab_type": "code",
    "id": "AVIhs7uLD1BW",
    "scrolled": true
   },
   "outputs": [
    {
     "data": {
      "text/html": [
       "<div>\n",
       "<style scoped>\n",
       "    .dataframe tbody tr th:only-of-type {\n",
       "        vertical-align: middle;\n",
       "    }\n",
       "\n",
       "    .dataframe tbody tr th {\n",
       "        vertical-align: top;\n",
       "    }\n",
       "\n",
       "    .dataframe thead th {\n",
       "        text-align: right;\n",
       "    }\n",
       "</style>\n",
       "<table border=\"1\" class=\"dataframe\">\n",
       "  <thead>\n",
       "    <tr style=\"text-align: right;\">\n",
       "      <th></th>\n",
       "      <th>Nome</th>\n",
       "      <th>Zero_km</th>\n",
       "      <th>Ano</th>\n",
       "    </tr>\n",
       "  </thead>\n",
       "  <tbody>\n",
       "    <tr>\n",
       "      <th>0</th>\n",
       "      <td>Jetta Variant</td>\n",
       "      <td>False</td>\n",
       "      <td>2003</td>\n",
       "    </tr>\n",
       "    <tr>\n",
       "      <th>1</th>\n",
       "      <td>Passat</td>\n",
       "      <td>False</td>\n",
       "      <td>1991</td>\n",
       "    </tr>\n",
       "    <tr>\n",
       "      <th>2</th>\n",
       "      <td>Crossfox</td>\n",
       "      <td>False</td>\n",
       "      <td>1990</td>\n",
       "    </tr>\n",
       "    <tr>\n",
       "      <th>3</th>\n",
       "      <td>DS5</td>\n",
       "      <td>True</td>\n",
       "      <td>2019</td>\n",
       "    </tr>\n",
       "    <tr>\n",
       "      <th>4</th>\n",
       "      <td>Aston Martin DB4</td>\n",
       "      <td>False</td>\n",
       "      <td>2006</td>\n",
       "    </tr>\n",
       "    <tr>\n",
       "      <th>...</th>\n",
       "      <td>...</td>\n",
       "      <td>...</td>\n",
       "      <td>...</td>\n",
       "    </tr>\n",
       "    <tr>\n",
       "      <th>253</th>\n",
       "      <td>Phantom 2013</td>\n",
       "      <td>False</td>\n",
       "      <td>2014</td>\n",
       "    </tr>\n",
       "    <tr>\n",
       "      <th>254</th>\n",
       "      <td>Cadillac Ciel concept</td>\n",
       "      <td>False</td>\n",
       "      <td>1991</td>\n",
       "    </tr>\n",
       "    <tr>\n",
       "      <th>255</th>\n",
       "      <td>Classe GLK</td>\n",
       "      <td>False</td>\n",
       "      <td>2002</td>\n",
       "    </tr>\n",
       "    <tr>\n",
       "      <th>256</th>\n",
       "      <td>Aston Martin DB5</td>\n",
       "      <td>False</td>\n",
       "      <td>1996</td>\n",
       "    </tr>\n",
       "    <tr>\n",
       "      <th>257</th>\n",
       "      <td>Macan</td>\n",
       "      <td>False</td>\n",
       "      <td>1992</td>\n",
       "    </tr>\n",
       "  </tbody>\n",
       "</table>\n",
       "<p>258 rows × 3 columns</p>\n",
       "</div>"
      ],
      "text/plain": [
       "                      Nome  Zero_km   Ano\n",
       "0            Jetta Variant    False  2003\n",
       "1                   Passat    False  1991\n",
       "2                 Crossfox    False  1990\n",
       "3                      DS5     True  2019\n",
       "4         Aston Martin DB4    False  2006\n",
       "..                     ...      ...   ...\n",
       "253           Phantom 2013    False  2014\n",
       "254  Cadillac Ciel concept    False  1991\n",
       "255             Classe GLK    False  2002\n",
       "256       Aston Martin DB5    False  1996\n",
       "257                  Macan    False  1992\n",
       "\n",
       "[258 rows x 3 columns]"
      ]
     },
     "execution_count": 172,
     "metadata": {},
     "output_type": "execute_result"
    }
   ],
   "source": [
    "dataset.iloc[:,[0,4,2]]"
   ]
  },
  {
   "cell_type": "markdown",
   "metadata": {
    "colab_type": "text",
    "id": "eAbwq1oLD1BW"
   },
   "source": [
    "# 5.3 Queries com DataFrames"
   ]
  },
  {
   "cell_type": "code",
   "execution_count": 175,
   "metadata": {
    "colab": {},
    "colab_type": "code",
    "id": "AOZTWzehD1BW",
    "scrolled": true
   },
   "outputs": [
    {
     "data": {
      "text/html": [
       "<div>\n",
       "<style scoped>\n",
       "    .dataframe tbody tr th:only-of-type {\n",
       "        vertical-align: middle;\n",
       "    }\n",
       "\n",
       "    .dataframe tbody tr th {\n",
       "        vertical-align: top;\n",
       "    }\n",
       "\n",
       "    .dataframe thead th {\n",
       "        text-align: right;\n",
       "    }\n",
       "</style>\n",
       "<table border=\"1\" class=\"dataframe\">\n",
       "  <thead>\n",
       "    <tr style=\"text-align: right;\">\n",
       "      <th></th>\n",
       "      <th>Nome</th>\n",
       "      <th>Motor</th>\n",
       "      <th>Ano</th>\n",
       "      <th>Quilometragem</th>\n",
       "      <th>Zero_km</th>\n",
       "      <th>Acessórios</th>\n",
       "      <th>Valor</th>\n",
       "    </tr>\n",
       "  </thead>\n",
       "  <tbody>\n",
       "    <tr>\n",
       "      <th>0</th>\n",
       "      <td>Jetta Variant</td>\n",
       "      <td>Motor 4.0 Turbo</td>\n",
       "      <td>2003</td>\n",
       "      <td>44410.0</td>\n",
       "      <td>False</td>\n",
       "      <td>['Rodas de liga', 'Travas elétricas', 'Piloto ...</td>\n",
       "      <td>88078.64</td>\n",
       "    </tr>\n",
       "    <tr>\n",
       "      <th>1</th>\n",
       "      <td>Passat</td>\n",
       "      <td>Motor Diesel</td>\n",
       "      <td>1991</td>\n",
       "      <td>5712.0</td>\n",
       "      <td>False</td>\n",
       "      <td>['Central multimídia', 'Teto panorâmico', 'Fre...</td>\n",
       "      <td>106161.94</td>\n",
       "    </tr>\n",
       "    <tr>\n",
       "      <th>2</th>\n",
       "      <td>Crossfox</td>\n",
       "      <td>Motor Diesel V8</td>\n",
       "      <td>1990</td>\n",
       "      <td>37123.0</td>\n",
       "      <td>False</td>\n",
       "      <td>['Piloto automático', 'Controle de estabilidad...</td>\n",
       "      <td>72832.16</td>\n",
       "    </tr>\n",
       "    <tr>\n",
       "      <th>3</th>\n",
       "      <td>DS5</td>\n",
       "      <td>Motor 2.4 Turbo</td>\n",
       "      <td>2019</td>\n",
       "      <td>NaN</td>\n",
       "      <td>True</td>\n",
       "      <td>['Travas elétricas', '4 X 4', 'Vidros elétrico...</td>\n",
       "      <td>124549.07</td>\n",
       "    </tr>\n",
       "    <tr>\n",
       "      <th>4</th>\n",
       "      <td>Aston Martin DB4</td>\n",
       "      <td>Motor 2.4 Turbo</td>\n",
       "      <td>2006</td>\n",
       "      <td>25757.0</td>\n",
       "      <td>False</td>\n",
       "      <td>['Rodas de liga', '4 X 4', 'Central multimídia...</td>\n",
       "      <td>92612.10</td>\n",
       "    </tr>\n",
       "  </tbody>\n",
       "</table>\n",
       "</div>"
      ],
      "text/plain": [
       "               Nome            Motor   Ano  Quilometragem  Zero_km  \\\n",
       "0     Jetta Variant  Motor 4.0 Turbo  2003        44410.0    False   \n",
       "1            Passat     Motor Diesel  1991         5712.0    False   \n",
       "2          Crossfox  Motor Diesel V8  1990        37123.0    False   \n",
       "3               DS5  Motor 2.4 Turbo  2019            NaN     True   \n",
       "4  Aston Martin DB4  Motor 2.4 Turbo  2006        25757.0    False   \n",
       "\n",
       "                                          Acessórios      Valor  \n",
       "0  ['Rodas de liga', 'Travas elétricas', 'Piloto ...   88078.64  \n",
       "1  ['Central multimídia', 'Teto panorâmico', 'Fre...  106161.94  \n",
       "2  ['Piloto automático', 'Controle de estabilidad...   72832.16  \n",
       "3  ['Travas elétricas', '4 X 4', 'Vidros elétrico...  124549.07  \n",
       "4  ['Rodas de liga', '4 X 4', 'Central multimídia...   92612.10  "
      ]
     },
     "execution_count": 175,
     "metadata": {},
     "output_type": "execute_result"
    }
   ],
   "source": [
    "dataset.head()"
   ]
  },
  {
   "cell_type": "code",
   "execution_count": 176,
   "metadata": {
    "colab": {},
    "colab_type": "code",
    "id": "rO5T4h94D1BX",
    "scrolled": true
   },
   "outputs": [
    {
     "data": {
      "text/plain": [
       "0            Motor 4.0 Turbo\n",
       "1               Motor Diesel\n",
       "2            Motor Diesel V8\n",
       "3            Motor 2.4 Turbo\n",
       "4            Motor 2.4 Turbo\n",
       "               ...          \n",
       "253                 Motor V8\n",
       "254                 Motor V8\n",
       "255    Motor 5.0 V8 Bi-Turbo\n",
       "256             Motor Diesel\n",
       "257          Motor Diesel V6\n",
       "Name: Motor, Length: 258, dtype: object"
      ]
     },
     "execution_count": 176,
     "metadata": {},
     "output_type": "execute_result"
    }
   ],
   "source": [
    "dataset.Motor"
   ]
  },
  {
   "cell_type": "code",
   "execution_count": 178,
   "metadata": {
    "colab": {},
    "colab_type": "code",
    "id": "STZ-l8oaD1BX"
   },
   "outputs": [],
   "source": [
    "select = dataset.Motor == 'Motor Diesel'"
   ]
  },
  {
   "cell_type": "code",
   "execution_count": 180,
   "metadata": {
    "colab": {},
    "colab_type": "code",
    "id": "OZC8NAn6D1BX"
   },
   "outputs": [
    {
     "data": {
      "text/plain": [
       "pandas.core.series.Series"
      ]
     },
     "execution_count": 180,
     "metadata": {},
     "output_type": "execute_result"
    }
   ],
   "source": [
    "type(select)"
   ]
  },
  {
   "cell_type": "code",
   "execution_count": 181,
   "metadata": {
    "colab": {},
    "colab_type": "code",
    "id": "OzXC2M40D1BY",
    "scrolled": true
   },
   "outputs": [
    {
     "data": {
      "text/html": [
       "<div>\n",
       "<style scoped>\n",
       "    .dataframe tbody tr th:only-of-type {\n",
       "        vertical-align: middle;\n",
       "    }\n",
       "\n",
       "    .dataframe tbody tr th {\n",
       "        vertical-align: top;\n",
       "    }\n",
       "\n",
       "    .dataframe thead th {\n",
       "        text-align: right;\n",
       "    }\n",
       "</style>\n",
       "<table border=\"1\" class=\"dataframe\">\n",
       "  <thead>\n",
       "    <tr style=\"text-align: right;\">\n",
       "      <th></th>\n",
       "      <th>Nome</th>\n",
       "      <th>Motor</th>\n",
       "      <th>Ano</th>\n",
       "      <th>Quilometragem</th>\n",
       "      <th>Zero_km</th>\n",
       "      <th>Acessórios</th>\n",
       "      <th>Valor</th>\n",
       "    </tr>\n",
       "  </thead>\n",
       "  <tbody>\n",
       "    <tr>\n",
       "      <th>1</th>\n",
       "      <td>Passat</td>\n",
       "      <td>Motor Diesel</td>\n",
       "      <td>1991</td>\n",
       "      <td>5712.0</td>\n",
       "      <td>False</td>\n",
       "      <td>['Central multimídia', 'Teto panorâmico', 'Fre...</td>\n",
       "      <td>106161.94</td>\n",
       "    </tr>\n",
       "    <tr>\n",
       "      <th>23</th>\n",
       "      <td>Effa Hafei Picape Baú</td>\n",
       "      <td>Motor Diesel</td>\n",
       "      <td>1991</td>\n",
       "      <td>102959.0</td>\n",
       "      <td>False</td>\n",
       "      <td>['Controle de estabilidade', 'Painel digital',...</td>\n",
       "      <td>125684.65</td>\n",
       "    </tr>\n",
       "    <tr>\n",
       "      <th>60</th>\n",
       "      <td>Sorento</td>\n",
       "      <td>Motor Diesel</td>\n",
       "      <td>2019</td>\n",
       "      <td>NaN</td>\n",
       "      <td>True</td>\n",
       "      <td>['Sensor de chuva', 'Câmera de estacionamento'...</td>\n",
       "      <td>81399.35</td>\n",
       "    </tr>\n",
       "    <tr>\n",
       "      <th>62</th>\n",
       "      <td>New Fiesta Hatch</td>\n",
       "      <td>Motor Diesel</td>\n",
       "      <td>2017</td>\n",
       "      <td>118895.0</td>\n",
       "      <td>False</td>\n",
       "      <td>['Sensor de estacionamento', 'Travas elétricas...</td>\n",
       "      <td>66007.16</td>\n",
       "    </tr>\n",
       "    <tr>\n",
       "      <th>69</th>\n",
       "      <td>Kangoo Express</td>\n",
       "      <td>Motor Diesel</td>\n",
       "      <td>2007</td>\n",
       "      <td>29132.0</td>\n",
       "      <td>False</td>\n",
       "      <td>['Bancos de couro', 'Câmbio automático', 'Pilo...</td>\n",
       "      <td>146716.91</td>\n",
       "    </tr>\n",
       "    <tr>\n",
       "      <th>...</th>\n",
       "      <td>...</td>\n",
       "      <td>...</td>\n",
       "      <td>...</td>\n",
       "      <td>...</td>\n",
       "      <td>...</td>\n",
       "      <td>...</td>\n",
       "      <td>...</td>\n",
       "    </tr>\n",
       "    <tr>\n",
       "      <th>226</th>\n",
       "      <td>Dodge Dakota</td>\n",
       "      <td>Motor Diesel</td>\n",
       "      <td>1993</td>\n",
       "      <td>71544.0</td>\n",
       "      <td>False</td>\n",
       "      <td>['Controle de tração', 'Sensor de estacionamen...</td>\n",
       "      <td>141083.35</td>\n",
       "    </tr>\n",
       "    <tr>\n",
       "      <th>233</th>\n",
       "      <td>i30 CW</td>\n",
       "      <td>Motor Diesel</td>\n",
       "      <td>2015</td>\n",
       "      <td>8497.0</td>\n",
       "      <td>False</td>\n",
       "      <td>['Sensor de chuva', 'Vidros elétricos', 'Contr...</td>\n",
       "      <td>73311.75</td>\n",
       "    </tr>\n",
       "    <tr>\n",
       "      <th>237</th>\n",
       "      <td>Série 7 Sedã</td>\n",
       "      <td>Motor Diesel</td>\n",
       "      <td>2019</td>\n",
       "      <td>NaN</td>\n",
       "      <td>True</td>\n",
       "      <td>['Vidros elétricos', 'Travas elétricas', 'Roda...</td>\n",
       "      <td>67539.79</td>\n",
       "    </tr>\n",
       "    <tr>\n",
       "      <th>240</th>\n",
       "      <td>V60</td>\n",
       "      <td>Motor Diesel</td>\n",
       "      <td>2004</td>\n",
       "      <td>91840.0</td>\n",
       "      <td>False</td>\n",
       "      <td>['Rodas de liga', 'Sensor crepuscular', 'Ar co...</td>\n",
       "      <td>114728.74</td>\n",
       "    </tr>\n",
       "    <tr>\n",
       "      <th>256</th>\n",
       "      <td>Aston Martin DB5</td>\n",
       "      <td>Motor Diesel</td>\n",
       "      <td>1996</td>\n",
       "      <td>7685.0</td>\n",
       "      <td>False</td>\n",
       "      <td>['Ar condicionado', '4 X 4', 'Câmbio automátic...</td>\n",
       "      <td>122110.90</td>\n",
       "    </tr>\n",
       "  </tbody>\n",
       "</table>\n",
       "<p>26 rows × 7 columns</p>\n",
       "</div>"
      ],
      "text/plain": [
       "                      Nome         Motor   Ano  Quilometragem  Zero_km  \\\n",
       "1                   Passat  Motor Diesel  1991         5712.0    False   \n",
       "23   Effa Hafei Picape Baú  Motor Diesel  1991       102959.0    False   \n",
       "60                 Sorento  Motor Diesel  2019            NaN     True   \n",
       "62        New Fiesta Hatch  Motor Diesel  2017       118895.0    False   \n",
       "69          Kangoo Express  Motor Diesel  2007        29132.0    False   \n",
       "..                     ...           ...   ...            ...      ...   \n",
       "226           Dodge Dakota  Motor Diesel  1993        71544.0    False   \n",
       "233                 i30 CW  Motor Diesel  2015         8497.0    False   \n",
       "237           Série 7 Sedã  Motor Diesel  2019            NaN     True   \n",
       "240                    V60  Motor Diesel  2004        91840.0    False   \n",
       "256       Aston Martin DB5  Motor Diesel  1996         7685.0    False   \n",
       "\n",
       "                                            Acessórios      Valor  \n",
       "1    ['Central multimídia', 'Teto panorâmico', 'Fre...  106161.94  \n",
       "23   ['Controle de estabilidade', 'Painel digital',...  125684.65  \n",
       "60   ['Sensor de chuva', 'Câmera de estacionamento'...   81399.35  \n",
       "62   ['Sensor de estacionamento', 'Travas elétricas...   66007.16  \n",
       "69   ['Bancos de couro', 'Câmbio automático', 'Pilo...  146716.91  \n",
       "..                                                 ...        ...  \n",
       "226  ['Controle de tração', 'Sensor de estacionamen...  141083.35  \n",
       "233  ['Sensor de chuva', 'Vidros elétricos', 'Contr...   73311.75  \n",
       "237  ['Vidros elétricos', 'Travas elétricas', 'Roda...   67539.79  \n",
       "240  ['Rodas de liga', 'Sensor crepuscular', 'Ar co...  114728.74  \n",
       "256  ['Ar condicionado', '4 X 4', 'Câmbio automátic...  122110.90  \n",
       "\n",
       "[26 rows x 7 columns]"
      ]
     },
     "execution_count": 181,
     "metadata": {},
     "output_type": "execute_result"
    }
   ],
   "source": [
    "dataset[select]"
   ]
  },
  {
   "cell_type": "code",
   "execution_count": 183,
   "metadata": {},
   "outputs": [
    {
     "data": {
      "text/html": [
       "<div>\n",
       "<style scoped>\n",
       "    .dataframe tbody tr th:only-of-type {\n",
       "        vertical-align: middle;\n",
       "    }\n",
       "\n",
       "    .dataframe tbody tr th {\n",
       "        vertical-align: top;\n",
       "    }\n",
       "\n",
       "    .dataframe thead th {\n",
       "        text-align: right;\n",
       "    }\n",
       "</style>\n",
       "<table border=\"1\" class=\"dataframe\">\n",
       "  <thead>\n",
       "    <tr style=\"text-align: right;\">\n",
       "      <th></th>\n",
       "      <th>Nome</th>\n",
       "      <th>Motor</th>\n",
       "      <th>Ano</th>\n",
       "      <th>Quilometragem</th>\n",
       "      <th>Zero_km</th>\n",
       "      <th>Acessórios</th>\n",
       "      <th>Valor</th>\n",
       "    </tr>\n",
       "  </thead>\n",
       "  <tbody>\n",
       "    <tr>\n",
       "      <th>60</th>\n",
       "      <td>Sorento</td>\n",
       "      <td>Motor Diesel</td>\n",
       "      <td>2019</td>\n",
       "      <td>NaN</td>\n",
       "      <td>True</td>\n",
       "      <td>['Sensor de chuva', 'Câmera de estacionamento'...</td>\n",
       "      <td>81399.35</td>\n",
       "    </tr>\n",
       "    <tr>\n",
       "      <th>78</th>\n",
       "      <td>Cielo Hatch</td>\n",
       "      <td>Motor Diesel</td>\n",
       "      <td>2019</td>\n",
       "      <td>NaN</td>\n",
       "      <td>True</td>\n",
       "      <td>['Painel digital', 'Central multimídia', 'Câme...</td>\n",
       "      <td>145197.70</td>\n",
       "    </tr>\n",
       "    <tr>\n",
       "      <th>124</th>\n",
       "      <td>Camry</td>\n",
       "      <td>Motor Diesel</td>\n",
       "      <td>2019</td>\n",
       "      <td>NaN</td>\n",
       "      <td>True</td>\n",
       "      <td>['Travas elétricas', 'Rodas de liga', 'Sensor ...</td>\n",
       "      <td>138597.27</td>\n",
       "    </tr>\n",
       "    <tr>\n",
       "      <th>189</th>\n",
       "      <td>Aston Martin Virage</td>\n",
       "      <td>Motor Diesel</td>\n",
       "      <td>2019</td>\n",
       "      <td>NaN</td>\n",
       "      <td>True</td>\n",
       "      <td>['Travas elétricas', 'Controle de tração', 'Câ...</td>\n",
       "      <td>97290.18</td>\n",
       "    </tr>\n",
       "    <tr>\n",
       "      <th>237</th>\n",
       "      <td>Série 7 Sedã</td>\n",
       "      <td>Motor Diesel</td>\n",
       "      <td>2019</td>\n",
       "      <td>NaN</td>\n",
       "      <td>True</td>\n",
       "      <td>['Vidros elétricos', 'Travas elétricas', 'Roda...</td>\n",
       "      <td>67539.79</td>\n",
       "    </tr>\n",
       "  </tbody>\n",
       "</table>\n",
       "</div>"
      ],
      "text/plain": [
       "                    Nome         Motor   Ano  Quilometragem  Zero_km  \\\n",
       "60               Sorento  Motor Diesel  2019            NaN     True   \n",
       "78           Cielo Hatch  Motor Diesel  2019            NaN     True   \n",
       "124                Camry  Motor Diesel  2019            NaN     True   \n",
       "189  Aston Martin Virage  Motor Diesel  2019            NaN     True   \n",
       "237         Série 7 Sedã  Motor Diesel  2019            NaN     True   \n",
       "\n",
       "                                            Acessórios      Valor  \n",
       "60   ['Sensor de chuva', 'Câmera de estacionamento'...   81399.35  \n",
       "78   ['Painel digital', 'Central multimídia', 'Câme...  145197.70  \n",
       "124  ['Travas elétricas', 'Rodas de liga', 'Sensor ...  138597.27  \n",
       "189  ['Travas elétricas', 'Controle de tração', 'Câ...   97290.18  \n",
       "237  ['Vidros elétricos', 'Travas elétricas', 'Roda...   67539.79  "
      ]
     },
     "execution_count": 183,
     "metadata": {},
     "output_type": "execute_result"
    }
   ],
   "source": [
    "dataset[(dataset.Motor == 'Motor Diesel') & (dataset.Zero_km == True)]"
   ]
  },
  {
   "cell_type": "code",
   "execution_count": 184,
   "metadata": {},
   "outputs": [
    {
     "data": {
      "text/plain": [
       "0      False\n",
       "1      False\n",
       "2      False\n",
       "3      False\n",
       "4      False\n",
       "       ...  \n",
       "253    False\n",
       "254    False\n",
       "255    False\n",
       "256    False\n",
       "257    False\n",
       "Length: 258, dtype: bool"
      ]
     },
     "execution_count": 184,
     "metadata": {},
     "output_type": "execute_result"
    }
   ],
   "source": [
    "(dataset.Motor == 'Motor Diesel') & (dataset.Zero_km == True)"
   ]
  },
  {
   "cell_type": "markdown",
   "metadata": {
    "colab_type": "text",
    "id": "_XKXcWO-D1BY"
   },
   "source": [
    "### Utilizando o método query"
   ]
  },
  {
   "cell_type": "code",
   "execution_count": 185,
   "metadata": {
    "colab": {},
    "colab_type": "code",
    "id": "AB9JirSoD1BY"
   },
   "outputs": [
    {
     "data": {
      "text/html": [
       "<div>\n",
       "<style scoped>\n",
       "    .dataframe tbody tr th:only-of-type {\n",
       "        vertical-align: middle;\n",
       "    }\n",
       "\n",
       "    .dataframe tbody tr th {\n",
       "        vertical-align: top;\n",
       "    }\n",
       "\n",
       "    .dataframe thead th {\n",
       "        text-align: right;\n",
       "    }\n",
       "</style>\n",
       "<table border=\"1\" class=\"dataframe\">\n",
       "  <thead>\n",
       "    <tr style=\"text-align: right;\">\n",
       "      <th></th>\n",
       "      <th>Nome</th>\n",
       "      <th>Motor</th>\n",
       "      <th>Ano</th>\n",
       "      <th>Quilometragem</th>\n",
       "      <th>Zero_km</th>\n",
       "      <th>Acessórios</th>\n",
       "      <th>Valor</th>\n",
       "    </tr>\n",
       "  </thead>\n",
       "  <tbody>\n",
       "    <tr>\n",
       "      <th>60</th>\n",
       "      <td>Sorento</td>\n",
       "      <td>Motor Diesel</td>\n",
       "      <td>2019</td>\n",
       "      <td>NaN</td>\n",
       "      <td>True</td>\n",
       "      <td>['Sensor de chuva', 'Câmera de estacionamento'...</td>\n",
       "      <td>81399.35</td>\n",
       "    </tr>\n",
       "    <tr>\n",
       "      <th>78</th>\n",
       "      <td>Cielo Hatch</td>\n",
       "      <td>Motor Diesel</td>\n",
       "      <td>2019</td>\n",
       "      <td>NaN</td>\n",
       "      <td>True</td>\n",
       "      <td>['Painel digital', 'Central multimídia', 'Câme...</td>\n",
       "      <td>145197.70</td>\n",
       "    </tr>\n",
       "    <tr>\n",
       "      <th>124</th>\n",
       "      <td>Camry</td>\n",
       "      <td>Motor Diesel</td>\n",
       "      <td>2019</td>\n",
       "      <td>NaN</td>\n",
       "      <td>True</td>\n",
       "      <td>['Travas elétricas', 'Rodas de liga', 'Sensor ...</td>\n",
       "      <td>138597.27</td>\n",
       "    </tr>\n",
       "    <tr>\n",
       "      <th>189</th>\n",
       "      <td>Aston Martin Virage</td>\n",
       "      <td>Motor Diesel</td>\n",
       "      <td>2019</td>\n",
       "      <td>NaN</td>\n",
       "      <td>True</td>\n",
       "      <td>['Travas elétricas', 'Controle de tração', 'Câ...</td>\n",
       "      <td>97290.18</td>\n",
       "    </tr>\n",
       "    <tr>\n",
       "      <th>237</th>\n",
       "      <td>Série 7 Sedã</td>\n",
       "      <td>Motor Diesel</td>\n",
       "      <td>2019</td>\n",
       "      <td>NaN</td>\n",
       "      <td>True</td>\n",
       "      <td>['Vidros elétricos', 'Travas elétricas', 'Roda...</td>\n",
       "      <td>67539.79</td>\n",
       "    </tr>\n",
       "  </tbody>\n",
       "</table>\n",
       "</div>"
      ],
      "text/plain": [
       "                    Nome         Motor   Ano  Quilometragem  Zero_km  \\\n",
       "60               Sorento  Motor Diesel  2019            NaN     True   \n",
       "78           Cielo Hatch  Motor Diesel  2019            NaN     True   \n",
       "124                Camry  Motor Diesel  2019            NaN     True   \n",
       "189  Aston Martin Virage  Motor Diesel  2019            NaN     True   \n",
       "237         Série 7 Sedã  Motor Diesel  2019            NaN     True   \n",
       "\n",
       "                                            Acessórios      Valor  \n",
       "60   ['Sensor de chuva', 'Câmera de estacionamento'...   81399.35  \n",
       "78   ['Painel digital', 'Central multimídia', 'Câme...  145197.70  \n",
       "124  ['Travas elétricas', 'Rodas de liga', 'Sensor ...  138597.27  \n",
       "189  ['Travas elétricas', 'Controle de tração', 'Câ...   97290.18  \n",
       "237  ['Vidros elétricos', 'Travas elétricas', 'Roda...   67539.79  "
      ]
     },
     "execution_count": 185,
     "metadata": {},
     "output_type": "execute_result"
    }
   ],
   "source": [
    "dataset.query('Motor == \"Motor Diesel\" and Zero_km == True')"
   ]
  },
  {
   "cell_type": "markdown",
   "metadata": {
    "colab_type": "text",
    "id": "ciJ4dw_FD1BZ"
   },
   "source": [
    "# 5.4 Iterando com DataFrames"
   ]
  },
  {
   "cell_type": "code",
   "execution_count": 173,
   "metadata": {
    "colab": {},
    "colab_type": "code",
    "id": "TKAB-g5KD1BZ"
   },
   "outputs": [
    {
     "data": {
      "text/html": [
       "<div>\n",
       "<style scoped>\n",
       "    .dataframe tbody tr th:only-of-type {\n",
       "        vertical-align: middle;\n",
       "    }\n",
       "\n",
       "    .dataframe tbody tr th {\n",
       "        vertical-align: top;\n",
       "    }\n",
       "\n",
       "    .dataframe thead th {\n",
       "        text-align: right;\n",
       "    }\n",
       "</style>\n",
       "<table border=\"1\" class=\"dataframe\">\n",
       "  <thead>\n",
       "    <tr style=\"text-align: right;\">\n",
       "      <th></th>\n",
       "      <th>Nome</th>\n",
       "      <th>Motor</th>\n",
       "      <th>Ano</th>\n",
       "      <th>Quilometragem</th>\n",
       "      <th>Zero_km</th>\n",
       "      <th>Acessórios</th>\n",
       "      <th>Valor</th>\n",
       "    </tr>\n",
       "  </thead>\n",
       "  <tbody>\n",
       "    <tr>\n",
       "      <th>0</th>\n",
       "      <td>Jetta Variant</td>\n",
       "      <td>Motor 4.0 Turbo</td>\n",
       "      <td>2003</td>\n",
       "      <td>44410.0</td>\n",
       "      <td>False</td>\n",
       "      <td>['Rodas de liga', 'Travas elétricas', 'Piloto ...</td>\n",
       "      <td>88078.64</td>\n",
       "    </tr>\n",
       "    <tr>\n",
       "      <th>1</th>\n",
       "      <td>Passat</td>\n",
       "      <td>Motor Diesel</td>\n",
       "      <td>1991</td>\n",
       "      <td>5712.0</td>\n",
       "      <td>False</td>\n",
       "      <td>['Central multimídia', 'Teto panorâmico', 'Fre...</td>\n",
       "      <td>106161.94</td>\n",
       "    </tr>\n",
       "    <tr>\n",
       "      <th>2</th>\n",
       "      <td>Crossfox</td>\n",
       "      <td>Motor Diesel V8</td>\n",
       "      <td>1990</td>\n",
       "      <td>37123.0</td>\n",
       "      <td>False</td>\n",
       "      <td>['Piloto automático', 'Controle de estabilidad...</td>\n",
       "      <td>72832.16</td>\n",
       "    </tr>\n",
       "    <tr>\n",
       "      <th>3</th>\n",
       "      <td>DS5</td>\n",
       "      <td>Motor 2.4 Turbo</td>\n",
       "      <td>2019</td>\n",
       "      <td>NaN</td>\n",
       "      <td>True</td>\n",
       "      <td>['Travas elétricas', '4 X 4', 'Vidros elétrico...</td>\n",
       "      <td>124549.07</td>\n",
       "    </tr>\n",
       "    <tr>\n",
       "      <th>4</th>\n",
       "      <td>Aston Martin DB4</td>\n",
       "      <td>Motor 2.4 Turbo</td>\n",
       "      <td>2006</td>\n",
       "      <td>25757.0</td>\n",
       "      <td>False</td>\n",
       "      <td>['Rodas de liga', '4 X 4', 'Central multimídia...</td>\n",
       "      <td>92612.10</td>\n",
       "    </tr>\n",
       "  </tbody>\n",
       "</table>\n",
       "</div>"
      ],
      "text/plain": [
       "               Nome            Motor   Ano  Quilometragem  Zero_km  \\\n",
       "0     Jetta Variant  Motor 4.0 Turbo  2003        44410.0    False   \n",
       "1            Passat     Motor Diesel  1991         5712.0    False   \n",
       "2          Crossfox  Motor Diesel V8  1990        37123.0    False   \n",
       "3               DS5  Motor 2.4 Turbo  2019            NaN     True   \n",
       "4  Aston Martin DB4  Motor 2.4 Turbo  2006        25757.0    False   \n",
       "\n",
       "                                          Acessórios      Valor  \n",
       "0  ['Rodas de liga', 'Travas elétricas', 'Piloto ...   88078.64  \n",
       "1  ['Central multimídia', 'Teto panorâmico', 'Fre...  106161.94  \n",
       "2  ['Piloto automático', 'Controle de estabilidad...   72832.16  \n",
       "3  ['Travas elétricas', '4 X 4', 'Vidros elétrico...  124549.07  \n",
       "4  ['Rodas de liga', '4 X 4', 'Central multimídia...   92612.10  "
      ]
     },
     "execution_count": 173,
     "metadata": {},
     "output_type": "execute_result"
    }
   ],
   "source": [
    "dataset.head()"
   ]
  },
  {
   "cell_type": "code",
   "execution_count": 186,
   "metadata": {
    "colab": {},
    "colab_type": "code",
    "id": "eFTNtPRWD1Ba"
   },
   "outputs": [
    {
     "name": "stdout",
     "output_type": "stream",
     "text": [
      "Nome\n",
      "Motor\n",
      "Ano\n",
      "Quilometragem\n",
      "Zero_km\n",
      "Acessórios\n",
      "Valor\n"
     ]
    }
   ],
   "source": [
    "for item in dataset:\n",
    "    print(item)"
   ]
  },
  {
   "cell_type": "code",
   "execution_count": 187,
   "metadata": {},
   "outputs": [
    {
     "data": {
      "text/plain": [
       "[(0, Nome                                                 Jetta Variant\n",
       "  Motor                                              Motor 4.0 Turbo\n",
       "  Ano                                                           2003\n",
       "  Quilometragem                                              44410.0\n",
       "  Zero_km                                                      False\n",
       "  Acessórios       ['Rodas de liga', 'Travas elétricas', 'Piloto ...\n",
       "  Valor                                                     88078.64\n",
       "  Name: 0, dtype: object),\n",
       " (1, Nome                                                        Passat\n",
       "  Motor                                                 Motor Diesel\n",
       "  Ano                                                           1991\n",
       "  Quilometragem                                               5712.0\n",
       "  Zero_km                                                      False\n",
       "  Acessórios       ['Central multimídia', 'Teto panorâmico', 'Fre...\n",
       "  Valor                                                    106161.94\n",
       "  Name: 1, dtype: object),\n",
       " (2, Nome                                                      Crossfox\n",
       "  Motor                                              Motor Diesel V8\n",
       "  Ano                                                           1990\n",
       "  Quilometragem                                              37123.0\n",
       "  Zero_km                                                      False\n",
       "  Acessórios       ['Piloto automático', 'Controle de estabilidad...\n",
       "  Valor                                                     72832.16\n",
       "  Name: 2, dtype: object),\n",
       " (3, Nome                                                           DS5\n",
       "  Motor                                              Motor 2.4 Turbo\n",
       "  Ano                                                           2019\n",
       "  Quilometragem                                                  NaN\n",
       "  Zero_km                                                       True\n",
       "  Acessórios       ['Travas elétricas', '4 X 4', 'Vidros elétrico...\n",
       "  Valor                                                    124549.07\n",
       "  Name: 3, dtype: object),\n",
       " (4, Nome                                              Aston Martin DB4\n",
       "  Motor                                              Motor 2.4 Turbo\n",
       "  Ano                                                           2006\n",
       "  Quilometragem                                              25757.0\n",
       "  Zero_km                                                      False\n",
       "  Acessórios       ['Rodas de liga', '4 X 4', 'Central multimídia...\n",
       "  Valor                                                      92612.1\n",
       "  Name: 4, dtype: object),\n",
       " (5, Nome                                                 Palio Weekend\n",
       "  Motor                                                Motor 1.8 16v\n",
       "  Ano                                                           2012\n",
       "  Quilometragem                                              10728.0\n",
       "  Zero_km                                                      False\n",
       "  Acessórios       ['Sensor de estacionamento', 'Teto panorâmico'...\n",
       "  Valor                                                     97497.73\n",
       "  Name: 5, dtype: object),\n",
       " (6, Nome                                                            A5\n",
       "  Motor                                              Motor 4.0 Turbo\n",
       "  Ano                                                           2019\n",
       "  Quilometragem                                                  NaN\n",
       "  Zero_km                                                       True\n",
       "  Acessórios       ['Câmbio automático', 'Câmera de estacionament...\n",
       "  Valor                                                      56445.2\n",
       "  Name: 6, dtype: object),\n",
       " (7, Nome                                                Série 3 Cabrio\n",
       "  Motor                                                 Motor 1.0 8v\n",
       "  Ano                                                           2009\n",
       "  Quilometragem                                              77599.0\n",
       "  Zero_km                                                      False\n",
       "  Acessórios       ['Controle de estabilidade', 'Sensor crepuscul...\n",
       "  Valor                                                    112310.44\n",
       "  Name: 7, dtype: object),\n",
       " (8, Nome                                                  Dodge Jorney\n",
       "  Motor                                                Motor 3.0 32v\n",
       "  Ano                                                           2010\n",
       "  Quilometragem                                              99197.0\n",
       "  Zero_km                                                      False\n",
       "  Acessórios       ['Vidros elétricos', 'Piloto automático', 'Tet...\n",
       "  Valor                                                    120716.27\n",
       "  Name: 8, dtype: object),\n",
       " (9, Nome                                                        Carens\n",
       "  Motor                                        Motor 5.0 V8 Bi-Turbo\n",
       "  Ano                                                           2011\n",
       "  Quilometragem                                              37978.0\n",
       "  Zero_km                                                      False\n",
       "  Acessórios       ['Ar condicionado', 'Painel digital', 'Central...\n",
       "  Valor                                                     76566.49\n",
       "  Name: 9, dtype: object),\n",
       " (10, Nome                                                     Ford Edge\n",
       "  Motor                                              Motor Diesel V6\n",
       "  Ano                                                           2002\n",
       "  Quilometragem                                              12859.0\n",
       "  Zero_km                                                      False\n",
       "  Acessórios       ['Sensor crepuscular', 'Rodas de liga', 'Teto ...\n",
       "  Valor                                                     71647.59\n",
       "  Name: 10, dtype: object),\n",
       " (11, Nome                                                       Courier\n",
       "  Motor                                              Motor Diesel V8\n",
       "  Ano                                                           2007\n",
       "  Quilometragem                                               8052.0\n",
       "  Zero_km                                                      False\n",
       "  Acessórios       ['Central multimídia', '4 X 4', 'Piloto automá...\n",
       "  Valor                                                     73919.53\n",
       "  Name: 11, dtype: object),\n",
       " (12, Nome                                                          S-18\n",
       "  Motor                                                     Motor V6\n",
       "  Ano                                                           2001\n",
       "  Quilometragem                                              89773.0\n",
       "  Zero_km                                                      False\n",
       "  Acessórios       ['Bancos de couro', 'Sensor de chuva', 'Rodas ...\n",
       "  Valor                                                    112732.99\n",
       "  Name: 12, dtype: object),\n",
       " (13, Nome                                                            J5\n",
       "  Motor                                                     Motor V6\n",
       "  Ano                                                           2019\n",
       "  Quilometragem                                                  NaN\n",
       "  Zero_km                                                       True\n",
       "  Acessórios       ['Sensor crepuscular', 'Painel digital', 'Roda...\n",
       "  Valor                                                     53183.38\n",
       "  Name: 13, dtype: object),\n",
       " (14, Nome                                                  F-Type Coupé\n",
       "  Motor                                        Motor 5.0 V8 Bi-Turbo\n",
       "  Ano                                                           2009\n",
       "  Quilometragem                                              41457.0\n",
       "  Zero_km                                                      False\n",
       "  Acessórios       ['Piloto automático', 'Sensor crepuscular', 'S...\n",
       "  Valor                                                    127488.42\n",
       "  Name: 14, dtype: object),\n",
       " (15, Nome                                                           RAM\n",
       "  Motor                                              Motor Diesel V8\n",
       "  Ano                                                           2016\n",
       "  Quilometragem                                             115607.0\n",
       "  Zero_km                                                      False\n",
       "  Acessórios       ['Sensor crepuscular', 'Câmbio automático', 'S...\n",
       "  Valor                                                      59910.4\n",
       "  Name: 15, dtype: object),\n",
       " (16, Nome                                                       Série 1\n",
       "  Motor                                                Motor 3.0 32v\n",
       "  Ano                                                           2012\n",
       "  Quilometragem                                              46449.0\n",
       "  Zero_km                                                      False\n",
       "  Acessórios       ['Teto panorâmico', 'Câmera de estacionamento'...\n",
       "  Valor                                                     61118.59\n",
       "  Name: 16, dtype: object),\n",
       " (17, Nome                                                            A3\n",
       "  Motor                                                 Motor 1.0 8v\n",
       "  Ano                                                           2019\n",
       "  Quilometragem                                                  NaN\n",
       "  Zero_km                                                       True\n",
       "  Acessórios       ['4 X 4', 'Piloto automático', 'Central multim...\n",
       "  Valor                                                     88552.39\n",
       "  Name: 17, dtype: object),\n",
       " (18, Nome                                                          XC90\n",
       "  Motor                                                 Motor 1.0 8v\n",
       "  Ano                                                           2016\n",
       "  Quilometragem                                              37086.0\n",
       "  Zero_km                                                      False\n",
       "  Acessórios       ['Travas elétricas', 'Vidros elétricos', 'Teto...\n",
       "  Valor                                                     62696.69\n",
       "  Name: 18, dtype: object),\n",
       " (19, Nome                                                RS 3 Sportback\n",
       "  Motor                                                Motor 3.0 32v\n",
       "  Ano                                                           2017\n",
       "  Quilometragem                                              15173.0\n",
       "  Zero_km                                                      False\n",
       "  Acessórios       ['4 X 4', 'Piloto automático', 'Central multim...\n",
       "  Valor                                                     101726.3\n",
       "  Name: 19, dtype: object),\n",
       " (20, Nome                                                  Pajero Sport\n",
       "  Motor                                                 Motor 1.0 8v\n",
       "  Ano                                                           2002\n",
       "  Quilometragem                                             101193.0\n",
       "  Zero_km                                                      False\n",
       "  Acessórios       ['Sensor de estacionamento', 'Piloto automátic...\n",
       "  Valor                                                    106147.38\n",
       "  Name: 20, dtype: object),\n",
       " (21, Nome                                                     Série 1 M\n",
       "  Motor                                                     Motor V8\n",
       "  Ano                                                           2019\n",
       "  Quilometragem                                                  NaN\n",
       "  Zero_km                                                       True\n",
       "  Acessórios       ['Controle de estabilidade', 'Central multimíd...\n",
       "  Valor                                                      94564.4\n",
       "  Name: 21, dtype: object),\n",
       " (22, Nome                                           Lamborghini Obvious\n",
       "  Motor                                              Motor Diesel V6\n",
       "  Ano                                                           1994\n",
       "  Quilometragem                                              98079.0\n",
       "  Zero_km                                                      False\n",
       "  Acessórios       ['Rodas de liga', 'Câmbio automático', 'Travas...\n",
       "  Valor                                                    133529.84\n",
       "  Name: 22, dtype: object),\n",
       " (23, Nome                                         Effa Hafei Picape Baú\n",
       "  Motor                                                 Motor Diesel\n",
       "  Ano                                                           1991\n",
       "  Quilometragem                                             102959.0\n",
       "  Zero_km                                                      False\n",
       "  Acessórios       ['Controle de estabilidade', 'Painel digital',...\n",
       "  Valor                                                    125684.65\n",
       "  Name: 23, dtype: object),\n",
       " (24, Nome                                        Lamborghini Murciélago\n",
       "  Motor                                        Motor 5.0 V8 Bi-Turbo\n",
       "  Ano                                                           2019\n",
       "  Quilometragem                                                  NaN\n",
       "  Zero_km                                                       True\n",
       "  Acessórios       ['Freios ABS', 'Câmbio automático', 'Ar condic...\n",
       "  Valor                                                    121596.21\n",
       "  Name: 24, dtype: object),\n",
       " (25, Nome                                                           Up!\n",
       "  Motor                                              Motor Diesel V6\n",
       "  Ano                                                           2019\n",
       "  Quilometragem                                                  NaN\n",
       "  Zero_km                                                       True\n",
       "  Acessórios       ['Sensor de estacionamento', 'Vidros elétricos...\n",
       "  Valor                                                      71367.1\n",
       "  Name: 25, dtype: object),\n",
       " (26, Nome                                            Fiesta Rocam Sedan\n",
       "  Motor                                              Motor 4.0 Turbo\n",
       "  Ano                                                           2016\n",
       "  Quilometragem                                               5795.0\n",
       "  Zero_km                                                      False\n",
       "  Acessórios       ['Ar condicionado', 'Bancos de couro', 'Câmbio...\n",
       "  Valor                                                     95347.75\n",
       "  Name: 26, dtype: object),\n",
       " (27, Nome                                               Sandero Stepway\n",
       "  Motor                                                Motor 3.0 32v\n",
       "  Ano                                                           2019\n",
       "  Quilometragem                                                  NaN\n",
       "  Zero_km                                                       True\n",
       "  Acessórios       ['Freios ABS', 'Ar condicionado', 'Teto panorâ...\n",
       "  Valor                                                    105432.84\n",
       "  Name: 27, dtype: object),\n",
       " (28, Nome                                                      Cayman S\n",
       "  Motor                                                Motor 3.0 32v\n",
       "  Ano                                                           2002\n",
       "  Quilometragem                                              58848.0\n",
       "  Zero_km                                                      False\n",
       "  Acessórios       ['Câmbio automático', 'Sensor de estacionament...\n",
       "  Valor                                                     57045.27\n",
       "  Name: 28, dtype: object),\n",
       " (29, Nome                                                           V40\n",
       "  Motor                                              Motor 4.0 Turbo\n",
       "  Ano                                                           1991\n",
       "  Quilometragem                                              94381.0\n",
       "  Zero_km                                                      False\n",
       "  Acessórios       ['Câmera de estacionamento', 'Sensor de estaci...\n",
       "  Valor                                                     120432.7\n",
       "  Name: 29, dtype: object),\n",
       " (30, Nome                                                Classe SLS AMG\n",
       "  Motor                                                 Motor 1.0 8v\n",
       "  Ano                                                           1997\n",
       "  Quilometragem                                              30163.0\n",
       "  Zero_km                                                      False\n",
       "  Acessórios       ['Sensor de estacionamento', 'Controle de esta...\n",
       "  Valor                                                      70707.2\n",
       "  Name: 30, dtype: object),\n",
       " (31, Nome                                                        Gol G4\n",
       "  Motor                                                Motor 2.0 16v\n",
       "  Ano                                                           1995\n",
       "  Quilometragem                                              53332.0\n",
       "  Zero_km                                                      False\n",
       "  Acessórios       ['Sensor crepuscular', '4 X 4', 'Vidros elétri...\n",
       "  Valor                                                     69105.18\n",
       "  Name: 31, dtype: object),\n",
       " (32, Nome                                                         Linea\n",
       "  Motor                                                 Motor 1.0 8v\n",
       "  Ano                                                           2018\n",
       "  Quilometragem                                              17720.0\n",
       "  Zero_km                                                      False\n",
       "  Acessórios       ['Piloto automático', 'Painel digital', 'Vidro...\n",
       "  Valor                                                     59358.69\n",
       "  Name: 32, dtype: object),\n",
       " (33, Nome                                                     Ford F100\n",
       "  Motor                                                Motor 2.0 16v\n",
       "  Ano                                                           1991\n",
       "  Quilometragem                                              33808.0\n",
       "  Zero_km                                                      False\n",
       "  Acessórios       ['Controle de tração', 'Sensor crepuscular', '...\n",
       "  Valor                                                      65955.4\n",
       "  Name: 33, dtype: object),\n",
       " (34, Nome                                                            J2\n",
       "  Motor                                                     Motor V8\n",
       "  Ano                                                           2014\n",
       "  Quilometragem                                              90684.0\n",
       "  Zero_km                                                      False\n",
       "  Acessórios       ['Teto panorâmico', 'Sensor de estacionamento'...\n",
       "  Valor                                                     60017.03\n",
       "  Name: 34, dtype: object),\n",
       " (35, Nome                                              Aston Martin DBS\n",
       "  Motor                                                     Motor V8\n",
       "  Ano                                                           1995\n",
       "  Quilometragem                                              43975.0\n",
       "  Zero_km                                                      False\n",
       "  Acessórios       ['Teto panorâmico', 'Piloto automático', 'Ar c...\n",
       "  Valor                                                    118909.52\n",
       "  Name: 35, dtype: object),\n",
       " (36, Nome                                                    Pajero TR4\n",
       "  Motor                                              Motor 2.4 Turbo\n",
       "  Ano                                                           2019\n",
       "  Quilometragem                                                  NaN\n",
       "  Zero_km                                                       True\n",
       "  Acessórios       ['Controle de tração', 'Bancos de couro', 'Câm...\n",
       "  Valor                                                     51606.59\n",
       "  Name: 36, dtype: object),\n",
       " (37, Nome                                                    Polo Sedan\n",
       "  Motor                                                     Motor V6\n",
       "  Ano                                                           2019\n",
       "  Quilometragem                                                  NaN\n",
       "  Zero_km                                                       True\n",
       "  Acessórios       ['Sensor de chuva', 'Sensor crepuscular', 'Ar ...\n",
       "  Valor                                                    123281.87\n",
       "  Name: 37, dtype: object),\n",
       " (38, Nome                                                    California\n",
       "  Motor                                                 Motor 1.0 8v\n",
       "  Ano                                                           2009\n",
       "  Quilometragem                                               5526.0\n",
       "  Zero_km                                                      False\n",
       "  Acessórios       ['Rodas de liga', 'Ar condicionado', 'Câmera d...\n",
       "  Valor                                                     69770.18\n",
       "  Name: 38, dtype: object),\n",
       " (39, Nome                                                           S60\n",
       "  Motor                                              Motor 2.4 Turbo\n",
       "  Ano                                                           2019\n",
       "  Quilometragem                                                  NaN\n",
       "  Zero_km                                                       True\n",
       "  Acessórios       ['Teto panorâmico', 'Freios ABS', '4 X 4', 'Ar...\n",
       "  Valor                                                    102609.54\n",
       "  Name: 39, dtype: object),\n",
       " (40, Nome                                                        Tucson\n",
       "  Motor                                                Motor 2.0 16v\n",
       "  Ano                                                           2013\n",
       "  Quilometragem                                              93415.0\n",
       "  Zero_km                                                      False\n",
       "  Acessórios       ['Vidros elétricos', 'Sensor crepuscular', 'Fr...\n",
       "  Valor                                                     67997.19\n",
       "  Name: 40, dtype: object),\n",
       " (41, Nome                                                          HB20\n",
       "  Motor                                                     Motor V6\n",
       "  Ano                                                           2003\n",
       "  Quilometragem                                              40762.0\n",
       "  Zero_km                                                      False\n",
       "  Acessórios       ['Sensor de chuva', 'Travas elétricas', 'Contr...\n",
       "  Valor                                                    135235.29\n",
       "  Name: 41, dtype: object),\n",
       " (42, Nome                                                        Optima\n",
       "  Motor                                                Motor 1.8 16v\n",
       "  Ano                                                           2019\n",
       "  Quilometragem                                                  NaN\n",
       "  Zero_km                                                       True\n",
       "  Acessórios       ['Central multimídia', 'Ar condicionado', 'Tet...\n",
       "  Valor                                                     86641.34\n",
       "  Name: 42, dtype: object),\n",
       " (43, Nome                                                         Logan\n",
       "  Motor                                              Motor 4.0 Turbo\n",
       "  Ano                                                           2002\n",
       "  Quilometragem                                              86302.0\n",
       "  Zero_km                                                      False\n",
       "  Acessórios       ['Câmera de estacionamento', 'Vidros elétricos...\n",
       "  Valor                                                    136818.39\n",
       "  Name: 43, dtype: object),\n",
       " (44, Nome                                             Range Rover Vogue\n",
       "  Motor                                                 Motor 1.0 8v\n",
       "  Ano                                                           2019\n",
       "  Quilometragem                                                  NaN\n",
       "  Zero_km                                                       True\n",
       "  Acessórios       ['4 X 4', 'Vidros elétricos', 'Rodas de liga',...\n",
       "  Valor                                                    117626.73\n",
       "  Name: 44, dtype: object),\n",
       " (45, Nome                                                        Sonata\n",
       "  Motor                                        Motor 5.0 V8 Bi-Turbo\n",
       "  Ano                                                           2002\n",
       "  Quilometragem                                               9755.0\n",
       "  Zero_km                                                      False\n",
       "  Acessórios       ['Piloto automático', 'Ar condicionado', 'Vidr...\n",
       "  Valor                                                      56208.7\n",
       "  Name: 45, dtype: object),\n",
       " (46, Nome                                         Ford New Fiesta Sedan\n",
       "  Motor                                                Motor 3.0 32v\n",
       "  Ano                                                           2004\n",
       "  Quilometragem                                              69945.0\n",
       "  Zero_km                                                      False\n",
       "  Acessórios       ['Teto panorâmico', 'Painel digital', 'Ar cond...\n",
       "  Valor                                                     84222.65\n",
       "  Name: 46, dtype: object),\n",
       " (47, Nome                                          Série 5 Gran Turismo\n",
       "  Motor                                              Motor 4.0 Turbo\n",
       "  Ano                                                           2001\n",
       "  Quilometragem                                               2395.0\n",
       "  Zero_km                                                      False\n",
       "  Acessórios       ['Controle de tração', 'Piloto automático', 'A...\n",
       "  Valor                                                     90781.65\n",
       "  Name: 47, dtype: object),\n",
       " (48, Nome                                                          CR-V\n",
       "  Motor                                              Motor Diesel V8\n",
       "  Ano                                                           2019\n",
       "  Quilometragem                                                  NaN\n",
       "  Zero_km                                                       True\n",
       "  Acessórios       ['Câmbio automático', 'Central multimídia', 'V...\n",
       "  Valor                                                      64701.1\n",
       "  Name: 48, dtype: object),\n",
       " (49, Nome                                                 Ford EcoSport\n",
       "  Motor                                                 Motor 1.0 8v\n",
       "  Ano                                                           2003\n",
       "  Quilometragem                                              80349.0\n",
       "  Zero_km                                                      False\n",
       "  Acessórios       ['Vidros elétricos', 'Piloto automático', 'Pai...\n",
       "  Valor                                                    126350.49\n",
       "  Name: 49, dtype: object),\n",
       " (50, Nome                                                         Versa\n",
       "  Motor                                                Motor 3.0 32v\n",
       "  Ano                                                           2009\n",
       "  Quilometragem                                              85554.0\n",
       "  Zero_km                                                      False\n",
       "  Acessórios       ['Bancos de couro', 'Ar condicionado', 'Rodas ...\n",
       "  Valor                                                    148152.89\n",
       "  Name: 50, dtype: object),\n",
       " (51, Nome                                                      Classe E\n",
       "  Motor                                                 Motor 1.0 8v\n",
       "  Ano                                                           2006\n",
       "  Quilometragem                                              50496.0\n",
       "  Zero_km                                                      False\n",
       "  Acessórios       ['Freios ABS', 'Sensor de estacionamento', 'Ce...\n",
       "  Valor                                                    132298.83\n",
       "  Name: 51, dtype: object),\n",
       " (52, Nome                                                      Carnival\n",
       "  Motor                                                     Motor V8\n",
       "  Ano                                                           2000\n",
       "  Quilometragem                                              67716.0\n",
       "  Zero_km                                                      False\n",
       "  Acessórios       ['Travas elétricas', 'Câmbio automático', 'Câm...\n",
       "  Valor                                                    137627.63\n",
       "  Name: 52, dtype: object),\n",
       " (53, Nome                              Aston Martin V8 Vantage Roadster\n",
       "  Motor                                              Motor 2.4 Turbo\n",
       "  Ano                                                           2006\n",
       "  Quilometragem                                              93947.0\n",
       "  Zero_km                                                      False\n",
       "  Acessórios       ['Câmbio automático', 'Câmera de estacionament...\n",
       "  Valor                                                     80422.71\n",
       "  Name: 53, dtype: object),\n",
       " (54, Nome                                                        Hoggar\n",
       "  Motor                                        Motor 5.0 V8 Bi-Turbo\n",
       "  Ano                                                           2010\n",
       "  Quilometragem                                              35345.0\n",
       "  Zero_km                                                      False\n",
       "  Acessórios       ['Controle de estabilidade', 'Bancos de couro'...\n",
       "  Valor                                                     56373.99\n",
       "  Name: 54, dtype: object),\n",
       " (55, Nome                                                            A1\n",
       "  Motor                                        Motor 5.0 V8 Bi-Turbo\n",
       "  Ano                                                           1994\n",
       "  Quilometragem                                              81007.0\n",
       "  Zero_km                                                      False\n",
       "  Acessórios       ['Painel digital', 'Câmbio automático', 'Câmer...\n",
       "  Valor                                                     70846.03\n",
       "  Name: 55, dtype: object),\n",
       " (56, Nome                                      Aston Martin DB7 Vantage\n",
       "  Motor                                                     Motor V6\n",
       "  Ano                                                           2007\n",
       "  Quilometragem                                             119513.0\n",
       "  Zero_km                                                      False\n",
       "  Acessórios       ['Sensor crepuscular', 'Piloto automático', 'T...\n",
       "  Valor                                                    128694.23\n",
       "  Name: 56, dtype: object),\n",
       " (57, Nome                                                           CLA\n",
       "  Motor                                                 Motor 1.0 8v\n",
       "  Ano                                                           2019\n",
       "  Quilometragem                                                  NaN\n",
       "  Zero_km                                                       True\n",
       "  Acessórios       ['Central multimídia', 'Sensor de chuva', 'Con...\n",
       "  Valor                                                    133329.19\n",
       "  Name: 57, dtype: object),\n",
       " (58, Nome                                                        Accord\n",
       "  Motor                                                     Motor V8\n",
       "  Ano                                                           2019\n",
       "  Quilometragem                                                  NaN\n",
       "  Zero_km                                                       True\n",
       "  Acessórios       ['Sensor de estacionamento', 'Ar condicionado'...\n",
       "  Valor                                                    131961.43\n",
       "  Name: 58, dtype: object),\n",
       " (59, Nome                                                   EXTRA 103EX\n",
       "  Motor                                                Motor 2.0 16v\n",
       "  Ano                                                           2019\n",
       "  Quilometragem                                                  NaN\n",
       "  Zero_km                                                       True\n",
       "  Acessórios       ['Sensor de estacionamento', 'Central multimíd...\n",
       "  Valor                                                    112033.27\n",
       "  Name: 59, dtype: object),\n",
       " (60, Nome                                                       Sorento\n",
       "  Motor                                                 Motor Diesel\n",
       "  Ano                                                           2019\n",
       "  Quilometragem                                                  NaN\n",
       "  Zero_km                                                       True\n",
       "  Acessórios       ['Sensor de chuva', 'Câmera de estacionamento'...\n",
       "  Valor                                                     81399.35\n",
       "  Name: 60, dtype: object),\n",
       " (61, Nome                                                         Tiggo\n",
       "  Motor                                                Motor 3.0 32v\n",
       "  Ano                                                           2019\n",
       "  Quilometragem                                                  NaN\n",
       "  Zero_km                                                       True\n",
       "  Acessórios       ['Câmera de estacionamento', 'Freios ABS', 'Pi...\n",
       "  Valor                                                      97163.1\n",
       "  Name: 61, dtype: object),\n",
       " (62, Nome                                              New Fiesta Hatch\n",
       "  Motor                                                 Motor Diesel\n",
       "  Ano                                                           2017\n",
       "  Quilometragem                                             118895.0\n",
       "  Zero_km                                                      False\n",
       "  Acessórios       ['Sensor de estacionamento', 'Travas elétricas...\n",
       "  Valor                                                     66007.16\n",
       "  Name: 62, dtype: object),\n",
       " (63, Nome                                                 Jeep Renegade\n",
       "  Motor                                        Motor 5.0 V8 Bi-Turbo\n",
       "  Ano                                                           2011\n",
       "  Quilometragem                                              48509.0\n",
       "  Zero_km                                                      False\n",
       "  Acessórios       ['Vidros elétricos', 'Teto panorâmico', 'Banco...\n",
       "  Valor                                                    128776.22\n",
       "  Name: 63, dtype: object),\n",
       " (64, Nome                                          Lamborghini Ankonian\n",
       "  Motor                                                Motor 2.0 16v\n",
       "  Ano                                                           2001\n",
       "  Quilometragem                                             100912.0\n",
       "  Zero_km                                                      False\n",
       "  Acessórios       ['Bancos de couro', 'Câmera de estacionamento'...\n",
       "  Valor                                                    142623.02\n",
       "  Name: 64, dtype: object),\n",
       " (65, Nome                                                   Space Cross\n",
       "  Motor                                        Motor 5.0 V8 Bi-Turbo\n",
       "  Ano                                                           1996\n",
       "  Quilometragem                                              95649.0\n",
       "  Zero_km                                                      False\n",
       "  Acessórios       ['Teto panorâmico', 'Vidros elétricos', 'Senso...\n",
       "  Valor                                                    136930.13\n",
       "  Name: 65, dtype: object),\n",
       " (66, Nome                                                       Touareg\n",
       "  Motor                                                     Motor V8\n",
       "  Ano                                                           2019\n",
       "  Quilometragem                                                  NaN\n",
       "  Zero_km                                                       True\n",
       "  Acessórios       ['Controle de estabilidade', 'Piloto automátic...\n",
       "  Valor                                                     66526.61\n",
       "  Name: 66, dtype: object),\n",
       " (67, Nome                                                      Classe M\n",
       "  Motor                                                 Motor 1.0 8v\n",
       "  Ano                                                           1994\n",
       "  Quilometragem                                              90495.0\n",
       "  Zero_km                                                      False\n",
       "  Acessórios       ['Central multimídia', 'Bancos de couro', 'Rod...\n",
       "  Valor                                                    114154.87\n",
       "  Name: 67, dtype: object),\n",
       " (68, Nome                                            Lancer Evolution X\n",
       "  Motor                                              Motor Diesel V6\n",
       "  Ano                                                           2019\n",
       "  Quilometragem                                                  NaN\n",
       "  Zero_km                                                       True\n",
       "  Acessórios       ['Vidros elétricos', 'Câmbio automático', 'Con...\n",
       "  Valor                                                    142392.75\n",
       "  Name: 68, dtype: object),\n",
       " (69, Nome                                                Kangoo Express\n",
       "  Motor                                                 Motor Diesel\n",
       "  Ano                                                           2007\n",
       "  Quilometragem                                              29132.0\n",
       "  Zero_km                                                      False\n",
       "  Acessórios       ['Bancos de couro', 'Câmbio automático', 'Pilo...\n",
       "  Valor                                                    146716.91\n",
       "  Name: 69, dtype: object),\n",
       " (70, Nome                                                           SW4\n",
       "  Motor                                              Motor Diesel V6\n",
       "  Ano                                                           1994\n",
       "  Quilometragem                                              23802.0\n",
       "  Zero_km                                                      False\n",
       "  Acessórios       ['Sensor de chuva', 'Bancos de couro', 'Contro...\n",
       "  Valor                                                    122485.68\n",
       "  Name: 70, dtype: object),\n",
       " (71, Nome                                                  Cadillac ELR\n",
       "  Motor                                                 Motor 1.0 8v\n",
       "  Ano                                                           2007\n",
       "  Quilometragem                                              84992.0\n",
       "  Zero_km                                                      False\n",
       "  Acessórios       ['Sensor crepuscular', 'Travas elétricas', 'Te...\n",
       "  Valor                                                     97951.03\n",
       "  Name: 71, dtype: object),\n",
       " (72, Nome                                                         Doblò\n",
       "  Motor                                                Motor 1.8 16v\n",
       "  Ano                                                           1997\n",
       "  Quilometragem                                              54395.0\n",
       "  Zero_km                                                      False\n",
       "  Acessórios       ['Câmera de estacionamento', 'Teto panorâmico'...\n",
       "  Valor                                                     78283.49\n",
       "  Name: 72, dtype: object),\n",
       " (73, Nome                                           Lamborghini Egoista\n",
       "  Motor                                                Motor 3.0 32v\n",
       "  Ano                                                           2006\n",
       "  Quilometragem                                              26731.0\n",
       "  Zero_km                                                      False\n",
       "  Acessórios       ['Rodas de liga', 'Controle de tração', 'Centr...\n",
       "  Valor                                                     83434.04\n",
       "  Name: 73, dtype: object),\n",
       " (74, Nome                                                           Fit\n",
       "  Motor                                                 Motor Diesel\n",
       "  Ano                                                           2013\n",
       "  Quilometragem                                              44329.0\n",
       "  Zero_km                                                      False\n",
       "  Acessórios       ['Freios ABS', 'Câmera de estacionamento', 'Câ...\n",
       "  Valor                                                     77836.23\n",
       "  Name: 74, dtype: object),\n",
       " (75, Nome                                                            C5\n",
       "  Motor                                                Motor 2.0 16v\n",
       "  Ano                                                           1994\n",
       "  Quilometragem                                             118236.0\n",
       "  Zero_km                                                      False\n",
       "  Acessórios       ['Painel digital', 'Teto panorâmico', 'Piloto ...\n",
       "  Valor                                                     60813.92\n",
       "  Name: 75, dtype: object),\n",
       " (76, Nome                                                   Celer Hatch\n",
       "  Motor                                                     Motor V8\n",
       "  Ano                                                           2008\n",
       "  Quilometragem                                             113808.0\n",
       "  Zero_km                                                      False\n",
       "  Acessórios       ['Controle de estabilidade', 'Câmbio automátic...\n",
       "  Valor                                                     91353.86\n",
       "  Name: 76, dtype: object),\n",
       " (77, Nome                                                         HB20S\n",
       "  Motor                                                     Motor V8\n",
       "  Ano                                                           2008\n",
       "  Quilometragem                                                610.0\n",
       "  Zero_km                                                      False\n",
       "  Acessórios       ['Teto panorâmico', 'Rodas de liga', 'Travas e...\n",
       "  Valor                                                    116281.21\n",
       "  Name: 77, dtype: object),\n",
       " (78, Nome                                                   Cielo Hatch\n",
       "  Motor                                                 Motor Diesel\n",
       "  Ano                                                           2019\n",
       "  Quilometragem                                                  NaN\n",
       "  Zero_km                                                       True\n",
       "  Acessórios       ['Painel digital', 'Central multimídia', 'Câme...\n",
       "  Valor                                                     145197.7\n",
       "  Name: 78, dtype: object),\n",
       " (79, Nome                                                        Livina\n",
       "  Motor                                                Motor 2.0 16v\n",
       "  Ano                                                           2019\n",
       "  Quilometragem                                                  NaN\n",
       "  Zero_km                                                       True\n",
       "  Acessórios       ['Sensor crepuscular', 'Câmera de estacionamen...\n",
       "  Valor                                                      50742.1\n",
       "  Name: 79, dtype: object),\n",
       " (80, Nome                                                        Ducato\n",
       "  Motor                                        Motor 5.0 V8 Bi-Turbo\n",
       "  Ano                                                           1999\n",
       "  Quilometragem                                              12887.0\n",
       "  Zero_km                                                      False\n",
       "  Acessórios       ['Sensor de chuva', 'Painel digital', 'Sensor ...\n",
       "  Valor                                                     73033.53\n",
       "  Name: 80, dtype: object),\n",
       " (81, Nome                                                         March\n",
       "  Motor                                                     Motor V6\n",
       "  Ano                                                           2007\n",
       "  Quilometragem                                              79607.0\n",
       "  Zero_km                                                      False\n",
       "  Acessórios       ['Bancos de couro', 'Piloto automático', 'Sens...\n",
       "  Valor                                                     54332.87\n",
       "  Name: 81, dtype: object),\n",
       " (82, Nome                                            Cadillac XTS sedan\n",
       "  Motor                                              Motor Diesel V6\n",
       "  Ano                                                           1993\n",
       "  Quilometragem                                              90924.0\n",
       "  Zero_km                                                      False\n",
       "  Acessórios       ['Ar condicionado', 'Câmbio automático', 'Sens...\n",
       "  Valor                                                     52207.45\n",
       "  Name: 82, dtype: object),\n",
       " (83, Nome                                        Lamborghini Centenario\n",
       "  Motor                                                     Motor V6\n",
       "  Ano                                                           1995\n",
       "  Quilometragem                                              42733.0\n",
       "  Zero_km                                                      False\n",
       "  Acessórios       ['Central multimídia', 'Vidros elétricos', 'Se...\n",
       "  Valor                                                      63578.5\n",
       "  Name: 83, dtype: object),\n",
       " (84, Nome                                                         Hilux\n",
       "  Motor                                        Motor 5.0 V8 Bi-Turbo\n",
       "  Ano                                                           2019\n",
       "  Quilometragem                                                  NaN\n",
       "  Zero_km                                                       True\n",
       "  Acessórios       ['4 X 4', 'Piloto automático', 'Teto panorâmic...\n",
       "  Valor                                                     64507.72\n",
       "  Name: 84, dtype: object),\n",
       " (85, Nome                                                   Grand Siena\n",
       "  Motor                                              Motor Diesel V8\n",
       "  Ano                                                           2019\n",
       "  Quilometragem                                                  NaN\n",
       "  Zero_km                                                       True\n",
       "  Acessórios       ['Bancos de couro', 'Painel digital', 'Sensor ...\n",
       "  Valor                                                    115075.59\n",
       "  Name: 85, dtype: object),\n",
       " (86, Nome                                                        Symbol\n",
       "  Motor                                                 Motor Diesel\n",
       "  Ano                                                           2016\n",
       "  Quilometragem                                             117714.0\n",
       "  Zero_km                                                      False\n",
       "  Acessórios       ['4 X 4', 'Piloto automático', 'Sensor crepusc...\n",
       "  Valor                                                     133030.6\n",
       "  Name: 86, dtype: object),\n",
       " (87, Nome                                    Aston Martin V12 GT Zagato\n",
       "  Motor                                              Motor 4.0 Turbo\n",
       "  Ano                                                           2011\n",
       "  Quilometragem                                             113885.0\n",
       "  Zero_km                                                      False\n",
       "  Acessórios       ['Central multimídia', 'Piloto automático', 'S...\n",
       "  Valor                                                    141591.86\n",
       "  Name: 87, dtype: object),\n",
       " (88, Nome                                                        Fusion\n",
       "  Motor                                                Motor 1.8 16v\n",
       "  Ano                                                           2019\n",
       "  Quilometragem                                                  NaN\n",
       "  Zero_km                                                       True\n",
       "  Acessórios       ['Controle de tração', 'Câmbio automático', 'F...\n",
       "  Valor                                                    100380.28\n",
       "  Name: 88, dtype: object),\n",
       " (89, Nome                                                      A4 Sedan\n",
       "  Motor                                                 Motor Diesel\n",
       "  Ano                                                           2002\n",
       "  Quilometragem                                              30511.0\n",
       "  Zero_km                                                      False\n",
       "  Acessórios       ['Câmera de estacionamento', '4 X 4', 'Travas ...\n",
       "  Valor                                                     96369.04\n",
       "  Name: 89, dtype: object),\n",
       " (90, Nome                                                 Xsara Picasso\n",
       "  Motor                                                Motor 2.0 16v\n",
       "  Ano                                                           2013\n",
       "  Quilometragem                                              74867.0\n",
       "  Zero_km                                                      False\n",
       "  Acessórios       ['Sensor de chuva', 'Teto panorâmico', 'Centra...\n",
       "  Valor                                                    142603.84\n",
       "  Name: 90, dtype: object),\n",
       " (91, Nome                                                        207 SW\n",
       "  Motor                                                Motor 3.0 32v\n",
       "  Ano                                                           2017\n",
       "  Quilometragem                                             119760.0\n",
       "  Zero_km                                                      False\n",
       "  Acessórios       ['Controle de estabilidade', 'Travas elétricas...\n",
       "  Valor                                                    117709.67\n",
       "  Name: 91, dtype: object),\n",
       " (92, Nome                                                          Star\n",
       "  Motor                                                     Motor V6\n",
       "  Ano                                                           2016\n",
       "  Quilometragem                                               8356.0\n",
       "  Zero_km                                                      False\n",
       "  Acessórios       ['Câmera de estacionamento', '4 X 4', 'Central...\n",
       "  Valor                                                    102241.54\n",
       "  Name: 92, dtype: object),\n",
       " (93, Nome                                                   Doblò Cargo\n",
       "  Motor                                                Motor 3.0 32v\n",
       "  Ano                                                           2008\n",
       "  Quilometragem                                              64247.0\n",
       "  Zero_km                                                      False\n",
       "  Acessórios       ['Freios ABS', 'Teto panorâmico', 'Vidros elét...\n",
       "  Valor                                                     96065.38\n",
       "  Name: 93, dtype: object),\n",
       " (94, Nome                                                  Cadillac CTS\n",
       "  Motor                                                Motor 1.8 16v\n",
       "  Ano                                                           2018\n",
       "  Quilometragem                                              88661.0\n",
       "  Zero_km                                                      False\n",
       "  Acessórios       ['Travas elétricas', 'Sensor de chuva', 'Freio...\n",
       "  Valor                                                     53894.61\n",
       "  Name: 94, dtype: object),\n",
       " (95, Nome                                                       Cayenne\n",
       "  Motor                                                 Motor 1.0 8v\n",
       "  Ano                                                           2003\n",
       "  Quilometragem                                               4539.0\n",
       "  Zero_km                                                      False\n",
       "  Acessórios       ['Controle de tração', 'Piloto automático', 'T...\n",
       "  Valor                                                    123911.78\n",
       "  Name: 95, dtype: object),\n",
       " (96, Nome                                                           Fox\n",
       "  Motor                                              Motor 4.0 Turbo\n",
       "  Ano                                                           2003\n",
       "  Quilometragem                                             110116.0\n",
       "  Zero_km                                                      False\n",
       "  Acessórios       ['Piloto automático', 'Câmbio automático', 'Tr...\n",
       "  Valor                                                    101996.35\n",
       "  Name: 96, dtype: object),\n",
       " (97, Nome                                                   Tiida Hatch\n",
       "  Motor                                              Motor Diesel V6\n",
       "  Ano                                                           2004\n",
       "  Quilometragem                                              33215.0\n",
       "  Zero_km                                                      False\n",
       "  Acessórios       ['Teto panorâmico', 'Travas elétricas', 'Senso...\n",
       "  Valor                                                     83431.66\n",
       "  Name: 97, dtype: object),\n",
       " (98, Nome                                                 Dodge Charger\n",
       "  Motor                                              Motor 2.4 Turbo\n",
       "  Ano                                                           2010\n",
       "  Quilometragem                                              92001.0\n",
       "  Zero_km                                                      False\n",
       "  Acessórios       ['Vidros elétricos', 'Sensor crepuscular', 'Co...\n",
       "  Valor                                                    122975.63\n",
       "  Name: 98, dtype: object),\n",
       " (99, Nome                                                          Face\n",
       "  Motor                                                     Motor V8\n",
       "  Ano                                                           2019\n",
       "  Quilometragem                                                  NaN\n",
       "  Zero_km                                                       True\n",
       "  Acessórios       ['Controle de estabilidade', 'Vidros elétricos...\n",
       "  Valor                                                     93227.73\n",
       "  Name: 99, dtype: object),\n",
       " (100, Nome                                                         Prius\n",
       "  Motor                                                Motor 3.0 32v\n",
       "  Ano                                                           2006\n",
       "  Quilometragem                                              81708.0\n",
       "  Zero_km                                                      False\n",
       "  Acessórios       ['Rodas de liga', 'Bancos de couro', 'Painel d...\n",
       "  Valor                                                     58762.65\n",
       "  Name: 100, dtype: object),\n",
       " (101, Nome                                                          Idea\n",
       "  Motor                                                     Motor V6\n",
       "  Ano                                                           2001\n",
       "  Quilometragem                                              70641.0\n",
       "  Zero_km                                                      False\n",
       "  Acessórios       ['Central multimídia', 'Piloto automático', 'T...\n",
       "  Valor                                                    139549.67\n",
       "  Name: 101, dtype: object),\n",
       " (102, Nome                                                            A8\n",
       "  Motor                                                Motor 2.0 16v\n",
       "  Ano                                                           2019\n",
       "  Quilometragem                                                  NaN\n",
       "  Zero_km                                                       True\n",
       "  Acessórios       ['Painel digital', 'Teto panorâmico', 'Piloto ...\n",
       "  Valor                                                    122016.42\n",
       "  Name: 102, dtype: object),\n",
       " (103, Nome                                                Série 1 Cabrio\n",
       "  Motor                                                Motor 3.0 32v\n",
       "  Ano                                                           2015\n",
       "  Quilometragem                                              91277.0\n",
       "  Zero_km                                                      False\n",
       "  Acessórios       ['Vidros elétricos', 'Travas elétricas', 'Cont...\n",
       "  Valor                                                     72731.98\n",
       "  Name: 103, dtype: object),\n",
       " (104, Nome                                                          Edge\n",
       "  Motor                                                     Motor V6\n",
       "  Ano                                                           2018\n",
       "  Quilometragem                                              26544.0\n",
       "  Zero_km                                                      False\n",
       "  Acessórios       ['Freios ABS', 'Controle de tração', 'Sensor c...\n",
       "  Valor                                                     88416.54\n",
       "  Name: 104, dtype: object),\n",
       " (105, Nome                                            Cadillac ATS sedan\n",
       "  Motor                                                Motor 1.8 16v\n",
       "  Ano                                                           2017\n",
       "  Quilometragem                                              52596.0\n",
       "  Zero_km                                                      False\n",
       "  Acessórios       ['Painel digital', 'Vidros elétricos', 'Teto p...\n",
       "  Valor                                                     73873.42\n",
       "  Name: 105, dtype: object),\n",
       " (106, Nome                                Lamborghini Asterion LPI 910-4\n",
       "  Motor                                        Motor 5.0 V8 Bi-Turbo\n",
       "  Ano                                                           1992\n",
       "  Quilometragem                                              47503.0\n",
       "  Zero_km                                                      False\n",
       "  Acessórios       ['Ar condicionado', 'Painel digital', 'Control...\n",
       "  Valor                                                     70709.34\n",
       "  Name: 106, dtype: object),\n",
       " (107, Nome                                                      Frontier\n",
       "  Motor                                                     Motor V8\n",
       "  Ano                                                           2001\n",
       "  Quilometragem                                              89056.0\n",
       "  Zero_km                                                      False\n",
       "  Acessórios       ['Câmbio automático', 'Rodas de liga', 'Sensor...\n",
       "  Valor                                                     115306.5\n",
       "  Name: 107, dtype: object),\n",
       " (108, Nome                                                  Série 3 Sedã\n",
       "  Motor                                                Motor 3.0 32v\n",
       "  Ano                                                           1993\n",
       "  Quilometragem                                              28834.0\n",
       "  Zero_km                                                      False\n",
       "  Acessórios       ['Controle de tração', 'Controle de estabilida...\n",
       "  Valor                                                     55924.63\n",
       "  Name: 108, dtype: object),\n",
       " (109, Nome                                             Lamborghini LM002\n",
       "  Motor                                                Motor 1.8 16v\n",
       "  Ano                                                           1995\n",
       "  Quilometragem                                             110564.0\n",
       "  Zero_km                                                      False\n",
       "  Acessórios       ['Bancos de couro', 'Freios ABS', 'Central mul...\n",
       "  Valor                                                     85052.26\n",
       "  Name: 109, dtype: object),\n",
       " (110, Nome                                                  Cadillac XLR\n",
       "  Motor                                              Motor Diesel V8\n",
       "  Ano                                                           2003\n",
       "  Quilometragem                                              56638.0\n",
       "  Zero_km                                                      False\n",
       "  Acessórios       ['Sensor crepuscular', 'Teto panorâmico', 'Sen...\n",
       "  Valor                                                     56646.34\n",
       "  Name: 110, dtype: object),\n",
       " (111, Nome                                                      A4 Avant\n",
       "  Motor                                                 Motor Diesel\n",
       "  Ano                                                           2014\n",
       "  Quilometragem                                              17357.0\n",
       "  Zero_km                                                      False\n",
       "  Acessórios       ['Teto panorâmico', '4 X 4', 'Bancos de couro'...\n",
       "  Valor                                                    138946.88\n",
       "  Name: 111, dtype: object),\n",
       " (112, Nome                                                      EcoSport\n",
       "  Motor                                              Motor 4.0 Turbo\n",
       "  Ano                                                           2008\n",
       "  Quilometragem                                              74015.0\n",
       "  Zero_km                                                      False\n",
       "  Acessórios       ['Piloto automático', 'Sensor de estacionament...\n",
       "  Valor                                                    108256.72\n",
       "  Name: 112, dtype: object),\n",
       " (113, Nome                                                            J3\n",
       "  Motor                                                Motor 1.8 16v\n",
       "  Ano                                                           2013\n",
       "  Quilometragem                                              15196.0\n",
       "  Zero_km                                                      False\n",
       "  Acessórios       ['Controle de estabilidade', '4 X 4', 'Câmera ...\n",
       "  Valor                                                      58979.3\n",
       "  Name: 113, dtype: object),\n",
       " (114, Nome                                                            Q3\n",
       "  Motor                                                Motor 3.0 32v\n",
       "  Ano                                                           2019\n",
       "  Quilometragem                                                  NaN\n",
       "  Zero_km                                                       True\n",
       "  Acessórios       ['Controle de estabilidade', 'Bancos de couro'...\n",
       "  Valor                                                    114727.68\n",
       "  Name: 114, dtype: object),\n",
       " (115, Nome                                       Aston Martin V8 Vantage\n",
       "  Motor                                                     Motor V8\n",
       "  Ano                                                           2017\n",
       "  Quilometragem                                              10821.0\n",
       "  Zero_km                                                      False\n",
       "  Acessórios       ['Teto panorâmico', 'Controle de tração', 'Pai...\n",
       "  Valor                                                    139661.48\n",
       "  Name: 115, dtype: object),\n",
       " (116, Nome                                                   Z4 Roadster\n",
       "  Motor                                                Motor 3.0 32v\n",
       "  Ano                                                           2019\n",
       "  Quilometragem                                                  NaN\n",
       "  Zero_km                                                       True\n",
       "  Acessórios       ['Central multimídia', 'Câmbio automático', 'T...\n",
       "  Valor                                                     80382.24\n",
       "  Name: 116, dtype: object),\n",
       " (117, Nome                                         Lamborghini Ferruccio\n",
       "  Motor                                                Motor 3.0 32v\n",
       "  Ano                                                           2019\n",
       "  Quilometragem                                                  NaN\n",
       "  Zero_km                                                       True\n",
       "  Acessórios       ['Vidros elétricos', 'Piloto automático', 'Tet...\n",
       "  Valor                                                    149157.17\n",
       "  Name: 117, dtype: object),\n",
       " (118, Nome                                                      Ford Ka+\n",
       "  Motor                                                Motor 1.8 16v\n",
       "  Ano                                                           2006\n",
       "  Quilometragem                                               9595.0\n",
       "  Zero_km                                                      False\n",
       "  Acessórios       ['Sensor crepuscular', 'Piloto automático', 'C...\n",
       "  Valor                                                     87830.41\n",
       "  Name: 118, dtype: object),\n",
       " (119, Nome                                                 Silver Shadow\n",
       "  Motor                                                 Motor Diesel\n",
       "  Ano                                                           2015\n",
       "  Quilometragem                                              99052.0\n",
       "  Zero_km                                                      False\n",
       "  Acessórios       ['4 X 4', 'Central multimídia', 'Ar condiciona...\n",
       "  Valor                                                    143568.22\n",
       "  Name: 119, dtype: object),\n",
       " (120, Nome                                       Classe C 63 AMG Touring\n",
       "  Motor                                              Motor Diesel V8\n",
       "  Ano                                                           2007\n",
       "  Quilometragem                                              52389.0\n",
       "  Zero_km                                                      False\n",
       "  Acessórios       ['Central multimídia', 'Piloto automático', 'F...\n",
       "  Valor                                                    138171.85\n",
       "  Name: 120, dtype: object),\n",
       " (121, Nome                                                   Discovery 4\n",
       "  Motor                                              Motor 4.0 Turbo\n",
       "  Ano                                                           2005\n",
       "  Quilometragem                                             119945.0\n",
       "  Zero_km                                                      False\n",
       "  Acessórios       ['Freios ABS', 'Rodas de liga', 'Sensor de chu...\n",
       "  Valor                                                    115784.95\n",
       "  Name: 121, dtype: object),\n",
       " (122, Nome                                                      Veloster\n",
       "  Motor                                              Motor Diesel V8\n",
       "  Ano                                                           2017\n",
       "  Quilometragem                                              96005.0\n",
       "  Zero_km                                                      False\n",
       "  Acessórios       ['Ar condicionado', 'Central multimídia', 'Ban...\n",
       "  Valor                                                    146508.99\n",
       "  Name: 122, dtype: object),\n",
       " (123, Nome                                                      Classe C\n",
       "  Motor                                              Motor Diesel V6\n",
       "  Ano                                                           1998\n",
       "  Quilometragem                                              31639.0\n",
       "  Zero_km                                                      False\n",
       "  Acessórios       ['Freios ABS', 'Sensor de chuva', 'Central mul...\n",
       "  Valor                                                    137670.23\n",
       "  Name: 123, dtype: object),\n",
       " (124, Nome                                                         Camry\n",
       "  Motor                                                 Motor Diesel\n",
       "  Ano                                                           2019\n",
       "  Quilometragem                                                  NaN\n",
       "  Zero_km                                                       True\n",
       "  Acessórios       ['Travas elétricas', 'Rodas de liga', 'Sensor ...\n",
       "  Valor                                                    138597.27\n",
       "  Name: 124, dtype: object),\n",
       " (125, Nome                                                     C5 Tourer\n",
       "  Motor                                              Motor Diesel V6\n",
       "  Ano                                                           1999\n",
       "  Quilometragem                                              80187.0\n",
       "  Zero_km                                                      False\n",
       "  Acessórios       ['Rodas de liga', 'Sensor de chuva', 'Painel d...\n",
       "  Valor                                                    147627.81\n",
       "  Name: 125, dtype: object),\n",
       " (126, Nome                                                         R8 GT\n",
       "  Motor                                              Motor 4.0 Turbo\n",
       "  Ano                                                           2019\n",
       "  Quilometragem                                                  NaN\n",
       "  Zero_km                                                       True\n",
       "  Acessórios       ['Rodas de liga', 'Câmbio automático', 'Sensor...\n",
       "  Valor                                                     62999.02\n",
       "  Name: 126, dtype: object),\n",
       " (127, Nome                                                         Bongo\n",
       "  Motor                                              Motor Diesel V8\n",
       "  Ano                                                           2009\n",
       "  Quilometragem                                              58212.0\n",
       "  Zero_km                                                      False\n",
       "  Acessórios       ['Vidros elétricos', 'Teto panorâmico', 'Paine...\n",
       "  Valor                                                     91242.44\n",
       "  Name: 127, dtype: object),\n",
       " (128, Nome                                                           ASX\n",
       "  Motor                                              Motor Diesel V8\n",
       "  Ano                                                           2003\n",
       "  Quilometragem                                              61672.0\n",
       "  Zero_km                                                      False\n",
       "  Acessórios       ['Ar condicionado', 'Sensor crepuscular', 'Rod...\n",
       "  Valor                                                    149489.92\n",
       "  Name: 128, dtype: object),\n",
       " (129, Nome                                                  Cadillac SRX\n",
       "  Motor                                        Motor 5.0 V8 Bi-Turbo\n",
       "  Ano                                                           1994\n",
       "  Quilometragem                                              32017.0\n",
       "  Zero_km                                                      False\n",
       "  Acessórios       ['Painel digital', 'Piloto automático', 'Contr...\n",
       "  Valor                                                     63529.95\n",
       "  Name: 129, dtype: object),\n",
       " (130, Nome                                                     Classe CL\n",
       "  Motor                                                     Motor V8\n",
       "  Ano                                                           2019\n",
       "  Quilometragem                                                  NaN\n",
       "  Zero_km                                                       True\n",
       "  Acessórios       ['Central multimídia', 'Câmbio automático', '4...\n",
       "  Valor                                                     58525.41\n",
       "  Name: 130, dtype: object),\n",
       " (131, Nome                                                    500 Abarth\n",
       "  Motor                                                     Motor V6\n",
       "  Ano                                                           1994\n",
       "  Quilometragem                                              56944.0\n",
       "  Zero_km                                                      False\n",
       "  Acessórios       ['4 X 4', 'Teto panorâmico', 'Controle de traç...\n",
       "  Valor                                                     90345.05\n",
       "  Name: 131, dtype: object),\n",
       " (132, Nome                                           Aston Martin Cygnet\n",
       "  Motor                                        Motor 5.0 V8 Bi-Turbo\n",
       "  Ano                                                           2019\n",
       "  Quilometragem                                                  NaN\n",
       "  Zero_km                                                       True\n",
       "  Acessórios       ['Painel digital', 'Ar condicionado', 'Sensor ...\n",
       "  Valor                                                    147770.87\n",
       "  Name: 132, dtype: object),\n",
       " (133, Nome                                                  Cadillac STS\n",
       "  Motor                                              Motor 4.0 Turbo\n",
       "  Ano                                                           2015\n",
       "  Quilometragem                                              86519.0\n",
       "  Zero_km                                                      False\n",
       "  Acessórios       ['Painel digital', 'Bancos de couro', 'Sensor ...\n",
       "  Valor                                                    106617.71\n",
       "  Name: 133, dtype: object),\n",
       " (134, Nome                                              Aston Martin DB9\n",
       "  Motor                                                Motor 1.8 16v\n",
       "  Ano                                                           1996\n",
       "  Quilometragem                                               4821.0\n",
       "  Zero_km                                                      False\n",
       "  Acessórios       ['Ar condicionado', 'Vidros elétricos', '4 X 4...\n",
       "  Valor                                                    104929.88\n",
       "  Name: 134, dtype: object),\n",
       " (135, Nome                                                       NX 200t\n",
       "  Motor                                              Motor 2.4 Turbo\n",
       "  Ano                                                           1997\n",
       "  Quilometragem                                             101025.0\n",
       "  Zero_km                                                      False\n",
       "  Acessórios       ['Controle de estabilidade', 'Painel digital',...\n",
       "  Valor                                                    100712.45\n",
       "  Name: 135, dtype: object),\n",
       " (136, Nome                                           Aston Martin One-77\n",
       "  Motor                                                     Motor V6\n",
       "  Ano                                                           1993\n",
       "  Quilometragem                                              30705.0\n",
       "  Zero_km                                                      False\n",
       "  Acessórios       ['Sensor de estacionamento', 'Rodas de liga', ...\n",
       "  Valor                                                    141982.93\n",
       "  Name: 136, dtype: object),\n",
       " (137, Nome                                            Lamborghini Veneno\n",
       "  Motor                                                Motor 3.0 32v\n",
       "  Ano                                                           2019\n",
       "  Quilometragem                                                  NaN\n",
       "  Zero_km                                                       True\n",
       "  Acessórios       ['4 X 4', 'Sensor de estacionamento', 'Câmbio ...\n",
       "  Valor                                                    104038.79\n",
       "  Name: 137, dtype: object),\n",
       " (138, Nome                                                        Sentra\n",
       "  Motor                                                Motor 2.0 16v\n",
       "  Ano                                                           1992\n",
       "  Quilometragem                                              32555.0\n",
       "  Zero_km                                                      False\n",
       "  Acessórios       ['Piloto automático', 'Sensor crepuscular', 'T...\n",
       "  Valor                                                     88501.54\n",
       "  Name: 138, dtype: object),\n",
       " (139, Nome                                                        Jumper\n",
       "  Motor                                              Motor 2.4 Turbo\n",
       "  Ano                                                           1995\n",
       "  Quilometragem                                             103389.0\n",
       "  Zero_km                                                      False\n",
       "  Acessórios       ['Ar condicionado', 'Rodas de liga', 'Câmbio a...\n",
       "  Valor                                                     79782.02\n",
       "  Name: 139, dtype: object),\n",
       " (140, Nome                                                           i30\n",
       "  Motor                                                Motor 1.8 16v\n",
       "  Ano                                                           2019\n",
       "  Quilometragem                                                  NaN\n",
       "  Zero_km                                                       True\n",
       "  Acessórios       ['Câmbio automático', 'Controle de estabilidad...\n",
       "  Valor                                                      86224.1\n",
       "  Name: 140, dtype: object),\n",
       " (141, Nome                                                            X6\n",
       "  Motor                                              Motor Diesel V6\n",
       "  Ano                                                           1990\n",
       "  Quilometragem                                              55289.0\n",
       "  Zero_km                                                      False\n",
       "  Acessórios       ['Câmera de estacionamento', 'Travas elétricas...\n",
       "  Valor                                                    103596.18\n",
       "  Name: 141, dtype: object),\n",
       " (142, Nome                                                        Voyage\n",
       "  Motor                                        Motor 5.0 V8 Bi-Turbo\n",
       "  Ano                                                           2019\n",
       "  Quilometragem                                                  NaN\n",
       "  Zero_km                                                       True\n",
       "  Acessórios       ['Ar condicionado', 'Sensor de estacionamento'...\n",
       "  Valor                                                    148996.47\n",
       "  Name: 142, dtype: object),\n",
       " (143, Nome                                          Phantom I Phantom II\n",
       "  Motor                                                Motor 1.8 16v\n",
       "  Ano                                                           2019\n",
       "  Quilometragem                                                  NaN\n",
       "  Zero_km                                                       True\n",
       "  Acessórios       ['Piloto automático', 'Freios ABS', 'Painel di...\n",
       "  Valor                                                     60948.01\n",
       "  Name: 143, dtype: object),\n",
       " (144, Nome                                                Passat Variant\n",
       "  Motor                                                 Motor 1.0 8v\n",
       "  Ano                                                           1991\n",
       "  Quilometragem                                             115930.0\n",
       "  Zero_km                                                      False\n",
       "  Acessórios       ['Freios ABS', 'Rodas de liga', 'Piloto automá...\n",
       "  Valor                                                     69535.44\n",
       "  Name: 144, dtype: object),\n",
       " (145, Nome                                                          Clio\n",
       "  Motor                                                 Motor Diesel\n",
       "  Ano                                                           1990\n",
       "  Quilometragem                                              66437.0\n",
       "  Zero_km                                                      False\n",
       "  Acessórios       ['4 X 4', 'Câmbio automático', 'Freios ABS', '...\n",
       "  Valor                                                    111130.33\n",
       "  Name: 145, dtype: object),\n",
       " (146, Nome                                                      Classe G\n",
       "  Motor                                              Motor Diesel V6\n",
       "  Ano                                                           2012\n",
       "  Quilometragem                                              96800.0\n",
       "  Zero_km                                                      False\n",
       "  Acessórios       ['Controle de estabilidade', 'Central multimíd...\n",
       "  Valor                                                     65847.69\n",
       "  Name: 146, dtype: object),\n",
       " (147, Nome                                                  Silver Ghost\n",
       "  Motor                                                Motor 1.8 16v\n",
       "  Ano                                                           2007\n",
       "  Quilometragem                                              14237.0\n",
       "  Zero_km                                                      False\n",
       "  Acessórios       ['Travas elétricas', 'Painel digital', 'Câmera...\n",
       "  Valor                                                     78096.06\n",
       "  Name: 147, dtype: object),\n",
       " (148, Nome                                              Série 3 M3 Coupé\n",
       "  Motor                                                 Motor Diesel\n",
       "  Ano                                                           2013\n",
       "  Quilometragem                                              19896.0\n",
       "  Zero_km                                                      False\n",
       "  Acessórios       ['Bancos de couro', 'Sensor de chuva', 'Ar con...\n",
       "  Valor                                                     69219.89\n",
       "  Name: 148, dtype: object),\n",
       " (149, Nome                                           Gallardo LP 560 – 4\n",
       "  Motor                                                 Motor Diesel\n",
       "  Ano                                                           2000\n",
       "  Quilometragem                                             113045.0\n",
       "  Zero_km                                                      False\n",
       "  Acessórios       ['Freios ABS', 'Teto panorâmico', 'Central mul...\n",
       "  Valor                                                    144118.91\n",
       "  Name: 149, dtype: object),\n",
       " (150, Nome                                                  Freelander 2\n",
       "  Motor                                              Motor Diesel V6\n",
       "  Ano                                                           2002\n",
       "  Quilometragem                                             114942.0\n",
       "  Zero_km                                                      False\n",
       "  Acessórios       ['4 X 4', 'Câmera de estacionamento', 'Sensor ...\n",
       "  Valor                                                     77397.05\n",
       "  Name: 150, dtype: object),\n",
       " (151, Nome                                                Grand Cherokee\n",
       "  Motor                                        Motor 5.0 V8 Bi-Turbo\n",
       "  Ano                                                           1996\n",
       "  Quilometragem                                               3173.0\n",
       "  Zero_km                                                      False\n",
       "  Acessórios       ['Câmbio automático', 'Travas elétricas', 'Sen...\n",
       "  Valor                                                     68974.25\n",
       "  Name: 151, dtype: object),\n",
       " (152, Nome                                             Aston Martin DBR9\n",
       "  Motor                                              Motor 4.0 Turbo\n",
       "  Ano                                                           1996\n",
       "  Quilometragem                                              83611.0\n",
       "  Zero_km                                                      False\n",
       "  Acessórios       ['Controle de estabilidade', 'Sensor de estaci...\n",
       "  Valor                                                     125231.3\n",
       "  Name: 152, dtype: object),\n",
       " (153, Nome                                                          Soul\n",
       "  Motor                                        Motor 5.0 V8 Bi-Turbo\n",
       "  Ano                                                           2015\n",
       "  Quilometragem                                              25356.0\n",
       "  Zero_km                                                      False\n",
       "  Acessórios       ['Sensor crepuscular', 'Piloto automático', 'S...\n",
       "  Valor                                                     85501.12\n",
       "  Name: 153, dtype: object),\n",
       " (154, Nome                                                  Cadillac BLS\n",
       "  Motor                                                     Motor V8\n",
       "  Ano                                                           1993\n",
       "  Quilometragem                                              88634.0\n",
       "  Zero_km                                                      False\n",
       "  Acessórios       ['Teto panorâmico', 'Controle de estabilidade'...\n",
       "  Valor                                                    137116.21\n",
       "  Name: 154, dtype: object),\n",
       " (155, Nome                                                        RX 350\n",
       "  Motor                                                     Motor V6\n",
       "  Ano                                                           2013\n",
       "  Quilometragem                                               2314.0\n",
       "  Zero_km                                                      False\n",
       "  Acessórios       ['Piloto automático', 'Sensor crepuscular', 'A...\n",
       "  Valor                                                    138823.81\n",
       "  Name: 155, dtype: object),\n",
       " (156, Nome                                                        Cayman\n",
       "  Motor                                                Motor 3.0 32v\n",
       "  Ano                                                           2013\n",
       "  Quilometragem                                               2627.0\n",
       "  Zero_km                                                      False\n",
       "  Acessórios       ['Central multimídia', 'Painel digital', 'Sens...\n",
       "  Valor                                                    117961.95\n",
       "  Name: 156, dtype: object),\n",
       " (157, Nome                                                 Chana Utility\n",
       "  Motor                                                 Motor Diesel\n",
       "  Ano                                                           2009\n",
       "  Quilometragem                                              52034.0\n",
       "  Zero_km                                                      False\n",
       "  Acessórios       ['Ar condicionado', 'Sensor de estacionamento'...\n",
       "  Valor                                                    132662.32\n",
       "  Name: 157, dtype: object),\n",
       " (158, Nome                                                        308 CC\n",
       "  Motor                                              Motor 4.0 Turbo\n",
       "  Ano                                                           2019\n",
       "  Quilometragem                                                  NaN\n",
       "  Zero_km                                                       True\n",
       "  Acessórios       ['Câmera de estacionamento', 'Bancos de couro'...\n",
       "  Valor                                                    146405.79\n",
       "  Name: 158, dtype: object),\n",
       " (159, Nome                                                   L200 Triton\n",
       "  Motor                                              Motor Diesel V8\n",
       "  Ano                                                           2019\n",
       "  Quilometragem                                                  NaN\n",
       "  Zero_km                                                       True\n",
       "  Acessórios       ['Vidros elétricos', 'Ar condicionado', 'Paine...\n",
       "  Valor                                                     81999.21\n",
       "  Name: 159, dtype: object),\n",
       " (160, Nome                                                         Jetta\n",
       "  Motor                                        Motor 5.0 V8 Bi-Turbo\n",
       "  Ano                                                           2002\n",
       "  Quilometragem                                              79577.0\n",
       "  Zero_km                                                      False\n",
       "  Acessórios       ['Central multimídia', 'Vidros elétricos', 'Câ...\n",
       "  Valor                                                     140934.6\n",
       "  Name: 160, dtype: object),\n",
       " (161, Nome                                                     C4 Lounge\n",
       "  Motor                                                     Motor V8\n",
       "  Ano                                                           1997\n",
       "  Quilometragem                                             108201.0\n",
       "  Zero_km                                                      False\n",
       "  Acessórios       ['Central multimídia', 'Controle de tração', '...\n",
       "  Valor                                                     82366.81\n",
       "  Name: 161, dtype: object),\n",
       " (162, Nome                                                     C4 Pallas\n",
       "  Motor                                                 Motor 1.0 8v\n",
       "  Ano                                                           1998\n",
       "  Quilometragem                                              76453.0\n",
       "  Zero_km                                                      False\n",
       "  Acessórios       ['4 X 4', 'Freios ABS', 'Sensor de chuva', 'Ro...\n",
       "  Valor                                                     70424.11\n",
       "  Name: 162, dtype: object),\n",
       " (163, Nome                                                         Equus\n",
       "  Motor                                                Motor 3.0 32v\n",
       "  Ano                                                           2004\n",
       "  Quilometragem                                              57683.0\n",
       "  Zero_km                                                      False\n",
       "  Acessórios       ['Travas elétricas', 'Rodas de liga', '4 X 4',...\n",
       "  Valor                                                     53620.31\n",
       "  Name: 163, dtype: object),\n",
       " (164, Nome                                                     Classe GL\n",
       "  Motor                                                Motor 3.0 32v\n",
       "  Ano                                                           1996\n",
       "  Quilometragem                                              96610.0\n",
       "  Zero_km                                                      False\n",
       "  Acessórios       ['Freios ABS', 'Câmera de estacionamento', 'Tr...\n",
       "  Valor                                                     73389.18\n",
       "  Name: 164, dtype: object),\n",
       " (165, Nome                                            Range Rover Evoque\n",
       "  Motor                                                Motor 2.0 16v\n",
       "  Ano                                                           2015\n",
       "  Quilometragem                                             109001.0\n",
       "  Zero_km                                                      False\n",
       "  Acessórios       ['Rodas de liga', 'Teto panorâmico', 'Sensor d...\n",
       "  Valor                                                    111618.12\n",
       "  Name: 165, dtype: object),\n",
       " (166, Nome                                                      Cherokee\n",
       "  Motor                                              Motor 4.0 Turbo\n",
       "  Ano                                                           2016\n",
       "  Quilometragem                                              26212.0\n",
       "  Zero_km                                                      False\n",
       "  Acessórios       ['Painel digital', 'Travas elétricas', 'Rodas ...\n",
       "  Valor                                                    112187.37\n",
       "  Name: 166, dtype: object),\n",
       " (167, Nome                                                         Punto\n",
       "  Motor                                              Motor 4.0 Turbo\n",
       "  Ano                                                           2005\n",
       "  Quilometragem                                              45971.0\n",
       "  Zero_km                                                      False\n",
       "  Acessórios       ['Central multimídia', 'Câmbio automático', 'P...\n",
       "  Valor                                                    120812.57\n",
       "  Name: 167, dtype: object),\n",
       " (168, Nome                                                    Grand Tour\n",
       "  Motor                                                Motor 3.0 32v\n",
       "  Ano                                                           1999\n",
       "  Quilometragem                                              49182.0\n",
       "  Zero_km                                                      False\n",
       "  Acessórios       ['Rodas de liga', 'Travas elétricas', 'Bancos ...\n",
       "  Valor                                                    116031.04\n",
       "  Name: 168, dtype: object),\n",
       " (169, Nome                                                       Fluence\n",
       "  Motor                                              Motor Diesel V6\n",
       "  Ano                                                           1995\n",
       "  Quilometragem                                              49907.0\n",
       "  Zero_km                                                      False\n",
       "  Acessórios       ['Sensor crepuscular', 'Teto panorâmico', 'Câm...\n",
       "  Valor                                                    125398.11\n",
       "  Name: 169, dtype: object),\n",
       " (170, Nome                              Effa Hafei Picape Cabine Simples\n",
       "  Motor                                                 Motor 1.0 8v\n",
       "  Ano                                                           1993\n",
       "  Quilometragem                                              38620.0\n",
       "  Zero_km                                                      False\n",
       "  Acessórios       ['Piloto automático', 'Ar condicionado', 'Cent...\n",
       "  Valor                                                     76101.47\n",
       "  Name: 170, dtype: object),\n",
       " (171, Nome                                                       Durango\n",
       "  Motor                                                Motor 2.0 16v\n",
       "  Ano                                                           2004\n",
       "  Quilometragem                                              60996.0\n",
       "  Zero_km                                                      False\n",
       "  Acessórios       ['Bancos de couro', 'Painel digital', 'Câmbio ...\n",
       "  Valor                                                     75263.24\n",
       "  Name: 171, dtype: object),\n",
       " (172, Nome                                                       Boxster\n",
       "  Motor                                              Motor Diesel V8\n",
       "  Ano                                                           2013\n",
       "  Quilometragem                                              73914.0\n",
       "  Zero_km                                                      False\n",
       "  Acessórios       ['Teto panorâmico', 'Sensor crepuscular', 'Ban...\n",
       "  Valor                                                    147387.76\n",
       "  Name: 172, dtype: object),\n",
       " (173, Nome                                                   TT Roadster\n",
       "  Motor                                                 Motor Diesel\n",
       "  Ano                                                           1998\n",
       "  Quilometragem                                             107392.0\n",
       "  Zero_km                                                      False\n",
       "  Acessórios       ['Ar condicionado', 'Sensor de estacionamento'...\n",
       "  Valor                                                      85311.4\n",
       "  Name: 173, dtype: object),\n",
       " (174, Nome                                             Lamborghini Jalpa\n",
       "  Motor                                                Motor 1.8 16v\n",
       "  Ano                                                           2018\n",
       "  Quilometragem                                               9146.0\n",
       "  Zero_km                                                      False\n",
       "  Acessórios       ['Piloto automático', 'Freios ABS', 'Sensor de...\n",
       "  Valor                                                     54388.11\n",
       "  Name: 174, dtype: object),\n",
       " (175, Nome                                                    Classe SLK\n",
       "  Motor                                              Motor 4.0 Turbo\n",
       "  Ano                                                           2019\n",
       "  Quilometragem                                                  NaN\n",
       "  Zero_km                                                       True\n",
       "  Acessórios       ['4 X 4', 'Sensor de estacionamento', 'Control...\n",
       "  Valor                                                    124156.65\n",
       "  Name: 175, dtype: object),\n",
       " (176, Nome                                                          Golf\n",
       "  Motor                                                 Motor 1.0 8v\n",
       "  Ano                                                           2018\n",
       "  Quilometragem                                              17924.0\n",
       "  Zero_km                                                      False\n",
       "  Acessórios       ['Rodas de liga', 'Controle de tração', 'Senso...\n",
       "  Valor                                                    146203.34\n",
       "  Name: 176, dtype: object),\n",
       " (177, Nome                                                    C3 Picasso\n",
       "  Motor                                                Motor 3.0 32v\n",
       "  Ano                                                           2019\n",
       "  Quilometragem                                                  NaN\n",
       "  Zero_km                                                       True\n",
       "  Acessórios       ['Teto panorâmico', 'Sensor crepuscular', 'Sen...\n",
       "  Valor                                                     56453.94\n",
       "  Name: 177, dtype: object),\n",
       " (178, Nome                                                           V50\n",
       "  Motor                                                Motor 2.0 16v\n",
       "  Ano                                                           1990\n",
       "  Quilometragem                                             116949.0\n",
       "  Zero_km                                                      False\n",
       "  Acessórios       ['Teto panorâmico', 'Câmera de estacionamento'...\n",
       "  Valor                                                     68873.79\n",
       "  Name: 178, dtype: object),\n",
       " (179, Nome                                                       Picanto\n",
       "  Motor                                              Motor 4.0 Turbo\n",
       "  Ano                                                           2009\n",
       "  Quilometragem                                              20476.0\n",
       "  Zero_km                                                      False\n",
       "  Acessórios       ['Painel digital', 'Controle de estabilidade',...\n",
       "  Valor                                                     91667.61\n",
       "  Name: 179, dtype: object),\n",
       " (180, Nome                                                       Cadenza\n",
       "  Motor                                              Motor Diesel V6\n",
       "  Ano                                                           1990\n",
       "  Quilometragem                                              52804.0\n",
       "  Zero_km                                                      False\n",
       "  Acessórios       ['Sensor crepuscular', 'Controle de estabilida...\n",
       "  Valor                                                     93776.52\n",
       "  Name: 180, dtype: object),\n",
       " (181, Nome                                                    Etios Sedã\n",
       "  Motor                                        Motor 5.0 V8 Bi-Turbo\n",
       "  Ano                                                           2006\n",
       "  Quilometragem                                               8849.0\n",
       "  Zero_km                                                      False\n",
       "  Acessórios       ['Ar condicionado', 'Vidros elétricos', 'Senso...\n",
       "  Valor                                                     66433.82\n",
       "  Name: 181, dtype: object),\n",
       " (182, Nome                                                        Alsvin\n",
       "  Motor                                              Motor Diesel V8\n",
       "  Ano                                                           2002\n",
       "  Quilometragem                                              91724.0\n",
       "  Zero_km                                                      False\n",
       "  Acessórios       ['Central multimídia', 'Controle de estabilida...\n",
       "  Valor                                                    109059.27\n",
       "  Name: 182, dtype: object),\n",
       " (183, Nome                                                  Cadillac ATS\n",
       "  Motor                                              Motor Diesel V6\n",
       "  Ano                                                           1991\n",
       "  Quilometragem                                              32056.0\n",
       "  Zero_km                                                      False\n",
       "  Acessórios       ['Piloto automático', 'Rodas de liga', '4 X 4'...\n",
       "  Valor                                                    122069.97\n",
       "  Name: 183, dtype: object),\n",
       " (184, Nome                                               Série 3 M3 Sedã\n",
       "  Motor                                              Motor Diesel V6\n",
       "  Ano                                                           1992\n",
       "  Quilometragem                                              74886.0\n",
       "  Zero_km                                                      False\n",
       "  Acessórios       ['Painel digital', 'Freios ABS', 'Ar condicion...\n",
       "  Valor                                                    113090.32\n",
       "  Name: 184, dtype: object),\n",
       " (185, Nome                                                      Classe S\n",
       "  Motor                                                Motor 3.0 32v\n",
       "  Ano                                                           2019\n",
       "  Quilometragem                                                  NaN\n",
       "  Zero_km                                                       True\n",
       "  Acessórios       ['Controle de tração', 'Teto panorâmico', 'Câm...\n",
       "  Valor                                                      89401.1\n",
       "  Name: 185, dtype: object),\n",
       " (186, Nome                                                            T6\n",
       "  Motor                                                Motor 3.0 32v\n",
       "  Ano                                                           2019\n",
       "  Quilometragem                                                  NaN\n",
       "  Zero_km                                                       True\n",
       "  Acessórios       ['Sensor de chuva', 'Câmera de estacionamento'...\n",
       "  Valor                                                     56842.79\n",
       "  Name: 186, dtype: object),\n",
       " (187, Nome                                              Aston Martin DB7\n",
       "  Motor                                              Motor Diesel V8\n",
       "  Ano                                                           2005\n",
       "  Quilometragem                                              52189.0\n",
       "  Zero_km                                                      False\n",
       "  Acessórios       ['Travas elétricas', 'Painel digital', 'Sensor...\n",
       "  Valor                                                    146676.71\n",
       "  Name: 187, dtype: object),\n",
       " (188, Nome                                                     207 Sedan\n",
       "  Motor                                              Motor 4.0 Turbo\n",
       "  Ano                                                           2010\n",
       "  Quilometragem                                              83559.0\n",
       "  Zero_km                                                      False\n",
       "  Acessórios       ['Controle de tração', 'Central multimídia', '...\n",
       "  Valor                                                     89511.96\n",
       "  Name: 188, dtype: object),\n",
       " (189, Nome                                           Aston Martin Virage\n",
       "  Motor                                                 Motor Diesel\n",
       "  Ano                                                           2019\n",
       "  Quilometragem                                                  NaN\n",
       "  Zero_km                                                       True\n",
       "  Acessórios       ['Travas elétricas', 'Controle de tração', 'Câ...\n",
       "  Valor                                                     97290.18\n",
       "  Name: 189, dtype: object),\n",
       " (190, Nome                                                         Azera\n",
       "  Motor                                                Motor 1.8 16v\n",
       "  Ano                                                           2016\n",
       "  Quilometragem                                              20328.0\n",
       "  Zero_km                                                      False\n",
       "  Acessórios       ['Bancos de couro', 'Controle de tração', 'Ar ...\n",
       "  Valor                                                    120673.56\n",
       "  Name: 190, dtype: object),\n",
       " (191, Nome                                               Vantage Volante\n",
       "  Motor                                              Motor Diesel V8\n",
       "  Ano                                                           2019\n",
       "  Quilometragem                                                  NaN\n",
       "  Zero_km                                                       True\n",
       "  Acessórios       ['Freios ABS', 'Controle de tração', 'Central ...\n",
       "  Valor                                                    114434.94\n",
       "  Name: 191, dtype: object),\n",
       " (192, Nome                                                      Siena EL\n",
       "  Motor                                                     Motor V8\n",
       "  Ano                                                           2010\n",
       "  Quilometragem                                              75577.0\n",
       "  Zero_km                                                      False\n",
       "  Acessórios       ['Freios ABS', 'Sensor crepuscular', 'Controle...\n",
       "  Valor                                                    139546.69\n",
       "  Name: 192, dtype: object),\n",
       " (193, Nome                                               Palio Adventure\n",
       "  Motor                                              Motor Diesel V8\n",
       "  Ano                                                           1994\n",
       "  Quilometragem                                              33659.0\n",
       "  Zero_km                                                      False\n",
       "  Acessórios       ['Teto panorâmico', 'Central multimídia', 'Pil...\n",
       "  Valor                                                     95078.16\n",
       "  Name: 193, dtype: object),\n",
       " (194, Nome                                                         HB20X\n",
       "  Motor                                                     Motor V8\n",
       "  Ano                                                           2001\n",
       "  Quilometragem                                             104341.0\n",
       "  Zero_km                                                      False\n",
       "  Acessórios       ['Sensor crepuscular', 'Teto panorâmico', 'Pai...\n",
       "  Valor                                                     68091.77\n",
       "  Name: 194, dtype: object),\n",
       " (195, Nome                                                            HR\n",
       "  Motor                                        Motor 5.0 V8 Bi-Turbo\n",
       "  Ano                                                           2014\n",
       "  Quilometragem                                              25510.0\n",
       "  Zero_km                                                      False\n",
       "  Acessórios       ['Controle de tração', 'Câmbio automático', '4...\n",
       "  Valor                                                     61496.97\n",
       "  Name: 195, dtype: object),\n",
       " (196, Nome                                         Cadillac STS V-Series\n",
       "  Motor                                                Motor 2.0 16v\n",
       "  Ano                                                           1996\n",
       "  Quilometragem                                              18965.0\n",
       "  Zero_km                                                      False\n",
       "  Acessórios       ['Vidros elétricos', 'Piloto automático', 'Câm...\n",
       "  Valor                                                     139669.3\n",
       "  Name: 196, dtype: object),\n",
       " (197, Nome                                                 Série 1 Coupé\n",
       "  Motor                                                 Motor 1.0 8v\n",
       "  Ano                                                           1993\n",
       "  Quilometragem                                              87161.0\n",
       "  Zero_km                                                      False\n",
       "  Acessórios       ['Controle de estabilidade', 'Teto panorâmico'...\n",
       "  Valor                                                     80661.39\n",
       "  Name: 197, dtype: object),\n",
       " (198, Nome                                                      SpaceFox\n",
       "  Motor                                                     Motor V8\n",
       "  Ano                                                           1993\n",
       "  Quilometragem                                               6652.0\n",
       "  Zero_km                                                      False\n",
       "  Acessórios       ['Sensor crepuscular', '4 X 4', 'Painel digita...\n",
       "  Valor                                                     61783.65\n",
       "  Name: 198, dtype: object),\n",
       " (199, Nome                                                           C30\n",
       "  Motor                                                 Motor 1.0 8v\n",
       "  Ano                                                           2001\n",
       "  Quilometragem                                              55738.0\n",
       "  Zero_km                                                      False\n",
       "  Acessórios       ['Teto panorâmico', 'Freios ABS', 'Sensor crep...\n",
       "  Valor                                                     52805.91\n",
       "  Name: 199, dtype: object),\n",
       " (200, Nome                                                      J3 Turin\n",
       "  Motor                                                     Motor V6\n",
       "  Ano                                                           2019\n",
       "  Quilometragem                                                  NaN\n",
       "  Zero_km                                                       True\n",
       "  Acessórios       ['Sensor crepuscular', 'Câmera de estacionamen...\n",
       "  Valor                                                    127024.75\n",
       "  Name: 200, dtype: object),\n",
       " (201, Nome                                                      Classe B\n",
       "  Motor                                              Motor Diesel V8\n",
       "  Ano                                                           2019\n",
       "  Quilometragem                                                  NaN\n",
       "  Zero_km                                                       True\n",
       "  Acessórios       ['4 X 4', 'Bancos de couro', 'Sensor crepuscul...\n",
       "  Valor                                                     135543.0\n",
       "  Name: 201, dtype: object),\n",
       " (202, Nome                                                        Parati\n",
       "  Motor                                              Motor Diesel V8\n",
       "  Ano                                                           2019\n",
       "  Quilometragem                                                  NaN\n",
       "  Zero_km                                                       True\n",
       "  Acessórios       ['Sensor de estacionamento', 'Piloto automátic...\n",
       "  Valor                                                    121708.73\n",
       "  Name: 202, dtype: object),\n",
       " (203, Nome                                         Cadillac CTS V-Series\n",
       "  Motor                                              Motor 4.0 Turbo\n",
       "  Ano                                                           2007\n",
       "  Quilometragem                                              64320.0\n",
       "  Zero_km                                                      False\n",
       "  Acessórios       ['Piloto automático', 'Ar condicionado', 'Cent...\n",
       "  Valor                                                    107342.68\n",
       "  Name: 203, dtype: object),\n",
       " (204, Nome                                                         Sedan\n",
       "  Motor                                                     Motor V8\n",
       "  Ano                                                           2019\n",
       "  Quilometragem                                                  NaN\n",
       "  Zero_km                                                       True\n",
       "  Acessórios       ['Bancos de couro', 'Central multimídia', 'Fre...\n",
       "  Valor                                                      57888.1\n",
       "  Name: 204, dtype: object),\n",
       " (205, Nome                                             Classe CLS 63 AMG\n",
       "  Motor                                              Motor Diesel V6\n",
       "  Ano                                                           2016\n",
       "  Quilometragem                                              68678.0\n",
       "  Zero_km                                                      False\n",
       "  Acessórios       ['Freios ABS', 'Vidros elétricos', 'Câmbio aut...\n",
       "  Valor                                                    118161.48\n",
       "  Name: 205, dtype: object),\n",
       " (206, Nome                                                      Aircross\n",
       "  Motor                                                 Motor 1.0 8v\n",
       "  Ano                                                           2014\n",
       "  Quilometragem                                              71697.0\n",
       "  Zero_km                                                      False\n",
       "  Acessórios       ['Controle de tração', 'Piloto automático', 'C...\n",
       "  Valor                                                    142499.06\n",
       "  Name: 206, dtype: object),\n",
       " (207, Nome                                      Aston Martin V12 Vantage\n",
       "  Motor                                                     Motor V8\n",
       "  Ano                                                           2019\n",
       "  Quilometragem                                                  NaN\n",
       "  Zero_km                                                       True\n",
       "  Acessórios       ['Bancos de couro', 'Central multimídia', 'Con...\n",
       "  Valor                                                    128396.11\n",
       "  Name: 207, dtype: object),\n",
       " (208, Nome                                                       Sandero\n",
       "  Motor                                                 Motor Diesel\n",
       "  Ano                                                           2015\n",
       "  Quilometragem                                              34783.0\n",
       "  Zero_km                                                      False\n",
       "  Acessórios       ['Piloto automático', 'Teto panorâmico', 'Câmb...\n",
       "  Valor                                                    112350.61\n",
       "  Name: 208, dtype: object),\n",
       " (209, Nome                                                    New Fiesta\n",
       "  Motor                                        Motor 5.0 V8 Bi-Turbo\n",
       "  Ano                                                           2015\n",
       "  Quilometragem                                              33772.0\n",
       "  Zero_km                                                      False\n",
       "  Acessórios       ['Controle de tração', 'Travas elétricas', '4 ...\n",
       "  Valor                                                    124661.38\n",
       "  Name: 209, dtype: object),\n",
       " (210, Nome                                                           XKR\n",
       "  Motor                                                 Motor Diesel\n",
       "  Ano                                                           1996\n",
       "  Quilometragem                                              85127.0\n",
       "  Zero_km                                                      False\n",
       "  Acessórios       ['Controle de tração', 'Ar condicionado', 'Tra...\n",
       "  Valor                                                     54263.16\n",
       "  Name: 210, dtype: object),\n",
       " (211, Nome                                                            X5\n",
       "  Motor                                                 Motor Diesel\n",
       "  Ano                                                           2002\n",
       "  Quilometragem                                              13606.0\n",
       "  Zero_km                                                      False\n",
       "  Acessórios       ['Controle de tração', 'Piloto automático', 'T...\n",
       "  Valor                                                     62041.32\n",
       "  Name: 211, dtype: object),\n",
       " (212, Nome                                                  Cadillac DTS\n",
       "  Motor                                                Motor 1.8 16v\n",
       "  Ano                                                           2005\n",
       "  Quilometragem                                              35647.0\n",
       "  Zero_km                                                      False\n",
       "  Acessórios       ['Central multimídia', 'Rodas de liga', 'Câmbi...\n",
       "  Valor                                                    129296.11\n",
       "  Name: 212, dtype: object),\n",
       " (213, Nome                                                  Pajero Dakar\n",
       "  Motor                                              Motor 4.0 Turbo\n",
       "  Ano                                                           1995\n",
       "  Quilometragem                                              95128.0\n",
       "  Zero_km                                                      False\n",
       "  Acessórios       ['Piloto automático', 'Sensor de chuva', 'Cont...\n",
       "  Valor                                                     60998.33\n",
       "  Name: 213, dtype: object),\n",
       " (214, Nome                                                      Classe A\n",
       "  Motor                                                 Motor 1.0 8v\n",
       "  Ano                                                           1999\n",
       "  Quilometragem                                              14046.0\n",
       "  Zero_km                                                      False\n",
       "  Acessórios       ['Controle de tração', 'Central multimídia', '...\n",
       "  Valor                                                      58008.5\n",
       "  Name: 214, dtype: object),\n",
       " (215, Nome                                           Ford Focus Fastback\n",
       "  Motor                                              Motor 4.0 Turbo\n",
       "  Ano                                                           2005\n",
       "  Quilometragem                                              41194.0\n",
       "  Zero_km                                                      False\n",
       "  Acessórios       ['Bancos de couro', 'Câmera de estacionamento'...\n",
       "  Valor                                                     82304.19\n",
       "  Name: 215, dtype: object),\n",
       " (216, Nome                                                       Partner\n",
       "  Motor                                              Motor 2.4 Turbo\n",
       "  Ano                                                           2019\n",
       "  Quilometragem                                                  NaN\n",
       "  Zero_km                                                       True\n",
       "  Acessórios       ['Central multimídia', 'Controle de tração', '...\n",
       "  Valor                                                    114531.74\n",
       "  Name: 216, dtype: object),\n",
       " (217, Nome                                                            R8\n",
       "  Motor                                                     Motor V6\n",
       "  Ano                                                           1997\n",
       "  Quilometragem                                              96100.0\n",
       "  Zero_km                                                      False\n",
       "  Acessórios       ['4 X 4', 'Controle de estabilidade', 'Câmera ...\n",
       "  Valor                                                    128565.61\n",
       "  Name: 217, dtype: object),\n",
       " (218, Nome                                      Aston Martin DBS Volante\n",
       "  Motor                                              Motor 4.0 Turbo\n",
       "  Ano                                                           1990\n",
       "  Quilometragem                                             103900.0\n",
       "  Zero_km                                                      False\n",
       "  Acessórios       ['Central multimídia', 'Controle de estabilida...\n",
       "  Valor                                                    126488.26\n",
       "  Name: 218, dtype: object),\n",
       " (219, Nome                                                        Mohave\n",
       "  Motor                                              Motor Diesel V6\n",
       "  Ano                                                           2001\n",
       "  Quilometragem                                              43814.0\n",
       "  Zero_km                                                      False\n",
       "  Acessórios       ['Travas elétricas', 'Central multimídia', 'Pa...\n",
       "  Valor                                                    119074.55\n",
       "  Name: 219, dtype: object),\n",
       " (220, Nome                                                         Fusca\n",
       "  Motor                                                Motor 3.0 32v\n",
       "  Ano                                                           2013\n",
       "  Quilometragem                                              24638.0\n",
       "  Zero_km                                                      False\n",
       "  Acessórios       ['Câmbio automático', 'Teto panorâmico', 'Sens...\n",
       "  Valor                                                    130238.04\n",
       "  Name: 220, dtype: object),\n",
       " (221, Nome                                                  Chana Family\n",
       "  Motor                                                     Motor V8\n",
       "  Ano                                                           2019\n",
       "  Quilometragem                                                  NaN\n",
       "  Zero_km                                                       True\n",
       "  Acessórios       ['Piloto automático', 'Teto panorâmico', 'Sens...\n",
       "  Valor                                                    115760.17\n",
       "  Name: 221, dtype: object),\n",
       " (222, Nome                                                          XC40\n",
       "  Motor                                              Motor 2.4 Turbo\n",
       "  Ano                                                           2017\n",
       "  Quilometragem                                             110966.0\n",
       "  Zero_km                                                      False\n",
       "  Acessórios       ['Sensor de chuva', 'Central multimídia', 'Vid...\n",
       "  Valor                                                     121248.0\n",
       "  Name: 222, dtype: object),\n",
       " (223, Nome                        Phantom I Jonckheere Aerodynamic Coupe\n",
       "  Motor                                                Motor 1.8 16v\n",
       "  Ano                                                           2011\n",
       "  Quilometragem                                              15987.0\n",
       "  Zero_km                                                      False\n",
       "  Acessórios       ['Sensor crepuscular', 'Travas elétricas', 'Pi...\n",
       "  Valor                                                     98156.35\n",
       "  Name: 223, dtype: object),\n",
       " (224, Nome                                                         Boxer\n",
       "  Motor                                                     Motor V6\n",
       "  Ano                                                           2005\n",
       "  Quilometragem                                              53369.0\n",
       "  Zero_km                                                      False\n",
       "  Acessórios       ['Travas elétricas', 'Piloto automático', 'Vid...\n",
       "  Valor                                                     112146.8\n",
       "  Name: 224, dtype: object),\n",
       " (225, Nome                                                   Chana Cargo\n",
       "  Motor                                                Motor 2.0 16v\n",
       "  Ano                                                           2007\n",
       "  Quilometragem                                              10077.0\n",
       "  Zero_km                                                      False\n",
       "  Acessórios       ['Teto panorâmico', '4 X 4', 'Central multimíd...\n",
       "  Valor                                                    102729.63\n",
       "  Name: 225, dtype: object),\n",
       " (226, Nome                                                  Dodge Dakota\n",
       "  Motor                                                 Motor Diesel\n",
       "  Ano                                                           1993\n",
       "  Quilometragem                                              71544.0\n",
       "  Zero_km                                                      False\n",
       "  Acessórios       ['Controle de tração', 'Sensor de estacionamen...\n",
       "  Valor                                                    141083.35\n",
       "  Name: 226, dtype: object),\n",
       " (227, Nome                                                            X1\n",
       "  Motor                                              Motor Diesel V8\n",
       "  Ano                                                           1991\n",
       "  Quilometragem                                                107.0\n",
       "  Zero_km                                                      False\n",
       "  Acessórios       ['4 X 4', 'Teto panorâmico', 'Ar condicionado'...\n",
       "  Valor                                                    102968.76\n",
       "  Name: 227, dtype: object),\n",
       " (228, Nome                                                           GLA\n",
       "  Motor                                                 Motor 1.0 8v\n",
       "  Ano                                                           1991\n",
       "  Quilometragem                                               8394.0\n",
       "  Zero_km                                                      False\n",
       "  Acessórios       ['Sensor de chuva', 'Câmera de estacionamento'...\n",
       "  Valor                                                     76310.01\n",
       "  Name: 228, dtype: object),\n",
       " (229, Nome                                             Range Rover Sport\n",
       "  Motor                                                 Motor 1.0 8v\n",
       "  Ano                                                           1997\n",
       "  Quilometragem                                              41498.0\n",
       "  Zero_km                                                      False\n",
       "  Acessórios       ['Sensor de estacionamento', 'Câmera de estaci...\n",
       "  Valor                                                    120481.74\n",
       "  Name: 229, dtype: object),\n",
       " (230, Nome                                                           DS3\n",
       "  Motor                                                Motor 1.8 16v\n",
       "  Ano                                                           2000\n",
       "  Quilometragem                                             116002.0\n",
       "  Zero_km                                                      False\n",
       "  Acessórios       ['Controle de estabilidade', 'Ar condicionado'...\n",
       "  Valor                                                     54559.18\n",
       "  Name: 230, dtype: object),\n",
       " (231, Nome                                                      Veracruz\n",
       "  Motor                                              Motor Diesel V8\n",
       "  Ano                                                           2007\n",
       "  Quilometragem                                             100858.0\n",
       "  Zero_km                                                      False\n",
       "  Acessórios       ['Controle de estabilidade', 'Câmera de estaci...\n",
       "  Valor                                                     92957.64\n",
       "  Name: 231, dtype: object),\n",
       " (232, Nome                          Cadillac CTS coupe, sedan, and wagon\n",
       "  Motor                                                     Motor V8\n",
       "  Ano                                                           2006\n",
       "  Quilometragem                                              67475.0\n",
       "  Zero_km                                                      False\n",
       "  Acessórios       ['Sensor de chuva', 'Sensor de estacionamento'...\n",
       "  Valor                                                    127810.06\n",
       "  Name: 232, dtype: object),\n",
       " (233, Nome                                                        i30 CW\n",
       "  Motor                                                 Motor Diesel\n",
       "  Ano                                                           2015\n",
       "  Quilometragem                                               8497.0\n",
       "  Zero_km                                                      False\n",
       "  Acessórios       ['Sensor de chuva', 'Vidros elétricos', 'Contr...\n",
       "  Valor                                                     73311.75\n",
       "  Name: 233, dtype: object),\n",
       " (234, Nome                                                   Phantom III\n",
       "  Motor                                              Motor Diesel V6\n",
       "  Ano                                                           2008\n",
       "  Quilometragem                                               4420.0\n",
       "  Zero_km                                                      False\n",
       "  Acessórios       ['Vidros elétricos', 'Bancos de couro', 'Pilot...\n",
       "  Valor                                                     65138.03\n",
       "  Name: 234, dtype: object),\n",
       " (235, Nome                                                      A3 Sedan\n",
       "  Motor                                                     Motor V6\n",
       "  Ano                                                           2019\n",
       "  Quilometragem                                                  NaN\n",
       "  Zero_km                                                       True\n",
       "  Acessórios       ['Ar condicionado', 'Sensor de chuva', 'Travas...\n",
       "  Valor                                                     90141.47\n",
       "  Name: 235, dtype: object),\n",
       " (236, Nome                                      Aston Martin DB9 Volante\n",
       "  Motor                                                Motor 2.0 16v\n",
       "  Ano                                                           1996\n",
       "  Quilometragem                                              58537.0\n",
       "  Zero_km                                                      False\n",
       "  Acessórios       ['Central multimídia', 'Bancos de couro', 'Câm...\n",
       "  Valor                                                     71160.36\n",
       "  Name: 236, dtype: object),\n",
       " (237, Nome                                                  Série 7 Sedã\n",
       "  Motor                                                 Motor Diesel\n",
       "  Ano                                                           2019\n",
       "  Quilometragem                                                  NaN\n",
       "  Zero_km                                                       True\n",
       "  Acessórios       ['Vidros elétricos', 'Travas elétricas', 'Roda...\n",
       "  Valor                                                     67539.79\n",
       "  Name: 237, dtype: object),\n",
       " (238, Nome                                          Lamborghini Reventón\n",
       "  Motor                                              Motor 4.0 Turbo\n",
       "  Ano                                                           2019\n",
       "  Quilometragem                                                  NaN\n",
       "  Zero_km                                                       True\n",
       "  Acessórios       ['Controle de tração', 'Ar condicionado', 'Cen...\n",
       "  Valor                                                     67664.86\n",
       "  Name: 238, dtype: object),\n",
       " (239, Nome                                                  Grand Livina\n",
       "  Motor                                                Motor 2.0 16v\n",
       "  Ano                                                           2014\n",
       "  Quilometragem                                             112016.0\n",
       "  Zero_km                                                      False\n",
       "  Acessórios       ['Controle de tração', 'Teto panorâmico', 'Vid...\n",
       "  Valor                                                     68652.16\n",
       "  Name: 239, dtype: object),\n",
       " (240, Nome                                                           V60\n",
       "  Motor                                                 Motor Diesel\n",
       "  Ano                                                           2004\n",
       "  Quilometragem                                              91840.0\n",
       "  Zero_km                                                      False\n",
       "  Acessórios       ['Rodas de liga', 'Sensor crepuscular', 'Ar co...\n",
       "  Valor                                                    114728.74\n",
       "  Name: 240, dtype: object),\n",
       " (241, Nome                                Effa Hafei Picape Cabine Dupla\n",
       "  Motor                                                     Motor V6\n",
       "  Ano                                                           2008\n",
       "  Quilometragem                                             112787.0\n",
       "  Zero_km                                                      False\n",
       "  Acessórios       ['Sensor crepuscular', 'Controle de tração', '...\n",
       "  Valor                                                    141645.08\n",
       "  Name: 241, dtype: object),\n",
       " (242, Nome                                                    Benni Mini\n",
       "  Motor                                                     Motor V8\n",
       "  Ano                                                           2019\n",
       "  Quilometragem                                                  NaN\n",
       "  Zero_km                                                       True\n",
       "  Acessórios       ['Sensor crepuscular', 'Câmbio automático', 'C...\n",
       "  Valor                                                    126247.84\n",
       "  Name: 242, dtype: object),\n",
       " (243, Nome                                                           Uno\n",
       "  Motor                                              Motor Diesel V6\n",
       "  Ano                                                           2019\n",
       "  Quilometragem                                                  NaN\n",
       "  Zero_km                                                       True\n",
       "  Acessórios       ['Central multimídia', 'Sensor crepuscular', '...\n",
       "  Valor                                                    128852.21\n",
       "  Name: 243, dtype: object),\n",
       " (244, Nome                                                   L200 Savana\n",
       "  Motor                                                Motor 2.0 16v\n",
       "  Ano                                                           2012\n",
       "  Quilometragem                                               9293.0\n",
       "  Zero_km                                                      False\n",
       "  Acessórios       ['Sensor de chuva', 'Vidros elétricos', 'Paine...\n",
       "  Valor                                                    132384.76\n",
       "  Name: 244, dtype: object),\n",
       " (245, Nome                                                      Santa Fe\n",
       "  Motor                                                Motor 3.0 32v\n",
       "  Ano                                                           2019\n",
       "  Quilometragem                                                  NaN\n",
       "  Zero_km                                                       True\n",
       "  Acessórios       ['Travas elétricas', 'Ar condicionado', '4 X 4...\n",
       "  Valor                                                    129415.33\n",
       "  Name: 245, dtype: object),\n",
       " (246, Nome                                                           RS5\n",
       "  Motor                                                     Motor V6\n",
       "  Ano                                                           1996\n",
       "  Quilometragem                                              55083.0\n",
       "  Zero_km                                                      False\n",
       "  Acessórios       ['Painel digital', 'Câmbio automático', 'Vidro...\n",
       "  Valor                                                     89536.82\n",
       "  Name: 246, dtype: object),\n",
       " (247, Nome                                                        Cerato\n",
       "  Motor                                                     Motor V6\n",
       "  Ano                                                           2011\n",
       "  Quilometragem                                              48796.0\n",
       "  Zero_km                                                      False\n",
       "  Acessórios       ['Sensor de estacionamento', 'Câmera de estaci...\n",
       "  Valor                                                      87975.3\n",
       "  Name: 247, dtype: object),\n",
       " (248, Nome                                                          XC60\n",
       "  Motor                                              Motor 4.0 Turbo\n",
       "  Ano                                                           2019\n",
       "  Quilometragem                                                  NaN\n",
       "  Zero_km                                                       True\n",
       "  Acessórios       ['Painel digital', 'Piloto automático', 'Centr...\n",
       "  Valor                                                     77675.79\n",
       "  Name: 248, dtype: object),\n",
       " (249, Nome                                                       LS 460L\n",
       "  Motor                                              Motor Diesel V8\n",
       "  Ano                                                           2010\n",
       "  Quilometragem                                              89685.0\n",
       "  Zero_km                                                      False\n",
       "  Acessórios       ['Rodas de liga', 'Freios ABS', 'Controle de t...\n",
       "  Valor                                                     58881.67\n",
       "  Name: 249, dtype: object),\n",
       " (250, Nome                                    Lamborghini Sesto Elemento\n",
       "  Motor                                                     Motor V8\n",
       "  Ano                                                           2007\n",
       "  Quilometragem                                              85384.0\n",
       "  Zero_km                                                      False\n",
       "  Acessórios       ['Sensor crepuscular', 'Freios ABS', 'Ar condi...\n",
       "  Valor                                                     55081.99\n",
       "  Name: 250, dtype: object),\n",
       " (251, Nome                                           Lamborghini Huracán\n",
       "  Motor                                                     Motor V8\n",
       "  Ano                                                           1994\n",
       "  Quilometragem                                              98108.0\n",
       "  Zero_km                                                      False\n",
       "  Acessórios       ['Sensor de chuva', 'Sensor de estacionamento'...\n",
       "  Valor                                                    118826.44\n",
       "  Name: 251, dtype: object),\n",
       " (252, Nome                                                            A7\n",
       "  Motor                                                 Motor 1.0 8v\n",
       "  Ano                                                           2007\n",
       "  Quilometragem                                              71280.0\n",
       "  Zero_km                                                      False\n",
       "  Acessórios       ['Sensor de chuva', 'Vidros elétricos', 'Senso...\n",
       "  Valor                                                    137627.62\n",
       "  Name: 252, dtype: object),\n",
       " (253, Nome                                                  Phantom 2013\n",
       "  Motor                                                     Motor V8\n",
       "  Ano                                                           2014\n",
       "  Quilometragem                                              27505.0\n",
       "  Zero_km                                                      False\n",
       "  Acessórios       ['Controle de estabilidade', 'Piloto automátic...\n",
       "  Valor                                                     51759.58\n",
       "  Name: 253, dtype: object),\n",
       " (254, Nome                                         Cadillac Ciel concept\n",
       "  Motor                                                     Motor V8\n",
       "  Ano                                                           1991\n",
       "  Quilometragem                                              29981.0\n",
       "  Zero_km                                                      False\n",
       "  Acessórios       ['Bancos de couro', 'Painel digital', 'Sensor ...\n",
       "  Valor                                                     51667.06\n",
       "  Name: 254, dtype: object),\n",
       " (255, Nome                                                    Classe GLK\n",
       "  Motor                                        Motor 5.0 V8 Bi-Turbo\n",
       "  Ano                                                           2002\n",
       "  Quilometragem                                              52637.0\n",
       "  Zero_km                                                      False\n",
       "  Acessórios       ['Rodas de liga', 'Controle de tração', 'Câmbi...\n",
       "  Valor                                                     68934.03\n",
       "  Name: 255, dtype: object),\n",
       " (256, Nome                                              Aston Martin DB5\n",
       "  Motor                                                 Motor Diesel\n",
       "  Ano                                                           1996\n",
       "  Quilometragem                                               7685.0\n",
       "  Zero_km                                                      False\n",
       "  Acessórios       ['Ar condicionado', '4 X 4', 'Câmbio automátic...\n",
       "  Valor                                                     122110.9\n",
       "  Name: 256, dtype: object),\n",
       " (257, Nome                                                         Macan\n",
       "  Motor                                              Motor Diesel V6\n",
       "  Ano                                                           1992\n",
       "  Quilometragem                                              50188.0\n",
       "  Zero_km                                                      False\n",
       "  Acessórios       ['Central multimídia', 'Teto panorâmico', 'Vid...\n",
       "  Valor                                                     90381.47\n",
       "  Name: 257, dtype: object)]"
      ]
     },
     "execution_count": 187,
     "metadata": {},
     "output_type": "execute_result"
    }
   ],
   "source": [
    "list(dataset.iterrows())"
   ]
  },
  {
   "cell_type": "code",
   "execution_count": 190,
   "metadata": {},
   "outputs": [
    {
     "data": {
      "text/html": [
       "<div>\n",
       "<style scoped>\n",
       "    .dataframe tbody tr th:only-of-type {\n",
       "        vertical-align: middle;\n",
       "    }\n",
       "\n",
       "    .dataframe tbody tr th {\n",
       "        vertical-align: top;\n",
       "    }\n",
       "\n",
       "    .dataframe thead th {\n",
       "        text-align: right;\n",
       "    }\n",
       "</style>\n",
       "<table border=\"1\" class=\"dataframe\">\n",
       "  <thead>\n",
       "    <tr style=\"text-align: right;\">\n",
       "      <th></th>\n",
       "      <th>Nome</th>\n",
       "      <th>Motor</th>\n",
       "      <th>Ano</th>\n",
       "      <th>Quilometragem</th>\n",
       "      <th>Zero_km</th>\n",
       "      <th>Acessórios</th>\n",
       "      <th>Valor</th>\n",
       "      <th>KM_media</th>\n",
       "    </tr>\n",
       "  </thead>\n",
       "  <tbody>\n",
       "    <tr>\n",
       "      <th>0</th>\n",
       "      <td>Jetta Variant</td>\n",
       "      <td>Motor 4.0 Turbo</td>\n",
       "      <td>2003.0</td>\n",
       "      <td>44410.0</td>\n",
       "      <td>False</td>\n",
       "      <td>['Rodas de liga', 'Travas elétricas', 'Piloto ...</td>\n",
       "      <td>88078.64</td>\n",
       "      <td>2775.625000</td>\n",
       "    </tr>\n",
       "    <tr>\n",
       "      <th>1</th>\n",
       "      <td>Passat</td>\n",
       "      <td>Motor Diesel</td>\n",
       "      <td>1991.0</td>\n",
       "      <td>5712.0</td>\n",
       "      <td>False</td>\n",
       "      <td>['Central multimídia', 'Teto panorâmico', 'Fre...</td>\n",
       "      <td>106161.94</td>\n",
       "      <td>204.000000</td>\n",
       "    </tr>\n",
       "    <tr>\n",
       "      <th>2</th>\n",
       "      <td>Crossfox</td>\n",
       "      <td>Motor Diesel V8</td>\n",
       "      <td>1990.0</td>\n",
       "      <td>37123.0</td>\n",
       "      <td>False</td>\n",
       "      <td>['Piloto automático', 'Controle de estabilidad...</td>\n",
       "      <td>72832.16</td>\n",
       "      <td>1280.103448</td>\n",
       "    </tr>\n",
       "    <tr>\n",
       "      <th>3</th>\n",
       "      <td>DS5</td>\n",
       "      <td>Motor 2.4 Turbo</td>\n",
       "      <td>2019.0</td>\n",
       "      <td>NaN</td>\n",
       "      <td>True</td>\n",
       "      <td>['Travas elétricas', '4 X 4', 'Vidros elétrico...</td>\n",
       "      <td>124549.07</td>\n",
       "      <td>0.000000</td>\n",
       "    </tr>\n",
       "    <tr>\n",
       "      <th>4</th>\n",
       "      <td>Aston Martin DB4</td>\n",
       "      <td>Motor 2.4 Turbo</td>\n",
       "      <td>2006.0</td>\n",
       "      <td>25757.0</td>\n",
       "      <td>False</td>\n",
       "      <td>['Rodas de liga', '4 X 4', 'Central multimídia...</td>\n",
       "      <td>92612.10</td>\n",
       "      <td>1981.307692</td>\n",
       "    </tr>\n",
       "    <tr>\n",
       "      <th>...</th>\n",
       "      <td>...</td>\n",
       "      <td>...</td>\n",
       "      <td>...</td>\n",
       "      <td>...</td>\n",
       "      <td>...</td>\n",
       "      <td>...</td>\n",
       "      <td>...</td>\n",
       "      <td>...</td>\n",
       "    </tr>\n",
       "    <tr>\n",
       "      <th>254</th>\n",
       "      <td>Cadillac Ciel concept</td>\n",
       "      <td>Motor V8</td>\n",
       "      <td>1991.0</td>\n",
       "      <td>29981.0</td>\n",
       "      <td>False</td>\n",
       "      <td>['Bancos de couro', 'Painel digital', 'Sensor ...</td>\n",
       "      <td>51667.06</td>\n",
       "      <td>1070.750000</td>\n",
       "    </tr>\n",
       "    <tr>\n",
       "      <th>255</th>\n",
       "      <td>Classe GLK</td>\n",
       "      <td>Motor 5.0 V8 Bi-Turbo</td>\n",
       "      <td>2002.0</td>\n",
       "      <td>52637.0</td>\n",
       "      <td>False</td>\n",
       "      <td>['Rodas de liga', 'Controle de tração', 'Câmbi...</td>\n",
       "      <td>68934.03</td>\n",
       "      <td>3096.294118</td>\n",
       "    </tr>\n",
       "    <tr>\n",
       "      <th>256</th>\n",
       "      <td>Aston Martin DB5</td>\n",
       "      <td>Motor Diesel</td>\n",
       "      <td>1996.0</td>\n",
       "      <td>7685.0</td>\n",
       "      <td>False</td>\n",
       "      <td>['Ar condicionado', '4 X 4', 'Câmbio automátic...</td>\n",
       "      <td>122110.90</td>\n",
       "      <td>334.130435</td>\n",
       "    </tr>\n",
       "    <tr>\n",
       "      <th>257</th>\n",
       "      <td>Macan</td>\n",
       "      <td>Motor Diesel V6</td>\n",
       "      <td>1992.0</td>\n",
       "      <td>50188.0</td>\n",
       "      <td>False</td>\n",
       "      <td>['Central multimídia', 'Teto panorâmico', 'Vid...</td>\n",
       "      <td>90381.47</td>\n",
       "      <td>1858.814815</td>\n",
       "    </tr>\n",
       "    <tr>\n",
       "      <th>Nome</th>\n",
       "      <td>NaN</td>\n",
       "      <td>NaN</td>\n",
       "      <td>NaN</td>\n",
       "      <td>NaN</td>\n",
       "      <td>NaN</td>\n",
       "      <td>NaN</td>\n",
       "      <td>NaN</td>\n",
       "      <td>NaN</td>\n",
       "    </tr>\n",
       "  </tbody>\n",
       "</table>\n",
       "<p>259 rows × 8 columns</p>\n",
       "</div>"
      ],
      "text/plain": [
       "                       Nome                  Motor     Ano  Quilometragem  \\\n",
       "0             Jetta Variant        Motor 4.0 Turbo  2003.0        44410.0   \n",
       "1                    Passat           Motor Diesel  1991.0         5712.0   \n",
       "2                  Crossfox        Motor Diesel V8  1990.0        37123.0   \n",
       "3                       DS5        Motor 2.4 Turbo  2019.0            NaN   \n",
       "4          Aston Martin DB4        Motor 2.4 Turbo  2006.0        25757.0   \n",
       "...                     ...                    ...     ...            ...   \n",
       "254   Cadillac Ciel concept               Motor V8  1991.0        29981.0   \n",
       "255              Classe GLK  Motor 5.0 V8 Bi-Turbo  2002.0        52637.0   \n",
       "256        Aston Martin DB5           Motor Diesel  1996.0         7685.0   \n",
       "257                   Macan        Motor Diesel V6  1992.0        50188.0   \n",
       "Nome                    NaN                    NaN     NaN            NaN   \n",
       "\n",
       "     Zero_km                                         Acessórios      Valor  \\\n",
       "0      False  ['Rodas de liga', 'Travas elétricas', 'Piloto ...   88078.64   \n",
       "1      False  ['Central multimídia', 'Teto panorâmico', 'Fre...  106161.94   \n",
       "2      False  ['Piloto automático', 'Controle de estabilidad...   72832.16   \n",
       "3       True  ['Travas elétricas', '4 X 4', 'Vidros elétrico...  124549.07   \n",
       "4      False  ['Rodas de liga', '4 X 4', 'Central multimídia...   92612.10   \n",
       "...      ...                                                ...        ...   \n",
       "254    False  ['Bancos de couro', 'Painel digital', 'Sensor ...   51667.06   \n",
       "255    False  ['Rodas de liga', 'Controle de tração', 'Câmbi...   68934.03   \n",
       "256    False  ['Ar condicionado', '4 X 4', 'Câmbio automátic...  122110.90   \n",
       "257    False  ['Central multimídia', 'Teto panorâmico', 'Vid...   90381.47   \n",
       "Nome     NaN                                                NaN        NaN   \n",
       "\n",
       "         KM_media  \n",
       "0     2775.625000  \n",
       "1      204.000000  \n",
       "2     1280.103448  \n",
       "3        0.000000  \n",
       "4     1981.307692  \n",
       "...           ...  \n",
       "254   1070.750000  \n",
       "255   3096.294118  \n",
       "256    334.130435  \n",
       "257   1858.814815  \n",
       "Nome          NaN  \n",
       "\n",
       "[259 rows x 8 columns]"
      ]
     },
     "execution_count": 190,
     "metadata": {},
     "output_type": "execute_result"
    }
   ],
   "source": [
    "for index , row in dataset.iterrows():\n",
    "    if(2019 - row['Ano'] != 0 ):\n",
    "        dataset.loc[index,'KM_media'] = row['Quilometragem'] / (2019- row['Ano'])\n",
    "    else:\n",
    "        dataset.loc[index,'KM_media'] = 0 \n",
    "dataset"
   ]
  },
  {
   "cell_type": "markdown",
   "metadata": {
    "colab_type": "text",
    "id": "HnUzHFQPD1Ba"
   },
   "source": [
    "# 5.5 Tratamento de dados"
   ]
  },
  {
   "cell_type": "code",
   "execution_count": 191,
   "metadata": {
    "colab": {},
    "colab_type": "code",
    "id": "FRxBWoBGD1Ba"
   },
   "outputs": [
    {
     "data": {
      "text/html": [
       "<div>\n",
       "<style scoped>\n",
       "    .dataframe tbody tr th:only-of-type {\n",
       "        vertical-align: middle;\n",
       "    }\n",
       "\n",
       "    .dataframe tbody tr th {\n",
       "        vertical-align: top;\n",
       "    }\n",
       "\n",
       "    .dataframe thead th {\n",
       "        text-align: right;\n",
       "    }\n",
       "</style>\n",
       "<table border=\"1\" class=\"dataframe\">\n",
       "  <thead>\n",
       "    <tr style=\"text-align: right;\">\n",
       "      <th></th>\n",
       "      <th>Nome</th>\n",
       "      <th>Motor</th>\n",
       "      <th>Ano</th>\n",
       "      <th>Quilometragem</th>\n",
       "      <th>Zero_km</th>\n",
       "      <th>Acessórios</th>\n",
       "      <th>Valor</th>\n",
       "      <th>KM_media</th>\n",
       "    </tr>\n",
       "  </thead>\n",
       "  <tbody>\n",
       "    <tr>\n",
       "      <th>0</th>\n",
       "      <td>Jetta Variant</td>\n",
       "      <td>Motor 4.0 Turbo</td>\n",
       "      <td>2003.0</td>\n",
       "      <td>44410.0</td>\n",
       "      <td>False</td>\n",
       "      <td>['Rodas de liga', 'Travas elétricas', 'Piloto ...</td>\n",
       "      <td>88078.64</td>\n",
       "      <td>2775.625000</td>\n",
       "    </tr>\n",
       "    <tr>\n",
       "      <th>1</th>\n",
       "      <td>Passat</td>\n",
       "      <td>Motor Diesel</td>\n",
       "      <td>1991.0</td>\n",
       "      <td>5712.0</td>\n",
       "      <td>False</td>\n",
       "      <td>['Central multimídia', 'Teto panorâmico', 'Fre...</td>\n",
       "      <td>106161.94</td>\n",
       "      <td>204.000000</td>\n",
       "    </tr>\n",
       "    <tr>\n",
       "      <th>2</th>\n",
       "      <td>Crossfox</td>\n",
       "      <td>Motor Diesel V8</td>\n",
       "      <td>1990.0</td>\n",
       "      <td>37123.0</td>\n",
       "      <td>False</td>\n",
       "      <td>['Piloto automático', 'Controle de estabilidad...</td>\n",
       "      <td>72832.16</td>\n",
       "      <td>1280.103448</td>\n",
       "    </tr>\n",
       "    <tr>\n",
       "      <th>3</th>\n",
       "      <td>DS5</td>\n",
       "      <td>Motor 2.4 Turbo</td>\n",
       "      <td>2019.0</td>\n",
       "      <td>NaN</td>\n",
       "      <td>True</td>\n",
       "      <td>['Travas elétricas', '4 X 4', 'Vidros elétrico...</td>\n",
       "      <td>124549.07</td>\n",
       "      <td>0.000000</td>\n",
       "    </tr>\n",
       "    <tr>\n",
       "      <th>4</th>\n",
       "      <td>Aston Martin DB4</td>\n",
       "      <td>Motor 2.4 Turbo</td>\n",
       "      <td>2006.0</td>\n",
       "      <td>25757.0</td>\n",
       "      <td>False</td>\n",
       "      <td>['Rodas de liga', '4 X 4', 'Central multimídia...</td>\n",
       "      <td>92612.10</td>\n",
       "      <td>1981.307692</td>\n",
       "    </tr>\n",
       "  </tbody>\n",
       "</table>\n",
       "</div>"
      ],
      "text/plain": [
       "               Nome            Motor     Ano  Quilometragem Zero_km  \\\n",
       "0     Jetta Variant  Motor 4.0 Turbo  2003.0        44410.0   False   \n",
       "1            Passat     Motor Diesel  1991.0         5712.0   False   \n",
       "2          Crossfox  Motor Diesel V8  1990.0        37123.0   False   \n",
       "3               DS5  Motor 2.4 Turbo  2019.0            NaN    True   \n",
       "4  Aston Martin DB4  Motor 2.4 Turbo  2006.0        25757.0   False   \n",
       "\n",
       "                                          Acessórios      Valor     KM_media  \n",
       "0  ['Rodas de liga', 'Travas elétricas', 'Piloto ...   88078.64  2775.625000  \n",
       "1  ['Central multimídia', 'Teto panorâmico', 'Fre...  106161.94   204.000000  \n",
       "2  ['Piloto automático', 'Controle de estabilidad...   72832.16  1280.103448  \n",
       "3  ['Travas elétricas', '4 X 4', 'Vidros elétrico...  124549.07     0.000000  \n",
       "4  ['Rodas de liga', '4 X 4', 'Central multimídia...   92612.10  1981.307692  "
      ]
     },
     "execution_count": 191,
     "metadata": {},
     "output_type": "execute_result"
    }
   ],
   "source": [
    "dataset.head()"
   ]
  },
  {
   "cell_type": "code",
   "execution_count": 192,
   "metadata": {
    "colab": {},
    "colab_type": "code",
    "id": "HHSwH0ZaD1Bc"
   },
   "outputs": [
    {
     "name": "stdout",
     "output_type": "stream",
     "text": [
      "<class 'pandas.core.frame.DataFrame'>\n",
      "Index: 259 entries, 0 to Nome\n",
      "Data columns (total 8 columns):\n",
      " #   Column         Non-Null Count  Dtype  \n",
      "---  ------         --------------  -----  \n",
      " 0   Nome           258 non-null    object \n",
      " 1   Motor          258 non-null    object \n",
      " 2   Ano            258 non-null    float64\n",
      " 3   Quilometragem  197 non-null    float64\n",
      " 4   Zero_km        258 non-null    object \n",
      " 5   Acessórios     258 non-null    object \n",
      " 6   Valor          258 non-null    float64\n",
      " 7   KM_media       258 non-null    float64\n",
      "dtypes: float64(4), object(4)\n",
      "memory usage: 26.3+ KB\n"
     ]
    }
   ],
   "source": [
    "dataset.info()"
   ]
  },
  {
   "cell_type": "code",
   "execution_count": 195,
   "metadata": {
    "colab": {},
    "colab_type": "code",
    "id": "DhlRbxy2D1Bd",
    "scrolled": true
   },
   "outputs": [
    {
     "data": {
      "text/plain": [
       "0       False\n",
       "1       False\n",
       "2       False\n",
       "3        True\n",
       "4       False\n",
       "        ...  \n",
       "254     False\n",
       "255     False\n",
       "256     False\n",
       "257     False\n",
       "Nome     True\n",
       "Name: Quilometragem, Length: 259, dtype: bool"
      ]
     },
     "execution_count": 195,
     "metadata": {},
     "output_type": "execute_result"
    }
   ],
   "source": [
    "dataset.Quilometragem.isna()"
   ]
  },
  {
   "cell_type": "code",
   "execution_count": 194,
   "metadata": {
    "colab": {},
    "colab_type": "code",
    "id": "G27pxgZ5D1Bd",
    "scrolled": true
   },
   "outputs": [
    {
     "data": {
      "text/html": [
       "<div>\n",
       "<style scoped>\n",
       "    .dataframe tbody tr th:only-of-type {\n",
       "        vertical-align: middle;\n",
       "    }\n",
       "\n",
       "    .dataframe tbody tr th {\n",
       "        vertical-align: top;\n",
       "    }\n",
       "\n",
       "    .dataframe thead th {\n",
       "        text-align: right;\n",
       "    }\n",
       "</style>\n",
       "<table border=\"1\" class=\"dataframe\">\n",
       "  <thead>\n",
       "    <tr style=\"text-align: right;\">\n",
       "      <th></th>\n",
       "      <th>Nome</th>\n",
       "      <th>Motor</th>\n",
       "      <th>Ano</th>\n",
       "      <th>Quilometragem</th>\n",
       "      <th>Zero_km</th>\n",
       "      <th>Acessórios</th>\n",
       "      <th>Valor</th>\n",
       "      <th>KM_media</th>\n",
       "    </tr>\n",
       "  </thead>\n",
       "  <tbody>\n",
       "    <tr>\n",
       "      <th>3</th>\n",
       "      <td>DS5</td>\n",
       "      <td>Motor 2.4 Turbo</td>\n",
       "      <td>2019.0</td>\n",
       "      <td>NaN</td>\n",
       "      <td>True</td>\n",
       "      <td>['Travas elétricas', '4 X 4', 'Vidros elétrico...</td>\n",
       "      <td>124549.07</td>\n",
       "      <td>0.0</td>\n",
       "    </tr>\n",
       "    <tr>\n",
       "      <th>6</th>\n",
       "      <td>A5</td>\n",
       "      <td>Motor 4.0 Turbo</td>\n",
       "      <td>2019.0</td>\n",
       "      <td>NaN</td>\n",
       "      <td>True</td>\n",
       "      <td>['Câmbio automático', 'Câmera de estacionament...</td>\n",
       "      <td>56445.20</td>\n",
       "      <td>0.0</td>\n",
       "    </tr>\n",
       "    <tr>\n",
       "      <th>13</th>\n",
       "      <td>J5</td>\n",
       "      <td>Motor V6</td>\n",
       "      <td>2019.0</td>\n",
       "      <td>NaN</td>\n",
       "      <td>True</td>\n",
       "      <td>['Sensor crepuscular', 'Painel digital', 'Roda...</td>\n",
       "      <td>53183.38</td>\n",
       "      <td>0.0</td>\n",
       "    </tr>\n",
       "    <tr>\n",
       "      <th>17</th>\n",
       "      <td>A3</td>\n",
       "      <td>Motor 1.0 8v</td>\n",
       "      <td>2019.0</td>\n",
       "      <td>NaN</td>\n",
       "      <td>True</td>\n",
       "      <td>['4 X 4', 'Piloto automático', 'Central multim...</td>\n",
       "      <td>88552.39</td>\n",
       "      <td>0.0</td>\n",
       "    </tr>\n",
       "    <tr>\n",
       "      <th>21</th>\n",
       "      <td>Série 1 M</td>\n",
       "      <td>Motor V8</td>\n",
       "      <td>2019.0</td>\n",
       "      <td>NaN</td>\n",
       "      <td>True</td>\n",
       "      <td>['Controle de estabilidade', 'Central multimíd...</td>\n",
       "      <td>94564.40</td>\n",
       "      <td>0.0</td>\n",
       "    </tr>\n",
       "    <tr>\n",
       "      <th>...</th>\n",
       "      <td>...</td>\n",
       "      <td>...</td>\n",
       "      <td>...</td>\n",
       "      <td>...</td>\n",
       "      <td>...</td>\n",
       "      <td>...</td>\n",
       "      <td>...</td>\n",
       "      <td>...</td>\n",
       "    </tr>\n",
       "    <tr>\n",
       "      <th>242</th>\n",
       "      <td>Benni Mini</td>\n",
       "      <td>Motor V8</td>\n",
       "      <td>2019.0</td>\n",
       "      <td>NaN</td>\n",
       "      <td>True</td>\n",
       "      <td>['Sensor crepuscular', 'Câmbio automático', 'C...</td>\n",
       "      <td>126247.84</td>\n",
       "      <td>0.0</td>\n",
       "    </tr>\n",
       "    <tr>\n",
       "      <th>243</th>\n",
       "      <td>Uno</td>\n",
       "      <td>Motor Diesel V6</td>\n",
       "      <td>2019.0</td>\n",
       "      <td>NaN</td>\n",
       "      <td>True</td>\n",
       "      <td>['Central multimídia', 'Sensor crepuscular', '...</td>\n",
       "      <td>128852.21</td>\n",
       "      <td>0.0</td>\n",
       "    </tr>\n",
       "    <tr>\n",
       "      <th>245</th>\n",
       "      <td>Santa Fe</td>\n",
       "      <td>Motor 3.0 32v</td>\n",
       "      <td>2019.0</td>\n",
       "      <td>NaN</td>\n",
       "      <td>True</td>\n",
       "      <td>['Travas elétricas', 'Ar condicionado', '4 X 4...</td>\n",
       "      <td>129415.33</td>\n",
       "      <td>0.0</td>\n",
       "    </tr>\n",
       "    <tr>\n",
       "      <th>248</th>\n",
       "      <td>XC60</td>\n",
       "      <td>Motor 4.0 Turbo</td>\n",
       "      <td>2019.0</td>\n",
       "      <td>NaN</td>\n",
       "      <td>True</td>\n",
       "      <td>['Painel digital', 'Piloto automático', 'Centr...</td>\n",
       "      <td>77675.79</td>\n",
       "      <td>0.0</td>\n",
       "    </tr>\n",
       "    <tr>\n",
       "      <th>Nome</th>\n",
       "      <td>NaN</td>\n",
       "      <td>NaN</td>\n",
       "      <td>NaN</td>\n",
       "      <td>NaN</td>\n",
       "      <td>NaN</td>\n",
       "      <td>NaN</td>\n",
       "      <td>NaN</td>\n",
       "      <td>NaN</td>\n",
       "    </tr>\n",
       "  </tbody>\n",
       "</table>\n",
       "<p>62 rows × 8 columns</p>\n",
       "</div>"
      ],
      "text/plain": [
       "            Nome            Motor     Ano  Quilometragem Zero_km  \\\n",
       "3            DS5  Motor 2.4 Turbo  2019.0            NaN    True   \n",
       "6             A5  Motor 4.0 Turbo  2019.0            NaN    True   \n",
       "13            J5         Motor V6  2019.0            NaN    True   \n",
       "17            A3     Motor 1.0 8v  2019.0            NaN    True   \n",
       "21     Série 1 M         Motor V8  2019.0            NaN    True   \n",
       "...          ...              ...     ...            ...     ...   \n",
       "242   Benni Mini         Motor V8  2019.0            NaN    True   \n",
       "243          Uno  Motor Diesel V6  2019.0            NaN    True   \n",
       "245     Santa Fe    Motor 3.0 32v  2019.0            NaN    True   \n",
       "248         XC60  Motor 4.0 Turbo  2019.0            NaN    True   \n",
       "Nome         NaN              NaN     NaN            NaN     NaN   \n",
       "\n",
       "                                             Acessórios      Valor  KM_media  \n",
       "3     ['Travas elétricas', '4 X 4', 'Vidros elétrico...  124549.07       0.0  \n",
       "6     ['Câmbio automático', 'Câmera de estacionament...   56445.20       0.0  \n",
       "13    ['Sensor crepuscular', 'Painel digital', 'Roda...   53183.38       0.0  \n",
       "17    ['4 X 4', 'Piloto automático', 'Central multim...   88552.39       0.0  \n",
       "21    ['Controle de estabilidade', 'Central multimíd...   94564.40       0.0  \n",
       "...                                                 ...        ...       ...  \n",
       "242   ['Sensor crepuscular', 'Câmbio automático', 'C...  126247.84       0.0  \n",
       "243   ['Central multimídia', 'Sensor crepuscular', '...  128852.21       0.0  \n",
       "245   ['Travas elétricas', 'Ar condicionado', '4 X 4...  129415.33       0.0  \n",
       "248   ['Painel digital', 'Piloto automático', 'Centr...   77675.79       0.0  \n",
       "Nome                                                NaN        NaN       NaN  \n",
       "\n",
       "[62 rows x 8 columns]"
      ]
     },
     "execution_count": 194,
     "metadata": {},
     "output_type": "execute_result"
    }
   ],
   "source": [
    "dataset[dataset.Quilometragem.isna()]"
   ]
  },
  {
   "cell_type": "code",
   "execution_count": 196,
   "metadata": {
    "colab": {},
    "colab_type": "code",
    "id": "OL04QU5RD1Be"
   },
   "outputs": [],
   "source": [
    "dataset.fillna(0,inplace=True)"
   ]
  },
  {
   "cell_type": "code",
   "execution_count": 197,
   "metadata": {
    "colab": {},
    "colab_type": "code",
    "id": "fTH2JkGDD1Bf",
    "scrolled": true
   },
   "outputs": [
    {
     "data": {
      "text/html": [
       "<div>\n",
       "<style scoped>\n",
       "    .dataframe tbody tr th:only-of-type {\n",
       "        vertical-align: middle;\n",
       "    }\n",
       "\n",
       "    .dataframe tbody tr th {\n",
       "        vertical-align: top;\n",
       "    }\n",
       "\n",
       "    .dataframe thead th {\n",
       "        text-align: right;\n",
       "    }\n",
       "</style>\n",
       "<table border=\"1\" class=\"dataframe\">\n",
       "  <thead>\n",
       "    <tr style=\"text-align: right;\">\n",
       "      <th></th>\n",
       "      <th>Nome</th>\n",
       "      <th>Motor</th>\n",
       "      <th>Ano</th>\n",
       "      <th>Quilometragem</th>\n",
       "      <th>Zero_km</th>\n",
       "      <th>Acessórios</th>\n",
       "      <th>Valor</th>\n",
       "      <th>KM_media</th>\n",
       "    </tr>\n",
       "  </thead>\n",
       "  <tbody>\n",
       "    <tr>\n",
       "      <th>0</th>\n",
       "      <td>Jetta Variant</td>\n",
       "      <td>Motor 4.0 Turbo</td>\n",
       "      <td>2003.0</td>\n",
       "      <td>44410.0</td>\n",
       "      <td>False</td>\n",
       "      <td>['Rodas de liga', 'Travas elétricas', 'Piloto ...</td>\n",
       "      <td>88078.64</td>\n",
       "      <td>2775.625000</td>\n",
       "    </tr>\n",
       "    <tr>\n",
       "      <th>1</th>\n",
       "      <td>Passat</td>\n",
       "      <td>Motor Diesel</td>\n",
       "      <td>1991.0</td>\n",
       "      <td>5712.0</td>\n",
       "      <td>False</td>\n",
       "      <td>['Central multimídia', 'Teto panorâmico', 'Fre...</td>\n",
       "      <td>106161.94</td>\n",
       "      <td>204.000000</td>\n",
       "    </tr>\n",
       "    <tr>\n",
       "      <th>2</th>\n",
       "      <td>Crossfox</td>\n",
       "      <td>Motor Diesel V8</td>\n",
       "      <td>1990.0</td>\n",
       "      <td>37123.0</td>\n",
       "      <td>False</td>\n",
       "      <td>['Piloto automático', 'Controle de estabilidad...</td>\n",
       "      <td>72832.16</td>\n",
       "      <td>1280.103448</td>\n",
       "    </tr>\n",
       "    <tr>\n",
       "      <th>3</th>\n",
       "      <td>DS5</td>\n",
       "      <td>Motor 2.4 Turbo</td>\n",
       "      <td>2019.0</td>\n",
       "      <td>0.0</td>\n",
       "      <td>True</td>\n",
       "      <td>['Travas elétricas', '4 X 4', 'Vidros elétrico...</td>\n",
       "      <td>124549.07</td>\n",
       "      <td>0.000000</td>\n",
       "    </tr>\n",
       "    <tr>\n",
       "      <th>4</th>\n",
       "      <td>Aston Martin DB4</td>\n",
       "      <td>Motor 2.4 Turbo</td>\n",
       "      <td>2006.0</td>\n",
       "      <td>25757.0</td>\n",
       "      <td>False</td>\n",
       "      <td>['Rodas de liga', '4 X 4', 'Central multimídia...</td>\n",
       "      <td>92612.10</td>\n",
       "      <td>1981.307692</td>\n",
       "    </tr>\n",
       "  </tbody>\n",
       "</table>\n",
       "</div>"
      ],
      "text/plain": [
       "               Nome            Motor     Ano  Quilometragem Zero_km  \\\n",
       "0     Jetta Variant  Motor 4.0 Turbo  2003.0        44410.0   False   \n",
       "1            Passat     Motor Diesel  1991.0         5712.0   False   \n",
       "2          Crossfox  Motor Diesel V8  1990.0        37123.0   False   \n",
       "3               DS5  Motor 2.4 Turbo  2019.0            0.0    True   \n",
       "4  Aston Martin DB4  Motor 2.4 Turbo  2006.0        25757.0   False   \n",
       "\n",
       "                                          Acessórios      Valor     KM_media  \n",
       "0  ['Rodas de liga', 'Travas elétricas', 'Piloto ...   88078.64  2775.625000  \n",
       "1  ['Central multimídia', 'Teto panorâmico', 'Fre...  106161.94   204.000000  \n",
       "2  ['Piloto automático', 'Controle de estabilidad...   72832.16  1280.103448  \n",
       "3  ['Travas elétricas', '4 X 4', 'Vidros elétrico...  124549.07     0.000000  \n",
       "4  ['Rodas de liga', '4 X 4', 'Central multimídia...   92612.10  1981.307692  "
      ]
     },
     "execution_count": 197,
     "metadata": {},
     "output_type": "execute_result"
    }
   ],
   "source": [
    "dataset.head()"
   ]
  },
  {
   "cell_type": "code",
   "execution_count": 198,
   "metadata": {
    "colab": {},
    "colab_type": "code",
    "id": "lure2GvpD1Bg"
   },
   "outputs": [
    {
     "data": {
      "text/html": [
       "<div>\n",
       "<style scoped>\n",
       "    .dataframe tbody tr th:only-of-type {\n",
       "        vertical-align: middle;\n",
       "    }\n",
       "\n",
       "    .dataframe tbody tr th {\n",
       "        vertical-align: top;\n",
       "    }\n",
       "\n",
       "    .dataframe thead th {\n",
       "        text-align: right;\n",
       "    }\n",
       "</style>\n",
       "<table border=\"1\" class=\"dataframe\">\n",
       "  <thead>\n",
       "    <tr style=\"text-align: right;\">\n",
       "      <th></th>\n",
       "      <th>Nome</th>\n",
       "      <th>Motor</th>\n",
       "      <th>Ano</th>\n",
       "      <th>Quilometragem</th>\n",
       "      <th>Zero_km</th>\n",
       "      <th>Acessórios</th>\n",
       "      <th>Valor</th>\n",
       "      <th>KM_media</th>\n",
       "    </tr>\n",
       "  </thead>\n",
       "  <tbody>\n",
       "    <tr>\n",
       "      <th>3</th>\n",
       "      <td>DS5</td>\n",
       "      <td>Motor 2.4 Turbo</td>\n",
       "      <td>2019.0</td>\n",
       "      <td>0.0</td>\n",
       "      <td>True</td>\n",
       "      <td>['Travas elétricas', '4 X 4', 'Vidros elétrico...</td>\n",
       "      <td>124549.07</td>\n",
       "      <td>0.0</td>\n",
       "    </tr>\n",
       "    <tr>\n",
       "      <th>6</th>\n",
       "      <td>A5</td>\n",
       "      <td>Motor 4.0 Turbo</td>\n",
       "      <td>2019.0</td>\n",
       "      <td>0.0</td>\n",
       "      <td>True</td>\n",
       "      <td>['Câmbio automático', 'Câmera de estacionament...</td>\n",
       "      <td>56445.20</td>\n",
       "      <td>0.0</td>\n",
       "    </tr>\n",
       "    <tr>\n",
       "      <th>13</th>\n",
       "      <td>J5</td>\n",
       "      <td>Motor V6</td>\n",
       "      <td>2019.0</td>\n",
       "      <td>0.0</td>\n",
       "      <td>True</td>\n",
       "      <td>['Sensor crepuscular', 'Painel digital', 'Roda...</td>\n",
       "      <td>53183.38</td>\n",
       "      <td>0.0</td>\n",
       "    </tr>\n",
       "    <tr>\n",
       "      <th>17</th>\n",
       "      <td>A3</td>\n",
       "      <td>Motor 1.0 8v</td>\n",
       "      <td>2019.0</td>\n",
       "      <td>0.0</td>\n",
       "      <td>True</td>\n",
       "      <td>['4 X 4', 'Piloto automático', 'Central multim...</td>\n",
       "      <td>88552.39</td>\n",
       "      <td>0.0</td>\n",
       "    </tr>\n",
       "    <tr>\n",
       "      <th>21</th>\n",
       "      <td>Série 1 M</td>\n",
       "      <td>Motor V8</td>\n",
       "      <td>2019.0</td>\n",
       "      <td>0.0</td>\n",
       "      <td>True</td>\n",
       "      <td>['Controle de estabilidade', 'Central multimíd...</td>\n",
       "      <td>94564.40</td>\n",
       "      <td>0.0</td>\n",
       "    </tr>\n",
       "    <tr>\n",
       "      <th>...</th>\n",
       "      <td>...</td>\n",
       "      <td>...</td>\n",
       "      <td>...</td>\n",
       "      <td>...</td>\n",
       "      <td>...</td>\n",
       "      <td>...</td>\n",
       "      <td>...</td>\n",
       "      <td>...</td>\n",
       "    </tr>\n",
       "    <tr>\n",
       "      <th>238</th>\n",
       "      <td>Lamborghini Reventón</td>\n",
       "      <td>Motor 4.0 Turbo</td>\n",
       "      <td>2019.0</td>\n",
       "      <td>0.0</td>\n",
       "      <td>True</td>\n",
       "      <td>['Controle de tração', 'Ar condicionado', 'Cen...</td>\n",
       "      <td>67664.86</td>\n",
       "      <td>0.0</td>\n",
       "    </tr>\n",
       "    <tr>\n",
       "      <th>242</th>\n",
       "      <td>Benni Mini</td>\n",
       "      <td>Motor V8</td>\n",
       "      <td>2019.0</td>\n",
       "      <td>0.0</td>\n",
       "      <td>True</td>\n",
       "      <td>['Sensor crepuscular', 'Câmbio automático', 'C...</td>\n",
       "      <td>126247.84</td>\n",
       "      <td>0.0</td>\n",
       "    </tr>\n",
       "    <tr>\n",
       "      <th>243</th>\n",
       "      <td>Uno</td>\n",
       "      <td>Motor Diesel V6</td>\n",
       "      <td>2019.0</td>\n",
       "      <td>0.0</td>\n",
       "      <td>True</td>\n",
       "      <td>['Central multimídia', 'Sensor crepuscular', '...</td>\n",
       "      <td>128852.21</td>\n",
       "      <td>0.0</td>\n",
       "    </tr>\n",
       "    <tr>\n",
       "      <th>245</th>\n",
       "      <td>Santa Fe</td>\n",
       "      <td>Motor 3.0 32v</td>\n",
       "      <td>2019.0</td>\n",
       "      <td>0.0</td>\n",
       "      <td>True</td>\n",
       "      <td>['Travas elétricas', 'Ar condicionado', '4 X 4...</td>\n",
       "      <td>129415.33</td>\n",
       "      <td>0.0</td>\n",
       "    </tr>\n",
       "    <tr>\n",
       "      <th>248</th>\n",
       "      <td>XC60</td>\n",
       "      <td>Motor 4.0 Turbo</td>\n",
       "      <td>2019.0</td>\n",
       "      <td>0.0</td>\n",
       "      <td>True</td>\n",
       "      <td>['Painel digital', 'Piloto automático', 'Centr...</td>\n",
       "      <td>77675.79</td>\n",
       "      <td>0.0</td>\n",
       "    </tr>\n",
       "  </tbody>\n",
       "</table>\n",
       "<p>61 rows × 8 columns</p>\n",
       "</div>"
      ],
      "text/plain": [
       "                     Nome            Motor     Ano  Quilometragem Zero_km  \\\n",
       "3                     DS5  Motor 2.4 Turbo  2019.0            0.0    True   \n",
       "6                      A5  Motor 4.0 Turbo  2019.0            0.0    True   \n",
       "13                     J5         Motor V6  2019.0            0.0    True   \n",
       "17                     A3     Motor 1.0 8v  2019.0            0.0    True   \n",
       "21              Série 1 M         Motor V8  2019.0            0.0    True   \n",
       "..                    ...              ...     ...            ...     ...   \n",
       "238  Lamborghini Reventón  Motor 4.0 Turbo  2019.0            0.0    True   \n",
       "242            Benni Mini         Motor V8  2019.0            0.0    True   \n",
       "243                   Uno  Motor Diesel V6  2019.0            0.0    True   \n",
       "245              Santa Fe    Motor 3.0 32v  2019.0            0.0    True   \n",
       "248                  XC60  Motor 4.0 Turbo  2019.0            0.0    True   \n",
       "\n",
       "                                            Acessórios      Valor  KM_media  \n",
       "3    ['Travas elétricas', '4 X 4', 'Vidros elétrico...  124549.07       0.0  \n",
       "6    ['Câmbio automático', 'Câmera de estacionament...   56445.20       0.0  \n",
       "13   ['Sensor crepuscular', 'Painel digital', 'Roda...   53183.38       0.0  \n",
       "17   ['4 X 4', 'Piloto automático', 'Central multim...   88552.39       0.0  \n",
       "21   ['Controle de estabilidade', 'Central multimíd...   94564.40       0.0  \n",
       "..                                                 ...        ...       ...  \n",
       "238  ['Controle de tração', 'Ar condicionado', 'Cen...   67664.86       0.0  \n",
       "242  ['Sensor crepuscular', 'Câmbio automático', 'C...  126247.84       0.0  \n",
       "243  ['Central multimídia', 'Sensor crepuscular', '...  128852.21       0.0  \n",
       "245  ['Travas elétricas', 'Ar condicionado', '4 X 4...  129415.33       0.0  \n",
       "248  ['Painel digital', 'Piloto automático', 'Centr...   77675.79       0.0  \n",
       "\n",
       "[61 rows x 8 columns]"
      ]
     },
     "execution_count": 198,
     "metadata": {},
     "output_type": "execute_result"
    }
   ],
   "source": [
    "dataset.query('Zero_km == True')"
   ]
  },
  {
   "cell_type": "code",
   "execution_count": 199,
   "metadata": {
    "colab": {},
    "colab_type": "code",
    "id": "4-ZvhXjvD1Bj"
   },
   "outputs": [],
   "source": [
    "dataset = pd.read_csv('/home/lns/Downloads/Alura/DataScients/dataScience/Pandas/python-funcoes-pacotes-pandas/data/db.csv' , sep = ';')\n"
   ]
  },
  {
   "cell_type": "code",
   "execution_count": 200,
   "metadata": {
    "colab": {},
    "colab_type": "code",
    "id": "MQUw7i1OD1Bk",
    "scrolled": true
   },
   "outputs": [
    {
     "data": {
      "text/html": [
       "<div>\n",
       "<style scoped>\n",
       "    .dataframe tbody tr th:only-of-type {\n",
       "        vertical-align: middle;\n",
       "    }\n",
       "\n",
       "    .dataframe tbody tr th {\n",
       "        vertical-align: top;\n",
       "    }\n",
       "\n",
       "    .dataframe thead th {\n",
       "        text-align: right;\n",
       "    }\n",
       "</style>\n",
       "<table border=\"1\" class=\"dataframe\">\n",
       "  <thead>\n",
       "    <tr style=\"text-align: right;\">\n",
       "      <th></th>\n",
       "      <th>Nome</th>\n",
       "      <th>Motor</th>\n",
       "      <th>Ano</th>\n",
       "      <th>Quilometragem</th>\n",
       "      <th>Zero_km</th>\n",
       "      <th>Acessórios</th>\n",
       "      <th>Valor</th>\n",
       "    </tr>\n",
       "  </thead>\n",
       "  <tbody>\n",
       "    <tr>\n",
       "      <th>0</th>\n",
       "      <td>Jetta Variant</td>\n",
       "      <td>Motor 4.0 Turbo</td>\n",
       "      <td>2003</td>\n",
       "      <td>44410.0</td>\n",
       "      <td>False</td>\n",
       "      <td>['Rodas de liga', 'Travas elétricas', 'Piloto ...</td>\n",
       "      <td>88078.64</td>\n",
       "    </tr>\n",
       "    <tr>\n",
       "      <th>1</th>\n",
       "      <td>Passat</td>\n",
       "      <td>Motor Diesel</td>\n",
       "      <td>1991</td>\n",
       "      <td>5712.0</td>\n",
       "      <td>False</td>\n",
       "      <td>['Central multimídia', 'Teto panorâmico', 'Fre...</td>\n",
       "      <td>106161.94</td>\n",
       "    </tr>\n",
       "    <tr>\n",
       "      <th>2</th>\n",
       "      <td>Crossfox</td>\n",
       "      <td>Motor Diesel V8</td>\n",
       "      <td>1990</td>\n",
       "      <td>37123.0</td>\n",
       "      <td>False</td>\n",
       "      <td>['Piloto automático', 'Controle de estabilidad...</td>\n",
       "      <td>72832.16</td>\n",
       "    </tr>\n",
       "    <tr>\n",
       "      <th>3</th>\n",
       "      <td>DS5</td>\n",
       "      <td>Motor 2.4 Turbo</td>\n",
       "      <td>2019</td>\n",
       "      <td>NaN</td>\n",
       "      <td>True</td>\n",
       "      <td>['Travas elétricas', '4 X 4', 'Vidros elétrico...</td>\n",
       "      <td>124549.07</td>\n",
       "    </tr>\n",
       "    <tr>\n",
       "      <th>4</th>\n",
       "      <td>Aston Martin DB4</td>\n",
       "      <td>Motor 2.4 Turbo</td>\n",
       "      <td>2006</td>\n",
       "      <td>25757.0</td>\n",
       "      <td>False</td>\n",
       "      <td>['Rodas de liga', '4 X 4', 'Central multimídia...</td>\n",
       "      <td>92612.10</td>\n",
       "    </tr>\n",
       "    <tr>\n",
       "      <th>...</th>\n",
       "      <td>...</td>\n",
       "      <td>...</td>\n",
       "      <td>...</td>\n",
       "      <td>...</td>\n",
       "      <td>...</td>\n",
       "      <td>...</td>\n",
       "      <td>...</td>\n",
       "    </tr>\n",
       "    <tr>\n",
       "      <th>253</th>\n",
       "      <td>Phantom 2013</td>\n",
       "      <td>Motor V8</td>\n",
       "      <td>2014</td>\n",
       "      <td>27505.0</td>\n",
       "      <td>False</td>\n",
       "      <td>['Controle de estabilidade', 'Piloto automátic...</td>\n",
       "      <td>51759.58</td>\n",
       "    </tr>\n",
       "    <tr>\n",
       "      <th>254</th>\n",
       "      <td>Cadillac Ciel concept</td>\n",
       "      <td>Motor V8</td>\n",
       "      <td>1991</td>\n",
       "      <td>29981.0</td>\n",
       "      <td>False</td>\n",
       "      <td>['Bancos de couro', 'Painel digital', 'Sensor ...</td>\n",
       "      <td>51667.06</td>\n",
       "    </tr>\n",
       "    <tr>\n",
       "      <th>255</th>\n",
       "      <td>Classe GLK</td>\n",
       "      <td>Motor 5.0 V8 Bi-Turbo</td>\n",
       "      <td>2002</td>\n",
       "      <td>52637.0</td>\n",
       "      <td>False</td>\n",
       "      <td>['Rodas de liga', 'Controle de tração', 'Câmbi...</td>\n",
       "      <td>68934.03</td>\n",
       "    </tr>\n",
       "    <tr>\n",
       "      <th>256</th>\n",
       "      <td>Aston Martin DB5</td>\n",
       "      <td>Motor Diesel</td>\n",
       "      <td>1996</td>\n",
       "      <td>7685.0</td>\n",
       "      <td>False</td>\n",
       "      <td>['Ar condicionado', '4 X 4', 'Câmbio automátic...</td>\n",
       "      <td>122110.90</td>\n",
       "    </tr>\n",
       "    <tr>\n",
       "      <th>257</th>\n",
       "      <td>Macan</td>\n",
       "      <td>Motor Diesel V6</td>\n",
       "      <td>1992</td>\n",
       "      <td>50188.0</td>\n",
       "      <td>False</td>\n",
       "      <td>['Central multimídia', 'Teto panorâmico', 'Vid...</td>\n",
       "      <td>90381.47</td>\n",
       "    </tr>\n",
       "  </tbody>\n",
       "</table>\n",
       "<p>258 rows × 7 columns</p>\n",
       "</div>"
      ],
      "text/plain": [
       "                      Nome                  Motor   Ano  Quilometragem  \\\n",
       "0            Jetta Variant        Motor 4.0 Turbo  2003        44410.0   \n",
       "1                   Passat           Motor Diesel  1991         5712.0   \n",
       "2                 Crossfox        Motor Diesel V8  1990        37123.0   \n",
       "3                      DS5        Motor 2.4 Turbo  2019            NaN   \n",
       "4         Aston Martin DB4        Motor 2.4 Turbo  2006        25757.0   \n",
       "..                     ...                    ...   ...            ...   \n",
       "253           Phantom 2013               Motor V8  2014        27505.0   \n",
       "254  Cadillac Ciel concept               Motor V8  1991        29981.0   \n",
       "255             Classe GLK  Motor 5.0 V8 Bi-Turbo  2002        52637.0   \n",
       "256       Aston Martin DB5           Motor Diesel  1996         7685.0   \n",
       "257                  Macan        Motor Diesel V6  1992        50188.0   \n",
       "\n",
       "     Zero_km                                         Acessórios      Valor  \n",
       "0      False  ['Rodas de liga', 'Travas elétricas', 'Piloto ...   88078.64  \n",
       "1      False  ['Central multimídia', 'Teto panorâmico', 'Fre...  106161.94  \n",
       "2      False  ['Piloto automático', 'Controle de estabilidad...   72832.16  \n",
       "3       True  ['Travas elétricas', '4 X 4', 'Vidros elétrico...  124549.07  \n",
       "4      False  ['Rodas de liga', '4 X 4', 'Central multimídia...   92612.10  \n",
       "..       ...                                                ...        ...  \n",
       "253    False  ['Controle de estabilidade', 'Piloto automátic...   51759.58  \n",
       "254    False  ['Bancos de couro', 'Painel digital', 'Sensor ...   51667.06  \n",
       "255    False  ['Rodas de liga', 'Controle de tração', 'Câmbi...   68934.03  \n",
       "256    False  ['Ar condicionado', '4 X 4', 'Câmbio automátic...  122110.90  \n",
       "257    False  ['Central multimídia', 'Teto panorâmico', 'Vid...   90381.47  \n",
       "\n",
       "[258 rows x 7 columns]"
      ]
     },
     "execution_count": 200,
     "metadata": {},
     "output_type": "execute_result"
    }
   ],
   "source": [
    "dataset"
   ]
  },
  {
   "cell_type": "code",
   "execution_count": 201,
   "metadata": {
    "colab": {},
    "colab_type": "code",
    "id": "U4Cse7miD1Bl"
   },
   "outputs": [],
   "source": [
    "dataset.dropna(subset=['Quilometragem'], inplace = True)"
   ]
  },
  {
   "cell_type": "code",
   "execution_count": 202,
   "metadata": {
    "colab": {},
    "colab_type": "code",
    "id": "8L4wum05D1Bl",
    "scrolled": true
   },
   "outputs": [
    {
     "data": {
      "text/html": [
       "<div>\n",
       "<style scoped>\n",
       "    .dataframe tbody tr th:only-of-type {\n",
       "        vertical-align: middle;\n",
       "    }\n",
       "\n",
       "    .dataframe tbody tr th {\n",
       "        vertical-align: top;\n",
       "    }\n",
       "\n",
       "    .dataframe thead th {\n",
       "        text-align: right;\n",
       "    }\n",
       "</style>\n",
       "<table border=\"1\" class=\"dataframe\">\n",
       "  <thead>\n",
       "    <tr style=\"text-align: right;\">\n",
       "      <th></th>\n",
       "      <th>Nome</th>\n",
       "      <th>Motor</th>\n",
       "      <th>Ano</th>\n",
       "      <th>Quilometragem</th>\n",
       "      <th>Zero_km</th>\n",
       "      <th>Acessórios</th>\n",
       "      <th>Valor</th>\n",
       "    </tr>\n",
       "  </thead>\n",
       "  <tbody>\n",
       "    <tr>\n",
       "      <th>0</th>\n",
       "      <td>Jetta Variant</td>\n",
       "      <td>Motor 4.0 Turbo</td>\n",
       "      <td>2003</td>\n",
       "      <td>44410.0</td>\n",
       "      <td>False</td>\n",
       "      <td>['Rodas de liga', 'Travas elétricas', 'Piloto ...</td>\n",
       "      <td>88078.64</td>\n",
       "    </tr>\n",
       "    <tr>\n",
       "      <th>1</th>\n",
       "      <td>Passat</td>\n",
       "      <td>Motor Diesel</td>\n",
       "      <td>1991</td>\n",
       "      <td>5712.0</td>\n",
       "      <td>False</td>\n",
       "      <td>['Central multimídia', 'Teto panorâmico', 'Fre...</td>\n",
       "      <td>106161.94</td>\n",
       "    </tr>\n",
       "    <tr>\n",
       "      <th>2</th>\n",
       "      <td>Crossfox</td>\n",
       "      <td>Motor Diesel V8</td>\n",
       "      <td>1990</td>\n",
       "      <td>37123.0</td>\n",
       "      <td>False</td>\n",
       "      <td>['Piloto automático', 'Controle de estabilidad...</td>\n",
       "      <td>72832.16</td>\n",
       "    </tr>\n",
       "    <tr>\n",
       "      <th>4</th>\n",
       "      <td>Aston Martin DB4</td>\n",
       "      <td>Motor 2.4 Turbo</td>\n",
       "      <td>2006</td>\n",
       "      <td>25757.0</td>\n",
       "      <td>False</td>\n",
       "      <td>['Rodas de liga', '4 X 4', 'Central multimídia...</td>\n",
       "      <td>92612.10</td>\n",
       "    </tr>\n",
       "    <tr>\n",
       "      <th>5</th>\n",
       "      <td>Palio Weekend</td>\n",
       "      <td>Motor 1.8 16v</td>\n",
       "      <td>2012</td>\n",
       "      <td>10728.0</td>\n",
       "      <td>False</td>\n",
       "      <td>['Sensor de estacionamento', 'Teto panorâmico'...</td>\n",
       "      <td>97497.73</td>\n",
       "    </tr>\n",
       "    <tr>\n",
       "      <th>...</th>\n",
       "      <td>...</td>\n",
       "      <td>...</td>\n",
       "      <td>...</td>\n",
       "      <td>...</td>\n",
       "      <td>...</td>\n",
       "      <td>...</td>\n",
       "      <td>...</td>\n",
       "    </tr>\n",
       "    <tr>\n",
       "      <th>253</th>\n",
       "      <td>Phantom 2013</td>\n",
       "      <td>Motor V8</td>\n",
       "      <td>2014</td>\n",
       "      <td>27505.0</td>\n",
       "      <td>False</td>\n",
       "      <td>['Controle de estabilidade', 'Piloto automátic...</td>\n",
       "      <td>51759.58</td>\n",
       "    </tr>\n",
       "    <tr>\n",
       "      <th>254</th>\n",
       "      <td>Cadillac Ciel concept</td>\n",
       "      <td>Motor V8</td>\n",
       "      <td>1991</td>\n",
       "      <td>29981.0</td>\n",
       "      <td>False</td>\n",
       "      <td>['Bancos de couro', 'Painel digital', 'Sensor ...</td>\n",
       "      <td>51667.06</td>\n",
       "    </tr>\n",
       "    <tr>\n",
       "      <th>255</th>\n",
       "      <td>Classe GLK</td>\n",
       "      <td>Motor 5.0 V8 Bi-Turbo</td>\n",
       "      <td>2002</td>\n",
       "      <td>52637.0</td>\n",
       "      <td>False</td>\n",
       "      <td>['Rodas de liga', 'Controle de tração', 'Câmbi...</td>\n",
       "      <td>68934.03</td>\n",
       "    </tr>\n",
       "    <tr>\n",
       "      <th>256</th>\n",
       "      <td>Aston Martin DB5</td>\n",
       "      <td>Motor Diesel</td>\n",
       "      <td>1996</td>\n",
       "      <td>7685.0</td>\n",
       "      <td>False</td>\n",
       "      <td>['Ar condicionado', '4 X 4', 'Câmbio automátic...</td>\n",
       "      <td>122110.90</td>\n",
       "    </tr>\n",
       "    <tr>\n",
       "      <th>257</th>\n",
       "      <td>Macan</td>\n",
       "      <td>Motor Diesel V6</td>\n",
       "      <td>1992</td>\n",
       "      <td>50188.0</td>\n",
       "      <td>False</td>\n",
       "      <td>['Central multimídia', 'Teto panorâmico', 'Vid...</td>\n",
       "      <td>90381.47</td>\n",
       "    </tr>\n",
       "  </tbody>\n",
       "</table>\n",
       "<p>197 rows × 7 columns</p>\n",
       "</div>"
      ],
      "text/plain": [
       "                      Nome                  Motor   Ano  Quilometragem  \\\n",
       "0            Jetta Variant        Motor 4.0 Turbo  2003        44410.0   \n",
       "1                   Passat           Motor Diesel  1991         5712.0   \n",
       "2                 Crossfox        Motor Diesel V8  1990        37123.0   \n",
       "4         Aston Martin DB4        Motor 2.4 Turbo  2006        25757.0   \n",
       "5            Palio Weekend          Motor 1.8 16v  2012        10728.0   \n",
       "..                     ...                    ...   ...            ...   \n",
       "253           Phantom 2013               Motor V8  2014        27505.0   \n",
       "254  Cadillac Ciel concept               Motor V8  1991        29981.0   \n",
       "255             Classe GLK  Motor 5.0 V8 Bi-Turbo  2002        52637.0   \n",
       "256       Aston Martin DB5           Motor Diesel  1996         7685.0   \n",
       "257                  Macan        Motor Diesel V6  1992        50188.0   \n",
       "\n",
       "     Zero_km                                         Acessórios      Valor  \n",
       "0      False  ['Rodas de liga', 'Travas elétricas', 'Piloto ...   88078.64  \n",
       "1      False  ['Central multimídia', 'Teto panorâmico', 'Fre...  106161.94  \n",
       "2      False  ['Piloto automático', 'Controle de estabilidad...   72832.16  \n",
       "4      False  ['Rodas de liga', '4 X 4', 'Central multimídia...   92612.10  \n",
       "5      False  ['Sensor de estacionamento', 'Teto panorâmico'...   97497.73  \n",
       "..       ...                                                ...        ...  \n",
       "253    False  ['Controle de estabilidade', 'Piloto automátic...   51759.58  \n",
       "254    False  ['Bancos de couro', 'Painel digital', 'Sensor ...   51667.06  \n",
       "255    False  ['Rodas de liga', 'Controle de tração', 'Câmbi...   68934.03  \n",
       "256    False  ['Ar condicionado', '4 X 4', 'Câmbio automátic...  122110.90  \n",
       "257    False  ['Central multimídia', 'Teto panorâmico', 'Vid...   90381.47  \n",
       "\n",
       "[197 rows x 7 columns]"
      ]
     },
     "execution_count": 202,
     "metadata": {},
     "output_type": "execute_result"
    }
   ],
   "source": [
    "dataset"
   ]
  },
  {
   "cell_type": "code",
   "execution_count": null,
   "metadata": {
    "colab": {},
    "colab_type": "code",
    "id": "8iLOc-U3D1Bm"
   },
   "outputs": [],
   "source": []
  }
 ],
 "metadata": {
  "colab": {
   "name": "Python para Data Science - Pandas.ipynb",
   "provenance": []
  },
  "kernelspec": {
   "display_name": "Python 3",
   "language": "python",
   "name": "python3"
  },
  "language_info": {
   "codemirror_mode": {
    "name": "ipython",
    "version": 3
   },
   "file_extension": ".py",
   "mimetype": "text/x-python",
   "name": "python",
   "nbconvert_exporter": "python",
   "pygments_lexer": "ipython3",
   "version": "3.7.3"
  }
 },
 "nbformat": 4,
 "nbformat_minor": 1
}
